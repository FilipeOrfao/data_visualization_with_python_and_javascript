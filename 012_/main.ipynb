{
 "cells": [
  {
   "cell_type": "code",
   "execution_count": 1,
   "metadata": {},
   "outputs": [],
   "source": [
    "import pandas as pd\n",
    "\n",
    "df_winners = pd.read_json(\"data/nobel_winners_cleaned.json\")\n",
    "\n",
    "for name, group in df_winners.groupby(\"country\"):\n",
    "    group.to_json(f\"data/winners_by_country_{name}.json\", orient=\"records\")"
   ]
  },
  {
   "cell_type": "code",
   "execution_count": null,
   "metadata": {},
   "outputs": [],
   "source": [
    "from sqlalchemy.ext.declarative import declarative_base\n",
    "from sqlalchemy import create_engine, Column, Integer, String, Enum\n",
    "import psycopg2\n",
    "\n",
    "db_params = {\n",
    "    \"dbname\": \"postgres\",\n",
    "    \"user\": \"filipe\",\n",
    "    \"password\": \"mysecretword123\",\n",
    "    \"host\": \"localhost\",\n",
    "    \"port\": \"5432\",\n",
    "}\n",
    "\n",
    "new_db_name = \"nobel_winners_chapter_nine\"\n",
    "\n",
    "\n",
    "# def create_database(dbname):\n",
    "#     try:\n",
    "#         conn = psycopg2.connect(\n",
    "#             dbname=db_params[\"dbname\"],\n",
    "#             user=db_params[\"user\"],\n",
    "#             password=db_params[\"password\"],\n",
    "#             host=db_params[\"host\"],\n",
    "#         )\n",
    "#         conn.autocommit = True\n",
    "#         cursor = conn.cursor()\n",
    "#         cursor.execute(f\"CREATE DATABASE {dbname}\")\n",
    "#         cursor.close()\n",
    "#         conn.close()\n",
    "#         print(f\"Database {new_db_name} created successfully.\")\n",
    "#     except Exception as e:\n",
    "#         print(f\"Failed to create database: {e}\")\n",
    "\n",
    "\n",
    "# create_database(new_db_name)\n",
    "\n",
    "engine = create_engine(\n",
    "    f'postgresql+psycopg2://{db_params[\"user\"]}:{db_params[\"password\"]}@{db_params[\"host\"]}:{db_params[\"port\"]}/{new_db_name}'\n",
    ")"
   ]
  }
 ],
 "metadata": {
  "kernelspec": {
   "display_name": "base",
   "language": "python",
   "name": "python3"
  },
  "language_info": {
   "codemirror_mode": {
    "name": "ipython",
    "version": 3
   },
   "file_extension": ".py",
   "mimetype": "text/x-python",
   "name": "python",
   "nbconvert_exporter": "python",
   "pygments_lexer": "ipython3",
   "version": "3.11.4"
  }
 },
 "nbformat": 4,
 "nbformat_minor": 2
}
