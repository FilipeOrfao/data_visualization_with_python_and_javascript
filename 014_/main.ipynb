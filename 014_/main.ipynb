{
 "cells": [
  {
   "cell_type": "code",
   "execution_count": 1,
   "metadata": {},
   "outputs": [],
   "source": [
    "%matplotlib inline"
   ]
  },
  {
   "cell_type": "code",
   "execution_count": 2,
   "metadata": {},
   "outputs": [
    {
     "name": "stderr",
     "output_type": "stream",
     "text": [
      "/tmp/ipykernel_12897/3317725158.py:7: MatplotlibDeprecationWarning: The seaborn styles shipped by Matplotlib are deprecated since 3.6, as they no longer correspond to the styles shipped by seaborn. However, they will remain available as 'seaborn-v0_8-<style>'. Alternatively, directly use the seaborn API instead.\n",
      "  matplotlib.style.use('seaborn')\n"
     ]
    }
   ],
   "source": [
    "import pandas as pd\n",
    "import numpy as np\n",
    "import matplotlib.pyplot as plt\n",
    "import json\n",
    "import matplotlib\n",
    "import seaborn as sns\n",
    "matplotlib.style.use('seaborn')"
   ]
  },
  {
   "cell_type": "code",
   "execution_count": 3,
   "metadata": {},
   "outputs": [
    {
     "data": {
      "text/html": [
       "<div>\n",
       "<style scoped>\n",
       "    .dataframe tbody tr th:only-of-type {\n",
       "        vertical-align: middle;\n",
       "    }\n",
       "\n",
       "    .dataframe tbody tr th {\n",
       "        vertical-align: top;\n",
       "    }\n",
       "\n",
       "    .dataframe thead th {\n",
       "        text-align: right;\n",
       "    }\n",
       "</style>\n",
       "<table border=\"1\" class=\"dataframe\">\n",
       "  <thead>\n",
       "    <tr style=\"text-align: right;\">\n",
       "      <th></th>\n",
       "      <th>link</th>\n",
       "      <th>name</th>\n",
       "      <th>year</th>\n",
       "      <th>category</th>\n",
       "      <th>country</th>\n",
       "      <th>text</th>\n",
       "      <th>date_of_birth</th>\n",
       "      <th>date_of_death</th>\n",
       "      <th>place_of_birth</th>\n",
       "      <th>place_of_death</th>\n",
       "      <th>gender</th>\n",
       "      <th>award_age</th>\n",
       "      <th>born_in</th>\n",
       "      <th>mini_bio</th>\n",
       "      <th>bio_image</th>\n",
       "    </tr>\n",
       "  </thead>\n",
       "  <tbody>\n",
       "    <tr>\n",
       "      <th>0</th>\n",
       "      <td>http://en.wikipedia.org/wiki/William_Lawrence_...</td>\n",
       "      <td>William Lawrence Bragg</td>\n",
       "      <td>1915</td>\n",
       "      <td>Physics</td>\n",
       "      <td>Australia</td>\n",
       "      <td>William Lawrence Bragg , Physics, 1915</td>\n",
       "      <td>1890-03-31T00:00:00.000</td>\n",
       "      <td>1971-07-01T00:00:00.000</td>\n",
       "      <td>Adelaide</td>\n",
       "      <td>Ipswich</td>\n",
       "      <td>male</td>\n",
       "      <td>25</td>\n",
       "      <td>None</td>\n",
       "      <td>&lt;p&gt;&lt;b&gt;Sir William Lawrence Bragg&lt;/b&gt;, &lt;span cl...</td>\n",
       "      <td>full/b4d88a037d9c0f170526571118b81450d99a8c4b.jpg</td>\n",
       "    </tr>\n",
       "    <tr>\n",
       "      <th>1</th>\n",
       "      <td>http://en.wikipedia.org/wiki/Brian_Schmidt</td>\n",
       "      <td>Brian Schmidt</td>\n",
       "      <td>2011</td>\n",
       "      <td>Physics</td>\n",
       "      <td>Australia</td>\n",
       "      <td>Brian Schmidt ,  born in the United States , P...</td>\n",
       "      <td>1967-02-24T00:00:00.000</td>\n",
       "      <td>None</td>\n",
       "      <td>Missoula</td>\n",
       "      <td>None</td>\n",
       "      <td>male</td>\n",
       "      <td>44</td>\n",
       "      <td>None</td>\n",
       "      <td>&lt;p&gt;&lt;b&gt;Brian Paul Schmidt&lt;/b&gt; &lt;span class=\"noex...</td>\n",
       "      <td>full/a5f763b828006e704cb291411b8b643bfb91886c.jpg</td>\n",
       "    </tr>\n",
       "    <tr>\n",
       "      <th>2</th>\n",
       "      <td>http://en.wikipedia.org/wiki/Barry_Marshall</td>\n",
       "      <td>Barry Marshall</td>\n",
       "      <td>2005</td>\n",
       "      <td>Physiology or Medicine</td>\n",
       "      <td>Australia</td>\n",
       "      <td>Barry Marshall , Physiology or Medicine, 2005</td>\n",
       "      <td>1951-09-30T00:00:00.000</td>\n",
       "      <td>None</td>\n",
       "      <td>Kalgoorlie</td>\n",
       "      <td>None</td>\n",
       "      <td>male</td>\n",
       "      <td>54</td>\n",
       "      <td>None</td>\n",
       "      <td>&lt;p&gt;&lt;b&gt;Barry James Marshall&lt;/b&gt; &lt;span class=\"no...</td>\n",
       "      <td>full/976cea55c7b67dbceee0d4935c97fec5f7da2822.jpg</td>\n",
       "    </tr>\n",
       "    <tr>\n",
       "      <th>3</th>\n",
       "      <td>http://en.wikipedia.org/wiki/Robin_Warren</td>\n",
       "      <td>J. Robin Warren</td>\n",
       "      <td>2005</td>\n",
       "      <td>Physiology or Medicine</td>\n",
       "      <td>Australia</td>\n",
       "      <td>J. Robin Warren , Physiology or Medicine, 2005</td>\n",
       "      <td>1937-06-11T00:00:00.000</td>\n",
       "      <td>None</td>\n",
       "      <td>Adelaide</td>\n",
       "      <td>None</td>\n",
       "      <td>male</td>\n",
       "      <td>68</td>\n",
       "      <td>None</td>\n",
       "      <td>&lt;p&gt;&lt;b&gt;John Robin Warren&lt;/b&gt; &lt;span class=\"noexc...</td>\n",
       "      <td>full/3262c0c444deb3995e1388da14c9b4f22c82f0a2.jpg</td>\n",
       "    </tr>\n",
       "    <tr>\n",
       "      <th>4</th>\n",
       "      <td>http://en.wikipedia.org/wiki/Peter_C._Doherty</td>\n",
       "      <td>Peter C. Doherty</td>\n",
       "      <td>1996</td>\n",
       "      <td>Physiology or Medicine</td>\n",
       "      <td>Australia</td>\n",
       "      <td>Peter C. Doherty , Physiology or Medicine, 1996</td>\n",
       "      <td>1940-10-15T00:00:00.000</td>\n",
       "      <td>None</td>\n",
       "      <td>Brisbane</td>\n",
       "      <td>None</td>\n",
       "      <td>male</td>\n",
       "      <td>56</td>\n",
       "      <td>None</td>\n",
       "      <td>&lt;p&gt;&lt;b&gt;Peter Charles Doherty&lt;/b&gt; &lt;span class=\"n...</td>\n",
       "      <td>full/cae91e7160f5fa613df8bb852b1655ca2e224039.jpg</td>\n",
       "    </tr>\n",
       "  </tbody>\n",
       "</table>\n",
       "</div>"
      ],
      "text/plain": [
       "                                                link                    name  \\\n",
       "0  http://en.wikipedia.org/wiki/William_Lawrence_...  William Lawrence Bragg   \n",
       "1         http://en.wikipedia.org/wiki/Brian_Schmidt           Brian Schmidt   \n",
       "2        http://en.wikipedia.org/wiki/Barry_Marshall          Barry Marshall   \n",
       "3          http://en.wikipedia.org/wiki/Robin_Warren         J. Robin Warren   \n",
       "4      http://en.wikipedia.org/wiki/Peter_C._Doherty        Peter C. Doherty   \n",
       "\n",
       "   year                category    country  \\\n",
       "0  1915                 Physics  Australia   \n",
       "1  2011                 Physics  Australia   \n",
       "2  2005  Physiology or Medicine  Australia   \n",
       "3  2005  Physiology or Medicine  Australia   \n",
       "4  1996  Physiology or Medicine  Australia   \n",
       "\n",
       "                                                text            date_of_birth  \\\n",
       "0             William Lawrence Bragg , Physics, 1915  1890-03-31T00:00:00.000   \n",
       "1  Brian Schmidt ,  born in the United States , P...  1967-02-24T00:00:00.000   \n",
       "2      Barry Marshall , Physiology or Medicine, 2005  1951-09-30T00:00:00.000   \n",
       "3     J. Robin Warren , Physiology or Medicine, 2005  1937-06-11T00:00:00.000   \n",
       "4    Peter C. Doherty , Physiology or Medicine, 1996  1940-10-15T00:00:00.000   \n",
       "\n",
       "             date_of_death place_of_birth place_of_death gender  award_age  \\\n",
       "0  1971-07-01T00:00:00.000       Adelaide        Ipswich   male         25   \n",
       "1                     None       Missoula           None   male         44   \n",
       "2                     None     Kalgoorlie           None   male         54   \n",
       "3                     None       Adelaide           None   male         68   \n",
       "4                     None       Brisbane           None   male         56   \n",
       "\n",
       "  born_in                                           mini_bio  \\\n",
       "0    None  <p><b>Sir William Lawrence Bragg</b>, <span cl...   \n",
       "1    None  <p><b>Brian Paul Schmidt</b> <span class=\"noex...   \n",
       "2    None  <p><b>Barry James Marshall</b> <span class=\"no...   \n",
       "3    None  <p><b>John Robin Warren</b> <span class=\"noexc...   \n",
       "4    None  <p><b>Peter Charles Doherty</b> <span class=\"n...   \n",
       "\n",
       "                                           bio_image  \n",
       "0  full/b4d88a037d9c0f170526571118b81450d99a8c4b.jpg  \n",
       "1  full/a5f763b828006e704cb291411b8b643bfb91886c.jpg  \n",
       "2  full/976cea55c7b67dbceee0d4935c97fec5f7da2822.jpg  \n",
       "3  full/3262c0c444deb3995e1388da14c9b4f22c82f0a2.jpg  \n",
       "4  full/cae91e7160f5fa613df8bb852b1655ca2e224039.jpg  "
      ]
     },
     "execution_count": 3,
     "metadata": {},
     "output_type": "execute_result"
    }
   ],
   "source": [
    "df = pd.read_json('data/nobel_winners_cleaned.json')\n",
    "df.head()"
   ]
  },
  {
   "cell_type": "code",
   "execution_count": 4,
   "metadata": {},
   "outputs": [
    {
     "data": {
      "text/html": [
       "<div>\n",
       "<style scoped>\n",
       "    .dataframe tbody tr th:only-of-type {\n",
       "        vertical-align: middle;\n",
       "    }\n",
       "\n",
       "    .dataframe tbody tr th {\n",
       "        vertical-align: top;\n",
       "    }\n",
       "\n",
       "    .dataframe thead th {\n",
       "        text-align: right;\n",
       "    }\n",
       "</style>\n",
       "<table border=\"1\" class=\"dataframe\">\n",
       "  <thead>\n",
       "    <tr style=\"text-align: right;\">\n",
       "      <th></th>\n",
       "      <th>link</th>\n",
       "      <th>name</th>\n",
       "      <th>year</th>\n",
       "      <th>category</th>\n",
       "      <th>country</th>\n",
       "      <th>text</th>\n",
       "      <th>date_of_birth</th>\n",
       "      <th>date_of_death</th>\n",
       "      <th>place_of_birth</th>\n",
       "      <th>place_of_death</th>\n",
       "      <th>gender</th>\n",
       "      <th>award_age</th>\n",
       "      <th>born_in</th>\n",
       "      <th>mini_bio</th>\n",
       "      <th>bio_image</th>\n",
       "    </tr>\n",
       "  </thead>\n",
       "  <tbody>\n",
       "    <tr>\n",
       "      <th>594</th>\n",
       "      <td>http://en.wikipedia.org/wiki/Ilya_Frank</td>\n",
       "      <td>Ilya Mikhailovich Frank</td>\n",
       "      <td>1958</td>\n",
       "      <td>Physics</td>\n",
       "      <td>Russia</td>\n",
       "      <td>Ilya Mikhailovich Frank , Physics, 1958</td>\n",
       "      <td>1908-10-10T00:00:00.000</td>\n",
       "      <td>1990-06-22T00:00:00.000</td>\n",
       "      <td>Saint Petersburg</td>\n",
       "      <td>Moscow</td>\n",
       "      <td>male</td>\n",
       "      <td>50</td>\n",
       "      <td>None</td>\n",
       "      <td>None</td>\n",
       "      <td>None</td>\n",
       "    </tr>\n",
       "    <tr>\n",
       "      <th>595</th>\n",
       "      <td>http://en.wikipedia.org/wiki/Nikolay_Semyonov</td>\n",
       "      <td>Nikolay Semyonov</td>\n",
       "      <td>1956</td>\n",
       "      <td>Chemistry</td>\n",
       "      <td>Russia</td>\n",
       "      <td>Nikolay Semyonov , Chemistry, 1956</td>\n",
       "      <td>1896-04-03T00:00:00.000</td>\n",
       "      <td>1986-09-25T00:00:00.000</td>\n",
       "      <td>Saratov</td>\n",
       "      <td>Moscow</td>\n",
       "      <td>male</td>\n",
       "      <td>60</td>\n",
       "      <td>None</td>\n",
       "      <td>None</td>\n",
       "      <td>None</td>\n",
       "    </tr>\n",
       "    <tr>\n",
       "      <th>596</th>\n",
       "      <td>http://en.wikipedia.org/wiki/Aleksandr_Solzhen...</td>\n",
       "      <td>Aleksandr Solzhenitsyn</td>\n",
       "      <td>1970</td>\n",
       "      <td>Literature</td>\n",
       "      <td>Russia</td>\n",
       "      <td>Aleksandr Solzhenitsyn , Literature, 1970</td>\n",
       "      <td>1918-12-11T00:00:00.000</td>\n",
       "      <td>2008-08-03T00:00:00.000</td>\n",
       "      <td>Kislovodsk</td>\n",
       "      <td>Moscow</td>\n",
       "      <td>male</td>\n",
       "      <td>52</td>\n",
       "      <td>None</td>\n",
       "      <td>None</td>\n",
       "      <td>None</td>\n",
       "    </tr>\n",
       "    <tr>\n",
       "      <th>597</th>\n",
       "      <td>http://en.wikipedia.org/wiki/Mikhail_Sholokhov</td>\n",
       "      <td>Mikhail Sholokhov</td>\n",
       "      <td>1965</td>\n",
       "      <td>Literature</td>\n",
       "      <td>Russia</td>\n",
       "      <td>Mikhail Sholokhov , Literature, 1965</td>\n",
       "      <td>1905-05-11T00:00:00.000</td>\n",
       "      <td>1984-02-21T00:00:00.000</td>\n",
       "      <td>Kruzhilin</td>\n",
       "      <td>Vyoshenskaya</td>\n",
       "      <td>male</td>\n",
       "      <td>60</td>\n",
       "      <td>None</td>\n",
       "      <td>None</td>\n",
       "      <td>None</td>\n",
       "    </tr>\n",
       "    <tr>\n",
       "      <th>598</th>\n",
       "      <td>http://en.wikipedia.org/wiki/Andrei_Sakharov</td>\n",
       "      <td>Andrei Sakharov</td>\n",
       "      <td>1975</td>\n",
       "      <td>Peace</td>\n",
       "      <td>Russia</td>\n",
       "      <td>Andrei Sakharov , Peace, 1975</td>\n",
       "      <td>1921-05-21T00:00:00.000</td>\n",
       "      <td>1989-12-14T00:00:00.000</td>\n",
       "      <td>Moscow</td>\n",
       "      <td>Moscow</td>\n",
       "      <td>male</td>\n",
       "      <td>54</td>\n",
       "      <td>None</td>\n",
       "      <td>None</td>\n",
       "      <td>None</td>\n",
       "    </tr>\n",
       "    <tr>\n",
       "      <th>599</th>\n",
       "      <td>http://en.wikipedia.org/wiki/Leonid_Kantorovich</td>\n",
       "      <td>Leonid Kantorovich</td>\n",
       "      <td>1975</td>\n",
       "      <td>Economics</td>\n",
       "      <td>Russia</td>\n",
       "      <td>Leonid Kantorovich , Economics, 1975</td>\n",
       "      <td>1912-01-19T00:00:00.000</td>\n",
       "      <td>1986-04-07T00:00:00.000</td>\n",
       "      <td>Saint Petersburg</td>\n",
       "      <td>Moscow</td>\n",
       "      <td>male</td>\n",
       "      <td>63</td>\n",
       "      <td>None</td>\n",
       "      <td>None</td>\n",
       "      <td>None</td>\n",
       "    </tr>\n",
       "    <tr>\n",
       "      <th>600</th>\n",
       "      <td>http://en.wikipedia.org/wiki/Nikolay_Basov</td>\n",
       "      <td>Nikolay Basov</td>\n",
       "      <td>1964</td>\n",
       "      <td>Physics</td>\n",
       "      <td>Russia</td>\n",
       "      <td>Nikolay Basov , Physics, 1964</td>\n",
       "      <td>1922-12-14T00:00:00.000</td>\n",
       "      <td>2001-07-01T00:00:00.000</td>\n",
       "      <td>Usman</td>\n",
       "      <td>Moscow</td>\n",
       "      <td>male</td>\n",
       "      <td>42</td>\n",
       "      <td>None</td>\n",
       "      <td>None</td>\n",
       "      <td>None</td>\n",
       "    </tr>\n",
       "    <tr>\n",
       "      <th>601</th>\n",
       "      <td>http://en.wikipedia.org/wiki/Lev_Landau</td>\n",
       "      <td>Lev Landau</td>\n",
       "      <td>1962</td>\n",
       "      <td>Physics</td>\n",
       "      <td>Russia</td>\n",
       "      <td>Lev Landau ,  born in then Russian Empire, now...</td>\n",
       "      <td>1908-01-22T00:00:00.000</td>\n",
       "      <td>1968-04-01T00:00:00.000</td>\n",
       "      <td>Baku</td>\n",
       "      <td>Moscow</td>\n",
       "      <td>male</td>\n",
       "      <td>54</td>\n",
       "      <td>None</td>\n",
       "      <td>None</td>\n",
       "      <td>None</td>\n",
       "    </tr>\n",
       "    <tr>\n",
       "      <th>602</th>\n",
       "      <td>http://en.wikipedia.org/wiki/Boris_Pasternak</td>\n",
       "      <td>Boris Pasternak</td>\n",
       "      <td>1958</td>\n",
       "      <td>Literature</td>\n",
       "      <td>Russia</td>\n",
       "      <td>Boris Pasternak , Literature, 1958 (forced to ...</td>\n",
       "      <td>1890-02-10T00:00:00.000</td>\n",
       "      <td>1960-05-30T00:00:00.000</td>\n",
       "      <td>Moscow</td>\n",
       "      <td>Peredelkino</td>\n",
       "      <td>male</td>\n",
       "      <td>68</td>\n",
       "      <td>None</td>\n",
       "      <td>None</td>\n",
       "      <td>None</td>\n",
       "    </tr>\n",
       "    <tr>\n",
       "      <th>603</th>\n",
       "      <td>http://en.wikipedia.org/wiki/Pavel_Cherenkov</td>\n",
       "      <td>Pavel Cherenkov</td>\n",
       "      <td>1958</td>\n",
       "      <td>Physics</td>\n",
       "      <td>Russia</td>\n",
       "      <td>Pavel Cherenkov , Physics, 1958</td>\n",
       "      <td>1904-07-28T00:00:00.000</td>\n",
       "      <td>1990-01-06T00:00:00.000</td>\n",
       "      <td>Novaya Chigla</td>\n",
       "      <td>Moscow</td>\n",
       "      <td>male</td>\n",
       "      <td>54</td>\n",
       "      <td>None</td>\n",
       "      <td>None</td>\n",
       "      <td>None</td>\n",
       "    </tr>\n",
       "    <tr>\n",
       "      <th>604</th>\n",
       "      <td>http://en.wikipedia.org/wiki/Igor_Tamm</td>\n",
       "      <td>Igor Tamm</td>\n",
       "      <td>1958</td>\n",
       "      <td>Physics</td>\n",
       "      <td>Russia</td>\n",
       "      <td>Igor Tamm , Physics, 1958</td>\n",
       "      <td>1895-07-08T00:00:00.000</td>\n",
       "      <td>1971-04-12T00:00:00.000</td>\n",
       "      <td>Vladivostok</td>\n",
       "      <td>Moscow</td>\n",
       "      <td>male</td>\n",
       "      <td>63</td>\n",
       "      <td>None</td>\n",
       "      <td>None</td>\n",
       "      <td>None</td>\n",
       "    </tr>\n",
       "    <tr>\n",
       "      <th>605</th>\n",
       "      <td>http://en.wikipedia.org/wiki/%C3%89lie_Metchni...</td>\n",
       "      <td>Élie Metchnikoff</td>\n",
       "      <td>1908</td>\n",
       "      <td>Physiology or Medicine</td>\n",
       "      <td>Russia</td>\n",
       "      <td>Élie Metchnikoff ,  born in now Ukraine , Phys...</td>\n",
       "      <td>1845-05-03T00:00:00.000</td>\n",
       "      <td>1916-07-02T00:00:00.000</td>\n",
       "      <td>Ivanivka</td>\n",
       "      <td>Paris</td>\n",
       "      <td>male</td>\n",
       "      <td>63</td>\n",
       "      <td>None</td>\n",
       "      <td>None</td>\n",
       "      <td>None</td>\n",
       "    </tr>\n",
       "    <tr>\n",
       "      <th>606</th>\n",
       "      <td>http://en.wikipedia.org/wiki/Ivan_Pavlov</td>\n",
       "      <td>Ivan Pavlov</td>\n",
       "      <td>1904</td>\n",
       "      <td>Physiology or Medicine</td>\n",
       "      <td>Russia</td>\n",
       "      <td>Ivan Pavlov , Physiology or Medicine, 1904</td>\n",
       "      <td>1849-09-14T00:00:00.000</td>\n",
       "      <td>1936-02-27T00:00:00.000</td>\n",
       "      <td>Ryazan</td>\n",
       "      <td>Leningrad</td>\n",
       "      <td>male</td>\n",
       "      <td>55</td>\n",
       "      <td>None</td>\n",
       "      <td>None</td>\n",
       "      <td>None</td>\n",
       "    </tr>\n",
       "    <tr>\n",
       "      <th>607</th>\n",
       "      <td>http://en.wikipedia.org/wiki/Joseph_Brodsky</td>\n",
       "      <td>Joseph Brodsky</td>\n",
       "      <td>1987</td>\n",
       "      <td>Literature</td>\n",
       "      <td>Russia</td>\n",
       "      <td>Joseph Brodsky , born in Russia, Literature, 1987</td>\n",
       "      <td>1940-05-24T00:00:00.000</td>\n",
       "      <td>1996-01-28T00:00:00.000</td>\n",
       "      <td>Saint Petersburg</td>\n",
       "      <td>Brooklyn</td>\n",
       "      <td>male</td>\n",
       "      <td>47</td>\n",
       "      <td>None</td>\n",
       "      <td>None</td>\n",
       "      <td>None</td>\n",
       "    </tr>\n",
       "    <tr>\n",
       "      <th>608</th>\n",
       "      <td>http://en.wikipedia.org/wiki/Pyotr_Kapitsa</td>\n",
       "      <td>Pyotr Kapitsa</td>\n",
       "      <td>1978</td>\n",
       "      <td>Physics</td>\n",
       "      <td>Russia</td>\n",
       "      <td>Pyotr Kapitsa , Physics, 1978</td>\n",
       "      <td>1894-06-26T00:00:00.000</td>\n",
       "      <td>1984-04-08T00:00:00.000</td>\n",
       "      <td>Kronstadt</td>\n",
       "      <td>Moscow</td>\n",
       "      <td>male</td>\n",
       "      <td>84</td>\n",
       "      <td>None</td>\n",
       "      <td>None</td>\n",
       "      <td>None</td>\n",
       "    </tr>\n",
       "    <tr>\n",
       "      <th>609</th>\n",
       "      <td>http://en.wikipedia.org/wiki/Mikhail_Gorbachev</td>\n",
       "      <td>Mikhail Gorbachev</td>\n",
       "      <td>1990</td>\n",
       "      <td>Peace</td>\n",
       "      <td>Russia</td>\n",
       "      <td>Mikhail Gorbachev , Peace, 1990</td>\n",
       "      <td>1931-03-02T00:00:00.000</td>\n",
       "      <td>2022-08-30T00:00:00.000</td>\n",
       "      <td>Privolnoye</td>\n",
       "      <td>Central Clinical Hospital</td>\n",
       "      <td>male</td>\n",
       "      <td>59</td>\n",
       "      <td>None</td>\n",
       "      <td>None</td>\n",
       "      <td>None</td>\n",
       "    </tr>\n",
       "    <tr>\n",
       "      <th>610</th>\n",
       "      <td>http://en.wikipedia.org/wiki/Alexey_Ekimov</td>\n",
       "      <td>Alexei Ekimov</td>\n",
       "      <td>2023</td>\n",
       "      <td>Chemistry</td>\n",
       "      <td>Russia</td>\n",
       "      <td>Alexei Ekimov , Chemistry, 2023</td>\n",
       "      <td>1945-02-28T00:00:00.000</td>\n",
       "      <td>None</td>\n",
       "      <td>Saint Petersburg</td>\n",
       "      <td>None</td>\n",
       "      <td>male</td>\n",
       "      <td>78</td>\n",
       "      <td>None</td>\n",
       "      <td>None</td>\n",
       "      <td>None</td>\n",
       "    </tr>\n",
       "    <tr>\n",
       "      <th>611</th>\n",
       "      <td>http://en.wikipedia.org/wiki/Dmitry_Muratov</td>\n",
       "      <td>Dmitry Muratov</td>\n",
       "      <td>2021</td>\n",
       "      <td>Peace</td>\n",
       "      <td>Russia</td>\n",
       "      <td>Dmitry Muratov , Peace, 2021</td>\n",
       "      <td>1961-10-30T00:00:00.000</td>\n",
       "      <td>None</td>\n",
       "      <td>Samara</td>\n",
       "      <td>None</td>\n",
       "      <td>male</td>\n",
       "      <td>60</td>\n",
       "      <td>None</td>\n",
       "      <td>None</td>\n",
       "      <td>None</td>\n",
       "    </tr>\n",
       "    <tr>\n",
       "      <th>612</th>\n",
       "      <td>http://en.wikipedia.org/wiki/Vitaly_Ginzburg</td>\n",
       "      <td>Vitaly Ginzburg</td>\n",
       "      <td>2003</td>\n",
       "      <td>Physics</td>\n",
       "      <td>Russia</td>\n",
       "      <td>Vitaly Ginzburg , Physics, 2003</td>\n",
       "      <td>1916-09-21T00:00:00.000</td>\n",
       "      <td>2009-11-08T00:00:00.000</td>\n",
       "      <td>Moscow</td>\n",
       "      <td>Moscow</td>\n",
       "      <td>male</td>\n",
       "      <td>87</td>\n",
       "      <td>None</td>\n",
       "      <td>None</td>\n",
       "      <td>None</td>\n",
       "    </tr>\n",
       "    <tr>\n",
       "      <th>613</th>\n",
       "      <td>http://en.wikipedia.org/wiki/Zhores_Alferov</td>\n",
       "      <td>Zhores Alferov</td>\n",
       "      <td>2000</td>\n",
       "      <td>Physics</td>\n",
       "      <td>Russia</td>\n",
       "      <td>Zhores Alferov ,  born in then Soviet Union, n...</td>\n",
       "      <td>1930-03-15T00:00:00.000</td>\n",
       "      <td>2019-03-01T00:00:00.000</td>\n",
       "      <td>Vitebsk</td>\n",
       "      <td>Saint Petersburg</td>\n",
       "      <td>male</td>\n",
       "      <td>70</td>\n",
       "      <td>Belarus</td>\n",
       "      <td>&lt;p&gt;&lt;b&gt;Zhores Ivanovich Alferov&lt;/b&gt; (Russian: &lt;...</td>\n",
       "      <td>full/f6e23ad46e0384f0e67415918724ec3623c16b42.jpg</td>\n",
       "    </tr>\n",
       "  </tbody>\n",
       "</table>\n",
       "</div>"
      ],
      "text/plain": [
       "                                                  link  \\\n",
       "594            http://en.wikipedia.org/wiki/Ilya_Frank   \n",
       "595      http://en.wikipedia.org/wiki/Nikolay_Semyonov   \n",
       "596  http://en.wikipedia.org/wiki/Aleksandr_Solzhen...   \n",
       "597     http://en.wikipedia.org/wiki/Mikhail_Sholokhov   \n",
       "598       http://en.wikipedia.org/wiki/Andrei_Sakharov   \n",
       "599    http://en.wikipedia.org/wiki/Leonid_Kantorovich   \n",
       "600         http://en.wikipedia.org/wiki/Nikolay_Basov   \n",
       "601            http://en.wikipedia.org/wiki/Lev_Landau   \n",
       "602       http://en.wikipedia.org/wiki/Boris_Pasternak   \n",
       "603       http://en.wikipedia.org/wiki/Pavel_Cherenkov   \n",
       "604             http://en.wikipedia.org/wiki/Igor_Tamm   \n",
       "605  http://en.wikipedia.org/wiki/%C3%89lie_Metchni...   \n",
       "606           http://en.wikipedia.org/wiki/Ivan_Pavlov   \n",
       "607        http://en.wikipedia.org/wiki/Joseph_Brodsky   \n",
       "608         http://en.wikipedia.org/wiki/Pyotr_Kapitsa   \n",
       "609     http://en.wikipedia.org/wiki/Mikhail_Gorbachev   \n",
       "610         http://en.wikipedia.org/wiki/Alexey_Ekimov   \n",
       "611        http://en.wikipedia.org/wiki/Dmitry_Muratov   \n",
       "612       http://en.wikipedia.org/wiki/Vitaly_Ginzburg   \n",
       "613        http://en.wikipedia.org/wiki/Zhores_Alferov   \n",
       "\n",
       "                        name  year                category country  \\\n",
       "594  Ilya Mikhailovich Frank  1958                 Physics  Russia   \n",
       "595         Nikolay Semyonov  1956               Chemistry  Russia   \n",
       "596   Aleksandr Solzhenitsyn  1970              Literature  Russia   \n",
       "597        Mikhail Sholokhov  1965              Literature  Russia   \n",
       "598          Andrei Sakharov  1975                   Peace  Russia   \n",
       "599       Leonid Kantorovich  1975               Economics  Russia   \n",
       "600            Nikolay Basov  1964                 Physics  Russia   \n",
       "601               Lev Landau  1962                 Physics  Russia   \n",
       "602          Boris Pasternak  1958              Literature  Russia   \n",
       "603          Pavel Cherenkov  1958                 Physics  Russia   \n",
       "604                Igor Tamm  1958                 Physics  Russia   \n",
       "605         Élie Metchnikoff  1908  Physiology or Medicine  Russia   \n",
       "606              Ivan Pavlov  1904  Physiology or Medicine  Russia   \n",
       "607           Joseph Brodsky  1987              Literature  Russia   \n",
       "608            Pyotr Kapitsa  1978                 Physics  Russia   \n",
       "609        Mikhail Gorbachev  1990                   Peace  Russia   \n",
       "610            Alexei Ekimov  2023               Chemistry  Russia   \n",
       "611           Dmitry Muratov  2021                   Peace  Russia   \n",
       "612          Vitaly Ginzburg  2003                 Physics  Russia   \n",
       "613           Zhores Alferov  2000                 Physics  Russia   \n",
       "\n",
       "                                                  text  \\\n",
       "594            Ilya Mikhailovich Frank , Physics, 1958   \n",
       "595                 Nikolay Semyonov , Chemistry, 1956   \n",
       "596          Aleksandr Solzhenitsyn , Literature, 1970   \n",
       "597               Mikhail Sholokhov , Literature, 1965   \n",
       "598                      Andrei Sakharov , Peace, 1975   \n",
       "599               Leonid Kantorovich , Economics, 1975   \n",
       "600                      Nikolay Basov , Physics, 1964   \n",
       "601  Lev Landau ,  born in then Russian Empire, now...   \n",
       "602  Boris Pasternak , Literature, 1958 (forced to ...   \n",
       "603                    Pavel Cherenkov , Physics, 1958   \n",
       "604                          Igor Tamm , Physics, 1958   \n",
       "605  Élie Metchnikoff ,  born in now Ukraine , Phys...   \n",
       "606         Ivan Pavlov , Physiology or Medicine, 1904   \n",
       "607  Joseph Brodsky , born in Russia, Literature, 1987   \n",
       "608                      Pyotr Kapitsa , Physics, 1978   \n",
       "609                    Mikhail Gorbachev , Peace, 1990   \n",
       "610                    Alexei Ekimov , Chemistry, 2023   \n",
       "611                       Dmitry Muratov , Peace, 2021   \n",
       "612                    Vitaly Ginzburg , Physics, 2003   \n",
       "613  Zhores Alferov ,  born in then Soviet Union, n...   \n",
       "\n",
       "               date_of_birth            date_of_death    place_of_birth  \\\n",
       "594  1908-10-10T00:00:00.000  1990-06-22T00:00:00.000  Saint Petersburg   \n",
       "595  1896-04-03T00:00:00.000  1986-09-25T00:00:00.000           Saratov   \n",
       "596  1918-12-11T00:00:00.000  2008-08-03T00:00:00.000        Kislovodsk   \n",
       "597  1905-05-11T00:00:00.000  1984-02-21T00:00:00.000         Kruzhilin   \n",
       "598  1921-05-21T00:00:00.000  1989-12-14T00:00:00.000            Moscow   \n",
       "599  1912-01-19T00:00:00.000  1986-04-07T00:00:00.000  Saint Petersburg   \n",
       "600  1922-12-14T00:00:00.000  2001-07-01T00:00:00.000             Usman   \n",
       "601  1908-01-22T00:00:00.000  1968-04-01T00:00:00.000              Baku   \n",
       "602  1890-02-10T00:00:00.000  1960-05-30T00:00:00.000            Moscow   \n",
       "603  1904-07-28T00:00:00.000  1990-01-06T00:00:00.000     Novaya Chigla   \n",
       "604  1895-07-08T00:00:00.000  1971-04-12T00:00:00.000       Vladivostok   \n",
       "605  1845-05-03T00:00:00.000  1916-07-02T00:00:00.000          Ivanivka   \n",
       "606  1849-09-14T00:00:00.000  1936-02-27T00:00:00.000            Ryazan   \n",
       "607  1940-05-24T00:00:00.000  1996-01-28T00:00:00.000  Saint Petersburg   \n",
       "608  1894-06-26T00:00:00.000  1984-04-08T00:00:00.000         Kronstadt   \n",
       "609  1931-03-02T00:00:00.000  2022-08-30T00:00:00.000        Privolnoye   \n",
       "610  1945-02-28T00:00:00.000                     None  Saint Petersburg   \n",
       "611  1961-10-30T00:00:00.000                     None            Samara   \n",
       "612  1916-09-21T00:00:00.000  2009-11-08T00:00:00.000            Moscow   \n",
       "613  1930-03-15T00:00:00.000  2019-03-01T00:00:00.000           Vitebsk   \n",
       "\n",
       "                place_of_death gender  award_age  born_in  \\\n",
       "594                     Moscow   male         50     None   \n",
       "595                     Moscow   male         60     None   \n",
       "596                     Moscow   male         52     None   \n",
       "597               Vyoshenskaya   male         60     None   \n",
       "598                     Moscow   male         54     None   \n",
       "599                     Moscow   male         63     None   \n",
       "600                     Moscow   male         42     None   \n",
       "601                     Moscow   male         54     None   \n",
       "602                Peredelkino   male         68     None   \n",
       "603                     Moscow   male         54     None   \n",
       "604                     Moscow   male         63     None   \n",
       "605                      Paris   male         63     None   \n",
       "606                  Leningrad   male         55     None   \n",
       "607                   Brooklyn   male         47     None   \n",
       "608                     Moscow   male         84     None   \n",
       "609  Central Clinical Hospital   male         59     None   \n",
       "610                       None   male         78     None   \n",
       "611                       None   male         60     None   \n",
       "612                     Moscow   male         87     None   \n",
       "613           Saint Petersburg   male         70  Belarus   \n",
       "\n",
       "                                              mini_bio  \\\n",
       "594                                               None   \n",
       "595                                               None   \n",
       "596                                               None   \n",
       "597                                               None   \n",
       "598                                               None   \n",
       "599                                               None   \n",
       "600                                               None   \n",
       "601                                               None   \n",
       "602                                               None   \n",
       "603                                               None   \n",
       "604                                               None   \n",
       "605                                               None   \n",
       "606                                               None   \n",
       "607                                               None   \n",
       "608                                               None   \n",
       "609                                               None   \n",
       "610                                               None   \n",
       "611                                               None   \n",
       "612                                               None   \n",
       "613  <p><b>Zhores Ivanovich Alferov</b> (Russian: <...   \n",
       "\n",
       "                                             bio_image  \n",
       "594                                               None  \n",
       "595                                               None  \n",
       "596                                               None  \n",
       "597                                               None  \n",
       "598                                               None  \n",
       "599                                               None  \n",
       "600                                               None  \n",
       "601                                               None  \n",
       "602                                               None  \n",
       "603                                               None  \n",
       "604                                               None  \n",
       "605                                               None  \n",
       "606                                               None  \n",
       "607                                               None  \n",
       "608                                               None  \n",
       "609                                               None  \n",
       "610                                               None  \n",
       "611                                               None  \n",
       "612                                               None  \n",
       "613  full/f6e23ad46e0384f0e67415918724ec3623c16b42.jpg  "
      ]
     },
     "execution_count": 4,
     "metadata": {},
     "output_type": "execute_result"
    }
   ],
   "source": [
    "# change 'Russia and Soviet Union' to Russia\n",
    "df.loc[df[\"country\"] == \"Russia and Soviet Union\", \"country\"] = \"Russia\"\n",
    "df.loc[df[\"country\"] == \"Russia\"]"
   ]
  },
  {
   "cell_type": "code",
   "execution_count": 5,
   "metadata": {},
   "outputs": [
    {
     "data": {
      "image/png": "[encoded data removed]",
      "text/plain": [
       "<Figure size 500x1000 with 1 Axes>"
      ]
     },
     "metadata": {},
     "output_type": "display_data"
    }
   ],
   "source": [
    "# df_countries = pd.read_json('data/winning_country_data.json')\n",
    "# df_countries\n",
    "ax = df.groupby(\"country\").size().sort_values(ascending=True).tail(25).plot(kind='barh',figsize=[5,10],title='Absolute prize numbers')\n",
    "ax.set_xlabel('Nobel prizes')\n",
    "ax.set_facecolor('#eee')\n",
    "plt.tight_layout()\n",
    "plt.savefig('images/country_absolute_prize_numbers.png')\n"
   ]
  },
  {
   "cell_type": "code",
   "execution_count": 6,
   "metadata": {},
   "outputs": [
    {
     "data": {
      "image/png": "[encoded data removed]",
      "text/plain": [
       "<Figure size 400x1200 with 1 Axes>"
      ]
     },
     "metadata": {},
     "output_type": "display_data"
    }
   ],
   "source": [
    "nat_group = df.groupby(\"country\").size()\n",
    "df_countries = pd.read_json(\"data/winning_country_data.json\", orient=\"index\")\n",
    "df_countries[\"nobel_wins\"] = nat_group\n",
    "df_countries[\"nobel_wins_per_capita\"] = (\n",
    "    df_countries.nobel_wins / df_countries.population\n",
    ")\n",
    "# df_countries\n",
    "ax = (\n",
    "    df_countries[df_countries.nobel_wins > 2]\n",
    "    .sort_values(by=\"nobel_wins_per_capita\", ascending=True)\n",
    "    .nobel_wins_per_capita.plot(\n",
    "        kind=\"barh\",\n",
    "        figsize=[4, 12],\n",
    "    )\n",
    ")\n",
    "ax.set_xlabel(\"Nobel prizes per capita\")\n",
    "ax.set_facecolor(\"#eee\")\n",
    "plt.tight_layout()\n",
    "plt.savefig(\"images/country_relative_prize_numbers.png\")"
   ]
  },
  {
   "cell_type": "code",
   "execution_count": 7,
   "metadata": {},
   "outputs": [],
   "source": [
    "new_index = pd.Index(np.arange(1901,2025),name ='year')\n",
    "\n",
    "by_year_nat_sz = df.groupby(['year','country']).size().unstack().reindex(new_index).fillna(0)\n",
    "\n",
    "regions = [\n",
    "{'label':'N. America',\n",
    "'countries':['United States', 'Canada']},\n",
    "{'label':'Europe',\n",
    "'countries':['United Kingdom', 'Germany', 'France']},\n",
    "{'label':'Asia',\n",
    "'countries':['Japan', 'Russia', 'India']}\n",
    "]\n",
    "\n",
    "for region in regions:\n",
    "    by_year_nat_sz[region['label']] = by_year_nat_sz[region['countries']].sum(axis=1)"
   ]
  },
  {
   "cell_type": "code",
   "execution_count": 8,
   "metadata": {},
   "outputs": [
    {
     "data": {
      "text/html": [
       "<div>\n",
       "<style scoped>\n",
       "    .dataframe tbody tr th:only-of-type {\n",
       "        vertical-align: middle;\n",
       "    }\n",
       "\n",
       "    .dataframe tbody tr th {\n",
       "        vertical-align: top;\n",
       "    }\n",
       "\n",
       "    .dataframe thead th {\n",
       "        text-align: right;\n",
       "    }\n",
       "</style>\n",
       "<table border=\"1\" class=\"dataframe\">\n",
       "  <thead>\n",
       "    <tr style=\"text-align: right;\">\n",
       "      <th>country</th>\n",
       "      <th>N. America</th>\n",
       "      <th>Europe</th>\n",
       "      <th>Asia</th>\n",
       "    </tr>\n",
       "    <tr>\n",
       "      <th>year</th>\n",
       "      <th></th>\n",
       "      <th></th>\n",
       "      <th></th>\n",
       "    </tr>\n",
       "  </thead>\n",
       "  <tbody>\n",
       "    <tr>\n",
       "      <th>1901</th>\n",
       "      <td>0.0</td>\n",
       "      <td>5.0</td>\n",
       "      <td>0.0</td>\n",
       "    </tr>\n",
       "    <tr>\n",
       "      <th>1902</th>\n",
       "      <td>0.0</td>\n",
       "      <td>8.0</td>\n",
       "      <td>0.0</td>\n",
       "    </tr>\n",
       "    <tr>\n",
       "      <th>1903</th>\n",
       "      <td>0.0</td>\n",
       "      <td>11.0</td>\n",
       "      <td>0.0</td>\n",
       "    </tr>\n",
       "    <tr>\n",
       "      <th>1904</th>\n",
       "      <td>0.0</td>\n",
       "      <td>14.0</td>\n",
       "      <td>1.0</td>\n",
       "    </tr>\n",
       "    <tr>\n",
       "      <th>1905</th>\n",
       "      <td>0.0</td>\n",
       "      <td>16.0</td>\n",
       "      <td>1.0</td>\n",
       "    </tr>\n",
       "    <tr>\n",
       "      <th>...</th>\n",
       "      <td>...</td>\n",
       "      <td>...</td>\n",
       "      <td>...</td>\n",
       "    </tr>\n",
       "    <tr>\n",
       "      <th>2020</th>\n",
       "      <td>380.0</td>\n",
       "      <td>257.0</td>\n",
       "      <td>48.0</td>\n",
       "    </tr>\n",
       "    <tr>\n",
       "      <th>2021</th>\n",
       "      <td>385.0</td>\n",
       "      <td>261.0</td>\n",
       "      <td>49.0</td>\n",
       "    </tr>\n",
       "    <tr>\n",
       "      <th>2022</th>\n",
       "      <td>391.0</td>\n",
       "      <td>263.0</td>\n",
       "      <td>49.0</td>\n",
       "    </tr>\n",
       "    <tr>\n",
       "      <th>2023</th>\n",
       "      <td>395.0</td>\n",
       "      <td>265.0</td>\n",
       "      <td>50.0</td>\n",
       "    </tr>\n",
       "    <tr>\n",
       "      <th>2024</th>\n",
       "      <td>395.0</td>\n",
       "      <td>265.0</td>\n",
       "      <td>50.0</td>\n",
       "    </tr>\n",
       "  </tbody>\n",
       "</table>\n",
       "<p>124 rows × 3 columns</p>\n",
       "</div>"
      ],
      "text/plain": [
       "country  N. America  Europe  Asia\n",
       "year                             \n",
       "1901            0.0     5.0   0.0\n",
       "1902            0.0     8.0   0.0\n",
       "1903            0.0    11.0   0.0\n",
       "1904            0.0    14.0   1.0\n",
       "1905            0.0    16.0   1.0\n",
       "...             ...     ...   ...\n",
       "2020          380.0   257.0  48.0\n",
       "2021          385.0   261.0  49.0\n",
       "2022          391.0   263.0  49.0\n",
       "2023          395.0   265.0  50.0\n",
       "2024          395.0   265.0  50.0\n",
       "\n",
       "[124 rows x 3 columns]"
      ]
     },
     "execution_count": 8,
     "metadata": {},
     "output_type": "execute_result"
    }
   ],
   "source": [
    "df_regions = by_year_nat_sz[[r['label'] for r in regions]].cumsum()\n",
    "df_regions"
   ]
  },
  {
   "cell_type": "code",
   "execution_count": 9,
   "metadata": {},
   "outputs": [
    {
     "data": {
      "application/vnd.plotly.v1+json": {
       "config": {
        "plotlyServerURL": "https://plot.ly"
       },
       "data": [
        {
         "hovertemplate": "Regions=N. America<br>year=%{x}<br>value=%{y}<extra></extra>",
         "legendgroup": "N. America",
         "line": {
          "color": "#636efa",
          "dash": "solid"
         },
         "marker": {
          "symbol": "circle"
         },
         "mode": "lines",
         "name": "N. America",
         "orientation": "v",
         "showlegend": true,
         "type": "scatter",
         "x": [
          1901,
          1902,
          1903,
          1904,
          1905,
          1906,
          1907,
          1908,
          1909,
          1910,
          1911,
          1912,
          1913,
          1914,
          1915,
          1916,
          1917,
          1918,
          1919,
          1920,
          1921,
          1922,
          1923,
          1924,
          1925,
          1926,
          1927,
          1928,
          1929,
          1930,
          1931,
          1932,
          1933,
          1934,
          1935,
          1936,
          1937,
          1938,
          1939,
          1940,
          1941,
          1942,
          1943,
          1944,
          1945,
          1946,
          1947,
          1948,
          1949,
          1950,
          1951,
          1952,
          1953,
          1954,
          1955,
          1956,
          1957,
          1958,
          1959,
          1960,
          1961,
          1962,
          1963,
          1964,
          1965,
          1966,
          1967,
          1968,
          1969,
          1970,
          1971,
          1972,
          1973,
          1974,
          1975,
          1976,
          1977,
          1978,
          1979,
          1980,
          1981,
          1982,
          1983,
          1984,
          1985,
          1986,
          1987,
          1988,
          1989,
          1990,
          1991,
          1992,
          1993,
          1994,
          1995,
          1996,
          1997,
          1998,
          1999,
          2000,
          2001,
          2002,
          2003,
          2004,
          2005,
          2006,
          2007,
          2008,
          2009,
          2010,
          2011,
          2012,
          2013,
          2014,
          2015,
          2016,
          2017,
          2018,
          2019,
          2020,
          2021,
          2022,
          2023,
          2024
         ],
         "xaxis": "x",
         "y": [
          0,
          0,
          0,
          0,
          0,
          1,
          2,
          2,
          2,
          2,
          2,
          3,
          3,
          4,
          4,
          4,
          4,
          4,
          5,
          5,
          5,
          5,
          8,
          8,
          9,
          9,
          10,
          10,
          11,
          12,
          14,
          15,
          16,
          20,
          20,
          22,
          23,
          24,
          25,
          25,
          25,
          25,
          27,
          30,
          31,
          38,
          40,
          40,
          42,
          45,
          47,
          50,
          52,
          57,
          60,
          65,
          68,
          71,
          75,
          77,
          80,
          83,
          85,
          88,
          91,
          94,
          97,
          102,
          106,
          109,
          112,
          120,
          122,
          124,
          128,
          134,
          139,
          145,
          150,
          158,
          164,
          166,
          171,
          172,
          177,
          181,
          184,
          189,
          195,
          204,
          204,
          208,
          216,
          223,
          230,
          236,
          243,
          250,
          253,
          259,
          267,
          275,
          281,
          288,
          293,
          299,
          305,
          309,
          318,
          321,
          328,
          333,
          342,
          345,
          348,
          351,
          359,
          366,
          373,
          380,
          385,
          391,
          395,
          395
         ],
         "yaxis": "y"
        },
        {
         "hovertemplate": "Regions=Europe<br>year=%{x}<br>value=%{y}<extra></extra>",
         "legendgroup": "Europe",
         "line": {
          "color": "#EF553B",
          "dash": "dash"
         },
         "marker": {
          "symbol": "circle"
         },
         "mode": "lines",
         "name": "Europe",
         "orientation": "v",
         "showlegend": true,
         "type": "scatter",
         "x": [
          1901,
          1902,
          1903,
          1904,
          1905,
          1906,
          1907,
          1908,
          1909,
          1910,
          1911,
          1912,
          1913,
          1914,
          1915,
          1916,
          1917,
          1918,
          1919,
          1920,
          1921,
          1922,
          1923,
          1924,
          1925,
          1926,
          1927,
          1928,
          1929,
          1930,
          1931,
          1932,
          1933,
          1934,
          1935,
          1936,
          1937,
          1938,
          1939,
          1940,
          1941,
          1942,
          1943,
          1944,
          1945,
          1946,
          1947,
          1948,
          1949,
          1950,
          1951,
          1952,
          1953,
          1954,
          1955,
          1956,
          1957,
          1958,
          1959,
          1960,
          1961,
          1962,
          1963,
          1964,
          1965,
          1966,
          1967,
          1968,
          1969,
          1970,
          1971,
          1972,
          1973,
          1974,
          1975,
          1976,
          1977,
          1978,
          1979,
          1980,
          1981,
          1982,
          1983,
          1984,
          1985,
          1986,
          1987,
          1988,
          1989,
          1990,
          1991,
          1992,
          1993,
          1994,
          1995,
          1996,
          1997,
          1998,
          1999,
          2000,
          2001,
          2002,
          2003,
          2004,
          2005,
          2006,
          2007,
          2008,
          2009,
          2010,
          2011,
          2012,
          2013,
          2014,
          2015,
          2016,
          2017,
          2018,
          2019,
          2020,
          2021,
          2022,
          2023,
          2024
         ],
         "xaxis": "x",
         "y": [
          5,
          8,
          11,
          14,
          16,
          18,
          22,
          26,
          29,
          32,
          34,
          38,
          39,
          40,
          42,
          42,
          43,
          45,
          46,
          48,
          51,
          54,
          54,
          54,
          58,
          61,
          66,
          69,
          73,
          74,
          77,
          81,
          84,
          85,
          90,
          91,
          95,
          96,
          98,
          98,
          98,
          98,
          98,
          99,
          101,
          101,
          104,
          106,
          107,
          111,
          113,
          117,
          120,
          122,
          122,
          125,
          127,
          128,
          129,
          131,
          132,
          135,
          139,
          142,
          145,
          146,
          149,
          150,
          151,
          153,
          155,
          158,
          163,
          165,
          166,
          166,
          168,
          169,
          172,
          174,
          175,
          177,
          178,
          180,
          182,
          184,
          186,
          191,
          192,
          192,
          196,
          197,
          198,
          199,
          202,
          204,
          206,
          208,
          209,
          211,
          215,
          216,
          218,
          218,
          221,
          221,
          226,
          230,
          232,
          235,
          236,
          238,
          239,
          243,
          243,
          247,
          249,
          251,
          253,
          257,
          261,
          263,
          265,
          265
         ],
         "yaxis": "y"
        },
        {
         "hovertemplate": "Regions=Asia<br>year=%{x}<br>value=%{y}<extra></extra>",
         "legendgroup": "Asia",
         "line": {
          "color": "#00cc96",
          "dash": "dot"
         },
         "marker": {
          "symbol": "circle"
         },
         "mode": "lines",
         "name": "Asia",
         "orientation": "v",
         "showlegend": true,
         "type": "scatter",
         "x": [
          1901,
          1902,
          1903,
          1904,
          1905,
          1906,
          1907,
          1908,
          1909,
          1910,
          1911,
          1912,
          1913,
          1914,
          1915,
          1916,
          1917,
          1918,
          1919,
          1920,
          1921,
          1922,
          1923,
          1924,
          1925,
          1926,
          1927,
          1928,
          1929,
          1930,
          1931,
          1932,
          1933,
          1934,
          1935,
          1936,
          1937,
          1938,
          1939,
          1940,
          1941,
          1942,
          1943,
          1944,
          1945,
          1946,
          1947,
          1948,
          1949,
          1950,
          1951,
          1952,
          1953,
          1954,
          1955,
          1956,
          1957,
          1958,
          1959,
          1960,
          1961,
          1962,
          1963,
          1964,
          1965,
          1966,
          1967,
          1968,
          1969,
          1970,
          1971,
          1972,
          1973,
          1974,
          1975,
          1976,
          1977,
          1978,
          1979,
          1980,
          1981,
          1982,
          1983,
          1984,
          1985,
          1986,
          1987,
          1988,
          1989,
          1990,
          1991,
          1992,
          1993,
          1994,
          1995,
          1996,
          1997,
          1998,
          1999,
          2000,
          2001,
          2002,
          2003,
          2004,
          2005,
          2006,
          2007,
          2008,
          2009,
          2010,
          2011,
          2012,
          2013,
          2014,
          2015,
          2016,
          2017,
          2018,
          2019,
          2020,
          2021,
          2022,
          2023,
          2024
         ],
         "xaxis": "x",
         "y": [
          0,
          0,
          0,
          1,
          1,
          1,
          1,
          2,
          2,
          2,
          2,
          2,
          3,
          3,
          3,
          3,
          3,
          3,
          3,
          3,
          3,
          3,
          3,
          3,
          3,
          3,
          3,
          3,
          3,
          4,
          4,
          4,
          4,
          4,
          4,
          4,
          4,
          4,
          4,
          4,
          4,
          4,
          4,
          4,
          4,
          4,
          4,
          4,
          5,
          5,
          5,
          5,
          5,
          5,
          5,
          6,
          6,
          10,
          10,
          10,
          10,
          11,
          11,
          12,
          14,
          14,
          14,
          15,
          15,
          16,
          16,
          16,
          17,
          18,
          20,
          20,
          20,
          21,
          22,
          22,
          23,
          23,
          23,
          23,
          23,
          23,
          25,
          25,
          25,
          26,
          26,
          26,
          26,
          27,
          27,
          27,
          27,
          28,
          28,
          30,
          31,
          33,
          34,
          34,
          34,
          34,
          34,
          37,
          37,
          39,
          39,
          40,
          40,
          43,
          45,
          46,
          46,
          47,
          48,
          48,
          49,
          49,
          50,
          50
         ],
         "yaxis": "y"
        }
       ],
       "layout": {
        "height": 800,
        "legend": {
         "title": {
          "text": "Regions"
         },
         "tracegroupgap": 0
        },
        "margin": {
         "t": 60
        },
        "template": {
         "data": {
          "bar": [
           {
            "error_x": {
             "color": "#2a3f5f"
            },
            "error_y": {
             "color": "#2a3f5f"
            },
            "marker": {
             "line": {
              "color": "#E5ECF6",
              "width": 0.5
             },
             "pattern": {
              "fillmode": "overlay",
              "size": 10,
              "solidity": 0.2
             }
            },
            "type": "bar"
           }
          ],
          "barpolar": [
           {
            "marker": {
             "line": {
              "color": "#E5ECF6",
              "width": 0.5
             },
             "pattern": {
              "fillmode": "overlay",
              "size": 10,
              "solidity": 0.2
             }
            },
            "type": "barpolar"
           }
          ],
          "carpet": [
           {
            "aaxis": {
             "endlinecolor": "#2a3f5f",
             "gridcolor": "white",
             "linecolor": "white",
             "minorgridcolor": "white",
             "startlinecolor": "#2a3f5f"
            },
            "baxis": {
             "endlinecolor": "#2a3f5f",
             "gridcolor": "white",
             "linecolor": "white",
             "minorgridcolor": "white",
             "startlinecolor": "#2a3f5f"
            },
            "type": "carpet"
           }
          ],
          "choropleth": [
           {
            "colorbar": {
             "outlinewidth": 0,
             "ticks": ""
            },
            "type": "choropleth"
           }
          ],
          "contour": [
           {
            "colorbar": {
             "outlinewidth": 0,
             "ticks": ""
            },
            "colorscale": [
             [
              0,
              "#0d0887"
             ],
             [
              0.1111111111111111,
              "#46039f"
             ],
             [
              0.2222222222222222,
              "#7201a8"
             ],
             [
              0.3333333333333333,
              "#9c179e"
             ],
             [
              0.4444444444444444,
              "#bd3786"
             ],
             [
              0.5555555555555556,
              "#d8576b"
             ],
             [
              0.6666666666666666,
              "#ed7953"
             ],
             [
              0.7777777777777778,
              "#fb9f3a"
             ],
             [
              0.8888888888888888,
              "#fdca26"
             ],
             [
              1,
              "#f0f921"
             ]
            ],
            "type": "contour"
           }
          ],
          "contourcarpet": [
           {
            "colorbar": {
             "outlinewidth": 0,
             "ticks": ""
            },
            "type": "contourcarpet"
           }
          ],
          "heatmap": [
           {
            "colorbar": {
             "outlinewidth": 0,
             "ticks": ""
            },
            "colorscale": [
             [
              0,
              "#0d0887"
             ],
             [
              0.1111111111111111,
              "#46039f"
             ],
             [
              0.2222222222222222,
              "#7201a8"
             ],
             [
              0.3333333333333333,
              "#9c179e"
             ],
             [
              0.4444444444444444,
              "#bd3786"
             ],
             [
              0.5555555555555556,
              "#d8576b"
             ],
             [
              0.6666666666666666,
              "#ed7953"
             ],
             [
              0.7777777777777778,
              "#fb9f3a"
             ],
             [
              0.8888888888888888,
              "#fdca26"
             ],
             [
              1,
              "#f0f921"
             ]
            ],
            "type": "heatmap"
           }
          ],
          "heatmapgl": [
           {
            "colorbar": {
             "outlinewidth": 0,
             "ticks": ""
            },
            "colorscale": [
             [
              0,
              "#0d0887"
             ],
             [
              0.1111111111111111,
              "#46039f"
             ],
             [
              0.2222222222222222,
              "#7201a8"
             ],
             [
              0.3333333333333333,
              "#9c179e"
             ],
             [
              0.4444444444444444,
              "#bd3786"
             ],
             [
              0.5555555555555556,
              "#d8576b"
             ],
             [
              0.6666666666666666,
              "#ed7953"
             ],
             [
              0.7777777777777778,
              "#fb9f3a"
             ],
             [
              0.8888888888888888,
              "#fdca26"
             ],
             [
              1,
              "#f0f921"
             ]
            ],
            "type": "heatmapgl"
           }
          ],
          "histogram": [
           {
            "marker": {
             "pattern": {
              "fillmode": "overlay",
              "size": 10,
              "solidity": 0.2
             }
            },
            "type": "histogram"
           }
          ],
          "histogram2d": [
           {
            "colorbar": {
             "outlinewidth": 0,
             "ticks": ""
            },
            "colorscale": [
             [
              0,
              "#0d0887"
             ],
             [
              0.1111111111111111,
              "#46039f"
             ],
             [
              0.2222222222222222,
              "#7201a8"
             ],
             [
              0.3333333333333333,
              "#9c179e"
             ],
             [
              0.4444444444444444,
              "#bd3786"
             ],
             [
              0.5555555555555556,
              "#d8576b"
             ],
             [
              0.6666666666666666,
              "#ed7953"
             ],
             [
              0.7777777777777778,
              "#fb9f3a"
             ],
             [
              0.8888888888888888,
              "#fdca26"
             ],
             [
              1,
              "#f0f921"
             ]
            ],
            "type": "histogram2d"
           }
          ],
          "histogram2dcontour": [
           {
            "colorbar": {
             "outlinewidth": 0,
             "ticks": ""
            },
            "colorscale": [
             [
              0,
              "#0d0887"
             ],
             [
              0.1111111111111111,
              "#46039f"
             ],
             [
              0.2222222222222222,
              "#7201a8"
             ],
             [
              0.3333333333333333,
              "#9c179e"
             ],
             [
              0.4444444444444444,
              "#bd3786"
             ],
             [
              0.5555555555555556,
              "#d8576b"
             ],
             [
              0.6666666666666666,
              "#ed7953"
             ],
             [
              0.7777777777777778,
              "#fb9f3a"
             ],
             [
              0.8888888888888888,
              "#fdca26"
             ],
             [
              1,
              "#f0f921"
             ]
            ],
            "type": "histogram2dcontour"
           }
          ],
          "mesh3d": [
           {
            "colorbar": {
             "outlinewidth": 0,
             "ticks": ""
            },
            "type": "mesh3d"
           }
          ],
          "parcoords": [
           {
            "line": {
             "colorbar": {
              "outlinewidth": 0,
              "ticks": ""
             }
            },
            "type": "parcoords"
           }
          ],
          "pie": [
           {
            "automargin": true,
            "type": "pie"
           }
          ],
          "scatter": [
           {
            "fillpattern": {
             "fillmode": "overlay",
             "size": 10,
             "solidity": 0.2
            },
            "type": "scatter"
           }
          ],
          "scatter3d": [
           {
            "line": {
             "colorbar": {
              "outlinewidth": 0,
              "ticks": ""
             }
            },
            "marker": {
             "colorbar": {
              "outlinewidth": 0,
              "ticks": ""
             }
            },
            "type": "scatter3d"
           }
          ],
          "scattercarpet": [
           {
            "marker": {
             "colorbar": {
              "outlinewidth": 0,
              "ticks": ""
             }
            },
            "type": "scattercarpet"
           }
          ],
          "scattergeo": [
           {
            "marker": {
             "colorbar": {
              "outlinewidth": 0,
              "ticks": ""
             }
            },
            "type": "scattergeo"
           }
          ],
          "scattergl": [
           {
            "marker": {
             "colorbar": {
              "outlinewidth": 0,
              "ticks": ""
             }
            },
            "type": "scattergl"
           }
          ],
          "scattermapbox": [
           {
            "marker": {
             "colorbar": {
              "outlinewidth": 0,
              "ticks": ""
             }
            },
            "type": "scattermapbox"
           }
          ],
          "scatterpolar": [
           {
            "marker": {
             "colorbar": {
              "outlinewidth": 0,
              "ticks": ""
             }
            },
            "type": "scatterpolar"
           }
          ],
          "scatterpolargl": [
           {
            "marker": {
             "colorbar": {
              "outlinewidth": 0,
              "ticks": ""
             }
            },
            "type": "scatterpolargl"
           }
          ],
          "scatterternary": [
           {
            "marker": {
             "colorbar": {
              "outlinewidth": 0,
              "ticks": ""
             }
            },
            "type": "scatterternary"
           }
          ],
          "surface": [
           {
            "colorbar": {
             "outlinewidth": 0,
             "ticks": ""
            },
            "colorscale": [
             [
              0,
              "#0d0887"
             ],
             [
              0.1111111111111111,
              "#46039f"
             ],
             [
              0.2222222222222222,
              "#7201a8"
             ],
             [
              0.3333333333333333,
              "#9c179e"
             ],
             [
              0.4444444444444444,
              "#bd3786"
             ],
             [
              0.5555555555555556,
              "#d8576b"
             ],
             [
              0.6666666666666666,
              "#ed7953"
             ],
             [
              0.7777777777777778,
              "#fb9f3a"
             ],
             [
              0.8888888888888888,
              "#fdca26"
             ],
             [
              1,
              "#f0f921"
             ]
            ],
            "type": "surface"
           }
          ],
          "table": [
           {
            "cells": {
             "fill": {
              "color": "#EBF0F8"
             },
             "line": {
              "color": "white"
             }
            },
            "header": {
             "fill": {
              "color": "#C8D4E3"
             },
             "line": {
              "color": "white"
             }
            },
            "type": "table"
           }
          ]
         },
         "layout": {
          "annotationdefaults": {
           "arrowcolor": "#2a3f5f",
           "arrowhead": 0,
           "arrowwidth": 1
          },
          "autotypenumbers": "strict",
          "coloraxis": {
           "colorbar": {
            "outlinewidth": 0,
            "ticks": ""
           }
          },
          "colorscale": {
           "diverging": [
            [
             0,
             "#8e0152"
            ],
            [
             0.1,
             "#c51b7d"
            ],
            [
             0.2,
             "#de77ae"
            ],
            [
             0.3,
             "#f1b6da"
            ],
            [
             0.4,
             "#fde0ef"
            ],
            [
             0.5,
             "#f7f7f7"
            ],
            [
             0.6,
             "#e6f5d0"
            ],
            [
             0.7,
             "#b8e186"
            ],
            [
             0.8,
             "#7fbc41"
            ],
            [
             0.9,
             "#4d9221"
            ],
            [
             1,
             "#276419"
            ]
           ],
           "sequential": [
            [
             0,
             "#0d0887"
            ],
            [
             0.1111111111111111,
             "#46039f"
            ],
            [
             0.2222222222222222,
             "#7201a8"
            ],
            [
             0.3333333333333333,
             "#9c179e"
            ],
            [
             0.4444444444444444,
             "#bd3786"
            ],
            [
             0.5555555555555556,
             "#d8576b"
            ],
            [
             0.6666666666666666,
             "#ed7953"
            ],
            [
             0.7777777777777778,
             "#fb9f3a"
            ],
            [
             0.8888888888888888,
             "#fdca26"
            ],
            [
             1,
             "#f0f921"
            ]
           ],
           "sequentialminus": [
            [
             0,
             "#0d0887"
            ],
            [
             0.1111111111111111,
             "#46039f"
            ],
            [
             0.2222222222222222,
             "#7201a8"
            ],
            [
             0.3333333333333333,
             "#9c179e"
            ],
            [
             0.4444444444444444,
             "#bd3786"
            ],
            [
             0.5555555555555556,
             "#d8576b"
            ],
            [
             0.6666666666666666,
             "#ed7953"
            ],
            [
             0.7777777777777778,
             "#fb9f3a"
            ],
            [
             0.8888888888888888,
             "#fdca26"
            ],
            [
             1,
             "#f0f921"
            ]
           ]
          },
          "colorway": [
           "#636efa",
           "#EF553B",
           "#00cc96",
           "#ab63fa",
           "#FFA15A",
           "#19d3f3",
           "#FF6692",
           "#B6E880",
           "#FF97FF",
           "#FECB52"
          ],
          "font": {
           "color": "#2a3f5f"
          },
          "geo": {
           "bgcolor": "white",
           "lakecolor": "white",
           "landcolor": "#E5ECF6",
           "showlakes": true,
           "showland": true,
           "subunitcolor": "white"
          },
          "hoverlabel": {
           "align": "left"
          },
          "hovermode": "closest",
          "mapbox": {
           "style": "light"
          },
          "paper_bgcolor": "white",
          "plot_bgcolor": "#E5ECF6",
          "polar": {
           "angularaxis": {
            "gridcolor": "white",
            "linecolor": "white",
            "ticks": ""
           },
           "bgcolor": "#E5ECF6",
           "radialaxis": {
            "gridcolor": "white",
            "linecolor": "white",
            "ticks": ""
           }
          },
          "scene": {
           "xaxis": {
            "backgroundcolor": "#E5ECF6",
            "gridcolor": "white",
            "gridwidth": 2,
            "linecolor": "white",
            "showbackground": true,
            "ticks": "",
            "zerolinecolor": "white"
           },
           "yaxis": {
            "backgroundcolor": "#E5ECF6",
            "gridcolor": "white",
            "gridwidth": 2,
            "linecolor": "white",
            "showbackground": true,
            "ticks": "",
            "zerolinecolor": "white"
           },
           "zaxis": {
            "backgroundcolor": "#E5ECF6",
            "gridcolor": "white",
            "gridwidth": 2,
            "linecolor": "white",
            "showbackground": true,
            "ticks": "",
            "zerolinecolor": "white"
           }
          },
          "shapedefaults": {
           "line": {
            "color": "#2a3f5f"
           }
          },
          "ternary": {
           "aaxis": {
            "gridcolor": "white",
            "linecolor": "white",
            "ticks": ""
           },
           "baxis": {
            "gridcolor": "white",
            "linecolor": "white",
            "ticks": ""
           },
           "bgcolor": "#E5ECF6",
           "caxis": {
            "gridcolor": "white",
            "linecolor": "white",
            "ticks": ""
           }
          },
          "title": {
           "x": 0.05
          },
          "xaxis": {
           "automargin": true,
           "gridcolor": "white",
           "linecolor": "white",
           "ticks": "",
           "title": {
            "standoff": 15
           },
           "zerolinecolor": "white",
           "zerolinewidth": 2
          },
          "yaxis": {
           "automargin": true,
           "gridcolor": "white",
           "linecolor": "white",
           "ticks": "",
           "title": {
            "standoff": 15
           },
           "zerolinecolor": "white",
           "zerolinewidth": 2
          }
         }
        },
        "width": 800,
        "xaxis": {
         "anchor": "y",
         "domain": [
          0,
          1
         ],
         "title": {
          "text": "year"
         }
        },
        "yaxis": {
         "anchor": "x",
         "domain": [
          0,
          1
         ],
         "title": {
          "text": "value"
         }
        }
       }
      }
     },
     "metadata": {},
     "output_type": "display_data"
    }
   ],
   "source": [
    "import plotly.express as px\n",
    "\n",
    "fig = px.line(\n",
    "    df_regions,\n",
    "    labels={\"country\": \"Regions\"},\n",
    "    line_dash=\"country\",\n",
    "    line_dash_sequence=[\"solid\", \"dash\", \"dot\"],\n",
    "    height=800,\n",
    "    width=800,\n",
    ")\n",
    "fig.show()"
   ]
  },
  {
   "cell_type": "code",
   "execution_count": 10,
   "metadata": {},
   "outputs": [
    {
     "data": {
      "application/vnd.plotly.v1+json": {
       "config": {
        "plotlyServerURL": "https://plot.ly"
       },
       "data": [
        {
         "hovertemplate": "country=N. America<br>year=%{x}<br>value=%{y}<extra></extra>",
         "legendgroup": "N. America",
         "line": {
          "color": "#636efa",
          "dash": "solid"
         },
         "marker": {
          "symbol": "circle"
         },
         "mode": "lines",
         "name": "N. America",
         "orientation": "v",
         "showlegend": true,
         "type": "scatter",
         "x": [
          1901,
          1902,
          1903,
          1904,
          1905,
          1906,
          1907,
          1908,
          1909,
          1910,
          1911,
          1912,
          1913,
          1914,
          1915,
          1916,
          1917,
          1918,
          1919,
          1920,
          1921,
          1922,
          1923,
          1924,
          1925,
          1926,
          1927,
          1928,
          1929,
          1930,
          1931,
          1932,
          1933,
          1934,
          1935,
          1936,
          1937,
          1938,
          1939,
          1940,
          1941,
          1942,
          1943,
          1944,
          1945,
          1946,
          1947,
          1948,
          1949,
          1950,
          1951,
          1952,
          1953,
          1954,
          1955,
          1956,
          1957,
          1958,
          1959,
          1960,
          1961,
          1962,
          1963,
          1964,
          1965,
          1966,
          1967,
          1968,
          1969,
          1970,
          1971,
          1972,
          1973,
          1974,
          1975,
          1976,
          1977,
          1978,
          1979,
          1980,
          1981,
          1982,
          1983,
          1984,
          1985,
          1986,
          1987,
          1988,
          1989,
          1990,
          1991,
          1992,
          1993,
          1994,
          1995,
          1996,
          1997,
          1998,
          1999,
          2000,
          2001,
          2002,
          2003,
          2004,
          2005,
          2006,
          2007,
          2008,
          2009,
          2010,
          2011,
          2012,
          2013,
          2014,
          2015,
          2016,
          2017,
          2018,
          2019,
          2020,
          2021,
          2022,
          2023,
          2024
         ],
         "xaxis": "x",
         "y": [
          0,
          0,
          0,
          0,
          0,
          1,
          2,
          2,
          2,
          2,
          2,
          3,
          3,
          4,
          4,
          4,
          4,
          4,
          5,
          5,
          5,
          5,
          8,
          8,
          9,
          9,
          10,
          10,
          11,
          12,
          14,
          15,
          16,
          20,
          20,
          22,
          23,
          24,
          25,
          25,
          25,
          25,
          27,
          30,
          31,
          38,
          40,
          40,
          42,
          45,
          47,
          50,
          52,
          57,
          60,
          65,
          68,
          71,
          75,
          77,
          80,
          83,
          85,
          88,
          91,
          94,
          97,
          102,
          106,
          109,
          112,
          120,
          122,
          124,
          128,
          134,
          139,
          145,
          150,
          158,
          164,
          166,
          171,
          172,
          177,
          181,
          184,
          189,
          195,
          204,
          204,
          208,
          216,
          223,
          230,
          236,
          243,
          250,
          253,
          259,
          267,
          275,
          281,
          288,
          293,
          299,
          305,
          309,
          318,
          321,
          328,
          333,
          342,
          345,
          348,
          351,
          359,
          366,
          373,
          380,
          385,
          391,
          395,
          395
         ],
         "yaxis": "y"
        },
        {
         "hovertemplate": "country=Europe<br>year=%{x}<br>value=%{y}<extra></extra>",
         "legendgroup": "Europe",
         "line": {
          "color": "#EF553B",
          "dash": "solid"
         },
         "marker": {
          "symbol": "circle"
         },
         "mode": "lines",
         "name": "Europe",
         "orientation": "v",
         "showlegend": true,
         "type": "scatter",
         "x": [
          1901,
          1902,
          1903,
          1904,
          1905,
          1906,
          1907,
          1908,
          1909,
          1910,
          1911,
          1912,
          1913,
          1914,
          1915,
          1916,
          1917,
          1918,
          1919,
          1920,
          1921,
          1922,
          1923,
          1924,
          1925,
          1926,
          1927,
          1928,
          1929,
          1930,
          1931,
          1932,
          1933,
          1934,
          1935,
          1936,
          1937,
          1938,
          1939,
          1940,
          1941,
          1942,
          1943,
          1944,
          1945,
          1946,
          1947,
          1948,
          1949,
          1950,
          1951,
          1952,
          1953,
          1954,
          1955,
          1956,
          1957,
          1958,
          1959,
          1960,
          1961,
          1962,
          1963,
          1964,
          1965,
          1966,
          1967,
          1968,
          1969,
          1970,
          1971,
          1972,
          1973,
          1974,
          1975,
          1976,
          1977,
          1978,
          1979,
          1980,
          1981,
          1982,
          1983,
          1984,
          1985,
          1986,
          1987,
          1988,
          1989,
          1990,
          1991,
          1992,
          1993,
          1994,
          1995,
          1996,
          1997,
          1998,
          1999,
          2000,
          2001,
          2002,
          2003,
          2004,
          2005,
          2006,
          2007,
          2008,
          2009,
          2010,
          2011,
          2012,
          2013,
          2014,
          2015,
          2016,
          2017,
          2018,
          2019,
          2020,
          2021,
          2022,
          2023,
          2024
         ],
         "xaxis": "x",
         "y": [
          5,
          8,
          11,
          14,
          16,
          18,
          22,
          26,
          29,
          32,
          34,
          38,
          39,
          40,
          42,
          42,
          43,
          45,
          46,
          48,
          51,
          54,
          54,
          54,
          58,
          61,
          66,
          69,
          73,
          74,
          77,
          81,
          84,
          85,
          90,
          91,
          95,
          96,
          98,
          98,
          98,
          98,
          98,
          99,
          101,
          101,
          104,
          106,
          107,
          111,
          113,
          117,
          120,
          122,
          122,
          125,
          127,
          128,
          129,
          131,
          132,
          135,
          139,
          142,
          145,
          146,
          149,
          150,
          151,
          153,
          155,
          158,
          163,
          165,
          166,
          166,
          168,
          169,
          172,
          174,
          175,
          177,
          178,
          180,
          182,
          184,
          186,
          191,
          192,
          192,
          196,
          197,
          198,
          199,
          202,
          204,
          206,
          208,
          209,
          211,
          215,
          216,
          218,
          218,
          221,
          221,
          226,
          230,
          232,
          235,
          236,
          238,
          239,
          243,
          243,
          247,
          249,
          251,
          253,
          257,
          261,
          263,
          265,
          265
         ],
         "yaxis": "y"
        },
        {
         "hovertemplate": "country=Asia<br>year=%{x}<br>value=%{y}<extra></extra>",
         "legendgroup": "Asia",
         "line": {
          "color": "#00cc96",
          "dash": "solid"
         },
         "marker": {
          "symbol": "circle"
         },
         "mode": "lines",
         "name": "Asia",
         "orientation": "v",
         "showlegend": true,
         "type": "scatter",
         "x": [
          1901,
          1902,
          1903,
          1904,
          1905,
          1906,
          1907,
          1908,
          1909,
          1910,
          1911,
          1912,
          1913,
          1914,
          1915,
          1916,
          1917,
          1918,
          1919,
          1920,
          1921,
          1922,
          1923,
          1924,
          1925,
          1926,
          1927,
          1928,
          1929,
          1930,
          1931,
          1932,
          1933,
          1934,
          1935,
          1936,
          1937,
          1938,
          1939,
          1940,
          1941,
          1942,
          1943,
          1944,
          1945,
          1946,
          1947,
          1948,
          1949,
          1950,
          1951,
          1952,
          1953,
          1954,
          1955,
          1956,
          1957,
          1958,
          1959,
          1960,
          1961,
          1962,
          1963,
          1964,
          1965,
          1966,
          1967,
          1968,
          1969,
          1970,
          1971,
          1972,
          1973,
          1974,
          1975,
          1976,
          1977,
          1978,
          1979,
          1980,
          1981,
          1982,
          1983,
          1984,
          1985,
          1986,
          1987,
          1988,
          1989,
          1990,
          1991,
          1992,
          1993,
          1994,
          1995,
          1996,
          1997,
          1998,
          1999,
          2000,
          2001,
          2002,
          2003,
          2004,
          2005,
          2006,
          2007,
          2008,
          2009,
          2010,
          2011,
          2012,
          2013,
          2014,
          2015,
          2016,
          2017,
          2018,
          2019,
          2020,
          2021,
          2022,
          2023,
          2024
         ],
         "xaxis": "x",
         "y": [
          0,
          0,
          0,
          1,
          1,
          1,
          1,
          2,
          2,
          2,
          2,
          2,
          3,
          3,
          3,
          3,
          3,
          3,
          3,
          3,
          3,
          3,
          3,
          3,
          3,
          3,
          3,
          3,
          3,
          4,
          4,
          4,
          4,
          4,
          4,
          4,
          4,
          4,
          4,
          4,
          4,
          4,
          4,
          4,
          4,
          4,
          4,
          4,
          5,
          5,
          5,
          5,
          5,
          5,
          5,
          6,
          6,
          10,
          10,
          10,
          10,
          11,
          11,
          12,
          14,
          14,
          14,
          15,
          15,
          16,
          16,
          16,
          17,
          18,
          20,
          20,
          20,
          21,
          22,
          22,
          23,
          23,
          23,
          23,
          23,
          23,
          25,
          25,
          25,
          26,
          26,
          26,
          26,
          27,
          27,
          27,
          27,
          28,
          28,
          30,
          31,
          33,
          34,
          34,
          34,
          34,
          34,
          37,
          37,
          39,
          39,
          40,
          40,
          43,
          45,
          46,
          46,
          47,
          48,
          48,
          49,
          49,
          50,
          50
         ],
         "yaxis": "y"
        }
       ],
       "layout": {
        "legend": {
         "title": {
          "text": "country"
         },
         "tracegroupgap": 0
        },
        "margin": {
         "t": 60
        },
        "template": {
         "data": {
          "bar": [
           {
            "error_x": {
             "color": "#2a3f5f"
            },
            "error_y": {
             "color": "#2a3f5f"
            },
            "marker": {
             "line": {
              "color": "#E5ECF6",
              "width": 0.5
             },
             "pattern": {
              "fillmode": "overlay",
              "size": 10,
              "solidity": 0.2
             }
            },
            "type": "bar"
           }
          ],
          "barpolar": [
           {
            "marker": {
             "line": {
              "color": "#E5ECF6",
              "width": 0.5
             },
             "pattern": {
              "fillmode": "overlay",
              "size": 10,
              "solidity": 0.2
             }
            },
            "type": "barpolar"
           }
          ],
          "carpet": [
           {
            "aaxis": {
             "endlinecolor": "#2a3f5f",
             "gridcolor": "white",
             "linecolor": "white",
             "minorgridcolor": "white",
             "startlinecolor": "#2a3f5f"
            },
            "baxis": {
             "endlinecolor": "#2a3f5f",
             "gridcolor": "white",
             "linecolor": "white",
             "minorgridcolor": "white",
             "startlinecolor": "#2a3f5f"
            },
            "type": "carpet"
           }
          ],
          "choropleth": [
           {
            "colorbar": {
             "outlinewidth": 0,
             "ticks": ""
            },
            "type": "choropleth"
           }
          ],
          "contour": [
           {
            "colorbar": {
             "outlinewidth": 0,
             "ticks": ""
            },
            "colorscale": [
             [
              0,
              "#0d0887"
             ],
             [
              0.1111111111111111,
              "#46039f"
             ],
             [
              0.2222222222222222,
              "#7201a8"
             ],
             [
              0.3333333333333333,
              "#9c179e"
             ],
             [
              0.4444444444444444,
              "#bd3786"
             ],
             [
              0.5555555555555556,
              "#d8576b"
             ],
             [
              0.6666666666666666,
              "#ed7953"
             ],
             [
              0.7777777777777778,
              "#fb9f3a"
             ],
             [
              0.8888888888888888,
              "#fdca26"
             ],
             [
              1,
              "#f0f921"
             ]
            ],
            "type": "contour"
           }
          ],
          "contourcarpet": [
           {
            "colorbar": {
             "outlinewidth": 0,
             "ticks": ""
            },
            "type": "contourcarpet"
           }
          ],
          "heatmap": [
           {
            "colorbar": {
             "outlinewidth": 0,
             "ticks": ""
            },
            "colorscale": [
             [
              0,
              "#0d0887"
             ],
             [
              0.1111111111111111,
              "#46039f"
             ],
             [
              0.2222222222222222,
              "#7201a8"
             ],
             [
              0.3333333333333333,
              "#9c179e"
             ],
             [
              0.4444444444444444,
              "#bd3786"
             ],
             [
              0.5555555555555556,
              "#d8576b"
             ],
             [
              0.6666666666666666,
              "#ed7953"
             ],
             [
              0.7777777777777778,
              "#fb9f3a"
             ],
             [
              0.8888888888888888,
              "#fdca26"
             ],
             [
              1,
              "#f0f921"
             ]
            ],
            "type": "heatmap"
           }
          ],
          "heatmapgl": [
           {
            "colorbar": {
             "outlinewidth": 0,
             "ticks": ""
            },
            "colorscale": [
             [
              0,
              "#0d0887"
             ],
             [
              0.1111111111111111,
              "#46039f"
             ],
             [
              0.2222222222222222,
              "#7201a8"
             ],
             [
              0.3333333333333333,
              "#9c179e"
             ],
             [
              0.4444444444444444,
              "#bd3786"
             ],
             [
              0.5555555555555556,
              "#d8576b"
             ],
             [
              0.6666666666666666,
              "#ed7953"
             ],
             [
              0.7777777777777778,
              "#fb9f3a"
             ],
             [
              0.8888888888888888,
              "#fdca26"
             ],
             [
              1,
              "#f0f921"
             ]
            ],
            "type": "heatmapgl"
           }
          ],
          "histogram": [
           {
            "marker": {
             "pattern": {
              "fillmode": "overlay",
              "size": 10,
              "solidity": 0.2
             }
            },
            "type": "histogram"
           }
          ],
          "histogram2d": [
           {
            "colorbar": {
             "outlinewidth": 0,
             "ticks": ""
            },
            "colorscale": [
             [
              0,
              "#0d0887"
             ],
             [
              0.1111111111111111,
              "#46039f"
             ],
             [
              0.2222222222222222,
              "#7201a8"
             ],
             [
              0.3333333333333333,
              "#9c179e"
             ],
             [
              0.4444444444444444,
              "#bd3786"
             ],
             [
              0.5555555555555556,
              "#d8576b"
             ],
             [
              0.6666666666666666,
              "#ed7953"
             ],
             [
              0.7777777777777778,
              "#fb9f3a"
             ],
             [
              0.8888888888888888,
              "#fdca26"
             ],
             [
              1,
              "#f0f921"
             ]
            ],
            "type": "histogram2d"
           }
          ],
          "histogram2dcontour": [
           {
            "colorbar": {
             "outlinewidth": 0,
             "ticks": ""
            },
            "colorscale": [
             [
              0,
              "#0d0887"
             ],
             [
              0.1111111111111111,
              "#46039f"
             ],
             [
              0.2222222222222222,
              "#7201a8"
             ],
             [
              0.3333333333333333,
              "#9c179e"
             ],
             [
              0.4444444444444444,
              "#bd3786"
             ],
             [
              0.5555555555555556,
              "#d8576b"
             ],
             [
              0.6666666666666666,
              "#ed7953"
             ],
             [
              0.7777777777777778,
              "#fb9f3a"
             ],
             [
              0.8888888888888888,
              "#fdca26"
             ],
             [
              1,
              "#f0f921"
             ]
            ],
            "type": "histogram2dcontour"
           }
          ],
          "mesh3d": [
           {
            "colorbar": {
             "outlinewidth": 0,
             "ticks": ""
            },
            "type": "mesh3d"
           }
          ],
          "parcoords": [
           {
            "line": {
             "colorbar": {
              "outlinewidth": 0,
              "ticks": ""
             }
            },
            "type": "parcoords"
           }
          ],
          "pie": [
           {
            "automargin": true,
            "type": "pie"
           }
          ],
          "scatter": [
           {
            "fillpattern": {
             "fillmode": "overlay",
             "size": 10,
             "solidity": 0.2
            },
            "type": "scatter"
           }
          ],
          "scatter3d": [
           {
            "line": {
             "colorbar": {
              "outlinewidth": 0,
              "ticks": ""
             }
            },
            "marker": {
             "colorbar": {
              "outlinewidth": 0,
              "ticks": ""
             }
            },
            "type": "scatter3d"
           }
          ],
          "scattercarpet": [
           {
            "marker": {
             "colorbar": {
              "outlinewidth": 0,
              "ticks": ""
             }
            },
            "type": "scattercarpet"
           }
          ],
          "scattergeo": [
           {
            "marker": {
             "colorbar": {
              "outlinewidth": 0,
              "ticks": ""
             }
            },
            "type": "scattergeo"
           }
          ],
          "scattergl": [
           {
            "marker": {
             "colorbar": {
              "outlinewidth": 0,
              "ticks": ""
             }
            },
            "type": "scattergl"
           }
          ],
          "scattermapbox": [
           {
            "marker": {
             "colorbar": {
              "outlinewidth": 0,
              "ticks": ""
             }
            },
            "type": "scattermapbox"
           }
          ],
          "scatterpolar": [
           {
            "marker": {
             "colorbar": {
              "outlinewidth": 0,
              "ticks": ""
             }
            },
            "type": "scatterpolar"
           }
          ],
          "scatterpolargl": [
           {
            "marker": {
             "colorbar": {
              "outlinewidth": 0,
              "ticks": ""
             }
            },
            "type": "scatterpolargl"
           }
          ],
          "scatterternary": [
           {
            "marker": {
             "colorbar": {
              "outlinewidth": 0,
              "ticks": ""
             }
            },
            "type": "scatterternary"
           }
          ],
          "surface": [
           {
            "colorbar": {
             "outlinewidth": 0,
             "ticks": ""
            },
            "colorscale": [
             [
              0,
              "#0d0887"
             ],
             [
              0.1111111111111111,
              "#46039f"
             ],
             [
              0.2222222222222222,
              "#7201a8"
             ],
             [
              0.3333333333333333,
              "#9c179e"
             ],
             [
              0.4444444444444444,
              "#bd3786"
             ],
             [
              0.5555555555555556,
              "#d8576b"
             ],
             [
              0.6666666666666666,
              "#ed7953"
             ],
             [
              0.7777777777777778,
              "#fb9f3a"
             ],
             [
              0.8888888888888888,
              "#fdca26"
             ],
             [
              1,
              "#f0f921"
             ]
            ],
            "type": "surface"
           }
          ],
          "table": [
           {
            "cells": {
             "fill": {
              "color": "#EBF0F8"
             },
             "line": {
              "color": "white"
             }
            },
            "header": {
             "fill": {
              "color": "#C8D4E3"
             },
             "line": {
              "color": "white"
             }
            },
            "type": "table"
           }
          ]
         },
         "layout": {
          "annotationdefaults": {
           "arrowcolor": "#2a3f5f",
           "arrowhead": 0,
           "arrowwidth": 1
          },
          "autotypenumbers": "strict",
          "coloraxis": {
           "colorbar": {
            "outlinewidth": 0,
            "ticks": ""
           }
          },
          "colorscale": {
           "diverging": [
            [
             0,
             "#8e0152"
            ],
            [
             0.1,
             "#c51b7d"
            ],
            [
             0.2,
             "#de77ae"
            ],
            [
             0.3,
             "#f1b6da"
            ],
            [
             0.4,
             "#fde0ef"
            ],
            [
             0.5,
             "#f7f7f7"
            ],
            [
             0.6,
             "#e6f5d0"
            ],
            [
             0.7,
             "#b8e186"
            ],
            [
             0.8,
             "#7fbc41"
            ],
            [
             0.9,
             "#4d9221"
            ],
            [
             1,
             "#276419"
            ]
           ],
           "sequential": [
            [
             0,
             "#0d0887"
            ],
            [
             0.1111111111111111,
             "#46039f"
            ],
            [
             0.2222222222222222,
             "#7201a8"
            ],
            [
             0.3333333333333333,
             "#9c179e"
            ],
            [
             0.4444444444444444,
             "#bd3786"
            ],
            [
             0.5555555555555556,
             "#d8576b"
            ],
            [
             0.6666666666666666,
             "#ed7953"
            ],
            [
             0.7777777777777778,
             "#fb9f3a"
            ],
            [
             0.8888888888888888,
             "#fdca26"
            ],
            [
             1,
             "#f0f921"
            ]
           ],
           "sequentialminus": [
            [
             0,
             "#0d0887"
            ],
            [
             0.1111111111111111,
             "#46039f"
            ],
            [
             0.2222222222222222,
             "#7201a8"
            ],
            [
             0.3333333333333333,
             "#9c179e"
            ],
            [
             0.4444444444444444,
             "#bd3786"
            ],
            [
             0.5555555555555556,
             "#d8576b"
            ],
            [
             0.6666666666666666,
             "#ed7953"
            ],
            [
             0.7777777777777778,
             "#fb9f3a"
            ],
            [
             0.8888888888888888,
             "#fdca26"
            ],
            [
             1,
             "#f0f921"
            ]
           ]
          },
          "colorway": [
           "#636efa",
           "#EF553B",
           "#00cc96",
           "#ab63fa",
           "#FFA15A",
           "#19d3f3",
           "#FF6692",
           "#B6E880",
           "#FF97FF",
           "#FECB52"
          ],
          "font": {
           "color": "#2a3f5f"
          },
          "geo": {
           "bgcolor": "white",
           "lakecolor": "white",
           "landcolor": "#E5ECF6",
           "showlakes": true,
           "showland": true,
           "subunitcolor": "white"
          },
          "hoverlabel": {
           "align": "left"
          },
          "hovermode": "closest",
          "mapbox": {
           "style": "light"
          },
          "paper_bgcolor": "white",
          "plot_bgcolor": "#E5ECF6",
          "polar": {
           "angularaxis": {
            "gridcolor": "white",
            "linecolor": "white",
            "ticks": ""
           },
           "bgcolor": "#E5ECF6",
           "radialaxis": {
            "gridcolor": "white",
            "linecolor": "white",
            "ticks": ""
           }
          },
          "scene": {
           "xaxis": {
            "backgroundcolor": "#E5ECF6",
            "gridcolor": "white",
            "gridwidth": 2,
            "linecolor": "white",
            "showbackground": true,
            "ticks": "",
            "zerolinecolor": "white"
           },
           "yaxis": {
            "backgroundcolor": "#E5ECF6",
            "gridcolor": "white",
            "gridwidth": 2,
            "linecolor": "white",
            "showbackground": true,
            "ticks": "",
            "zerolinecolor": "white"
           },
           "zaxis": {
            "backgroundcolor": "#E5ECF6",
            "gridcolor": "white",
            "gridwidth": 2,
            "linecolor": "white",
            "showbackground": true,
            "ticks": "",
            "zerolinecolor": "white"
           }
          },
          "shapedefaults": {
           "line": {
            "color": "#2a3f5f"
           }
          },
          "ternary": {
           "aaxis": {
            "gridcolor": "white",
            "linecolor": "white",
            "ticks": ""
           },
           "baxis": {
            "gridcolor": "white",
            "linecolor": "white",
            "ticks": ""
           },
           "bgcolor": "#E5ECF6",
           "caxis": {
            "gridcolor": "white",
            "linecolor": "white",
            "ticks": ""
           }
          },
          "title": {
           "x": 0.05
          },
          "xaxis": {
           "automargin": true,
           "gridcolor": "white",
           "linecolor": "white",
           "ticks": "",
           "title": {
            "standoff": 15
           },
           "zerolinecolor": "white",
           "zerolinewidth": 2
          },
          "yaxis": {
           "automargin": true,
           "gridcolor": "white",
           "linecolor": "white",
           "ticks": "",
           "title": {
            "standoff": 15
           },
           "zerolinecolor": "white",
           "zerolinewidth": 2
          }
         }
        },
        "xaxis": {
         "anchor": "y",
         "domain": [
          0,
          1
         ],
         "title": {
          "text": "year"
         }
        },
        "yaxis": {
         "anchor": "x",
         "domain": [
          0,
          1
         ],
         "title": {
          "text": "value"
         }
        }
       }
      }
     },
     "metadata": {},
     "output_type": "display_data"
    }
   ],
   "source": [
    "# use the line method with a suitable DataFrame\n",
    "fig = px.line(df_regions)\n",
    "fig.show()"
   ]
  },
  {
   "cell_type": "code",
   "execution_count": 11,
   "metadata": {},
   "outputs": [
    {
     "data": {
      "application/vnd.plotly.v1+json": {
       "config": {
        "plotlyServerURL": "https://plot.ly"
       },
       "data": [
        {
         "hovertemplate": "N. America<br>%{x}<br>$%{y}<extra></extra>",
         "line": {
          "dash": "solid"
         },
         "mode": "lines",
         "name": "N. America",
         "type": "scatter",
         "x": [
          1901,
          1902,
          1903,
          1904,
          1905,
          1906,
          1907,
          1908,
          1909,
          1910,
          1911,
          1912,
          1913,
          1914,
          1915,
          1916,
          1917,
          1918,
          1919,
          1920,
          1921,
          1922,
          1923,
          1924,
          1925,
          1926,
          1927,
          1928,
          1929,
          1930,
          1931,
          1932,
          1933,
          1934,
          1935,
          1936,
          1937,
          1938,
          1939,
          1940,
          1941,
          1942,
          1943,
          1944,
          1945,
          1946,
          1947,
          1948,
          1949,
          1950,
          1951,
          1952,
          1953,
          1954,
          1955,
          1956,
          1957,
          1958,
          1959,
          1960,
          1961,
          1962,
          1963,
          1964,
          1965,
          1966,
          1967,
          1968,
          1969,
          1970,
          1971,
          1972,
          1973,
          1974,
          1975,
          1976,
          1977,
          1978,
          1979,
          1980,
          1981,
          1982,
          1983,
          1984,
          1985,
          1986,
          1987,
          1988,
          1989,
          1990,
          1991,
          1992,
          1993,
          1994,
          1995,
          1996,
          1997,
          1998,
          1999,
          2000,
          2001,
          2002,
          2003,
          2004,
          2005,
          2006,
          2007,
          2008,
          2009,
          2010,
          2011,
          2012,
          2013,
          2014,
          2015,
          2016,
          2017,
          2018,
          2019,
          2020,
          2021,
          2022,
          2023,
          2024
         ],
         "y": [
          0,
          0,
          0,
          0,
          0,
          1,
          2,
          2,
          2,
          2,
          2,
          3,
          3,
          4,
          4,
          4,
          4,
          4,
          5,
          5,
          5,
          5,
          8,
          8,
          9,
          9,
          10,
          10,
          11,
          12,
          14,
          15,
          16,
          20,
          20,
          22,
          23,
          24,
          25,
          25,
          25,
          25,
          27,
          30,
          31,
          38,
          40,
          40,
          42,
          45,
          47,
          50,
          52,
          57,
          60,
          65,
          68,
          71,
          75,
          77,
          80,
          83,
          85,
          88,
          91,
          94,
          97,
          102,
          106,
          109,
          112,
          120,
          122,
          124,
          128,
          134,
          139,
          145,
          150,
          158,
          164,
          166,
          171,
          172,
          177,
          181,
          184,
          189,
          195,
          204,
          204,
          208,
          216,
          223,
          230,
          236,
          243,
          250,
          253,
          259,
          267,
          275,
          281,
          288,
          293,
          299,
          305,
          309,
          318,
          321,
          328,
          333,
          342,
          345,
          348,
          351,
          359,
          366,
          373,
          380,
          385,
          391,
          395,
          395
         ]
        },
        {
         "hovertemplate": "Europe<br>%{x}<br>$%{y}<extra></extra>",
         "line": {
          "dash": "dash"
         },
         "mode": "lines",
         "name": "Europe",
         "type": "scatter",
         "x": [
          1901,
          1902,
          1903,
          1904,
          1905,
          1906,
          1907,
          1908,
          1909,
          1910,
          1911,
          1912,
          1913,
          1914,
          1915,
          1916,
          1917,
          1918,
          1919,
          1920,
          1921,
          1922,
          1923,
          1924,
          1925,
          1926,
          1927,
          1928,
          1929,
          1930,
          1931,
          1932,
          1933,
          1934,
          1935,
          1936,
          1937,
          1938,
          1939,
          1940,
          1941,
          1942,
          1943,
          1944,
          1945,
          1946,
          1947,
          1948,
          1949,
          1950,
          1951,
          1952,
          1953,
          1954,
          1955,
          1956,
          1957,
          1958,
          1959,
          1960,
          1961,
          1962,
          1963,
          1964,
          1965,
          1966,
          1967,
          1968,
          1969,
          1970,
          1971,
          1972,
          1973,
          1974,
          1975,
          1976,
          1977,
          1978,
          1979,
          1980,
          1981,
          1982,
          1983,
          1984,
          1985,
          1986,
          1987,
          1988,
          1989,
          1990,
          1991,
          1992,
          1993,
          1994,
          1995,
          1996,
          1997,
          1998,
          1999,
          2000,
          2001,
          2002,
          2003,
          2004,
          2005,
          2006,
          2007,
          2008,
          2009,
          2010,
          2011,
          2012,
          2013,
          2014,
          2015,
          2016,
          2017,
          2018,
          2019,
          2020,
          2021,
          2022,
          2023,
          2024
         ],
         "y": [
          5,
          8,
          11,
          14,
          16,
          18,
          22,
          26,
          29,
          32,
          34,
          38,
          39,
          40,
          42,
          42,
          43,
          45,
          46,
          48,
          51,
          54,
          54,
          54,
          58,
          61,
          66,
          69,
          73,
          74,
          77,
          81,
          84,
          85,
          90,
          91,
          95,
          96,
          98,
          98,
          98,
          98,
          98,
          99,
          101,
          101,
          104,
          106,
          107,
          111,
          113,
          117,
          120,
          122,
          122,
          125,
          127,
          128,
          129,
          131,
          132,
          135,
          139,
          142,
          145,
          146,
          149,
          150,
          151,
          153,
          155,
          158,
          163,
          165,
          166,
          166,
          168,
          169,
          172,
          174,
          175,
          177,
          178,
          180,
          182,
          184,
          186,
          191,
          192,
          192,
          196,
          197,
          198,
          199,
          202,
          204,
          206,
          208,
          209,
          211,
          215,
          216,
          218,
          218,
          221,
          221,
          226,
          230,
          232,
          235,
          236,
          238,
          239,
          243,
          243,
          247,
          249,
          251,
          253,
          257,
          261,
          263,
          265,
          265
         ]
        },
        {
         "hovertemplate": "Asia<br>%{x}<br>$%{y}<extra></extra>",
         "line": {
          "dash": "dot"
         },
         "mode": "lines",
         "name": "Asia",
         "type": "scatter",
         "x": [
          1901,
          1902,
          1903,
          1904,
          1905,
          1906,
          1907,
          1908,
          1909,
          1910,
          1911,
          1912,
          1913,
          1914,
          1915,
          1916,
          1917,
          1918,
          1919,
          1920,
          1921,
          1922,
          1923,
          1924,
          1925,
          1926,
          1927,
          1928,
          1929,
          1930,
          1931,
          1932,
          1933,
          1934,
          1935,
          1936,
          1937,
          1938,
          1939,
          1940,
          1941,
          1942,
          1943,
          1944,
          1945,
          1946,
          1947,
          1948,
          1949,
          1950,
          1951,
          1952,
          1953,
          1954,
          1955,
          1956,
          1957,
          1958,
          1959,
          1960,
          1961,
          1962,
          1963,
          1964,
          1965,
          1966,
          1967,
          1968,
          1969,
          1970,
          1971,
          1972,
          1973,
          1974,
          1975,
          1976,
          1977,
          1978,
          1979,
          1980,
          1981,
          1982,
          1983,
          1984,
          1985,
          1986,
          1987,
          1988,
          1989,
          1990,
          1991,
          1992,
          1993,
          1994,
          1995,
          1996,
          1997,
          1998,
          1999,
          2000,
          2001,
          2002,
          2003,
          2004,
          2005,
          2006,
          2007,
          2008,
          2009,
          2010,
          2011,
          2012,
          2013,
          2014,
          2015,
          2016,
          2017,
          2018,
          2019,
          2020,
          2021,
          2022,
          2023,
          2024
         ],
         "y": [
          0,
          0,
          0,
          1,
          1,
          1,
          1,
          2,
          2,
          2,
          2,
          2,
          3,
          3,
          3,
          3,
          3,
          3,
          3,
          3,
          3,
          3,
          3,
          3,
          3,
          3,
          3,
          3,
          3,
          4,
          4,
          4,
          4,
          4,
          4,
          4,
          4,
          4,
          4,
          4,
          4,
          4,
          4,
          4,
          4,
          4,
          4,
          4,
          5,
          5,
          5,
          5,
          5,
          5,
          5,
          6,
          6,
          10,
          10,
          10,
          10,
          11,
          11,
          12,
          14,
          14,
          14,
          15,
          15,
          16,
          16,
          16,
          17,
          18,
          20,
          20,
          20,
          21,
          22,
          22,
          23,
          23,
          23,
          23,
          23,
          23,
          25,
          25,
          25,
          26,
          26,
          26,
          26,
          27,
          27,
          27,
          27,
          28,
          28,
          30,
          31,
          33,
          34,
          34,
          34,
          34,
          34,
          37,
          37,
          39,
          39,
          40,
          40,
          43,
          45,
          46,
          46,
          47,
          48,
          48,
          49,
          49,
          50,
          50
         ]
        }
       ],
       "layout": {
        "height": 800,
        "template": {
         "data": {
          "bar": [
           {
            "error_x": {
             "color": "#2a3f5f"
            },
            "error_y": {
             "color": "#2a3f5f"
            },
            "marker": {
             "line": {
              "color": "#E5ECF6",
              "width": 0.5
             },
             "pattern": {
              "fillmode": "overlay",
              "size": 10,
              "solidity": 0.2
             }
            },
            "type": "bar"
           }
          ],
          "barpolar": [
           {
            "marker": {
             "line": {
              "color": "#E5ECF6",
              "width": 0.5
             },
             "pattern": {
              "fillmode": "overlay",
              "size": 10,
              "solidity": 0.2
             }
            },
            "type": "barpolar"
           }
          ],
          "carpet": [
           {
            "aaxis": {
             "endlinecolor": "#2a3f5f",
             "gridcolor": "white",
             "linecolor": "white",
             "minorgridcolor": "white",
             "startlinecolor": "#2a3f5f"
            },
            "baxis": {
             "endlinecolor": "#2a3f5f",
             "gridcolor": "white",
             "linecolor": "white",
             "minorgridcolor": "white",
             "startlinecolor": "#2a3f5f"
            },
            "type": "carpet"
           }
          ],
          "choropleth": [
           {
            "colorbar": {
             "outlinewidth": 0,
             "ticks": ""
            },
            "type": "choropleth"
           }
          ],
          "contour": [
           {
            "colorbar": {
             "outlinewidth": 0,
             "ticks": ""
            },
            "colorscale": [
             [
              0,
              "#0d0887"
             ],
             [
              0.1111111111111111,
              "#46039f"
             ],
             [
              0.2222222222222222,
              "#7201a8"
             ],
             [
              0.3333333333333333,
              "#9c179e"
             ],
             [
              0.4444444444444444,
              "#bd3786"
             ],
             [
              0.5555555555555556,
              "#d8576b"
             ],
             [
              0.6666666666666666,
              "#ed7953"
             ],
             [
              0.7777777777777778,
              "#fb9f3a"
             ],
             [
              0.8888888888888888,
              "#fdca26"
             ],
             [
              1,
              "#f0f921"
             ]
            ],
            "type": "contour"
           }
          ],
          "contourcarpet": [
           {
            "colorbar": {
             "outlinewidth": 0,
             "ticks": ""
            },
            "type": "contourcarpet"
           }
          ],
          "heatmap": [
           {
            "colorbar": {
             "outlinewidth": 0,
             "ticks": ""
            },
            "colorscale": [
             [
              0,
              "#0d0887"
             ],
             [
              0.1111111111111111,
              "#46039f"
             ],
             [
              0.2222222222222222,
              "#7201a8"
             ],
             [
              0.3333333333333333,
              "#9c179e"
             ],
             [
              0.4444444444444444,
              "#bd3786"
             ],
             [
              0.5555555555555556,
              "#d8576b"
             ],
             [
              0.6666666666666666,
              "#ed7953"
             ],
             [
              0.7777777777777778,
              "#fb9f3a"
             ],
             [
              0.8888888888888888,
              "#fdca26"
             ],
             [
              1,
              "#f0f921"
             ]
            ],
            "type": "heatmap"
           }
          ],
          "heatmapgl": [
           {
            "colorbar": {
             "outlinewidth": 0,
             "ticks": ""
            },
            "colorscale": [
             [
              0,
              "#0d0887"
             ],
             [
              0.1111111111111111,
              "#46039f"
             ],
             [
              0.2222222222222222,
              "#7201a8"
             ],
             [
              0.3333333333333333,
              "#9c179e"
             ],
             [
              0.4444444444444444,
              "#bd3786"
             ],
             [
              0.5555555555555556,
              "#d8576b"
             ],
             [
              0.6666666666666666,
              "#ed7953"
             ],
             [
              0.7777777777777778,
              "#fb9f3a"
             ],
             [
              0.8888888888888888,
              "#fdca26"
             ],
             [
              1,
              "#f0f921"
             ]
            ],
            "type": "heatmapgl"
           }
          ],
          "histogram": [
           {
            "marker": {
             "pattern": {
              "fillmode": "overlay",
              "size": 10,
              "solidity": 0.2
             }
            },
            "type": "histogram"
           }
          ],
          "histogram2d": [
           {
            "colorbar": {
             "outlinewidth": 0,
             "ticks": ""
            },
            "colorscale": [
             [
              0,
              "#0d0887"
             ],
             [
              0.1111111111111111,
              "#46039f"
             ],
             [
              0.2222222222222222,
              "#7201a8"
             ],
             [
              0.3333333333333333,
              "#9c179e"
             ],
             [
              0.4444444444444444,
              "#bd3786"
             ],
             [
              0.5555555555555556,
              "#d8576b"
             ],
             [
              0.6666666666666666,
              "#ed7953"
             ],
             [
              0.7777777777777778,
              "#fb9f3a"
             ],
             [
              0.8888888888888888,
              "#fdca26"
             ],
             [
              1,
              "#f0f921"
             ]
            ],
            "type": "histogram2d"
           }
          ],
          "histogram2dcontour": [
           {
            "colorbar": {
             "outlinewidth": 0,
             "ticks": ""
            },
            "colorscale": [
             [
              0,
              "#0d0887"
             ],
             [
              0.1111111111111111,
              "#46039f"
             ],
             [
              0.2222222222222222,
              "#7201a8"
             ],
             [
              0.3333333333333333,
              "#9c179e"
             ],
             [
              0.4444444444444444,
              "#bd3786"
             ],
             [
              0.5555555555555556,
              "#d8576b"
             ],
             [
              0.6666666666666666,
              "#ed7953"
             ],
             [
              0.7777777777777778,
              "#fb9f3a"
             ],
             [
              0.8888888888888888,
              "#fdca26"
             ],
             [
              1,
              "#f0f921"
             ]
            ],
            "type": "histogram2dcontour"
           }
          ],
          "mesh3d": [
           {
            "colorbar": {
             "outlinewidth": 0,
             "ticks": ""
            },
            "type": "mesh3d"
           }
          ],
          "parcoords": [
           {
            "line": {
             "colorbar": {
              "outlinewidth": 0,
              "ticks": ""
             }
            },
            "type": "parcoords"
           }
          ],
          "pie": [
           {
            "automargin": true,
            "type": "pie"
           }
          ],
          "scatter": [
           {
            "fillpattern": {
             "fillmode": "overlay",
             "size": 10,
             "solidity": 0.2
            },
            "type": "scatter"
           }
          ],
          "scatter3d": [
           {
            "line": {
             "colorbar": {
              "outlinewidth": 0,
              "ticks": ""
             }
            },
            "marker": {
             "colorbar": {
              "outlinewidth": 0,
              "ticks": ""
             }
            },
            "type": "scatter3d"
           }
          ],
          "scattercarpet": [
           {
            "marker": {
             "colorbar": {
              "outlinewidth": 0,
              "ticks": ""
             }
            },
            "type": "scattercarpet"
           }
          ],
          "scattergeo": [
           {
            "marker": {
             "colorbar": {
              "outlinewidth": 0,
              "ticks": ""
             }
            },
            "type": "scattergeo"
           }
          ],
          "scattergl": [
           {
            "marker": {
             "colorbar": {
              "outlinewidth": 0,
              "ticks": ""
             }
            },
            "type": "scattergl"
           }
          ],
          "scattermapbox": [
           {
            "marker": {
             "colorbar": {
              "outlinewidth": 0,
              "ticks": ""
             }
            },
            "type": "scattermapbox"
           }
          ],
          "scatterpolar": [
           {
            "marker": {
             "colorbar": {
              "outlinewidth": 0,
              "ticks": ""
             }
            },
            "type": "scatterpolar"
           }
          ],
          "scatterpolargl": [
           {
            "marker": {
             "colorbar": {
              "outlinewidth": 0,
              "ticks": ""
             }
            },
            "type": "scatterpolargl"
           }
          ],
          "scatterternary": [
           {
            "marker": {
             "colorbar": {
              "outlinewidth": 0,
              "ticks": ""
             }
            },
            "type": "scatterternary"
           }
          ],
          "surface": [
           {
            "colorbar": {
             "outlinewidth": 0,
             "ticks": ""
            },
            "colorscale": [
             [
              0,
              "#0d0887"
             ],
             [
              0.1111111111111111,
              "#46039f"
             ],
             [
              0.2222222222222222,
              "#7201a8"
             ],
             [
              0.3333333333333333,
              "#9c179e"
             ],
             [
              0.4444444444444444,
              "#bd3786"
             ],
             [
              0.5555555555555556,
              "#d8576b"
             ],
             [
              0.6666666666666666,
              "#ed7953"
             ],
             [
              0.7777777777777778,
              "#fb9f3a"
             ],
             [
              0.8888888888888888,
              "#fdca26"
             ],
             [
              1,
              "#f0f921"
             ]
            ],
            "type": "surface"
           }
          ],
          "table": [
           {
            "cells": {
             "fill": {
              "color": "#EBF0F8"
             },
             "line": {
              "color": "white"
             }
            },
            "header": {
             "fill": {
              "color": "#C8D4E3"
             },
             "line": {
              "color": "white"
             }
            },
            "type": "table"
           }
          ]
         },
         "layout": {
          "annotationdefaults": {
           "arrowcolor": "#2a3f5f",
           "arrowhead": 0,
           "arrowwidth": 1
          },
          "autotypenumbers": "strict",
          "coloraxis": {
           "colorbar": {
            "outlinewidth": 0,
            "ticks": ""
           }
          },
          "colorscale": {
           "diverging": [
            [
             0,
             "#8e0152"
            ],
            [
             0.1,
             "#c51b7d"
            ],
            [
             0.2,
             "#de77ae"
            ],
            [
             0.3,
             "#f1b6da"
            ],
            [
             0.4,
             "#fde0ef"
            ],
            [
             0.5,
             "#f7f7f7"
            ],
            [
             0.6,
             "#e6f5d0"
            ],
            [
             0.7,
             "#b8e186"
            ],
            [
             0.8,
             "#7fbc41"
            ],
            [
             0.9,
             "#4d9221"
            ],
            [
             1,
             "#276419"
            ]
           ],
           "sequential": [
            [
             0,
             "#0d0887"
            ],
            [
             0.1111111111111111,
             "#46039f"
            ],
            [
             0.2222222222222222,
             "#7201a8"
            ],
            [
             0.3333333333333333,
             "#9c179e"
            ],
            [
             0.4444444444444444,
             "#bd3786"
            ],
            [
             0.5555555555555556,
             "#d8576b"
            ],
            [
             0.6666666666666666,
             "#ed7953"
            ],
            [
             0.7777777777777778,
             "#fb9f3a"
            ],
            [
             0.8888888888888888,
             "#fdca26"
            ],
            [
             1,
             "#f0f921"
            ]
           ],
           "sequentialminus": [
            [
             0,
             "#0d0887"
            ],
            [
             0.1111111111111111,
             "#46039f"
            ],
            [
             0.2222222222222222,
             "#7201a8"
            ],
            [
             0.3333333333333333,
             "#9c179e"
            ],
            [
             0.4444444444444444,
             "#bd3786"
            ],
            [
             0.5555555555555556,
             "#d8576b"
            ],
            [
             0.6666666666666666,
             "#ed7953"
            ],
            [
             0.7777777777777778,
             "#fb9f3a"
            ],
            [
             0.8888888888888888,
             "#fdca26"
            ],
            [
             1,
             "#f0f921"
            ]
           ]
          },
          "colorway": [
           "#636efa",
           "#EF553B",
           "#00cc96",
           "#ab63fa",
           "#FFA15A",
           "#19d3f3",
           "#FF6692",
           "#B6E880",
           "#FF97FF",
           "#FECB52"
          ],
          "font": {
           "color": "#2a3f5f"
          },
          "geo": {
           "bgcolor": "white",
           "lakecolor": "white",
           "landcolor": "#E5ECF6",
           "showlakes": true,
           "showland": true,
           "subunitcolor": "white"
          },
          "hoverlabel": {
           "align": "left"
          },
          "hovermode": "closest",
          "mapbox": {
           "style": "light"
          },
          "paper_bgcolor": "white",
          "plot_bgcolor": "#E5ECF6",
          "polar": {
           "angularaxis": {
            "gridcolor": "white",
            "linecolor": "white",
            "ticks": ""
           },
           "bgcolor": "#E5ECF6",
           "radialaxis": {
            "gridcolor": "white",
            "linecolor": "white",
            "ticks": ""
           }
          },
          "scene": {
           "xaxis": {
            "backgroundcolor": "#E5ECF6",
            "gridcolor": "white",
            "gridwidth": 2,
            "linecolor": "white",
            "showbackground": true,
            "ticks": "",
            "zerolinecolor": "white"
           },
           "yaxis": {
            "backgroundcolor": "#E5ECF6",
            "gridcolor": "white",
            "gridwidth": 2,
            "linecolor": "white",
            "showbackground": true,
            "ticks": "",
            "zerolinecolor": "white"
           },
           "zaxis": {
            "backgroundcolor": "#E5ECF6",
            "gridcolor": "white",
            "gridwidth": 2,
            "linecolor": "white",
            "showbackground": true,
            "ticks": "",
            "zerolinecolor": "white"
           }
          },
          "shapedefaults": {
           "line": {
            "color": "#2a3f5f"
           }
          },
          "ternary": {
           "aaxis": {
            "gridcolor": "white",
            "linecolor": "white",
            "ticks": ""
           },
           "baxis": {
            "gridcolor": "white",
            "linecolor": "white",
            "ticks": ""
           },
           "bgcolor": "#E5ECF6",
           "caxis": {
            "gridcolor": "white",
            "linecolor": "white",
            "ticks": ""
           }
          },
          "title": {
           "x": 0.05
          },
          "xaxis": {
           "automargin": true,
           "gridcolor": "white",
           "linecolor": "white",
           "ticks": "",
           "title": {
            "standoff": 15
           },
           "zerolinecolor": "white",
           "zerolinewidth": 2
          },
          "yaxis": {
           "automargin": true,
           "gridcolor": "white",
           "linecolor": "white",
           "ticks": "",
           "title": {
            "standoff": 15
           },
           "zerolinecolor": "white",
           "zerolinewidth": 2
          }
         }
        },
        "width": 800,
        "xaxis": {
         "title": {
          "text": "year"
         }
        },
        "yaxis": {
         "title": {
          "text": "cumulative prizes"
         }
        }
       }
      }
     },
     "metadata": {},
     "output_type": "display_data"
    }
   ],
   "source": [
    "import plotly.graph_objects as go\n",
    "\n",
    "regions = [\n",
    "    {\"label\": \"N. America\", \"countries\": [\"United States\", \"Canada\"]},\n",
    "    {\"label\": \"Europe\", \"countries\": [\"United Kingdom\", \"Germany\", \"France\"]},\n",
    "    {\"label\": \"Asia\", \"countries\": [\"Japan\", \"Russia and Soviet Union\", \"India\"]},\n",
    "]\n",
    "\n",
    "traces = []\n",
    "for region in regions:\n",
    "    name = region[\"label\"]\n",
    "    traces.append(\n",
    "        go.Scatter(\n",
    "            x=df_regions.index,\n",
    "            y=df_regions[name],\n",
    "            name=name,\n",
    "            mode=\"lines\",\n",
    "            hovertemplate=f\"{name}<br>%{{x}}<br>$%{{y}}<extra></extra>\",\n",
    "            line=dict(dash=[\"solid\", \"dash\", \"dot\"][len(traces)]),\n",
    "        )\n",
    "    )\n",
    "\n",
    "layout=go.Layout(height=800,width=800,xaxis_title='year',yaxis_title='cumulative prizes')\n",
    "fig = go.Figure(traces,layout)\n",
    "fig.show()"
   ]
  },
  {
   "cell_type": "code",
   "execution_count": 12,
   "metadata": {},
   "outputs": [
    {
     "data": {
      "text/plain": [
       "country        category              \n",
       "Argentina      Chemistry                   1\n",
       "               Peace                       2\n",
       "               Physiology or Medicine      1\n",
       "Australia      Literature                  1\n",
       "               Physics                     4\n",
       "                                        ... \n",
       "United States  Physics                    99\n",
       "               Physiology or Medicine    109\n",
       "Vietnam        Peace                       1\n",
       "Yemen          Peace                       1\n",
       "Yugoslavia     Literature                  1\n",
       "Length: 168, dtype: int64"
      ]
     },
     "execution_count": 12,
     "metadata": {},
     "output_type": "execute_result"
    }
   ],
   "source": [
    "df_countries_category = df.groupby(['country','category']).size()\n",
    "df_countries_category"
   ]
  },
  {
   "cell_type": "code",
   "execution_count": 13,
   "metadata": {},
   "outputs": [
    {
     "data": {
      "text/html": [
       "<div>\n",
       "<style scoped>\n",
       "    .dataframe tbody tr th:only-of-type {\n",
       "        vertical-align: middle;\n",
       "    }\n",
       "\n",
       "    .dataframe tbody tr th {\n",
       "        vertical-align: top;\n",
       "    }\n",
       "\n",
       "    .dataframe thead th {\n",
       "        text-align: right;\n",
       "    }\n",
       "</style>\n",
       "<table border=\"1\" class=\"dataframe\">\n",
       "  <thead>\n",
       "    <tr style=\"text-align: right;\">\n",
       "      <th>category</th>\n",
       "      <th>Chemistry</th>\n",
       "      <th>Economics</th>\n",
       "      <th>Literature</th>\n",
       "      <th>Peace</th>\n",
       "      <th>Physics</th>\n",
       "      <th>Physiology or Medicine</th>\n",
       "    </tr>\n",
       "    <tr>\n",
       "      <th>country</th>\n",
       "      <th></th>\n",
       "      <th></th>\n",
       "      <th></th>\n",
       "      <th></th>\n",
       "      <th></th>\n",
       "      <th></th>\n",
       "    </tr>\n",
       "  </thead>\n",
       "  <tbody>\n",
       "    <tr>\n",
       "      <th>Argentina</th>\n",
       "      <td>1.0</td>\n",
       "      <td>NaN</td>\n",
       "      <td>NaN</td>\n",
       "      <td>2.0</td>\n",
       "      <td>NaN</td>\n",
       "      <td>1.0</td>\n",
       "    </tr>\n",
       "    <tr>\n",
       "      <th>Australia</th>\n",
       "      <td>NaN</td>\n",
       "      <td>NaN</td>\n",
       "      <td>1.0</td>\n",
       "      <td>NaN</td>\n",
       "      <td>4.0</td>\n",
       "      <td>7.0</td>\n",
       "    </tr>\n",
       "    <tr>\n",
       "      <th>Austria</th>\n",
       "      <td>1.0</td>\n",
       "      <td>1.0</td>\n",
       "      <td>2.0</td>\n",
       "      <td>2.0</td>\n",
       "      <td>4.0</td>\n",
       "      <td>4.0</td>\n",
       "    </tr>\n",
       "    <tr>\n",
       "      <th>Bangladesh</th>\n",
       "      <td>NaN</td>\n",
       "      <td>NaN</td>\n",
       "      <td>NaN</td>\n",
       "      <td>1.0</td>\n",
       "      <td>NaN</td>\n",
       "      <td>NaN</td>\n",
       "    </tr>\n",
       "    <tr>\n",
       "      <th>Belarus</th>\n",
       "      <td>NaN</td>\n",
       "      <td>NaN</td>\n",
       "      <td>1.0</td>\n",
       "      <td>1.0</td>\n",
       "      <td>NaN</td>\n",
       "      <td>NaN</td>\n",
       "    </tr>\n",
       "    <tr>\n",
       "      <th>...</th>\n",
       "      <td>...</td>\n",
       "      <td>...</td>\n",
       "      <td>...</td>\n",
       "      <td>...</td>\n",
       "      <td>...</td>\n",
       "      <td>...</td>\n",
       "    </tr>\n",
       "    <tr>\n",
       "      <th>United Kingdom</th>\n",
       "      <td>29.0</td>\n",
       "      <td>9.0</td>\n",
       "      <td>13.0</td>\n",
       "      <td>9.0</td>\n",
       "      <td>23.0</td>\n",
       "      <td>32.0</td>\n",
       "    </tr>\n",
       "    <tr>\n",
       "      <th>United States</th>\n",
       "      <td>77.0</td>\n",
       "      <td>65.0</td>\n",
       "      <td>12.0</td>\n",
       "      <td>21.0</td>\n",
       "      <td>99.0</td>\n",
       "      <td>109.0</td>\n",
       "    </tr>\n",
       "    <tr>\n",
       "      <th>Vietnam</th>\n",
       "      <td>NaN</td>\n",
       "      <td>NaN</td>\n",
       "      <td>NaN</td>\n",
       "      <td>1.0</td>\n",
       "      <td>NaN</td>\n",
       "      <td>NaN</td>\n",
       "    </tr>\n",
       "    <tr>\n",
       "      <th>Yemen</th>\n",
       "      <td>NaN</td>\n",
       "      <td>NaN</td>\n",
       "      <td>NaN</td>\n",
       "      <td>1.0</td>\n",
       "      <td>NaN</td>\n",
       "      <td>NaN</td>\n",
       "    </tr>\n",
       "    <tr>\n",
       "      <th>Yugoslavia</th>\n",
       "      <td>NaN</td>\n",
       "      <td>NaN</td>\n",
       "      <td>1.0</td>\n",
       "      <td>NaN</td>\n",
       "      <td>NaN</td>\n",
       "      <td>NaN</td>\n",
       "    </tr>\n",
       "  </tbody>\n",
       "</table>\n",
       "<p>63 rows × 6 columns</p>\n",
       "</div>"
      ],
      "text/plain": [
       "category        Chemistry  Economics  Literature  Peace  Physics  \\\n",
       "country                                                            \n",
       "Argentina             1.0        NaN         NaN    2.0      NaN   \n",
       "Australia             NaN        NaN         1.0    NaN      4.0   \n",
       "Austria               1.0        1.0         2.0    2.0      4.0   \n",
       "Bangladesh            NaN        NaN         NaN    1.0      NaN   \n",
       "Belarus               NaN        NaN         1.0    1.0      NaN   \n",
       "...                   ...        ...         ...    ...      ...   \n",
       "United Kingdom       29.0        9.0        13.0    9.0     23.0   \n",
       "United States        77.0       65.0        12.0   21.0     99.0   \n",
       "Vietnam               NaN        NaN         NaN    1.0      NaN   \n",
       "Yemen                 NaN        NaN         NaN    1.0      NaN   \n",
       "Yugoslavia            NaN        NaN         1.0    NaN      NaN   \n",
       "\n",
       "category        Physiology or Medicine  \n",
       "country                                 \n",
       "Argentina                          1.0  \n",
       "Australia                          7.0  \n",
       "Austria                            4.0  \n",
       "Bangladesh                         NaN  \n",
       "Belarus                            NaN  \n",
       "...                                ...  \n",
       "United Kingdom                    32.0  \n",
       "United States                    109.0  \n",
       "Vietnam                            NaN  \n",
       "Yemen                              NaN  \n",
       "Yugoslavia                         NaN  \n",
       "\n",
       "[63 rows x 6 columns]"
      ]
     },
     "execution_count": 13,
     "metadata": {},
     "output_type": "execute_result"
    }
   ],
   "source": [
    "df_country_category = df.groupby(['country','category']).size().unstack()\n",
    "df_country_category"
   ]
  },
  {
   "cell_type": "code",
   "execution_count": 14,
   "metadata": {},
   "outputs": [
    {
     "data": {
      "text/html": [
       "<div>\n",
       "<style scoped>\n",
       "    .dataframe tbody tr th:only-of-type {\n",
       "        vertical-align: middle;\n",
       "    }\n",
       "\n",
       "    .dataframe tbody tr th {\n",
       "        vertical-align: top;\n",
       "    }\n",
       "\n",
       "    .dataframe thead th {\n",
       "        text-align: right;\n",
       "    }\n",
       "</style>\n",
       "<table border=\"1\" class=\"dataframe\">\n",
       "  <thead>\n",
       "    <tr style=\"text-align: right;\">\n",
       "      <th>category</th>\n",
       "      <th>Chemistry</th>\n",
       "      <th>Economics</th>\n",
       "      <th>Literature</th>\n",
       "      <th>Peace</th>\n",
       "      <th>Physics</th>\n",
       "      <th>Physiology or Medicine</th>\n",
       "      <th>Total</th>\n",
       "    </tr>\n",
       "    <tr>\n",
       "      <th>country</th>\n",
       "      <th></th>\n",
       "      <th></th>\n",
       "      <th></th>\n",
       "      <th></th>\n",
       "      <th></th>\n",
       "      <th></th>\n",
       "      <th></th>\n",
       "    </tr>\n",
       "  </thead>\n",
       "  <tbody>\n",
       "    <tr>\n",
       "      <th>Argentina</th>\n",
       "      <td>1.0</td>\n",
       "      <td>NaN</td>\n",
       "      <td>NaN</td>\n",
       "      <td>2.0</td>\n",
       "      <td>NaN</td>\n",
       "      <td>1.0</td>\n",
       "      <td>4.0</td>\n",
       "    </tr>\n",
       "    <tr>\n",
       "      <th>Australia</th>\n",
       "      <td>NaN</td>\n",
       "      <td>NaN</td>\n",
       "      <td>1.0</td>\n",
       "      <td>NaN</td>\n",
       "      <td>4.0</td>\n",
       "      <td>7.0</td>\n",
       "      <td>12.0</td>\n",
       "    </tr>\n",
       "    <tr>\n",
       "      <th>Austria</th>\n",
       "      <td>1.0</td>\n",
       "      <td>1.0</td>\n",
       "      <td>2.0</td>\n",
       "      <td>2.0</td>\n",
       "      <td>4.0</td>\n",
       "      <td>4.0</td>\n",
       "      <td>14.0</td>\n",
       "    </tr>\n",
       "  </tbody>\n",
       "</table>\n",
       "</div>"
      ],
      "text/plain": [
       "category   Chemistry  Economics  Literature  Peace  Physics  \\\n",
       "country                                                       \n",
       "Argentina        1.0        NaN         NaN    2.0      NaN   \n",
       "Australia        NaN        NaN         1.0    NaN      4.0   \n",
       "Austria          1.0        1.0         2.0    2.0      4.0   \n",
       "\n",
       "category   Physiology or Medicine  Total  \n",
       "country                                   \n",
       "Argentina                     1.0    4.0  \n",
       "Australia                     7.0   12.0  \n",
       "Austria                       4.0   14.0  "
      ]
     },
     "execution_count": 14,
     "metadata": {},
     "output_type": "execute_result"
    }
   ],
   "source": [
    "df_country_category['Total'] = df_country_category.sum(1)\n",
    "df_country_category.head(3)"
   ]
  },
  {
   "cell_type": "code",
   "execution_count": 15,
   "metadata": {},
   "outputs": [
    {
     "data": {
      "text/html": [
       "<div>\n",
       "<style scoped>\n",
       "    .dataframe tbody tr th:only-of-type {\n",
       "        vertical-align: middle;\n",
       "    }\n",
       "\n",
       "    .dataframe tbody tr th {\n",
       "        vertical-align: top;\n",
       "    }\n",
       "\n",
       "    .dataframe thead th {\n",
       "        text-align: right;\n",
       "    }\n",
       "</style>\n",
       "<table border=\"1\" class=\"dataframe\">\n",
       "  <thead>\n",
       "    <tr style=\"text-align: right;\">\n",
       "      <th>category</th>\n",
       "      <th>Chemistry</th>\n",
       "      <th>Economics</th>\n",
       "      <th>Literature</th>\n",
       "      <th>Peace</th>\n",
       "      <th>Physics</th>\n",
       "      <th>Physiology or Medicine</th>\n",
       "      <th>Total</th>\n",
       "    </tr>\n",
       "    <tr>\n",
       "      <th>country</th>\n",
       "      <th></th>\n",
       "      <th></th>\n",
       "      <th></th>\n",
       "      <th></th>\n",
       "      <th></th>\n",
       "      <th></th>\n",
       "      <th></th>\n",
       "    </tr>\n",
       "  </thead>\n",
       "  <tbody>\n",
       "    <tr>\n",
       "      <th>Argentina</th>\n",
       "      <td>1.0</td>\n",
       "      <td>NaN</td>\n",
       "      <td>NaN</td>\n",
       "      <td>2.0</td>\n",
       "      <td>NaN</td>\n",
       "      <td>1.0</td>\n",
       "      <td>4.0</td>\n",
       "    </tr>\n",
       "    <tr>\n",
       "      <th>Australia</th>\n",
       "      <td>NaN</td>\n",
       "      <td>NaN</td>\n",
       "      <td>1.0</td>\n",
       "      <td>NaN</td>\n",
       "      <td>4.0</td>\n",
       "      <td>7.0</td>\n",
       "      <td>12.0</td>\n",
       "    </tr>\n",
       "    <tr>\n",
       "      <th>Austria</th>\n",
       "      <td>1.0</td>\n",
       "      <td>1.0</td>\n",
       "      <td>2.0</td>\n",
       "      <td>2.0</td>\n",
       "      <td>4.0</td>\n",
       "      <td>4.0</td>\n",
       "      <td>14.0</td>\n",
       "    </tr>\n",
       "    <tr>\n",
       "      <th>Belgium</th>\n",
       "      <td>1.0</td>\n",
       "      <td>NaN</td>\n",
       "      <td>1.0</td>\n",
       "      <td>3.0</td>\n",
       "      <td>1.0</td>\n",
       "      <td>4.0</td>\n",
       "      <td>10.0</td>\n",
       "    </tr>\n",
       "    <tr>\n",
       "      <th>Canada</th>\n",
       "      <td>2.0</td>\n",
       "      <td>2.0</td>\n",
       "      <td>1.0</td>\n",
       "      <td>1.0</td>\n",
       "      <td>4.0</td>\n",
       "      <td>2.0</td>\n",
       "      <td>12.0</td>\n",
       "    </tr>\n",
       "    <tr>\n",
       "      <th>China (People's Republic of China)</th>\n",
       "      <td>NaN</td>\n",
       "      <td>NaN</td>\n",
       "      <td>1.0</td>\n",
       "      <td>1.0</td>\n",
       "      <td>NaN</td>\n",
       "      <td>1.0</td>\n",
       "      <td>3.0</td>\n",
       "    </tr>\n",
       "    <tr>\n",
       "      <th>Denmark</th>\n",
       "      <td>2.0</td>\n",
       "      <td>NaN</td>\n",
       "      <td>3.0</td>\n",
       "      <td>1.0</td>\n",
       "      <td>3.0</td>\n",
       "      <td>5.0</td>\n",
       "      <td>14.0</td>\n",
       "    </tr>\n",
       "    <tr>\n",
       "      <th>Egypt</th>\n",
       "      <td>1.0</td>\n",
       "      <td>NaN</td>\n",
       "      <td>1.0</td>\n",
       "      <td>2.0</td>\n",
       "      <td>NaN</td>\n",
       "      <td>NaN</td>\n",
       "      <td>4.0</td>\n",
       "    </tr>\n",
       "    <tr>\n",
       "      <th>France</th>\n",
       "      <td>11.0</td>\n",
       "      <td>3.0</td>\n",
       "      <td>17.0</td>\n",
       "      <td>10.0</td>\n",
       "      <td>15.0</td>\n",
       "      <td>12.0</td>\n",
       "      <td>68.0</td>\n",
       "    </tr>\n",
       "    <tr>\n",
       "      <th>Germany</th>\n",
       "      <td>30.0</td>\n",
       "      <td>1.0</td>\n",
       "      <td>8.0</td>\n",
       "      <td>4.0</td>\n",
       "      <td>24.0</td>\n",
       "      <td>15.0</td>\n",
       "      <td>82.0</td>\n",
       "    </tr>\n",
       "    <tr>\n",
       "      <th>Hungary</th>\n",
       "      <td>3.0</td>\n",
       "      <td>NaN</td>\n",
       "      <td>1.0</td>\n",
       "      <td>NaN</td>\n",
       "      <td>2.0</td>\n",
       "      <td>1.0</td>\n",
       "      <td>7.0</td>\n",
       "    </tr>\n",
       "    <tr>\n",
       "      <th>India</th>\n",
       "      <td>NaN</td>\n",
       "      <td>1.0</td>\n",
       "      <td>1.0</td>\n",
       "      <td>2.0</td>\n",
       "      <td>1.0</td>\n",
       "      <td>NaN</td>\n",
       "      <td>5.0</td>\n",
       "    </tr>\n",
       "    <tr>\n",
       "      <th>Ireland</th>\n",
       "      <td>NaN</td>\n",
       "      <td>NaN</td>\n",
       "      <td>3.0</td>\n",
       "      <td>4.0</td>\n",
       "      <td>1.0</td>\n",
       "      <td>1.0</td>\n",
       "      <td>9.0</td>\n",
       "    </tr>\n",
       "    <tr>\n",
       "      <th>Israel</th>\n",
       "      <td>5.0</td>\n",
       "      <td>2.0</td>\n",
       "      <td>1.0</td>\n",
       "      <td>3.0</td>\n",
       "      <td>NaN</td>\n",
       "      <td>NaN</td>\n",
       "      <td>11.0</td>\n",
       "    </tr>\n",
       "    <tr>\n",
       "      <th>Italy</th>\n",
       "      <td>1.0</td>\n",
       "      <td>NaN</td>\n",
       "      <td>6.0</td>\n",
       "      <td>1.0</td>\n",
       "      <td>4.0</td>\n",
       "      <td>2.0</td>\n",
       "      <td>14.0</td>\n",
       "    </tr>\n",
       "    <tr>\n",
       "      <th>Japan</th>\n",
       "      <td>8.0</td>\n",
       "      <td>NaN</td>\n",
       "      <td>2.0</td>\n",
       "      <td>1.0</td>\n",
       "      <td>9.0</td>\n",
       "      <td>5.0</td>\n",
       "      <td>25.0</td>\n",
       "    </tr>\n",
       "    <tr>\n",
       "      <th>Netherlands</th>\n",
       "      <td>3.0</td>\n",
       "      <td>2.0</td>\n",
       "      <td>NaN</td>\n",
       "      <td>1.0</td>\n",
       "      <td>9.0</td>\n",
       "      <td>2.0</td>\n",
       "      <td>17.0</td>\n",
       "    </tr>\n",
       "    <tr>\n",
       "      <th>Norway</th>\n",
       "      <td>1.0</td>\n",
       "      <td>3.0</td>\n",
       "      <td>4.0</td>\n",
       "      <td>2.0</td>\n",
       "      <td>1.0</td>\n",
       "      <td>2.0</td>\n",
       "      <td>13.0</td>\n",
       "    </tr>\n",
       "    <tr>\n",
       "      <th>Poland</th>\n",
       "      <td>NaN</td>\n",
       "      <td>NaN</td>\n",
       "      <td>4.0</td>\n",
       "      <td>1.0</td>\n",
       "      <td>1.0</td>\n",
       "      <td>NaN</td>\n",
       "      <td>6.0</td>\n",
       "    </tr>\n",
       "    <tr>\n",
       "      <th>Russia</th>\n",
       "      <td>2.0</td>\n",
       "      <td>1.0</td>\n",
       "      <td>4.0</td>\n",
       "      <td>3.0</td>\n",
       "      <td>8.0</td>\n",
       "      <td>2.0</td>\n",
       "      <td>20.0</td>\n",
       "    </tr>\n",
       "    <tr>\n",
       "      <th>South Africa</th>\n",
       "      <td>NaN</td>\n",
       "      <td>NaN</td>\n",
       "      <td>2.0</td>\n",
       "      <td>4.0</td>\n",
       "      <td>NaN</td>\n",
       "      <td>1.0</td>\n",
       "      <td>7.0</td>\n",
       "    </tr>\n",
       "    <tr>\n",
       "      <th>Spain</th>\n",
       "      <td>NaN</td>\n",
       "      <td>NaN</td>\n",
       "      <td>6.0</td>\n",
       "      <td>NaN</td>\n",
       "      <td>NaN</td>\n",
       "      <td>1.0</td>\n",
       "      <td>7.0</td>\n",
       "    </tr>\n",
       "    <tr>\n",
       "      <th>Sweden</th>\n",
       "      <td>5.0</td>\n",
       "      <td>2.0</td>\n",
       "      <td>8.0</td>\n",
       "      <td>5.0</td>\n",
       "      <td>5.0</td>\n",
       "      <td>9.0</td>\n",
       "      <td>34.0</td>\n",
       "    </tr>\n",
       "    <tr>\n",
       "      <th>Switzerland</th>\n",
       "      <td>5.0</td>\n",
       "      <td>NaN</td>\n",
       "      <td>2.0</td>\n",
       "      <td>2.0</td>\n",
       "      <td>5.0</td>\n",
       "      <td>7.0</td>\n",
       "      <td>21.0</td>\n",
       "    </tr>\n",
       "    <tr>\n",
       "      <th>United Kingdom</th>\n",
       "      <td>29.0</td>\n",
       "      <td>9.0</td>\n",
       "      <td>13.0</td>\n",
       "      <td>9.0</td>\n",
       "      <td>23.0</td>\n",
       "      <td>32.0</td>\n",
       "      <td>115.0</td>\n",
       "    </tr>\n",
       "    <tr>\n",
       "      <th>United States</th>\n",
       "      <td>77.0</td>\n",
       "      <td>65.0</td>\n",
       "      <td>12.0</td>\n",
       "      <td>21.0</td>\n",
       "      <td>99.0</td>\n",
       "      <td>109.0</td>\n",
       "      <td>383.0</td>\n",
       "    </tr>\n",
       "  </tbody>\n",
       "</table>\n",
       "</div>"
      ],
      "text/plain": [
       "category                            Chemistry  Economics  Literature  Peace  \\\n",
       "country                                                                       \n",
       "Argentina                                 1.0        NaN         NaN    2.0   \n",
       "Australia                                 NaN        NaN         1.0    NaN   \n",
       "Austria                                   1.0        1.0         2.0    2.0   \n",
       "Belgium                                   1.0        NaN         1.0    3.0   \n",
       "Canada                                    2.0        2.0         1.0    1.0   \n",
       "China (People's Republic of China)        NaN        NaN         1.0    1.0   \n",
       "Denmark                                   2.0        NaN         3.0    1.0   \n",
       "Egypt                                     1.0        NaN         1.0    2.0   \n",
       "France                                   11.0        3.0        17.0   10.0   \n",
       "Germany                                  30.0        1.0         8.0    4.0   \n",
       "Hungary                                   3.0        NaN         1.0    NaN   \n",
       "India                                     NaN        1.0         1.0    2.0   \n",
       "Ireland                                   NaN        NaN         3.0    4.0   \n",
       "Israel                                    5.0        2.0         1.0    3.0   \n",
       "Italy                                     1.0        NaN         6.0    1.0   \n",
       "Japan                                     8.0        NaN         2.0    1.0   \n",
       "Netherlands                               3.0        2.0         NaN    1.0   \n",
       "Norway                                    1.0        3.0         4.0    2.0   \n",
       "Poland                                    NaN        NaN         4.0    1.0   \n",
       "Russia                                    2.0        1.0         4.0    3.0   \n",
       "South Africa                              NaN        NaN         2.0    4.0   \n",
       "Spain                                     NaN        NaN         6.0    NaN   \n",
       "Sweden                                    5.0        2.0         8.0    5.0   \n",
       "Switzerland                               5.0        NaN         2.0    2.0   \n",
       "United Kingdom                           29.0        9.0        13.0    9.0   \n",
       "United States                            77.0       65.0        12.0   21.0   \n",
       "\n",
       "category                            Physics  Physiology or Medicine  Total  \n",
       "country                                                                     \n",
       "Argentina                               NaN                     1.0    4.0  \n",
       "Australia                               4.0                     7.0   12.0  \n",
       "Austria                                 4.0                     4.0   14.0  \n",
       "Belgium                                 1.0                     4.0   10.0  \n",
       "Canada                                  4.0                     2.0   12.0  \n",
       "China (People's Republic of China)      NaN                     1.0    3.0  \n",
       "Denmark                                 3.0                     5.0   14.0  \n",
       "Egypt                                   NaN                     NaN    4.0  \n",
       "France                                 15.0                    12.0   68.0  \n",
       "Germany                                24.0                    15.0   82.0  \n",
       "Hungary                                 2.0                     1.0    7.0  \n",
       "India                                   1.0                     NaN    5.0  \n",
       "Ireland                                 1.0                     1.0    9.0  \n",
       "Israel                                  NaN                     NaN   11.0  \n",
       "Italy                                   4.0                     2.0   14.0  \n",
       "Japan                                   9.0                     5.0   25.0  \n",
       "Netherlands                             9.0                     2.0   17.0  \n",
       "Norway                                  1.0                     2.0   13.0  \n",
       "Poland                                  1.0                     NaN    6.0  \n",
       "Russia                                  8.0                     2.0   20.0  \n",
       "South Africa                            NaN                     1.0    7.0  \n",
       "Spain                                   NaN                     1.0    7.0  \n",
       "Sweden                                  5.0                     9.0   34.0  \n",
       "Switzerland                             5.0                     7.0   21.0  \n",
       "United Kingdom                         23.0                    32.0  115.0  \n",
       "United States                          99.0                   109.0  383.0  "
      ]
     },
     "execution_count": 15,
     "metadata": {},
     "output_type": "execute_result"
    }
   ],
   "source": [
    "df_country_category = df_country_category.loc[df_country_category.Total >2].copy()\n",
    "df_country_category"
   ]
  },
  {
   "cell_type": "code",
   "execution_count": 16,
   "metadata": {},
   "outputs": [
    {
     "name": "stdout",
     "output_type": "stream",
     "text": [
      "Requirement already satisfied: geopy in /home/filipe/anaconda3/lib/python3.11/site-packages (2.4.1)\n",
      "Requirement already satisfied: geographiclib<3,>=1.52 in /home/filipe/anaconda3/lib/python3.11/site-packages (from geopy) (2.0)\n"
     ]
    }
   ],
   "source": [
    "! pip install geopy"
   ]
  },
  {
   "cell_type": "code",
   "execution_count": 17,
   "metadata": {},
   "outputs": [
    {
     "name": "stdout",
     "output_type": "stream",
     "text": [
      "Name Argentina\n",
      "Coordes :(-34.9964963, -64.9672817)\n",
      "Raw details :{'place_id': 49181870, 'licence': 'Data © OpenStreetMap contributors, ODbL 1.0. http://osm.org/copyright', 'osm_type': 'relation', 'osm_id': 286393, 'lat': '-34.9964963', 'lon': '-64.9672817', 'class': 'boundary', 'type': 'administrative', 'place_rank': 4, 'importance': 0.8101041945616906, 'addresstype': 'country', 'name': 'Argentina', 'display_name': 'Argentina', 'boundingbox': ['-55.1925709', '-21.7808568', '-73.5605371', '-53.6374515']}\n",
      "Name Australia\n",
      "Coordes :(-24.7761086, 134.755)\n",
      "Raw details :{'place_id': 59847876, 'licence': 'Data © OpenStreetMap contributors, ODbL 1.0. http://osm.org/copyright', 'osm_type': 'relation', 'osm_id': 80500, 'lat': '-24.7761086', 'lon': '134.755', 'class': 'boundary', 'type': 'administrative', 'place_rank': 4, 'importance': 0.8521350639151115, 'addresstype': 'country', 'name': 'Australia', 'display_name': 'Australia', 'boundingbox': ['-55.3228175', '-9.0880125', '72.2461932', '168.2261259']}\n",
      "Name Austria\n",
      "Coordes :(47.59397, 14.12456)\n",
      "Raw details :{'place_id': 90580773, 'licence': 'Data © OpenStreetMap contributors, ODbL 1.0. http://osm.org/copyright', 'osm_type': 'relation', 'osm_id': 16239, 'lat': '47.59397', 'lon': '14.12456', 'class': 'boundary', 'type': 'administrative', 'place_rank': 4, 'importance': 0.8230438741641259, 'addresstype': 'country', 'name': 'Österreich', 'display_name': 'Österreich', 'boundingbox': ['46.3722987', '49.0205249', '9.5307487', '17.1607728']}\n",
      "Name Belgium\n",
      "Coordes :(50.6402809, 4.6667145)\n",
      "Raw details :{'place_id': 122294530, 'licence': 'Data © OpenStreetMap contributors, ODbL 1.0. http://osm.org/copyright', 'osm_type': 'relation', 'osm_id': 52411, 'lat': '50.6402809', 'lon': '4.6667145', 'class': 'boundary', 'type': 'administrative', 'place_rank': 4, 'importance': 0.8190605523573009, 'addresstype': 'country', 'name': 'België / Belgique / Belgien', 'display_name': 'België / Belgique / Belgien', 'boundingbox': ['49.4969821', '51.5507810', '2.3889137', '6.4080970']}\n",
      "Name Canada\n",
      "Coordes :(61.0666922, -107.991707)\n",
      "Raw details :{'place_id': 29879602, 'licence': 'Data © OpenStreetMap contributors, ODbL 1.0. http://osm.org/copyright', 'osm_type': 'relation', 'osm_id': 1428125, 'lat': '61.0666922', 'lon': '-107.991707', 'class': 'boundary', 'type': 'administrative', 'place_rank': 4, 'importance': 0.8661259109654083, 'addresstype': 'country', 'name': 'Canada', 'display_name': 'Canada', 'boundingbox': ['41.6765556', '83.3362128', '-141.0027500', '-52.3237664']}\n"
     ]
    }
   ],
   "source": [
    "from geopy.geocoders import Nominatim\n",
    "\n",
    "geolocator=Nominatim(user_agent='nobel_prize_app')\n",
    "\n",
    "for name in df_country_category.index[:5]:\n",
    "    location = geolocator.geocode(name)\n",
    "    print(f'Name {name}')\n",
    "    print(f'Coordes :{location.latitude,location.longitude}')\n",
    "    print(f'Raw details :{location.raw}')"
   ]
  },
  {
   "cell_type": "code",
   "execution_count": 18,
   "metadata": {},
   "outputs": [],
   "source": [
    "lats = {}\n",
    "longs = {}\n",
    "for name in df_country_category.index:\n",
    "    location=geolocator.geocode(name)\n",
    "    if location:\n",
    "        lats[name]=location.latitude\n",
    "        longs[name]=location.longitude\n",
    "    else:\n",
    "        print(f'No coords for {name}')"
   ]
  },
  {
   "cell_type": "code",
   "execution_count": 19,
   "metadata": {},
   "outputs": [
    {
     "data": {
      "text/plain": [
       "{'Argentina': -34.9964963,\n",
       " 'Australia': -24.7761086,\n",
       " 'Austria': 47.59397,\n",
       " 'Belgium': 50.6402809,\n",
       " 'Canada': 61.0666922,\n",
       " \"China (People's Republic of China)\": 35.000074,\n",
       " 'Denmark': 55.670249,\n",
       " 'Egypt': 26.2540493,\n",
       " 'France': 46.603354,\n",
       " 'Germany': 51.1638175,\n",
       " 'Hungary': 47.1817585,\n",
       " 'India': 22.3511148,\n",
       " 'Ireland': 52.865196,\n",
       " 'Israel': 30.8124247,\n",
       " 'Italy': 42.6384261,\n",
       " 'Japan': 36.5748441,\n",
       " 'Netherlands': 52.2434979,\n",
       " 'Norway': 64.5731537,\n",
       " 'Poland': 52.215933,\n",
       " 'Russia': 64.6863136,\n",
       " 'South Africa': -28.8166236,\n",
       " 'Spain': 39.3260685,\n",
       " 'Sweden': 59.6749712,\n",
       " 'Switzerland': 46.7985624,\n",
       " 'United Kingdom': 54.7023545,\n",
       " 'United States': 39.7837304}"
      ]
     },
     "execution_count": 19,
     "metadata": {},
     "output_type": "execute_result"
    }
   ],
   "source": [
    "lats"
   ]
  },
  {
   "cell_type": "code",
   "execution_count": 20,
   "metadata": {},
   "outputs": [
    {
     "data": {
      "text/plain": [
       "{'Argentina': -64.9672817,\n",
       " 'Australia': 134.755,\n",
       " 'Austria': 14.12456,\n",
       " 'Belgium': 4.6667145,\n",
       " 'Canada': -107.991707,\n",
       " \"China (People's Republic of China)\": 104.999927,\n",
       " 'Denmark': 10.3333283,\n",
       " 'Egypt': 29.2675469,\n",
       " 'France': 1.8883335,\n",
       " 'Germany': 10.4478313,\n",
       " 'Hungary': 19.5060937,\n",
       " 'India': 78.6677428,\n",
       " 'Ireland': -7.9794599,\n",
       " 'Israel': 34.8594762,\n",
       " 'Italy': 12.674297,\n",
       " 'Japan': 139.2394179,\n",
       " 'Netherlands': 5.6343227,\n",
       " 'Norway': 11.52803643954819,\n",
       " 'Poland': 19.134422,\n",
       " 'Russia': 97.7453061,\n",
       " 'South Africa': 24.991639,\n",
       " 'Spain': -4.8379791,\n",
       " 'Sweden': 14.5208584,\n",
       " 'Switzerland': 8.2319736,\n",
       " 'United Kingdom': -3.2765753,\n",
       " 'United States': -100.445882}"
      ]
     },
     "execution_count": 20,
     "metadata": {},
     "output_type": "execute_result"
    }
   ],
   "source": [
    "longs"
   ]
  },
  {
   "cell_type": "code",
   "execution_count": 21,
   "metadata": {},
   "outputs": [
    {
     "data": {
      "text/html": [
       "<div>\n",
       "<style scoped>\n",
       "    .dataframe tbody tr th:only-of-type {\n",
       "        vertical-align: middle;\n",
       "    }\n",
       "\n",
       "    .dataframe tbody tr th {\n",
       "        vertical-align: top;\n",
       "    }\n",
       "\n",
       "    .dataframe thead th {\n",
       "        text-align: right;\n",
       "    }\n",
       "</style>\n",
       "<table border=\"1\" class=\"dataframe\">\n",
       "  <thead>\n",
       "    <tr style=\"text-align: right;\">\n",
       "      <th>category</th>\n",
       "      <th>Chemistry</th>\n",
       "      <th>Economics</th>\n",
       "      <th>Literature</th>\n",
       "      <th>Peace</th>\n",
       "      <th>Physics</th>\n",
       "      <th>Physiology or Medicine</th>\n",
       "      <th>Total</th>\n",
       "      <th>Lat</th>\n",
       "      <th>Lon</th>\n",
       "    </tr>\n",
       "    <tr>\n",
       "      <th>country</th>\n",
       "      <th></th>\n",
       "      <th></th>\n",
       "      <th></th>\n",
       "      <th></th>\n",
       "      <th></th>\n",
       "      <th></th>\n",
       "      <th></th>\n",
       "      <th></th>\n",
       "      <th></th>\n",
       "    </tr>\n",
       "  </thead>\n",
       "  <tbody>\n",
       "    <tr>\n",
       "      <th>Argentina</th>\n",
       "      <td>1.0</td>\n",
       "      <td>NaN</td>\n",
       "      <td>NaN</td>\n",
       "      <td>2.0</td>\n",
       "      <td>NaN</td>\n",
       "      <td>1.0</td>\n",
       "      <td>4.0</td>\n",
       "      <td>-34.996496</td>\n",
       "      <td>-64.967282</td>\n",
       "    </tr>\n",
       "    <tr>\n",
       "      <th>Australia</th>\n",
       "      <td>NaN</td>\n",
       "      <td>NaN</td>\n",
       "      <td>1.0</td>\n",
       "      <td>NaN</td>\n",
       "      <td>4.0</td>\n",
       "      <td>7.0</td>\n",
       "      <td>12.0</td>\n",
       "      <td>-24.776109</td>\n",
       "      <td>134.755000</td>\n",
       "    </tr>\n",
       "    <tr>\n",
       "      <th>Austria</th>\n",
       "      <td>1.0</td>\n",
       "      <td>1.0</td>\n",
       "      <td>2.0</td>\n",
       "      <td>2.0</td>\n",
       "      <td>4.0</td>\n",
       "      <td>4.0</td>\n",
       "      <td>14.0</td>\n",
       "      <td>47.593970</td>\n",
       "      <td>14.124560</td>\n",
       "    </tr>\n",
       "    <tr>\n",
       "      <th>Belgium</th>\n",
       "      <td>1.0</td>\n",
       "      <td>NaN</td>\n",
       "      <td>1.0</td>\n",
       "      <td>3.0</td>\n",
       "      <td>1.0</td>\n",
       "      <td>4.0</td>\n",
       "      <td>10.0</td>\n",
       "      <td>50.640281</td>\n",
       "      <td>4.666715</td>\n",
       "    </tr>\n",
       "    <tr>\n",
       "      <th>Canada</th>\n",
       "      <td>2.0</td>\n",
       "      <td>2.0</td>\n",
       "      <td>1.0</td>\n",
       "      <td>1.0</td>\n",
       "      <td>4.0</td>\n",
       "      <td>2.0</td>\n",
       "      <td>12.0</td>\n",
       "      <td>61.066692</td>\n",
       "      <td>-107.991707</td>\n",
       "    </tr>\n",
       "    <tr>\n",
       "      <th>China (People's Republic of China)</th>\n",
       "      <td>NaN</td>\n",
       "      <td>NaN</td>\n",
       "      <td>1.0</td>\n",
       "      <td>1.0</td>\n",
       "      <td>NaN</td>\n",
       "      <td>1.0</td>\n",
       "      <td>3.0</td>\n",
       "      <td>35.000074</td>\n",
       "      <td>104.999927</td>\n",
       "    </tr>\n",
       "    <tr>\n",
       "      <th>Denmark</th>\n",
       "      <td>2.0</td>\n",
       "      <td>NaN</td>\n",
       "      <td>3.0</td>\n",
       "      <td>1.0</td>\n",
       "      <td>3.0</td>\n",
       "      <td>5.0</td>\n",
       "      <td>14.0</td>\n",
       "      <td>55.670249</td>\n",
       "      <td>10.333328</td>\n",
       "    </tr>\n",
       "    <tr>\n",
       "      <th>Egypt</th>\n",
       "      <td>1.0</td>\n",
       "      <td>NaN</td>\n",
       "      <td>1.0</td>\n",
       "      <td>2.0</td>\n",
       "      <td>NaN</td>\n",
       "      <td>NaN</td>\n",
       "      <td>4.0</td>\n",
       "      <td>26.254049</td>\n",
       "      <td>29.267547</td>\n",
       "    </tr>\n",
       "    <tr>\n",
       "      <th>France</th>\n",
       "      <td>11.0</td>\n",
       "      <td>3.0</td>\n",
       "      <td>17.0</td>\n",
       "      <td>10.0</td>\n",
       "      <td>15.0</td>\n",
       "      <td>12.0</td>\n",
       "      <td>68.0</td>\n",
       "      <td>46.603354</td>\n",
       "      <td>1.888334</td>\n",
       "    </tr>\n",
       "    <tr>\n",
       "      <th>Germany</th>\n",
       "      <td>30.0</td>\n",
       "      <td>1.0</td>\n",
       "      <td>8.0</td>\n",
       "      <td>4.0</td>\n",
       "      <td>24.0</td>\n",
       "      <td>15.0</td>\n",
       "      <td>82.0</td>\n",
       "      <td>51.163818</td>\n",
       "      <td>10.447831</td>\n",
       "    </tr>\n",
       "    <tr>\n",
       "      <th>Hungary</th>\n",
       "      <td>3.0</td>\n",
       "      <td>NaN</td>\n",
       "      <td>1.0</td>\n",
       "      <td>NaN</td>\n",
       "      <td>2.0</td>\n",
       "      <td>1.0</td>\n",
       "      <td>7.0</td>\n",
       "      <td>47.181759</td>\n",
       "      <td>19.506094</td>\n",
       "    </tr>\n",
       "    <tr>\n",
       "      <th>India</th>\n",
       "      <td>NaN</td>\n",
       "      <td>1.0</td>\n",
       "      <td>1.0</td>\n",
       "      <td>2.0</td>\n",
       "      <td>1.0</td>\n",
       "      <td>NaN</td>\n",
       "      <td>5.0</td>\n",
       "      <td>22.351115</td>\n",
       "      <td>78.667743</td>\n",
       "    </tr>\n",
       "    <tr>\n",
       "      <th>Ireland</th>\n",
       "      <td>NaN</td>\n",
       "      <td>NaN</td>\n",
       "      <td>3.0</td>\n",
       "      <td>4.0</td>\n",
       "      <td>1.0</td>\n",
       "      <td>1.0</td>\n",
       "      <td>9.0</td>\n",
       "      <td>52.865196</td>\n",
       "      <td>-7.979460</td>\n",
       "    </tr>\n",
       "    <tr>\n",
       "      <th>Israel</th>\n",
       "      <td>5.0</td>\n",
       "      <td>2.0</td>\n",
       "      <td>1.0</td>\n",
       "      <td>3.0</td>\n",
       "      <td>NaN</td>\n",
       "      <td>NaN</td>\n",
       "      <td>11.0</td>\n",
       "      <td>30.812425</td>\n",
       "      <td>34.859476</td>\n",
       "    </tr>\n",
       "    <tr>\n",
       "      <th>Italy</th>\n",
       "      <td>1.0</td>\n",
       "      <td>NaN</td>\n",
       "      <td>6.0</td>\n",
       "      <td>1.0</td>\n",
       "      <td>4.0</td>\n",
       "      <td>2.0</td>\n",
       "      <td>14.0</td>\n",
       "      <td>42.638426</td>\n",
       "      <td>12.674297</td>\n",
       "    </tr>\n",
       "    <tr>\n",
       "      <th>Japan</th>\n",
       "      <td>8.0</td>\n",
       "      <td>NaN</td>\n",
       "      <td>2.0</td>\n",
       "      <td>1.0</td>\n",
       "      <td>9.0</td>\n",
       "      <td>5.0</td>\n",
       "      <td>25.0</td>\n",
       "      <td>36.574844</td>\n",
       "      <td>139.239418</td>\n",
       "    </tr>\n",
       "    <tr>\n",
       "      <th>Netherlands</th>\n",
       "      <td>3.0</td>\n",
       "      <td>2.0</td>\n",
       "      <td>NaN</td>\n",
       "      <td>1.0</td>\n",
       "      <td>9.0</td>\n",
       "      <td>2.0</td>\n",
       "      <td>17.0</td>\n",
       "      <td>52.243498</td>\n",
       "      <td>5.634323</td>\n",
       "    </tr>\n",
       "    <tr>\n",
       "      <th>Norway</th>\n",
       "      <td>1.0</td>\n",
       "      <td>3.0</td>\n",
       "      <td>4.0</td>\n",
       "      <td>2.0</td>\n",
       "      <td>1.0</td>\n",
       "      <td>2.0</td>\n",
       "      <td>13.0</td>\n",
       "      <td>64.573154</td>\n",
       "      <td>11.528036</td>\n",
       "    </tr>\n",
       "    <tr>\n",
       "      <th>Poland</th>\n",
       "      <td>NaN</td>\n",
       "      <td>NaN</td>\n",
       "      <td>4.0</td>\n",
       "      <td>1.0</td>\n",
       "      <td>1.0</td>\n",
       "      <td>NaN</td>\n",
       "      <td>6.0</td>\n",
       "      <td>52.215933</td>\n",
       "      <td>19.134422</td>\n",
       "    </tr>\n",
       "    <tr>\n",
       "      <th>Russia</th>\n",
       "      <td>2.0</td>\n",
       "      <td>1.0</td>\n",
       "      <td>4.0</td>\n",
       "      <td>3.0</td>\n",
       "      <td>8.0</td>\n",
       "      <td>2.0</td>\n",
       "      <td>20.0</td>\n",
       "      <td>64.686314</td>\n",
       "      <td>97.745306</td>\n",
       "    </tr>\n",
       "    <tr>\n",
       "      <th>South Africa</th>\n",
       "      <td>NaN</td>\n",
       "      <td>NaN</td>\n",
       "      <td>2.0</td>\n",
       "      <td>4.0</td>\n",
       "      <td>NaN</td>\n",
       "      <td>1.0</td>\n",
       "      <td>7.0</td>\n",
       "      <td>-28.816624</td>\n",
       "      <td>24.991639</td>\n",
       "    </tr>\n",
       "    <tr>\n",
       "      <th>Spain</th>\n",
       "      <td>NaN</td>\n",
       "      <td>NaN</td>\n",
       "      <td>6.0</td>\n",
       "      <td>NaN</td>\n",
       "      <td>NaN</td>\n",
       "      <td>1.0</td>\n",
       "      <td>7.0</td>\n",
       "      <td>39.326068</td>\n",
       "      <td>-4.837979</td>\n",
       "    </tr>\n",
       "    <tr>\n",
       "      <th>Sweden</th>\n",
       "      <td>5.0</td>\n",
       "      <td>2.0</td>\n",
       "      <td>8.0</td>\n",
       "      <td>5.0</td>\n",
       "      <td>5.0</td>\n",
       "      <td>9.0</td>\n",
       "      <td>34.0</td>\n",
       "      <td>59.674971</td>\n",
       "      <td>14.520858</td>\n",
       "    </tr>\n",
       "    <tr>\n",
       "      <th>Switzerland</th>\n",
       "      <td>5.0</td>\n",
       "      <td>NaN</td>\n",
       "      <td>2.0</td>\n",
       "      <td>2.0</td>\n",
       "      <td>5.0</td>\n",
       "      <td>7.0</td>\n",
       "      <td>21.0</td>\n",
       "      <td>46.798562</td>\n",
       "      <td>8.231974</td>\n",
       "    </tr>\n",
       "    <tr>\n",
       "      <th>United Kingdom</th>\n",
       "      <td>29.0</td>\n",
       "      <td>9.0</td>\n",
       "      <td>13.0</td>\n",
       "      <td>9.0</td>\n",
       "      <td>23.0</td>\n",
       "      <td>32.0</td>\n",
       "      <td>115.0</td>\n",
       "      <td>54.702354</td>\n",
       "      <td>-3.276575</td>\n",
       "    </tr>\n",
       "    <tr>\n",
       "      <th>United States</th>\n",
       "      <td>77.0</td>\n",
       "      <td>65.0</td>\n",
       "      <td>12.0</td>\n",
       "      <td>21.0</td>\n",
       "      <td>99.0</td>\n",
       "      <td>109.0</td>\n",
       "      <td>383.0</td>\n",
       "      <td>39.783730</td>\n",
       "      <td>-100.445882</td>\n",
       "    </tr>\n",
       "  </tbody>\n",
       "</table>\n",
       "</div>"
      ],
      "text/plain": [
       "category                            Chemistry  Economics  Literature  Peace  \\\n",
       "country                                                                       \n",
       "Argentina                                 1.0        NaN         NaN    2.0   \n",
       "Australia                                 NaN        NaN         1.0    NaN   \n",
       "Austria                                   1.0        1.0         2.0    2.0   \n",
       "Belgium                                   1.0        NaN         1.0    3.0   \n",
       "Canada                                    2.0        2.0         1.0    1.0   \n",
       "China (People's Republic of China)        NaN        NaN         1.0    1.0   \n",
       "Denmark                                   2.0        NaN         3.0    1.0   \n",
       "Egypt                                     1.0        NaN         1.0    2.0   \n",
       "France                                   11.0        3.0        17.0   10.0   \n",
       "Germany                                  30.0        1.0         8.0    4.0   \n",
       "Hungary                                   3.0        NaN         1.0    NaN   \n",
       "India                                     NaN        1.0         1.0    2.0   \n",
       "Ireland                                   NaN        NaN         3.0    4.0   \n",
       "Israel                                    5.0        2.0         1.0    3.0   \n",
       "Italy                                     1.0        NaN         6.0    1.0   \n",
       "Japan                                     8.0        NaN         2.0    1.0   \n",
       "Netherlands                               3.0        2.0         NaN    1.0   \n",
       "Norway                                    1.0        3.0         4.0    2.0   \n",
       "Poland                                    NaN        NaN         4.0    1.0   \n",
       "Russia                                    2.0        1.0         4.0    3.0   \n",
       "South Africa                              NaN        NaN         2.0    4.0   \n",
       "Spain                                     NaN        NaN         6.0    NaN   \n",
       "Sweden                                    5.0        2.0         8.0    5.0   \n",
       "Switzerland                               5.0        NaN         2.0    2.0   \n",
       "United Kingdom                           29.0        9.0        13.0    9.0   \n",
       "United States                            77.0       65.0        12.0   21.0   \n",
       "\n",
       "category                            Physics  Physiology or Medicine  Total  \\\n",
       "country                                                                      \n",
       "Argentina                               NaN                     1.0    4.0   \n",
       "Australia                               4.0                     7.0   12.0   \n",
       "Austria                                 4.0                     4.0   14.0   \n",
       "Belgium                                 1.0                     4.0   10.0   \n",
       "Canada                                  4.0                     2.0   12.0   \n",
       "China (People's Republic of China)      NaN                     1.0    3.0   \n",
       "Denmark                                 3.0                     5.0   14.0   \n",
       "Egypt                                   NaN                     NaN    4.0   \n",
       "France                                 15.0                    12.0   68.0   \n",
       "Germany                                24.0                    15.0   82.0   \n",
       "Hungary                                 2.0                     1.0    7.0   \n",
       "India                                   1.0                     NaN    5.0   \n",
       "Ireland                                 1.0                     1.0    9.0   \n",
       "Israel                                  NaN                     NaN   11.0   \n",
       "Italy                                   4.0                     2.0   14.0   \n",
       "Japan                                   9.0                     5.0   25.0   \n",
       "Netherlands                             9.0                     2.0   17.0   \n",
       "Norway                                  1.0                     2.0   13.0   \n",
       "Poland                                  1.0                     NaN    6.0   \n",
       "Russia                                  8.0                     2.0   20.0   \n",
       "South Africa                            NaN                     1.0    7.0   \n",
       "Spain                                   NaN                     1.0    7.0   \n",
       "Sweden                                  5.0                     9.0   34.0   \n",
       "Switzerland                             5.0                     7.0   21.0   \n",
       "United Kingdom                         23.0                    32.0  115.0   \n",
       "United States                          99.0                   109.0  383.0   \n",
       "\n",
       "category                                  Lat         Lon  \n",
       "country                                                    \n",
       "Argentina                          -34.996496  -64.967282  \n",
       "Australia                          -24.776109  134.755000  \n",
       "Austria                             47.593970   14.124560  \n",
       "Belgium                             50.640281    4.666715  \n",
       "Canada                              61.066692 -107.991707  \n",
       "China (People's Republic of China)  35.000074  104.999927  \n",
       "Denmark                             55.670249   10.333328  \n",
       "Egypt                               26.254049   29.267547  \n",
       "France                              46.603354    1.888334  \n",
       "Germany                             51.163818   10.447831  \n",
       "Hungary                             47.181759   19.506094  \n",
       "India                               22.351115   78.667743  \n",
       "Ireland                             52.865196   -7.979460  \n",
       "Israel                              30.812425   34.859476  \n",
       "Italy                               42.638426   12.674297  \n",
       "Japan                               36.574844  139.239418  \n",
       "Netherlands                         52.243498    5.634323  \n",
       "Norway                              64.573154   11.528036  \n",
       "Poland                              52.215933   19.134422  \n",
       "Russia                              64.686314   97.745306  \n",
       "South Africa                       -28.816624   24.991639  \n",
       "Spain                               39.326068   -4.837979  \n",
       "Sweden                              59.674971   14.520858  \n",
       "Switzerland                         46.798562    8.231974  \n",
       "United Kingdom                      54.702354   -3.276575  \n",
       "United States                       39.783730 -100.445882  "
      ]
     },
     "execution_count": 21,
     "metadata": {},
     "output_type": "execute_result"
    }
   ],
   "source": [
    "df_country_category.loc[:,'Lat'] = pd.Series(lats)\n",
    "df_country_category.loc[:,'Lon'] = pd.Series(longs)\n",
    "df_country_category"
   ]
  },
  {
   "cell_type": "code",
   "execution_count": 22,
   "metadata": {},
   "outputs": [],
   "source": [
    "def calc_marker_radius(size, scale=5):\n",
    "    return np.sqrt(size / np.pi) * scale"
   ]
  },
  {
   "cell_type": "code",
   "execution_count": 23,
   "metadata": {},
   "outputs": [
    {
     "data": {
      "application/vnd.plotly.v1+json": {
       "config": {
        "plotlyServerURL": "https://plot.ly"
       },
       "data": [
        {
         "customdata": [
          [
           4
          ],
          [
           12
          ],
          [
           14
          ],
          [
           10
          ],
          [
           12
          ],
          [
           3
          ],
          [
           14
          ],
          [
           4
          ],
          [
           68
          ],
          [
           82
          ],
          [
           7
          ],
          [
           5
          ],
          [
           9
          ],
          [
           11
          ],
          [
           14
          ],
          [
           25
          ],
          [
           17
          ],
          [
           13
          ],
          [
           6
          ],
          [
           20
          ],
          [
           7
          ],
          [
           7
          ],
          [
           34
          ],
          [
           21
          ],
          [
           115
          ],
          [
           383
          ]
         ],
         "hovertemplate": "<b>%{hovertext}</b><br><br>size=%{marker.size}<br>Lat=%{lat}<br>Lon=%{lon}<br>Total=%{customdata[0]}<extra></extra>",
         "hovertext": [
          "Argentina",
          "Australia",
          "Austria",
          "Belgium",
          "Canada",
          "China (People's Republic of China)",
          "Denmark",
          "Egypt",
          "France",
          "Germany",
          "Hungary",
          "India",
          "Ireland",
          "Israel",
          "Italy",
          "Japan",
          "Netherlands",
          "Norway",
          "Poland",
          "Russia",
          "South Africa",
          "Spain",
          "Sweden",
          "Switzerland",
          "United Kingdom",
          "United States"
         ],
         "lat": [
          -34.9964963,
          -24.7761086,
          47.59397,
          50.6402809,
          61.0666922,
          35.000074,
          55.670249,
          26.2540493,
          46.603354,
          51.1638175,
          47.1817585,
          22.3511148,
          52.865196,
          30.8124247,
          42.6384261,
          36.5748441,
          52.2434979,
          64.5731537,
          52.215933,
          64.6863136,
          -28.8166236,
          39.3260685,
          59.6749712,
          46.7985624,
          54.7023545,
          39.7837304
         ],
         "legendgroup": "",
         "lon": [
          -64.9672817,
          134.755,
          14.12456,
          4.6667145,
          -107.991707,
          104.999927,
          10.3333283,
          29.2675469,
          1.8883335,
          10.4478313,
          19.5060937,
          78.6677428,
          -7.9794599,
          34.8594762,
          12.674297,
          139.2394179,
          5.6343227,
          11.52803643954819,
          19.134422,
          97.7453061,
          24.991639,
          -4.8379791,
          14.5208584,
          8.2319736,
          -3.2765753,
          -100.445882
         ],
         "marker": {
          "color": "olive",
          "size": [
           18.0540666735282,
           31.270560761786875,
           33.77606596515802,
           28.54598585844434,
           31.270560761786875,
           15.635280380893438,
           33.77606596515802,
           18.0540666735282,
           74.43882386690045,
           81.74326351920466,
           23.883285285767386,
           20.185060176161283,
           27.081100010292303,
           29.93928254807644,
           33.77606596515802,
           45.1351666838205,
           37.219411933450225,
           32.54743156102575,
           22.111625566165472,
           40.370120352322566,
           23.883285285767386,
           23.883285285767386,
           52.63619713983633,
           41.367063566611286,
           96.80414789279847,
           176.6625249467139
          ],
          "sizemode": "area",
          "sizeref": 0.4416563123667847
         },
         "mode": "markers",
         "name": "",
         "showlegend": false,
         "subplot": "mapbox",
         "type": "scattermapbox"
        }
       ],
       "layout": {
        "height": 450,
        "legend": {
         "itemsizing": "constant",
         "tracegroupgap": 0
        },
        "mapbox": {
         "center": {
          "lat": 38.147369530769225,
          "lon": 18.75838239767493
         },
         "domain": {
          "x": [
           0,
           1
          ],
          "y": [
           0,
           1
          ]
         },
         "style": "carto-positron",
         "zoom": 0.7
        },
        "margin": {
         "b": 0,
         "l": 0,
         "r": 0,
         "t": 0
        },
        "template": {
         "data": {
          "bar": [
           {
            "error_x": {
             "color": "#2a3f5f"
            },
            "error_y": {
             "color": "#2a3f5f"
            },
            "marker": {
             "line": {
              "color": "#E5ECF6",
              "width": 0.5
             },
             "pattern": {
              "fillmode": "overlay",
              "size": 10,
              "solidity": 0.2
             }
            },
            "type": "bar"
           }
          ],
          "barpolar": [
           {
            "marker": {
             "line": {
              "color": "#E5ECF6",
              "width": 0.5
             },
             "pattern": {
              "fillmode": "overlay",
              "size": 10,
              "solidity": 0.2
             }
            },
            "type": "barpolar"
           }
          ],
          "carpet": [
           {
            "aaxis": {
             "endlinecolor": "#2a3f5f",
             "gridcolor": "white",
             "linecolor": "white",
             "minorgridcolor": "white",
             "startlinecolor": "#2a3f5f"
            },
            "baxis": {
             "endlinecolor": "#2a3f5f",
             "gridcolor": "white",
             "linecolor": "white",
             "minorgridcolor": "white",
             "startlinecolor": "#2a3f5f"
            },
            "type": "carpet"
           }
          ],
          "choropleth": [
           {
            "colorbar": {
             "outlinewidth": 0,
             "ticks": ""
            },
            "type": "choropleth"
           }
          ],
          "contour": [
           {
            "colorbar": {
             "outlinewidth": 0,
             "ticks": ""
            },
            "colorscale": [
             [
              0,
              "#0d0887"
             ],
             [
              0.1111111111111111,
              "#46039f"
             ],
             [
              0.2222222222222222,
              "#7201a8"
             ],
             [
              0.3333333333333333,
              "#9c179e"
             ],
             [
              0.4444444444444444,
              "#bd3786"
             ],
             [
              0.5555555555555556,
              "#d8576b"
             ],
             [
              0.6666666666666666,
              "#ed7953"
             ],
             [
              0.7777777777777778,
              "#fb9f3a"
             ],
             [
              0.8888888888888888,
              "#fdca26"
             ],
             [
              1,
              "#f0f921"
             ]
            ],
            "type": "contour"
           }
          ],
          "contourcarpet": [
           {
            "colorbar": {
             "outlinewidth": 0,
             "ticks": ""
            },
            "type": "contourcarpet"
           }
          ],
          "heatmap": [
           {
            "colorbar": {
             "outlinewidth": 0,
             "ticks": ""
            },
            "colorscale": [
             [
              0,
              "#0d0887"
             ],
             [
              0.1111111111111111,
              "#46039f"
             ],
             [
              0.2222222222222222,
              "#7201a8"
             ],
             [
              0.3333333333333333,
              "#9c179e"
             ],
             [
              0.4444444444444444,
              "#bd3786"
             ],
             [
              0.5555555555555556,
              "#d8576b"
             ],
             [
              0.6666666666666666,
              "#ed7953"
             ],
             [
              0.7777777777777778,
              "#fb9f3a"
             ],
             [
              0.8888888888888888,
              "#fdca26"
             ],
             [
              1,
              "#f0f921"
             ]
            ],
            "type": "heatmap"
           }
          ],
          "heatmapgl": [
           {
            "colorbar": {
             "outlinewidth": 0,
             "ticks": ""
            },
            "colorscale": [
             [
              0,
              "#0d0887"
             ],
             [
              0.1111111111111111,
              "#46039f"
             ],
             [
              0.2222222222222222,
              "#7201a8"
             ],
             [
              0.3333333333333333,
              "#9c179e"
             ],
             [
              0.4444444444444444,
              "#bd3786"
             ],
             [
              0.5555555555555556,
              "#d8576b"
             ],
             [
              0.6666666666666666,
              "#ed7953"
             ],
             [
              0.7777777777777778,
              "#fb9f3a"
             ],
             [
              0.8888888888888888,
              "#fdca26"
             ],
             [
              1,
              "#f0f921"
             ]
            ],
            "type": "heatmapgl"
           }
          ],
          "histogram": [
           {
            "marker": {
             "pattern": {
              "fillmode": "overlay",
              "size": 10,
              "solidity": 0.2
             }
            },
            "type": "histogram"
           }
          ],
          "histogram2d": [
           {
            "colorbar": {
             "outlinewidth": 0,
             "ticks": ""
            },
            "colorscale": [
             [
              0,
              "#0d0887"
             ],
             [
              0.1111111111111111,
              "#46039f"
             ],
             [
              0.2222222222222222,
              "#7201a8"
             ],
             [
              0.3333333333333333,
              "#9c179e"
             ],
             [
              0.4444444444444444,
              "#bd3786"
             ],
             [
              0.5555555555555556,
              "#d8576b"
             ],
             [
              0.6666666666666666,
              "#ed7953"
             ],
             [
              0.7777777777777778,
              "#fb9f3a"
             ],
             [
              0.8888888888888888,
              "#fdca26"
             ],
             [
              1,
              "#f0f921"
             ]
            ],
            "type": "histogram2d"
           }
          ],
          "histogram2dcontour": [
           {
            "colorbar": {
             "outlinewidth": 0,
             "ticks": ""
            },
            "colorscale": [
             [
              0,
              "#0d0887"
             ],
             [
              0.1111111111111111,
              "#46039f"
             ],
             [
              0.2222222222222222,
              "#7201a8"
             ],
             [
              0.3333333333333333,
              "#9c179e"
             ],
             [
              0.4444444444444444,
              "#bd3786"
             ],
             [
              0.5555555555555556,
              "#d8576b"
             ],
             [
              0.6666666666666666,
              "#ed7953"
             ],
             [
              0.7777777777777778,
              "#fb9f3a"
             ],
             [
              0.8888888888888888,
              "#fdca26"
             ],
             [
              1,
              "#f0f921"
             ]
            ],
            "type": "histogram2dcontour"
           }
          ],
          "mesh3d": [
           {
            "colorbar": {
             "outlinewidth": 0,
             "ticks": ""
            },
            "type": "mesh3d"
           }
          ],
          "parcoords": [
           {
            "line": {
             "colorbar": {
              "outlinewidth": 0,
              "ticks": ""
             }
            },
            "type": "parcoords"
           }
          ],
          "pie": [
           {
            "automargin": true,
            "type": "pie"
           }
          ],
          "scatter": [
           {
            "fillpattern": {
             "fillmode": "overlay",
             "size": 10,
             "solidity": 0.2
            },
            "type": "scatter"
           }
          ],
          "scatter3d": [
           {
            "line": {
             "colorbar": {
              "outlinewidth": 0,
              "ticks": ""
             }
            },
            "marker": {
             "colorbar": {
              "outlinewidth": 0,
              "ticks": ""
             }
            },
            "type": "scatter3d"
           }
          ],
          "scattercarpet": [
           {
            "marker": {
             "colorbar": {
              "outlinewidth": 0,
              "ticks": ""
             }
            },
            "type": "scattercarpet"
           }
          ],
          "scattergeo": [
           {
            "marker": {
             "colorbar": {
              "outlinewidth": 0,
              "ticks": ""
             }
            },
            "type": "scattergeo"
           }
          ],
          "scattergl": [
           {
            "marker": {
             "colorbar": {
              "outlinewidth": 0,
              "ticks": ""
             }
            },
            "type": "scattergl"
           }
          ],
          "scattermapbox": [
           {
            "marker": {
             "colorbar": {
              "outlinewidth": 0,
              "ticks": ""
             }
            },
            "type": "scattermapbox"
           }
          ],
          "scatterpolar": [
           {
            "marker": {
             "colorbar": {
              "outlinewidth": 0,
              "ticks": ""
             }
            },
            "type": "scatterpolar"
           }
          ],
          "scatterpolargl": [
           {
            "marker": {
             "colorbar": {
              "outlinewidth": 0,
              "ticks": ""
             }
            },
            "type": "scatterpolargl"
           }
          ],
          "scatterternary": [
           {
            "marker": {
             "colorbar": {
              "outlinewidth": 0,
              "ticks": ""
             }
            },
            "type": "scatterternary"
           }
          ],
          "surface": [
           {
            "colorbar": {
             "outlinewidth": 0,
             "ticks": ""
            },
            "colorscale": [
             [
              0,
              "#0d0887"
             ],
             [
              0.1111111111111111,
              "#46039f"
             ],
             [
              0.2222222222222222,
              "#7201a8"
             ],
             [
              0.3333333333333333,
              "#9c179e"
             ],
             [
              0.4444444444444444,
              "#bd3786"
             ],
             [
              0.5555555555555556,
              "#d8576b"
             ],
             [
              0.6666666666666666,
              "#ed7953"
             ],
             [
              0.7777777777777778,
              "#fb9f3a"
             ],
             [
              0.8888888888888888,
              "#fdca26"
             ],
             [
              1,
              "#f0f921"
             ]
            ],
            "type": "surface"
           }
          ],
          "table": [
           {
            "cells": {
             "fill": {
              "color": "#EBF0F8"
             },
             "line": {
              "color": "white"
             }
            },
            "header": {
             "fill": {
              "color": "#C8D4E3"
             },
             "line": {
              "color": "white"
             }
            },
            "type": "table"
           }
          ]
         },
         "layout": {
          "annotationdefaults": {
           "arrowcolor": "#2a3f5f",
           "arrowhead": 0,
           "arrowwidth": 1
          },
          "autotypenumbers": "strict",
          "coloraxis": {
           "colorbar": {
            "outlinewidth": 0,
            "ticks": ""
           }
          },
          "colorscale": {
           "diverging": [
            [
             0,
             "#8e0152"
            ],
            [
             0.1,
             "#c51b7d"
            ],
            [
             0.2,
             "#de77ae"
            ],
            [
             0.3,
             "#f1b6da"
            ],
            [
             0.4,
             "#fde0ef"
            ],
            [
             0.5,
             "#f7f7f7"
            ],
            [
             0.6,
             "#e6f5d0"
            ],
            [
             0.7,
             "#b8e186"
            ],
            [
             0.8,
             "#7fbc41"
            ],
            [
             0.9,
             "#4d9221"
            ],
            [
             1,
             "#276419"
            ]
           ],
           "sequential": [
            [
             0,
             "#0d0887"
            ],
            [
             0.1111111111111111,
             "#46039f"
            ],
            [
             0.2222222222222222,
             "#7201a8"
            ],
            [
             0.3333333333333333,
             "#9c179e"
            ],
            [
             0.4444444444444444,
             "#bd3786"
            ],
            [
             0.5555555555555556,
             "#d8576b"
            ],
            [
             0.6666666666666666,
             "#ed7953"
            ],
            [
             0.7777777777777778,
             "#fb9f3a"
            ],
            [
             0.8888888888888888,
             "#fdca26"
            ],
            [
             1,
             "#f0f921"
            ]
           ],
           "sequentialminus": [
            [
             0,
             "#0d0887"
            ],
            [
             0.1111111111111111,
             "#46039f"
            ],
            [
             0.2222222222222222,
             "#7201a8"
            ],
            [
             0.3333333333333333,
             "#9c179e"
            ],
            [
             0.4444444444444444,
             "#bd3786"
            ],
            [
             0.5555555555555556,
             "#d8576b"
            ],
            [
             0.6666666666666666,
             "#ed7953"
            ],
            [
             0.7777777777777778,
             "#fb9f3a"
            ],
            [
             0.8888888888888888,
             "#fdca26"
            ],
            [
             1,
             "#f0f921"
            ]
           ]
          },
          "colorway": [
           "#636efa",
           "#EF553B",
           "#00cc96",
           "#ab63fa",
           "#FFA15A",
           "#19d3f3",
           "#FF6692",
           "#B6E880",
           "#FF97FF",
           "#FECB52"
          ],
          "font": {
           "color": "#2a3f5f"
          },
          "geo": {
           "bgcolor": "white",
           "lakecolor": "white",
           "landcolor": "#E5ECF6",
           "showlakes": true,
           "showland": true,
           "subunitcolor": "white"
          },
          "hoverlabel": {
           "align": "left"
          },
          "hovermode": "closest",
          "mapbox": {
           "style": "light"
          },
          "paper_bgcolor": "white",
          "plot_bgcolor": "#E5ECF6",
          "polar": {
           "angularaxis": {
            "gridcolor": "white",
            "linecolor": "white",
            "ticks": ""
           },
           "bgcolor": "#E5ECF6",
           "radialaxis": {
            "gridcolor": "white",
            "linecolor": "white",
            "ticks": ""
           }
          },
          "scene": {
           "xaxis": {
            "backgroundcolor": "#E5ECF6",
            "gridcolor": "white",
            "gridwidth": 2,
            "linecolor": "white",
            "showbackground": true,
            "ticks": "",
            "zerolinecolor": "white"
           },
           "yaxis": {
            "backgroundcolor": "#E5ECF6",
            "gridcolor": "white",
            "gridwidth": 2,
            "linecolor": "white",
            "showbackground": true,
            "ticks": "",
            "zerolinecolor": "white"
           },
           "zaxis": {
            "backgroundcolor": "#E5ECF6",
            "gridcolor": "white",
            "gridwidth": 2,
            "linecolor": "white",
            "showbackground": true,
            "ticks": "",
            "zerolinecolor": "white"
           }
          },
          "shapedefaults": {
           "line": {
            "color": "#2a3f5f"
           }
          },
          "ternary": {
           "aaxis": {
            "gridcolor": "white",
            "linecolor": "white",
            "ticks": ""
           },
           "baxis": {
            "gridcolor": "white",
            "linecolor": "white",
            "ticks": ""
           },
           "bgcolor": "#E5ECF6",
           "caxis": {
            "gridcolor": "white",
            "linecolor": "white",
            "ticks": ""
           }
          },
          "title": {
           "x": 0.05
          },
          "xaxis": {
           "automargin": true,
           "gridcolor": "white",
           "linecolor": "white",
           "ticks": "",
           "title": {
            "standoff": 15
           },
           "zerolinecolor": "white",
           "zerolinewidth": 2
          },
          "yaxis": {
           "automargin": true,
           "gridcolor": "white",
           "linecolor": "white",
           "ticks": "",
           "title": {
            "standoff": 15
           },
           "zerolinecolor": "white",
           "zerolinewidth": 2
          }
         }
        },
        "width": 800
       }
      }
     },
     "metadata": {},
     "output_type": "display_data"
    }
   ],
   "source": [
    "import plotly.express as px\n",
    "\n",
    "# init_notebook_mode(connected=True)\n",
    "\n",
    "size = df_country_category[\"Total\"].apply(calc_marker_radius, args=(16,))\n",
    "fig = px.scatter_mapbox(\n",
    "    df_country_category,\n",
    "    lat=\"Lat\",\n",
    "    lon=\"Lon\",\n",
    "    hover_name=df_country_category.index,\n",
    "    hover_data=[\"Total\"],\n",
    "    color_discrete_sequence=[\"olive\"],\n",
    "    zoom=0.7,\n",
    "    size=size,\n",
    ")\n",
    "fig.update_layout(mapbox_style=\"carto-positron\", width=800, height=450)\n",
    "fig.update_layout(margin={\"r\": 0, \"t\": 0, \"l\": 0, \"b\": 0})\n",
    "fig.show()"
   ]
  },
  {
   "cell_type": "code",
   "execution_count": 24,
   "metadata": {},
   "outputs": [
    {
     "data": {
      "application/vnd.plotly.v1+json": {
       "config": {
        "plotlyServerURL": "https://plot.ly"
       },
       "data": [
        {
         "customdata": [
          [
           4
          ],
          [
           12
          ],
          [
           14
          ],
          [
           10
          ],
          [
           12
          ],
          [
           3
          ],
          [
           14
          ],
          [
           4
          ],
          [
           68
          ],
          [
           82
          ],
          [
           7
          ],
          [
           5
          ],
          [
           9
          ],
          [
           11
          ],
          [
           14
          ],
          [
           25
          ],
          [
           17
          ],
          [
           13
          ],
          [
           6
          ],
          [
           20
          ],
          [
           7
          ],
          [
           7
          ],
          [
           34
          ],
          [
           21
          ],
          [
           115
          ],
          [
           383
          ]
         ],
         "hovertemplate": "<b>%{hovertext}</b><br><br>size=%{marker.size}<br>Lat=%{lat}<br>Lon=%{lon}<br>Total=%{customdata[0]}<extra></extra>",
         "hovertext": [
          "Argentina",
          "Australia",
          "Austria",
          "Belgium",
          "Canada",
          "China (People's Republic of China)",
          "Denmark",
          "Egypt",
          "France",
          "Germany",
          "Hungary",
          "India",
          "Ireland",
          "Israel",
          "Italy",
          "Japan",
          "Netherlands",
          "Norway",
          "Poland",
          "Russia",
          "South Africa",
          "Spain",
          "Sweden",
          "Switzerland",
          "United Kingdom",
          "United States"
         ],
         "lat": [
          -34.9964963,
          -24.7761086,
          47.59397,
          50.6402809,
          61.0666922,
          35.000074,
          55.670249,
          26.2540493,
          46.603354,
          51.1638175,
          47.1817585,
          22.3511148,
          52.865196,
          30.8124247,
          42.6384261,
          36.5748441,
          52.2434979,
          64.5731537,
          52.215933,
          64.6863136,
          -28.8166236,
          39.3260685,
          59.6749712,
          46.7985624,
          54.7023545,
          39.7837304
         ],
         "legendgroup": "",
         "lon": [
          -64.9672817,
          134.755,
          14.12456,
          4.6667145,
          -107.991707,
          104.999927,
          10.3333283,
          29.2675469,
          1.8883335,
          10.4478313,
          19.5060937,
          78.6677428,
          -7.9794599,
          34.8594762,
          12.674297,
          139.2394179,
          5.6343227,
          11.52803643954819,
          19.134422,
          97.7453061,
          24.991639,
          -4.8379791,
          14.5208584,
          8.2319736,
          -3.2765753,
          -100.445882
         ],
         "marker": {
          "color": "olive",
          "size": [
           18.0540666735282,
           31.270560761786875,
           33.77606596515802,
           28.54598585844434,
           31.270560761786875,
           15.635280380893438,
           33.77606596515802,
           18.0540666735282,
           74.43882386690045,
           81.74326351920466,
           23.883285285767386,
           20.185060176161283,
           27.081100010292303,
           29.93928254807644,
           33.77606596515802,
           45.1351666838205,
           37.219411933450225,
           32.54743156102575,
           22.111625566165472,
           40.370120352322566,
           23.883285285767386,
           23.883285285767386,
           52.63619713983633,
           41.367063566611286,
           96.80414789279847,
           176.6625249467139
          ],
          "sizemode": "area",
          "sizeref": 0.4416563123667847
         },
         "mode": "markers",
         "name": "",
         "showlegend": false,
         "subplot": "mapbox",
         "type": "scattermapbox"
        }
       ],
       "layout": {
        "height": 450,
        "legend": {
         "itemsizing": "constant",
         "tracegroupgap": 0
        },
        "mapbox": {
         "center": {
          "lat": 38.147369530769225,
          "lon": 18.75838239767493
         },
         "domain": {
          "x": [
           0,
           1
          ],
          "y": [
           0,
           1
          ]
         },
         "style": "carto-positron",
         "zoom": 0.7
        },
        "margin": {
         "b": 0,
         "l": 0,
         "r": 0,
         "t": 0
        },
        "template": {
         "data": {
          "bar": [
           {
            "error_x": {
             "color": "#2a3f5f"
            },
            "error_y": {
             "color": "#2a3f5f"
            },
            "marker": {
             "line": {
              "color": "#E5ECF6",
              "width": 0.5
             },
             "pattern": {
              "fillmode": "overlay",
              "size": 10,
              "solidity": 0.2
             }
            },
            "type": "bar"
           }
          ],
          "barpolar": [
           {
            "marker": {
             "line": {
              "color": "#E5ECF6",
              "width": 0.5
             },
             "pattern": {
              "fillmode": "overlay",
              "size": 10,
              "solidity": 0.2
             }
            },
            "type": "barpolar"
           }
          ],
          "carpet": [
           {
            "aaxis": {
             "endlinecolor": "#2a3f5f",
             "gridcolor": "white",
             "linecolor": "white",
             "minorgridcolor": "white",
             "startlinecolor": "#2a3f5f"
            },
            "baxis": {
             "endlinecolor": "#2a3f5f",
             "gridcolor": "white",
             "linecolor": "white",
             "minorgridcolor": "white",
             "startlinecolor": "#2a3f5f"
            },
            "type": "carpet"
           }
          ],
          "choropleth": [
           {
            "colorbar": {
             "outlinewidth": 0,
             "ticks": ""
            },
            "type": "choropleth"
           }
          ],
          "contour": [
           {
            "colorbar": {
             "outlinewidth": 0,
             "ticks": ""
            },
            "colorscale": [
             [
              0,
              "#0d0887"
             ],
             [
              0.1111111111111111,
              "#46039f"
             ],
             [
              0.2222222222222222,
              "#7201a8"
             ],
             [
              0.3333333333333333,
              "#9c179e"
             ],
             [
              0.4444444444444444,
              "#bd3786"
             ],
             [
              0.5555555555555556,
              "#d8576b"
             ],
             [
              0.6666666666666666,
              "#ed7953"
             ],
             [
              0.7777777777777778,
              "#fb9f3a"
             ],
             [
              0.8888888888888888,
              "#fdca26"
             ],
             [
              1,
              "#f0f921"
             ]
            ],
            "type": "contour"
           }
          ],
          "contourcarpet": [
           {
            "colorbar": {
             "outlinewidth": 0,
             "ticks": ""
            },
            "type": "contourcarpet"
           }
          ],
          "heatmap": [
           {
            "colorbar": {
             "outlinewidth": 0,
             "ticks": ""
            },
            "colorscale": [
             [
              0,
              "#0d0887"
             ],
             [
              0.1111111111111111,
              "#46039f"
             ],
             [
              0.2222222222222222,
              "#7201a8"
             ],
             [
              0.3333333333333333,
              "#9c179e"
             ],
             [
              0.4444444444444444,
              "#bd3786"
             ],
             [
              0.5555555555555556,
              "#d8576b"
             ],
             [
              0.6666666666666666,
              "#ed7953"
             ],
             [
              0.7777777777777778,
              "#fb9f3a"
             ],
             [
              0.8888888888888888,
              "#fdca26"
             ],
             [
              1,
              "#f0f921"
             ]
            ],
            "type": "heatmap"
           }
          ],
          "heatmapgl": [
           {
            "colorbar": {
             "outlinewidth": 0,
             "ticks": ""
            },
            "colorscale": [
             [
              0,
              "#0d0887"
             ],
             [
              0.1111111111111111,
              "#46039f"
             ],
             [
              0.2222222222222222,
              "#7201a8"
             ],
             [
              0.3333333333333333,
              "#9c179e"
             ],
             [
              0.4444444444444444,
              "#bd3786"
             ],
             [
              0.5555555555555556,
              "#d8576b"
             ],
             [
              0.6666666666666666,
              "#ed7953"
             ],
             [
              0.7777777777777778,
              "#fb9f3a"
             ],
             [
              0.8888888888888888,
              "#fdca26"
             ],
             [
              1,
              "#f0f921"
             ]
            ],
            "type": "heatmapgl"
           }
          ],
          "histogram": [
           {
            "marker": {
             "pattern": {
              "fillmode": "overlay",
              "size": 10,
              "solidity": 0.2
             }
            },
            "type": "histogram"
           }
          ],
          "histogram2d": [
           {
            "colorbar": {
             "outlinewidth": 0,
             "ticks": ""
            },
            "colorscale": [
             [
              0,
              "#0d0887"
             ],
             [
              0.1111111111111111,
              "#46039f"
             ],
             [
              0.2222222222222222,
              "#7201a8"
             ],
             [
              0.3333333333333333,
              "#9c179e"
             ],
             [
              0.4444444444444444,
              "#bd3786"
             ],
             [
              0.5555555555555556,
              "#d8576b"
             ],
             [
              0.6666666666666666,
              "#ed7953"
             ],
             [
              0.7777777777777778,
              "#fb9f3a"
             ],
             [
              0.8888888888888888,
              "#fdca26"
             ],
             [
              1,
              "#f0f921"
             ]
            ],
            "type": "histogram2d"
           }
          ],
          "histogram2dcontour": [
           {
            "colorbar": {
             "outlinewidth": 0,
             "ticks": ""
            },
            "colorscale": [
             [
              0,
              "#0d0887"
             ],
             [
              0.1111111111111111,
              "#46039f"
             ],
             [
              0.2222222222222222,
              "#7201a8"
             ],
             [
              0.3333333333333333,
              "#9c179e"
             ],
             [
              0.4444444444444444,
              "#bd3786"
             ],
             [
              0.5555555555555556,
              "#d8576b"
             ],
             [
              0.6666666666666666,
              "#ed7953"
             ],
             [
              0.7777777777777778,
              "#fb9f3a"
             ],
             [
              0.8888888888888888,
              "#fdca26"
             ],
             [
              1,
              "#f0f921"
             ]
            ],
            "type": "histogram2dcontour"
           }
          ],
          "mesh3d": [
           {
            "colorbar": {
             "outlinewidth": 0,
             "ticks": ""
            },
            "type": "mesh3d"
           }
          ],
          "parcoords": [
           {
            "line": {
             "colorbar": {
              "outlinewidth": 0,
              "ticks": ""
             }
            },
            "type": "parcoords"
           }
          ],
          "pie": [
           {
            "automargin": true,
            "type": "pie"
           }
          ],
          "scatter": [
           {
            "fillpattern": {
             "fillmode": "overlay",
             "size": 10,
             "solidity": 0.2
            },
            "type": "scatter"
           }
          ],
          "scatter3d": [
           {
            "line": {
             "colorbar": {
              "outlinewidth": 0,
              "ticks": ""
             }
            },
            "marker": {
             "colorbar": {
              "outlinewidth": 0,
              "ticks": ""
             }
            },
            "type": "scatter3d"
           }
          ],
          "scattercarpet": [
           {
            "marker": {
             "colorbar": {
              "outlinewidth": 0,
              "ticks": ""
             }
            },
            "type": "scattercarpet"
           }
          ],
          "scattergeo": [
           {
            "marker": {
             "colorbar": {
              "outlinewidth": 0,
              "ticks": ""
             }
            },
            "type": "scattergeo"
           }
          ],
          "scattergl": [
           {
            "marker": {
             "colorbar": {
              "outlinewidth": 0,
              "ticks": ""
             }
            },
            "type": "scattergl"
           }
          ],
          "scattermapbox": [
           {
            "marker": {
             "colorbar": {
              "outlinewidth": 0,
              "ticks": ""
             }
            },
            "type": "scattermapbox"
           }
          ],
          "scatterpolar": [
           {
            "marker": {
             "colorbar": {
              "outlinewidth": 0,
              "ticks": ""
             }
            },
            "type": "scatterpolar"
           }
          ],
          "scatterpolargl": [
           {
            "marker": {
             "colorbar": {
              "outlinewidth": 0,
              "ticks": ""
             }
            },
            "type": "scatterpolargl"
           }
          ],
          "scatterternary": [
           {
            "marker": {
             "colorbar": {
              "outlinewidth": 0,
              "ticks": ""
             }
            },
            "type": "scatterternary"
           }
          ],
          "surface": [
           {
            "colorbar": {
             "outlinewidth": 0,
             "ticks": ""
            },
            "colorscale": [
             [
              0,
              "#0d0887"
             ],
             [
              0.1111111111111111,
              "#46039f"
             ],
             [
              0.2222222222222222,
              "#7201a8"
             ],
             [
              0.3333333333333333,
              "#9c179e"
             ],
             [
              0.4444444444444444,
              "#bd3786"
             ],
             [
              0.5555555555555556,
              "#d8576b"
             ],
             [
              0.6666666666666666,
              "#ed7953"
             ],
             [
              0.7777777777777778,
              "#fb9f3a"
             ],
             [
              0.8888888888888888,
              "#fdca26"
             ],
             [
              1,
              "#f0f921"
             ]
            ],
            "type": "surface"
           }
          ],
          "table": [
           {
            "cells": {
             "fill": {
              "color": "#EBF0F8"
             },
             "line": {
              "color": "white"
             }
            },
            "header": {
             "fill": {
              "color": "#C8D4E3"
             },
             "line": {
              "color": "white"
             }
            },
            "type": "table"
           }
          ]
         },
         "layout": {
          "annotationdefaults": {
           "arrowcolor": "#2a3f5f",
           "arrowhead": 0,
           "arrowwidth": 1
          },
          "autotypenumbers": "strict",
          "coloraxis": {
           "colorbar": {
            "outlinewidth": 0,
            "ticks": ""
           }
          },
          "colorscale": {
           "diverging": [
            [
             0,
             "#8e0152"
            ],
            [
             0.1,
             "#c51b7d"
            ],
            [
             0.2,
             "#de77ae"
            ],
            [
             0.3,
             "#f1b6da"
            ],
            [
             0.4,
             "#fde0ef"
            ],
            [
             0.5,
             "#f7f7f7"
            ],
            [
             0.6,
             "#e6f5d0"
            ],
            [
             0.7,
             "#b8e186"
            ],
            [
             0.8,
             "#7fbc41"
            ],
            [
             0.9,
             "#4d9221"
            ],
            [
             1,
             "#276419"
            ]
           ],
           "sequential": [
            [
             0,
             "#0d0887"
            ],
            [
             0.1111111111111111,
             "#46039f"
            ],
            [
             0.2222222222222222,
             "#7201a8"
            ],
            [
             0.3333333333333333,
             "#9c179e"
            ],
            [
             0.4444444444444444,
             "#bd3786"
            ],
            [
             0.5555555555555556,
             "#d8576b"
            ],
            [
             0.6666666666666666,
             "#ed7953"
            ],
            [
             0.7777777777777778,
             "#fb9f3a"
            ],
            [
             0.8888888888888888,
             "#fdca26"
            ],
            [
             1,
             "#f0f921"
            ]
           ],
           "sequentialminus": [
            [
             0,
             "#0d0887"
            ],
            [
             0.1111111111111111,
             "#46039f"
            ],
            [
             0.2222222222222222,
             "#7201a8"
            ],
            [
             0.3333333333333333,
             "#9c179e"
            ],
            [
             0.4444444444444444,
             "#bd3786"
            ],
            [
             0.5555555555555556,
             "#d8576b"
            ],
            [
             0.6666666666666666,
             "#ed7953"
            ],
            [
             0.7777777777777778,
             "#fb9f3a"
            ],
            [
             0.8888888888888888,
             "#fdca26"
            ],
            [
             1,
             "#f0f921"
            ]
           ]
          },
          "colorway": [
           "#636efa",
           "#EF553B",
           "#00cc96",
           "#ab63fa",
           "#FFA15A",
           "#19d3f3",
           "#FF6692",
           "#B6E880",
           "#FF97FF",
           "#FECB52"
          ],
          "font": {
           "color": "#2a3f5f"
          },
          "geo": {
           "bgcolor": "white",
           "lakecolor": "white",
           "landcolor": "#E5ECF6",
           "showlakes": true,
           "showland": true,
           "subunitcolor": "white"
          },
          "hoverlabel": {
           "align": "left"
          },
          "hovermode": "closest",
          "mapbox": {
           "style": "light"
          },
          "paper_bgcolor": "white",
          "plot_bgcolor": "#E5ECF6",
          "polar": {
           "angularaxis": {
            "gridcolor": "white",
            "linecolor": "white",
            "ticks": ""
           },
           "bgcolor": "#E5ECF6",
           "radialaxis": {
            "gridcolor": "white",
            "linecolor": "white",
            "ticks": ""
           }
          },
          "scene": {
           "xaxis": {
            "backgroundcolor": "#E5ECF6",
            "gridcolor": "white",
            "gridwidth": 2,
            "linecolor": "white",
            "showbackground": true,
            "ticks": "",
            "zerolinecolor": "white"
           },
           "yaxis": {
            "backgroundcolor": "#E5ECF6",
            "gridcolor": "white",
            "gridwidth": 2,
            "linecolor": "white",
            "showbackground": true,
            "ticks": "",
            "zerolinecolor": "white"
           },
           "zaxis": {
            "backgroundcolor": "#E5ECF6",
            "gridcolor": "white",
            "gridwidth": 2,
            "linecolor": "white",
            "showbackground": true,
            "ticks": "",
            "zerolinecolor": "white"
           }
          },
          "shapedefaults": {
           "line": {
            "color": "#2a3f5f"
           }
          },
          "ternary": {
           "aaxis": {
            "gridcolor": "white",
            "linecolor": "white",
            "ticks": ""
           },
           "baxis": {
            "gridcolor": "white",
            "linecolor": "white",
            "ticks": ""
           },
           "bgcolor": "#E5ECF6",
           "caxis": {
            "gridcolor": "white",
            "linecolor": "white",
            "ticks": ""
           }
          },
          "title": {
           "x": 0.05
          },
          "xaxis": {
           "automargin": true,
           "gridcolor": "white",
           "linecolor": "white",
           "ticks": "",
           "title": {
            "standoff": 15
           },
           "zerolinecolor": "white",
           "zerolinewidth": 2
          },
          "yaxis": {
           "automargin": true,
           "gridcolor": "white",
           "linecolor": "white",
           "ticks": "",
           "title": {
            "standoff": 15
           },
           "zerolinecolor": "white",
           "zerolinewidth": 2
          }
         }
        },
        "width": 800
       }
      }
     },
     "metadata": {},
     "output_type": "display_data"
    }
   ],
   "source": [
    "import plotly.express as px\n",
    "\n",
    "# init_notebook_mode(connected=True)\n",
    "\n",
    "size = df_country_category[\"Total\"].apply(calc_marker_radius, args=(16,))\n",
    "fig = px.scatter_mapbox(\n",
    "    df_country_category,\n",
    "    lat=\"Lat\",\n",
    "    lon=\"Lon\",\n",
    "    hover_name=df_country_category.index,\n",
    "    hover_data=[\"Total\"],\n",
    "    color_discrete_sequence=[\"olive\"],\n",
    "    zoom=0.7,\n",
    "    size=size,\n",
    ")\n",
    "fig.update_layout(mapbox_style=\"carto-positron\", width=800, height=450)\n",
    "fig.update_layout(margin={\"r\": 0, \"t\": 0, \"l\": 0, \"b\": 0})\n",
    "fig.show()"
   ]
  },
  {
   "cell_type": "code",
   "execution_count": 25,
   "metadata": {},
   "outputs": [
    {
     "data": {
      "application/vnd.plotly.v1+json": {
       "config": {
        "plotlyServerURL": "https://plot.ly"
       },
       "data": [
        {
         "hoverinfo": "text",
         "lat": [
          -34.9964963,
          -24.7761086,
          47.59397,
          50.6402809,
          61.0666922,
          35.000074,
          55.670249,
          26.2540493,
          46.603354,
          51.1638175,
          47.1817585,
          22.3511148,
          52.865196,
          30.8124247,
          42.6384261,
          36.5748441,
          52.2434979,
          64.5731537,
          52.215933,
          64.6863136,
          -28.8166236,
          39.3260685,
          59.6749712,
          46.7985624,
          54.7023545,
          39.7837304
         ],
         "lon": [
          -64.9672817,
          134.755,
          14.12456,
          4.6667145,
          -107.991707,
          104.999927,
          10.3333283,
          29.2675469,
          1.8883335,
          10.4478313,
          19.5060937,
          78.6677428,
          -7.9794599,
          34.8594762,
          12.674297,
          139.2394179,
          5.6343227,
          11.52803643954819,
          19.134422,
          97.7453061,
          24.991639,
          -4.8379791,
          14.5208584,
          8.2319736,
          -3.2765753,
          -100.445882
         ],
         "marker": {
          "color": "olive",
          "opacity": 0.8,
          "size": [
           7.898654169668588,
           13.680870333281758,
           14.777028859756633,
           12.488868813069399,
           13.680870333281758,
           6.840435166640879,
           14.777028859756633,
           7.898654169668588,
           32.56698544176895,
           35.76267778965204,
           10.448937312523231,
           8.830963827070562,
           11.847981254502884,
           13.098436114783443,
           14.777028859756633,
           19.74663542417147,
           16.283492720884475,
           14.239501307948768,
           9.673836185197395,
           17.661927654141124,
           10.448937312523231,
           10.448937312523231,
           23.028336248678393,
           18.098090310392436,
           42.35181470309933,
           77.28985466418733
          ]
         },
         "mode": "markers",
         "text": [
          "Argentina won 4 total prizes",
          "Australia won 12 total prizes",
          "Austria won 14 total prizes",
          "Belgium won 10 total prizes",
          "Canada won 12 total prizes",
          "China (People's Republic of China) won 3 total prizes",
          "Denmark won 14 total prizes",
          "Egypt won 4 total prizes",
          "France won 68 total prizes",
          "Germany won 82 total prizes",
          "Hungary won 7 total prizes",
          "India won 5 total prizes",
          "Ireland won 9 total prizes",
          "Israel won 11 total prizes",
          "Italy won 14 total prizes",
          "Japan won 25 total prizes",
          "Netherlands won 17 total prizes",
          "Norway won 13 total prizes",
          "Poland won 6 total prizes",
          "Russia won 20 total prizes",
          "South Africa won 7 total prizes",
          "Spain won 7 total prizes",
          "Sweden won 34 total prizes",
          "Switzerland won 21 total prizes",
          "United Kingdom won 115 total prizes",
          "United States won 383 total prizes"
         ],
         "type": "scattermapbox"
        }
       ],
       "layout": {
        "height": 450,
        "hovermode": "closest",
        "mapbox": {
         "accesstoken": "pk.eyJ1Ijoia3lyYW4tZGFsZSIsImEiOiJjanZkbWE0cjkwNjkxNDBwYW0xb3p4MmtqIn0.WP9fQgGMgu8_nmMxJwFsbg",
         "style": "light",
         "zoom": 0.7
        },
        "margin": {
         "b": 0,
         "l": 0,
         "r": 0,
         "t": 0
        },
        "showlegend": false,
        "template": {
         "data": {
          "bar": [
           {
            "error_x": {
             "color": "#2a3f5f"
            },
            "error_y": {
             "color": "#2a3f5f"
            },
            "marker": {
             "line": {
              "color": "#E5ECF6",
              "width": 0.5
             },
             "pattern": {
              "fillmode": "overlay",
              "size": 10,
              "solidity": 0.2
             }
            },
            "type": "bar"
           }
          ],
          "barpolar": [
           {
            "marker": {
             "line": {
              "color": "#E5ECF6",
              "width": 0.5
             },
             "pattern": {
              "fillmode": "overlay",
              "size": 10,
              "solidity": 0.2
             }
            },
            "type": "barpolar"
           }
          ],
          "carpet": [
           {
            "aaxis": {
             "endlinecolor": "#2a3f5f",
             "gridcolor": "white",
             "linecolor": "white",
             "minorgridcolor": "white",
             "startlinecolor": "#2a3f5f"
            },
            "baxis": {
             "endlinecolor": "#2a3f5f",
             "gridcolor": "white",
             "linecolor": "white",
             "minorgridcolor": "white",
             "startlinecolor": "#2a3f5f"
            },
            "type": "carpet"
           }
          ],
          "choropleth": [
           {
            "colorbar": {
             "outlinewidth": 0,
             "ticks": ""
            },
            "type": "choropleth"
           }
          ],
          "contour": [
           {
            "colorbar": {
             "outlinewidth": 0,
             "ticks": ""
            },
            "colorscale": [
             [
              0,
              "#0d0887"
             ],
             [
              0.1111111111111111,
              "#46039f"
             ],
             [
              0.2222222222222222,
              "#7201a8"
             ],
             [
              0.3333333333333333,
              "#9c179e"
             ],
             [
              0.4444444444444444,
              "#bd3786"
             ],
             [
              0.5555555555555556,
              "#d8576b"
             ],
             [
              0.6666666666666666,
              "#ed7953"
             ],
             [
              0.7777777777777778,
              "#fb9f3a"
             ],
             [
              0.8888888888888888,
              "#fdca26"
             ],
             [
              1,
              "#f0f921"
             ]
            ],
            "type": "contour"
           }
          ],
          "contourcarpet": [
           {
            "colorbar": {
             "outlinewidth": 0,
             "ticks": ""
            },
            "type": "contourcarpet"
           }
          ],
          "heatmap": [
           {
            "colorbar": {
             "outlinewidth": 0,
             "ticks": ""
            },
            "colorscale": [
             [
              0,
              "#0d0887"
             ],
             [
              0.1111111111111111,
              "#46039f"
             ],
             [
              0.2222222222222222,
              "#7201a8"
             ],
             [
              0.3333333333333333,
              "#9c179e"
             ],
             [
              0.4444444444444444,
              "#bd3786"
             ],
             [
              0.5555555555555556,
              "#d8576b"
             ],
             [
              0.6666666666666666,
              "#ed7953"
             ],
             [
              0.7777777777777778,
              "#fb9f3a"
             ],
             [
              0.8888888888888888,
              "#fdca26"
             ],
             [
              1,
              "#f0f921"
             ]
            ],
            "type": "heatmap"
           }
          ],
          "heatmapgl": [
           {
            "colorbar": {
             "outlinewidth": 0,
             "ticks": ""
            },
            "colorscale": [
             [
              0,
              "#0d0887"
             ],
             [
              0.1111111111111111,
              "#46039f"
             ],
             [
              0.2222222222222222,
              "#7201a8"
             ],
             [
              0.3333333333333333,
              "#9c179e"
             ],
             [
              0.4444444444444444,
              "#bd3786"
             ],
             [
              0.5555555555555556,
              "#d8576b"
             ],
             [
              0.6666666666666666,
              "#ed7953"
             ],
             [
              0.7777777777777778,
              "#fb9f3a"
             ],
             [
              0.8888888888888888,
              "#fdca26"
             ],
             [
              1,
              "#f0f921"
             ]
            ],
            "type": "heatmapgl"
           }
          ],
          "histogram": [
           {
            "marker": {
             "pattern": {
              "fillmode": "overlay",
              "size": 10,
              "solidity": 0.2
             }
            },
            "type": "histogram"
           }
          ],
          "histogram2d": [
           {
            "colorbar": {
             "outlinewidth": 0,
             "ticks": ""
            },
            "colorscale": [
             [
              0,
              "#0d0887"
             ],
             [
              0.1111111111111111,
              "#46039f"
             ],
             [
              0.2222222222222222,
              "#7201a8"
             ],
             [
              0.3333333333333333,
              "#9c179e"
             ],
             [
              0.4444444444444444,
              "#bd3786"
             ],
             [
              0.5555555555555556,
              "#d8576b"
             ],
             [
              0.6666666666666666,
              "#ed7953"
             ],
             [
              0.7777777777777778,
              "#fb9f3a"
             ],
             [
              0.8888888888888888,
              "#fdca26"
             ],
             [
              1,
              "#f0f921"
             ]
            ],
            "type": "histogram2d"
           }
          ],
          "histogram2dcontour": [
           {
            "colorbar": {
             "outlinewidth": 0,
             "ticks": ""
            },
            "colorscale": [
             [
              0,
              "#0d0887"
             ],
             [
              0.1111111111111111,
              "#46039f"
             ],
             [
              0.2222222222222222,
              "#7201a8"
             ],
             [
              0.3333333333333333,
              "#9c179e"
             ],
             [
              0.4444444444444444,
              "#bd3786"
             ],
             [
              0.5555555555555556,
              "#d8576b"
             ],
             [
              0.6666666666666666,
              "#ed7953"
             ],
             [
              0.7777777777777778,
              "#fb9f3a"
             ],
             [
              0.8888888888888888,
              "#fdca26"
             ],
             [
              1,
              "#f0f921"
             ]
            ],
            "type": "histogram2dcontour"
           }
          ],
          "mesh3d": [
           {
            "colorbar": {
             "outlinewidth": 0,
             "ticks": ""
            },
            "type": "mesh3d"
           }
          ],
          "parcoords": [
           {
            "line": {
             "colorbar": {
              "outlinewidth": 0,
              "ticks": ""
             }
            },
            "type": "parcoords"
           }
          ],
          "pie": [
           {
            "automargin": true,
            "type": "pie"
           }
          ],
          "scatter": [
           {
            "fillpattern": {
             "fillmode": "overlay",
             "size": 10,
             "solidity": 0.2
            },
            "type": "scatter"
           }
          ],
          "scatter3d": [
           {
            "line": {
             "colorbar": {
              "outlinewidth": 0,
              "ticks": ""
             }
            },
            "marker": {
             "colorbar": {
              "outlinewidth": 0,
              "ticks": ""
             }
            },
            "type": "scatter3d"
           }
          ],
          "scattercarpet": [
           {
            "marker": {
             "colorbar": {
              "outlinewidth": 0,
              "ticks": ""
             }
            },
            "type": "scattercarpet"
           }
          ],
          "scattergeo": [
           {
            "marker": {
             "colorbar": {
              "outlinewidth": 0,
              "ticks": ""
             }
            },
            "type": "scattergeo"
           }
          ],
          "scattergl": [
           {
            "marker": {
             "colorbar": {
              "outlinewidth": 0,
              "ticks": ""
             }
            },
            "type": "scattergl"
           }
          ],
          "scattermapbox": [
           {
            "marker": {
             "colorbar": {
              "outlinewidth": 0,
              "ticks": ""
             }
            },
            "type": "scattermapbox"
           }
          ],
          "scatterpolar": [
           {
            "marker": {
             "colorbar": {
              "outlinewidth": 0,
              "ticks": ""
             }
            },
            "type": "scatterpolar"
           }
          ],
          "scatterpolargl": [
           {
            "marker": {
             "colorbar": {
              "outlinewidth": 0,
              "ticks": ""
             }
            },
            "type": "scatterpolargl"
           }
          ],
          "scatterternary": [
           {
            "marker": {
             "colorbar": {
              "outlinewidth": 0,
              "ticks": ""
             }
            },
            "type": "scatterternary"
           }
          ],
          "surface": [
           {
            "colorbar": {
             "outlinewidth": 0,
             "ticks": ""
            },
            "colorscale": [
             [
              0,
              "#0d0887"
             ],
             [
              0.1111111111111111,
              "#46039f"
             ],
             [
              0.2222222222222222,
              "#7201a8"
             ],
             [
              0.3333333333333333,
              "#9c179e"
             ],
             [
              0.4444444444444444,
              "#bd3786"
             ],
             [
              0.5555555555555556,
              "#d8576b"
             ],
             [
              0.6666666666666666,
              "#ed7953"
             ],
             [
              0.7777777777777778,
              "#fb9f3a"
             ],
             [
              0.8888888888888888,
              "#fdca26"
             ],
             [
              1,
              "#f0f921"
             ]
            ],
            "type": "surface"
           }
          ],
          "table": [
           {
            "cells": {
             "fill": {
              "color": "#EBF0F8"
             },
             "line": {
              "color": "white"
             }
            },
            "header": {
             "fill": {
              "color": "#C8D4E3"
             },
             "line": {
              "color": "white"
             }
            },
            "type": "table"
           }
          ]
         },
         "layout": {
          "annotationdefaults": {
           "arrowcolor": "#2a3f5f",
           "arrowhead": 0,
           "arrowwidth": 1
          },
          "autotypenumbers": "strict",
          "coloraxis": {
           "colorbar": {
            "outlinewidth": 0,
            "ticks": ""
           }
          },
          "colorscale": {
           "diverging": [
            [
             0,
             "#8e0152"
            ],
            [
             0.1,
             "#c51b7d"
            ],
            [
             0.2,
             "#de77ae"
            ],
            [
             0.3,
             "#f1b6da"
            ],
            [
             0.4,
             "#fde0ef"
            ],
            [
             0.5,
             "#f7f7f7"
            ],
            [
             0.6,
             "#e6f5d0"
            ],
            [
             0.7,
             "#b8e186"
            ],
            [
             0.8,
             "#7fbc41"
            ],
            [
             0.9,
             "#4d9221"
            ],
            [
             1,
             "#276419"
            ]
           ],
           "sequential": [
            [
             0,
             "#0d0887"
            ],
            [
             0.1111111111111111,
             "#46039f"
            ],
            [
             0.2222222222222222,
             "#7201a8"
            ],
            [
             0.3333333333333333,
             "#9c179e"
            ],
            [
             0.4444444444444444,
             "#bd3786"
            ],
            [
             0.5555555555555556,
             "#d8576b"
            ],
            [
             0.6666666666666666,
             "#ed7953"
            ],
            [
             0.7777777777777778,
             "#fb9f3a"
            ],
            [
             0.8888888888888888,
             "#fdca26"
            ],
            [
             1,
             "#f0f921"
            ]
           ],
           "sequentialminus": [
            [
             0,
             "#0d0887"
            ],
            [
             0.1111111111111111,
             "#46039f"
            ],
            [
             0.2222222222222222,
             "#7201a8"
            ],
            [
             0.3333333333333333,
             "#9c179e"
            ],
            [
             0.4444444444444444,
             "#bd3786"
            ],
            [
             0.5555555555555556,
             "#d8576b"
            ],
            [
             0.6666666666666666,
             "#ed7953"
            ],
            [
             0.7777777777777778,
             "#fb9f3a"
            ],
            [
             0.8888888888888888,
             "#fdca26"
            ],
            [
             1,
             "#f0f921"
            ]
           ]
          },
          "colorway": [
           "#636efa",
           "#EF553B",
           "#00cc96",
           "#ab63fa",
           "#FFA15A",
           "#19d3f3",
           "#FF6692",
           "#B6E880",
           "#FF97FF",
           "#FECB52"
          ],
          "font": {
           "color": "#2a3f5f"
          },
          "geo": {
           "bgcolor": "white",
           "lakecolor": "white",
           "landcolor": "#E5ECF6",
           "showlakes": true,
           "showland": true,
           "subunitcolor": "white"
          },
          "hoverlabel": {
           "align": "left"
          },
          "hovermode": "closest",
          "mapbox": {
           "style": "light"
          },
          "paper_bgcolor": "white",
          "plot_bgcolor": "#E5ECF6",
          "polar": {
           "angularaxis": {
            "gridcolor": "white",
            "linecolor": "white",
            "ticks": ""
           },
           "bgcolor": "#E5ECF6",
           "radialaxis": {
            "gridcolor": "white",
            "linecolor": "white",
            "ticks": ""
           }
          },
          "scene": {
           "xaxis": {
            "backgroundcolor": "#E5ECF6",
            "gridcolor": "white",
            "gridwidth": 2,
            "linecolor": "white",
            "showbackground": true,
            "ticks": "",
            "zerolinecolor": "white"
           },
           "yaxis": {
            "backgroundcolor": "#E5ECF6",
            "gridcolor": "white",
            "gridwidth": 2,
            "linecolor": "white",
            "showbackground": true,
            "ticks": "",
            "zerolinecolor": "white"
           },
           "zaxis": {
            "backgroundcolor": "#E5ECF6",
            "gridcolor": "white",
            "gridwidth": 2,
            "linecolor": "white",
            "showbackground": true,
            "ticks": "",
            "zerolinecolor": "white"
           }
          },
          "shapedefaults": {
           "line": {
            "color": "#2a3f5f"
           }
          },
          "ternary": {
           "aaxis": {
            "gridcolor": "white",
            "linecolor": "white",
            "ticks": ""
           },
           "baxis": {
            "gridcolor": "white",
            "linecolor": "white",
            "ticks": ""
           },
           "bgcolor": "#E5ECF6",
           "caxis": {
            "gridcolor": "white",
            "linecolor": "white",
            "ticks": ""
           }
          },
          "title": {
           "x": 0.05
          },
          "xaxis": {
           "automargin": true,
           "gridcolor": "white",
           "linecolor": "white",
           "ticks": "",
           "title": {
            "standoff": 15
           },
           "zerolinecolor": "white",
           "zerolinewidth": 2
          },
          "yaxis": {
           "automargin": true,
           "gridcolor": "white",
           "linecolor": "white",
           "ticks": "",
           "title": {
            "standoff": 15
           },
           "zerolinecolor": "white",
           "zerolinewidth": 2
          }
         }
        },
        "title": {
         "text": "Nobel prize totals by country"
        },
        "width": 875
       }
      }
     },
     "metadata": {},
     "output_type": "display_data"
    }
   ],
   "source": [
    "mapbox_access_token = \"pk.eyJ1Ijoia3lyYW4tZGFsZSIsImEiOiJjanZkbWE0cjkwNjkxNDBwYW0xb3p4MmtqIn0.WP9fQgGMgu8_nmMxJwFsbg\"\n",
    "\n",
    "df_cc = df_country_category\n",
    "\n",
    "site_lat = df_cc.Lat\n",
    "site_lon = df_cc.Lon\n",
    "totals = df_cc.Total\n",
    "locations_name = df_cc.index\n",
    "\n",
    "layout = go.Layout(\n",
    "    title=\"Nobel prize totals by country\",\n",
    "    hovermode=\"closest\",\n",
    "    showlegend=False,\n",
    "    margin={\"l\": 0, \"t\": 0, \"b\": 0, \"r\": 0},\n",
    "    mapbox=dict(accesstoken=mapbox_access_token, zoom=0.7, style=\"light\"),\n",
    "    width=875,\n",
    "    height=450,\n",
    ")\n",
    "\n",
    "traces = [\n",
    "    go.Scattermapbox(\n",
    "        lat=site_lat,\n",
    "        lon=site_lon,\n",
    "        mode=\"markers\",\n",
    "        marker=dict(\n",
    "            size=totals.apply(calc_marker_radius, args=(7,)),\n",
    "            color=\"olive\",\n",
    "            opacity=0.8,\n",
    "        ),\n",
    "        text=[\n",
    "            f\"{locations_name[i]} won {int(x)} total prizes\"\n",
    "            for i, x in enumerate(totals)\n",
    "        ],\n",
    "        hoverinfo=\"text\",\n",
    "    )\n",
    "]\n",
    "\n",
    "fig = go.Figure(traces, layout=layout)\n",
    "fig.show()"
   ]
  },
  {
   "cell_type": "code",
   "execution_count": 26,
   "metadata": {},
   "outputs": [
    {
     "data": {
      "text/html": [
       "<div>\n",
       "<style scoped>\n",
       "    .dataframe tbody tr th:only-of-type {\n",
       "        vertical-align: middle;\n",
       "    }\n",
       "\n",
       "    .dataframe tbody tr th {\n",
       "        vertical-align: top;\n",
       "    }\n",
       "\n",
       "    .dataframe thead th {\n",
       "        text-align: right;\n",
       "    }\n",
       "</style>\n",
       "<table border=\"1\" class=\"dataframe\">\n",
       "  <thead>\n",
       "    <tr style=\"text-align: right;\">\n",
       "      <th>category</th>\n",
       "      <th>Chemistry</th>\n",
       "      <th>Economics</th>\n",
       "      <th>Literature</th>\n",
       "      <th>Peace</th>\n",
       "      <th>Physics</th>\n",
       "      <th>Physiology or Medicine</th>\n",
       "      <th>Total</th>\n",
       "      <th>Lat</th>\n",
       "      <th>Lon</th>\n",
       "    </tr>\n",
       "    <tr>\n",
       "      <th>country</th>\n",
       "      <th></th>\n",
       "      <th></th>\n",
       "      <th></th>\n",
       "      <th></th>\n",
       "      <th></th>\n",
       "      <th></th>\n",
       "      <th></th>\n",
       "      <th></th>\n",
       "      <th></th>\n",
       "    </tr>\n",
       "  </thead>\n",
       "  <tbody>\n",
       "    <tr>\n",
       "      <th>Argentina</th>\n",
       "      <td>1.0</td>\n",
       "      <td>NaN</td>\n",
       "      <td>NaN</td>\n",
       "      <td>2.0</td>\n",
       "      <td>NaN</td>\n",
       "      <td>1.0</td>\n",
       "      <td>4.0</td>\n",
       "      <td>-34.996496</td>\n",
       "      <td>-64.967282</td>\n",
       "    </tr>\n",
       "    <tr>\n",
       "      <th>Australia</th>\n",
       "      <td>NaN</td>\n",
       "      <td>NaN</td>\n",
       "      <td>1.0</td>\n",
       "      <td>NaN</td>\n",
       "      <td>4.0</td>\n",
       "      <td>7.0</td>\n",
       "      <td>12.0</td>\n",
       "      <td>-24.776109</td>\n",
       "      <td>134.755000</td>\n",
       "    </tr>\n",
       "  </tbody>\n",
       "</table>\n",
       "</div>"
      ],
      "text/plain": [
       "category   Chemistry  Economics  Literature  Peace  Physics  \\\n",
       "country                                                       \n",
       "Argentina        1.0        NaN         NaN    2.0      NaN   \n",
       "Australia        NaN        NaN         1.0    NaN      4.0   \n",
       "\n",
       "category   Physiology or Medicine  Total        Lat         Lon  \n",
       "country                                                          \n",
       "Argentina                     1.0    4.0 -34.996496  -64.967282  \n",
       "Australia                     7.0   12.0 -24.776109  134.755000  "
      ]
     },
     "execution_count": 26,
     "metadata": {},
     "output_type": "execute_result"
    }
   ],
   "source": [
    "df_country_category.head(2)"
   ]
  },
  {
   "cell_type": "code",
   "execution_count": 27,
   "metadata": {},
   "outputs": [],
   "source": [
    "df_countries_category.fillna(0,inplace=True)"
   ]
  },
  {
   "cell_type": "code",
   "execution_count": 28,
   "metadata": {},
   "outputs": [
    {
     "data": {
      "text/plain": [
       "country        category              \n",
       "Argentina      Chemistry                   1\n",
       "               Peace                       2\n",
       "               Physiology or Medicine      1\n",
       "Australia      Literature                  1\n",
       "               Physics                     4\n",
       "                                        ... \n",
       "United States  Physics                    99\n",
       "               Physiology or Medicine    109\n",
       "Vietnam        Peace                       1\n",
       "Yemen          Peace                       1\n",
       "Yugoslavia     Literature                  1\n",
       "Length: 168, dtype: int64"
      ]
     },
     "execution_count": 28,
     "metadata": {},
     "output_type": "execute_result"
    }
   ],
   "source": [
    "df_countries_category"
   ]
  },
  {
   "cell_type": "code",
   "execution_count": 29,
   "metadata": {},
   "outputs": [
    {
     "data": {
      "text/html": [
       "<div>\n",
       "<style scoped>\n",
       "    .dataframe tbody tr th:only-of-type {\n",
       "        vertical-align: middle;\n",
       "    }\n",
       "\n",
       "    .dataframe tbody tr th {\n",
       "        vertical-align: top;\n",
       "    }\n",
       "\n",
       "    .dataframe thead th {\n",
       "        text-align: right;\n",
       "    }\n",
       "</style>\n",
       "<table border=\"1\" class=\"dataframe\">\n",
       "  <thead>\n",
       "    <tr style=\"text-align: right;\">\n",
       "      <th>category</th>\n",
       "      <th>Chemistry</th>\n",
       "      <th>Economics</th>\n",
       "      <th>Literature</th>\n",
       "      <th>Peace</th>\n",
       "      <th>Physics</th>\n",
       "      <th>Physiology or Medicine</th>\n",
       "      <th>Total</th>\n",
       "      <th>Lat</th>\n",
       "      <th>Lon</th>\n",
       "    </tr>\n",
       "    <tr>\n",
       "      <th>country</th>\n",
       "      <th></th>\n",
       "      <th></th>\n",
       "      <th></th>\n",
       "      <th></th>\n",
       "      <th></th>\n",
       "      <th></th>\n",
       "      <th></th>\n",
       "      <th></th>\n",
       "      <th></th>\n",
       "    </tr>\n",
       "  </thead>\n",
       "  <tbody>\n",
       "    <tr>\n",
       "      <th>Argentina</th>\n",
       "      <td>1.0</td>\n",
       "      <td>0.0</td>\n",
       "      <td>0.0</td>\n",
       "      <td>2.0</td>\n",
       "      <td>0.0</td>\n",
       "      <td>1.0</td>\n",
       "      <td>4.0</td>\n",
       "      <td>-34.996496</td>\n",
       "      <td>-64.967282</td>\n",
       "    </tr>\n",
       "    <tr>\n",
       "      <th>Australia</th>\n",
       "      <td>0.0</td>\n",
       "      <td>0.0</td>\n",
       "      <td>1.0</td>\n",
       "      <td>0.0</td>\n",
       "      <td>4.0</td>\n",
       "      <td>7.0</td>\n",
       "      <td>12.0</td>\n",
       "      <td>-24.776109</td>\n",
       "      <td>134.755000</td>\n",
       "    </tr>\n",
       "    <tr>\n",
       "      <th>Austria</th>\n",
       "      <td>1.0</td>\n",
       "      <td>1.0</td>\n",
       "      <td>2.0</td>\n",
       "      <td>2.0</td>\n",
       "      <td>4.0</td>\n",
       "      <td>4.0</td>\n",
       "      <td>14.0</td>\n",
       "      <td>47.593970</td>\n",
       "      <td>14.124560</td>\n",
       "    </tr>\n",
       "    <tr>\n",
       "      <th>Belgium</th>\n",
       "      <td>1.0</td>\n",
       "      <td>0.0</td>\n",
       "      <td>1.0</td>\n",
       "      <td>3.0</td>\n",
       "      <td>1.0</td>\n",
       "      <td>4.0</td>\n",
       "      <td>10.0</td>\n",
       "      <td>50.640281</td>\n",
       "      <td>4.666715</td>\n",
       "    </tr>\n",
       "    <tr>\n",
       "      <th>Canada</th>\n",
       "      <td>2.0</td>\n",
       "      <td>2.0</td>\n",
       "      <td>1.0</td>\n",
       "      <td>1.0</td>\n",
       "      <td>4.0</td>\n",
       "      <td>2.0</td>\n",
       "      <td>12.0</td>\n",
       "      <td>61.066692</td>\n",
       "      <td>-107.991707</td>\n",
       "    </tr>\n",
       "    <tr>\n",
       "      <th>China (People's Republic of China)</th>\n",
       "      <td>0.0</td>\n",
       "      <td>0.0</td>\n",
       "      <td>1.0</td>\n",
       "      <td>1.0</td>\n",
       "      <td>0.0</td>\n",
       "      <td>1.0</td>\n",
       "      <td>3.0</td>\n",
       "      <td>35.000074</td>\n",
       "      <td>104.999927</td>\n",
       "    </tr>\n",
       "    <tr>\n",
       "      <th>Denmark</th>\n",
       "      <td>2.0</td>\n",
       "      <td>0.0</td>\n",
       "      <td>3.0</td>\n",
       "      <td>1.0</td>\n",
       "      <td>3.0</td>\n",
       "      <td>5.0</td>\n",
       "      <td>14.0</td>\n",
       "      <td>55.670249</td>\n",
       "      <td>10.333328</td>\n",
       "    </tr>\n",
       "    <tr>\n",
       "      <th>Egypt</th>\n",
       "      <td>1.0</td>\n",
       "      <td>0.0</td>\n",
       "      <td>1.0</td>\n",
       "      <td>2.0</td>\n",
       "      <td>0.0</td>\n",
       "      <td>0.0</td>\n",
       "      <td>4.0</td>\n",
       "      <td>26.254049</td>\n",
       "      <td>29.267547</td>\n",
       "    </tr>\n",
       "    <tr>\n",
       "      <th>France</th>\n",
       "      <td>11.0</td>\n",
       "      <td>3.0</td>\n",
       "      <td>17.0</td>\n",
       "      <td>10.0</td>\n",
       "      <td>15.0</td>\n",
       "      <td>12.0</td>\n",
       "      <td>68.0</td>\n",
       "      <td>46.603354</td>\n",
       "      <td>1.888334</td>\n",
       "    </tr>\n",
       "    <tr>\n",
       "      <th>Germany</th>\n",
       "      <td>30.0</td>\n",
       "      <td>1.0</td>\n",
       "      <td>8.0</td>\n",
       "      <td>4.0</td>\n",
       "      <td>24.0</td>\n",
       "      <td>15.0</td>\n",
       "      <td>82.0</td>\n",
       "      <td>51.163818</td>\n",
       "      <td>10.447831</td>\n",
       "    </tr>\n",
       "    <tr>\n",
       "      <th>Hungary</th>\n",
       "      <td>3.0</td>\n",
       "      <td>0.0</td>\n",
       "      <td>1.0</td>\n",
       "      <td>0.0</td>\n",
       "      <td>2.0</td>\n",
       "      <td>1.0</td>\n",
       "      <td>7.0</td>\n",
       "      <td>47.181759</td>\n",
       "      <td>19.506094</td>\n",
       "    </tr>\n",
       "    <tr>\n",
       "      <th>India</th>\n",
       "      <td>0.0</td>\n",
       "      <td>1.0</td>\n",
       "      <td>1.0</td>\n",
       "      <td>2.0</td>\n",
       "      <td>1.0</td>\n",
       "      <td>0.0</td>\n",
       "      <td>5.0</td>\n",
       "      <td>22.351115</td>\n",
       "      <td>78.667743</td>\n",
       "    </tr>\n",
       "    <tr>\n",
       "      <th>Ireland</th>\n",
       "      <td>0.0</td>\n",
       "      <td>0.0</td>\n",
       "      <td>3.0</td>\n",
       "      <td>4.0</td>\n",
       "      <td>1.0</td>\n",
       "      <td>1.0</td>\n",
       "      <td>9.0</td>\n",
       "      <td>52.865196</td>\n",
       "      <td>-7.979460</td>\n",
       "    </tr>\n",
       "    <tr>\n",
       "      <th>Israel</th>\n",
       "      <td>5.0</td>\n",
       "      <td>2.0</td>\n",
       "      <td>1.0</td>\n",
       "      <td>3.0</td>\n",
       "      <td>0.0</td>\n",
       "      <td>0.0</td>\n",
       "      <td>11.0</td>\n",
       "      <td>30.812425</td>\n",
       "      <td>34.859476</td>\n",
       "    </tr>\n",
       "    <tr>\n",
       "      <th>Italy</th>\n",
       "      <td>1.0</td>\n",
       "      <td>0.0</td>\n",
       "      <td>6.0</td>\n",
       "      <td>1.0</td>\n",
       "      <td>4.0</td>\n",
       "      <td>2.0</td>\n",
       "      <td>14.0</td>\n",
       "      <td>42.638426</td>\n",
       "      <td>12.674297</td>\n",
       "    </tr>\n",
       "    <tr>\n",
       "      <th>Japan</th>\n",
       "      <td>8.0</td>\n",
       "      <td>0.0</td>\n",
       "      <td>2.0</td>\n",
       "      <td>1.0</td>\n",
       "      <td>9.0</td>\n",
       "      <td>5.0</td>\n",
       "      <td>25.0</td>\n",
       "      <td>36.574844</td>\n",
       "      <td>139.239418</td>\n",
       "    </tr>\n",
       "    <tr>\n",
       "      <th>Netherlands</th>\n",
       "      <td>3.0</td>\n",
       "      <td>2.0</td>\n",
       "      <td>0.0</td>\n",
       "      <td>1.0</td>\n",
       "      <td>9.0</td>\n",
       "      <td>2.0</td>\n",
       "      <td>17.0</td>\n",
       "      <td>52.243498</td>\n",
       "      <td>5.634323</td>\n",
       "    </tr>\n",
       "    <tr>\n",
       "      <th>Norway</th>\n",
       "      <td>1.0</td>\n",
       "      <td>3.0</td>\n",
       "      <td>4.0</td>\n",
       "      <td>2.0</td>\n",
       "      <td>1.0</td>\n",
       "      <td>2.0</td>\n",
       "      <td>13.0</td>\n",
       "      <td>64.573154</td>\n",
       "      <td>11.528036</td>\n",
       "    </tr>\n",
       "    <tr>\n",
       "      <th>Poland</th>\n",
       "      <td>0.0</td>\n",
       "      <td>0.0</td>\n",
       "      <td>4.0</td>\n",
       "      <td>1.0</td>\n",
       "      <td>1.0</td>\n",
       "      <td>0.0</td>\n",
       "      <td>6.0</td>\n",
       "      <td>52.215933</td>\n",
       "      <td>19.134422</td>\n",
       "    </tr>\n",
       "    <tr>\n",
       "      <th>Russia</th>\n",
       "      <td>2.0</td>\n",
       "      <td>1.0</td>\n",
       "      <td>4.0</td>\n",
       "      <td>3.0</td>\n",
       "      <td>8.0</td>\n",
       "      <td>2.0</td>\n",
       "      <td>20.0</td>\n",
       "      <td>64.686314</td>\n",
       "      <td>97.745306</td>\n",
       "    </tr>\n",
       "    <tr>\n",
       "      <th>South Africa</th>\n",
       "      <td>0.0</td>\n",
       "      <td>0.0</td>\n",
       "      <td>2.0</td>\n",
       "      <td>4.0</td>\n",
       "      <td>0.0</td>\n",
       "      <td>1.0</td>\n",
       "      <td>7.0</td>\n",
       "      <td>-28.816624</td>\n",
       "      <td>24.991639</td>\n",
       "    </tr>\n",
       "    <tr>\n",
       "      <th>Spain</th>\n",
       "      <td>0.0</td>\n",
       "      <td>0.0</td>\n",
       "      <td>6.0</td>\n",
       "      <td>0.0</td>\n",
       "      <td>0.0</td>\n",
       "      <td>1.0</td>\n",
       "      <td>7.0</td>\n",
       "      <td>39.326068</td>\n",
       "      <td>-4.837979</td>\n",
       "    </tr>\n",
       "    <tr>\n",
       "      <th>Sweden</th>\n",
       "      <td>5.0</td>\n",
       "      <td>2.0</td>\n",
       "      <td>8.0</td>\n",
       "      <td>5.0</td>\n",
       "      <td>5.0</td>\n",
       "      <td>9.0</td>\n",
       "      <td>34.0</td>\n",
       "      <td>59.674971</td>\n",
       "      <td>14.520858</td>\n",
       "    </tr>\n",
       "    <tr>\n",
       "      <th>Switzerland</th>\n",
       "      <td>5.0</td>\n",
       "      <td>0.0</td>\n",
       "      <td>2.0</td>\n",
       "      <td>2.0</td>\n",
       "      <td>5.0</td>\n",
       "      <td>7.0</td>\n",
       "      <td>21.0</td>\n",
       "      <td>46.798562</td>\n",
       "      <td>8.231974</td>\n",
       "    </tr>\n",
       "    <tr>\n",
       "      <th>United Kingdom</th>\n",
       "      <td>29.0</td>\n",
       "      <td>9.0</td>\n",
       "      <td>13.0</td>\n",
       "      <td>9.0</td>\n",
       "      <td>23.0</td>\n",
       "      <td>32.0</td>\n",
       "      <td>115.0</td>\n",
       "      <td>54.702354</td>\n",
       "      <td>-3.276575</td>\n",
       "    </tr>\n",
       "    <tr>\n",
       "      <th>United States</th>\n",
       "      <td>77.0</td>\n",
       "      <td>65.0</td>\n",
       "      <td>12.0</td>\n",
       "      <td>21.0</td>\n",
       "      <td>99.0</td>\n",
       "      <td>109.0</td>\n",
       "      <td>383.0</td>\n",
       "      <td>39.783730</td>\n",
       "      <td>-100.445882</td>\n",
       "    </tr>\n",
       "  </tbody>\n",
       "</table>\n",
       "</div>"
      ],
      "text/plain": [
       "category                            Chemistry  Economics  Literature  Peace  \\\n",
       "country                                                                       \n",
       "Argentina                                 1.0        0.0         0.0    2.0   \n",
       "Australia                                 0.0        0.0         1.0    0.0   \n",
       "Austria                                   1.0        1.0         2.0    2.0   \n",
       "Belgium                                   1.0        0.0         1.0    3.0   \n",
       "Canada                                    2.0        2.0         1.0    1.0   \n",
       "China (People's Republic of China)        0.0        0.0         1.0    1.0   \n",
       "Denmark                                   2.0        0.0         3.0    1.0   \n",
       "Egypt                                     1.0        0.0         1.0    2.0   \n",
       "France                                   11.0        3.0        17.0   10.0   \n",
       "Germany                                  30.0        1.0         8.0    4.0   \n",
       "Hungary                                   3.0        0.0         1.0    0.0   \n",
       "India                                     0.0        1.0         1.0    2.0   \n",
       "Ireland                                   0.0        0.0         3.0    4.0   \n",
       "Israel                                    5.0        2.0         1.0    3.0   \n",
       "Italy                                     1.0        0.0         6.0    1.0   \n",
       "Japan                                     8.0        0.0         2.0    1.0   \n",
       "Netherlands                               3.0        2.0         0.0    1.0   \n",
       "Norway                                    1.0        3.0         4.0    2.0   \n",
       "Poland                                    0.0        0.0         4.0    1.0   \n",
       "Russia                                    2.0        1.0         4.0    3.0   \n",
       "South Africa                              0.0        0.0         2.0    4.0   \n",
       "Spain                                     0.0        0.0         6.0    0.0   \n",
       "Sweden                                    5.0        2.0         8.0    5.0   \n",
       "Switzerland                               5.0        0.0         2.0    2.0   \n",
       "United Kingdom                           29.0        9.0        13.0    9.0   \n",
       "United States                            77.0       65.0        12.0   21.0   \n",
       "\n",
       "category                            Physics  Physiology or Medicine  Total  \\\n",
       "country                                                                      \n",
       "Argentina                               0.0                     1.0    4.0   \n",
       "Australia                               4.0                     7.0   12.0   \n",
       "Austria                                 4.0                     4.0   14.0   \n",
       "Belgium                                 1.0                     4.0   10.0   \n",
       "Canada                                  4.0                     2.0   12.0   \n",
       "China (People's Republic of China)      0.0                     1.0    3.0   \n",
       "Denmark                                 3.0                     5.0   14.0   \n",
       "Egypt                                   0.0                     0.0    4.0   \n",
       "France                                 15.0                    12.0   68.0   \n",
       "Germany                                24.0                    15.0   82.0   \n",
       "Hungary                                 2.0                     1.0    7.0   \n",
       "India                                   1.0                     0.0    5.0   \n",
       "Ireland                                 1.0                     1.0    9.0   \n",
       "Israel                                  0.0                     0.0   11.0   \n",
       "Italy                                   4.0                     2.0   14.0   \n",
       "Japan                                   9.0                     5.0   25.0   \n",
       "Netherlands                             9.0                     2.0   17.0   \n",
       "Norway                                  1.0                     2.0   13.0   \n",
       "Poland                                  1.0                     0.0    6.0   \n",
       "Russia                                  8.0                     2.0   20.0   \n",
       "South Africa                            0.0                     1.0    7.0   \n",
       "Spain                                   0.0                     1.0    7.0   \n",
       "Sweden                                  5.0                     9.0   34.0   \n",
       "Switzerland                             5.0                     7.0   21.0   \n",
       "United Kingdom                         23.0                    32.0  115.0   \n",
       "United States                          99.0                   109.0  383.0   \n",
       "\n",
       "category                                  Lat         Lon  \n",
       "country                                                    \n",
       "Argentina                          -34.996496  -64.967282  \n",
       "Australia                          -24.776109  134.755000  \n",
       "Austria                             47.593970   14.124560  \n",
       "Belgium                             50.640281    4.666715  \n",
       "Canada                              61.066692 -107.991707  \n",
       "China (People's Republic of China)  35.000074  104.999927  \n",
       "Denmark                             55.670249   10.333328  \n",
       "Egypt                               26.254049   29.267547  \n",
       "France                              46.603354    1.888334  \n",
       "Germany                             51.163818   10.447831  \n",
       "Hungary                             47.181759   19.506094  \n",
       "India                               22.351115   78.667743  \n",
       "Ireland                             52.865196   -7.979460  \n",
       "Israel                              30.812425   34.859476  \n",
       "Italy                               42.638426   12.674297  \n",
       "Japan                               36.574844  139.239418  \n",
       "Netherlands                         52.243498    5.634323  \n",
       "Norway                              64.573154   11.528036  \n",
       "Poland                              52.215933   19.134422  \n",
       "Russia                              64.686314   97.745306  \n",
       "South Africa                       -28.816624   24.991639  \n",
       "Spain                               39.326068   -4.837979  \n",
       "Sweden                              59.674971   14.520858  \n",
       "Switzerland                         46.798562    8.231974  \n",
       "United Kingdom                      54.702354   -3.276575  \n",
       "United States                       39.783730 -100.445882  "
      ]
     },
     "execution_count": 29,
     "metadata": {},
     "output_type": "execute_result"
    }
   ],
   "source": [
    "df_cc.fillna(0,inplace=True)\n",
    "df_cc"
   ]
  },
  {
   "cell_type": "code",
   "execution_count": 30,
   "metadata": {},
   "outputs": [
    {
     "data": {
      "application/vnd.plotly.v1+json": {
       "config": {
        "plotlyServerURL": "https://plot.ly"
       },
       "data": [
        {
         "hoverinfo": "text",
         "lat": [
          -34.9964963,
          -24.7761086,
          47.59397,
          50.6402809,
          61.0666922,
          35.000074,
          55.670249,
          26.2540493,
          46.603354,
          51.1638175,
          47.1817585,
          22.3511148,
          52.865196,
          30.8124247,
          42.6384261,
          36.5748441,
          52.2434979,
          64.5731537,
          52.215933,
          64.6863136,
          -28.8166236,
          39.3260685,
          59.6749712,
          46.7985624,
          54.7023545,
          39.7837304
         ],
         "lon": [
          -64.9672817,
          134.755,
          14.12456,
          4.6667145,
          -107.991707,
          104.999927,
          10.3333283,
          29.2675469,
          1.8883335,
          10.4478313,
          19.5060937,
          78.6677428,
          -7.9794599,
          34.8594762,
          12.674297,
          139.2394179,
          5.6343227,
          11.52803643954819,
          19.134422,
          97.7453061,
          24.991639,
          -4.8379791,
          14.5208584,
          8.2319736,
          -3.2765753,
          -100.445882
         ],
         "marker": {
          "color": "#1b9e77",
          "opacity": 0.8,
          "size": [
           7.898654169668588,
           13.680870333281758,
           14.777028859756633,
           12.488868813069399,
           13.680870333281758,
           6.840435166640879,
           14.777028859756633,
           7.898654169668588,
           32.56698544176895,
           35.76267778965204,
           10.448937312523231,
           8.830963827070562,
           11.847981254502884,
           13.098436114783443,
           14.777028859756633,
           19.74663542417147,
           16.283492720884475,
           14.239501307948768,
           9.673836185197395,
           17.661927654141124,
           10.448937312523231,
           10.448937312523231,
           23.028336248678393,
           18.098090310392436,
           42.35181470309933,
           77.28985466418733
          ]
         },
         "mode": "markers",
         "text": [
          "Argentina prizes for Total: 4",
          "Australia prizes for Total: 12",
          "Austria prizes for Total: 14",
          "Belgium prizes for Total: 10",
          "Canada prizes for Total: 12",
          "China (People's Republic of China) prizes for Total: 3",
          "Denmark prizes for Total: 14",
          "Egypt prizes for Total: 4",
          "France prizes for Total: 68",
          "Germany prizes for Total: 82",
          "Hungary prizes for Total: 7",
          "India prizes for Total: 5",
          "Ireland prizes for Total: 9",
          "Israel prizes for Total: 11",
          "Italy prizes for Total: 14",
          "Japan prizes for Total: 25",
          "Netherlands prizes for Total: 17",
          "Norway prizes for Total: 13",
          "Poland prizes for Total: 6",
          "Russia prizes for Total: 20",
          "South Africa prizes for Total: 7",
          "Spain prizes for Total: 7",
          "Sweden prizes for Total: 34",
          "Switzerland prizes for Total: 21",
          "United Kingdom prizes for Total: 115",
          "United States prizes for Total: 383"
         ],
         "type": "scattermapbox",
         "visible": true
        },
        {
         "hoverinfo": "text",
         "lat": [
          -34.9964963,
          -24.7761086,
          47.59397,
          50.6402809,
          61.0666922,
          35.000074,
          55.670249,
          26.2540493,
          46.603354,
          51.1638175,
          47.1817585,
          22.3511148,
          52.865196,
          30.8124247,
          42.6384261,
          36.5748441,
          52.2434979,
          64.5731537,
          52.215933,
          64.6863136,
          -28.8166236,
          39.3260685,
          59.6749712,
          46.7985624,
          54.7023545,
          39.7837304
         ],
         "lon": [
          -64.9672817,
          134.755,
          14.12456,
          4.6667145,
          -107.991707,
          104.999927,
          10.3333283,
          29.2675469,
          1.8883335,
          10.4478313,
          19.5060937,
          78.6677428,
          -7.9794599,
          34.8594762,
          12.674297,
          139.2394179,
          5.6343227,
          11.52803643954819,
          19.134422,
          97.7453061,
          24.991639,
          -4.8379791,
          14.5208584,
          8.2319736,
          -3.2765753,
          -100.445882
         ],
         "marker": {
          "color": "#d95f02",
          "opacity": 0.8,
          "size": [
           3.949327084834294,
           0,
           3.949327084834294,
           3.949327084834294,
           5.585191925620058,
           0,
           5.585191925620058,
           3.949327084834294,
           13.098436114783443,
           21.631355313298616,
           6.840435166640879,
           0,
           0,
           8.830963827070562,
           3.949327084834294,
           11.170383851240116,
           6.840435166640879,
           3.949327084834294,
           0,
           5.585191925620058,
           0,
           0,
           8.830963827070562,
           8.830963827070562,
           21.267777229112745,
           34.655204523584075
          ]
         },
         "mode": "markers",
         "text": [
          "Argentina prizes for Chemistry: 1",
          "Australia prizes for Chemistry: 0",
          "Austria prizes for Chemistry: 1",
          "Belgium prizes for Chemistry: 1",
          "Canada prizes for Chemistry: 2",
          "China (People's Republic of China) prizes for Chemistry: 0",
          "Denmark prizes for Chemistry: 2",
          "Egypt prizes for Chemistry: 1",
          "France prizes for Chemistry: 11",
          "Germany prizes for Chemistry: 30",
          "Hungary prizes for Chemistry: 3",
          "India prizes for Chemistry: 0",
          "Ireland prizes for Chemistry: 0",
          "Israel prizes for Chemistry: 5",
          "Italy prizes for Chemistry: 1",
          "Japan prizes for Chemistry: 8",
          "Netherlands prizes for Chemistry: 3",
          "Norway prizes for Chemistry: 1",
          "Poland prizes for Chemistry: 0",
          "Russia prizes for Chemistry: 2",
          "South Africa prizes for Chemistry: 0",
          "Spain prizes for Chemistry: 0",
          "Sweden prizes for Chemistry: 5",
          "Switzerland prizes for Chemistry: 5",
          "United Kingdom prizes for Chemistry: 29",
          "United States prizes for Chemistry: 77"
         ],
         "type": "scattermapbox",
         "visible": false
        },
        {
         "hoverinfo": "text",
         "lat": [
          -34.9964963,
          -24.7761086,
          47.59397,
          50.6402809,
          61.0666922,
          35.000074,
          55.670249,
          26.2540493,
          46.603354,
          51.1638175,
          47.1817585,
          22.3511148,
          52.865196,
          30.8124247,
          42.6384261,
          36.5748441,
          52.2434979,
          64.5731537,
          52.215933,
          64.6863136,
          -28.8166236,
          39.3260685,
          59.6749712,
          46.7985624,
          54.7023545,
          39.7837304
         ],
         "lon": [
          -64.9672817,
          134.755,
          14.12456,
          4.6667145,
          -107.991707,
          104.999927,
          10.3333283,
          29.2675469,
          1.8883335,
          10.4478313,
          19.5060937,
          78.6677428,
          -7.9794599,
          34.8594762,
          12.674297,
          139.2394179,
          5.6343227,
          11.52803643954819,
          19.134422,
          97.7453061,
          24.991639,
          -4.8379791,
          14.5208584,
          8.2319736,
          -3.2765753,
          -100.445882
         ],
         "marker": {
          "color": "#7570b3",
          "opacity": 0.8,
          "size": [
           0,
           0,
           3.949327084834294,
           0,
           5.585191925620058,
           0,
           0,
           0,
           6.840435166640879,
           3.949327084834294,
           0,
           3.949327084834294,
           0,
           5.585191925620058,
           0,
           0,
           5.585191925620058,
           6.840435166640879,
           0,
           3.949327084834294,
           0,
           0,
           5.585191925620058,
           0,
           11.847981254502884,
           31.84049289027061
          ]
         },
         "mode": "markers",
         "text": [
          "Argentina prizes for Economics: 0",
          "Australia prizes for Economics: 0",
          "Austria prizes for Economics: 1",
          "Belgium prizes for Economics: 0",
          "Canada prizes for Economics: 2",
          "China (People's Republic of China) prizes for Economics: 0",
          "Denmark prizes for Economics: 0",
          "Egypt prizes for Economics: 0",
          "France prizes for Economics: 3",
          "Germany prizes for Economics: 1",
          "Hungary prizes for Economics: 0",
          "India prizes for Economics: 1",
          "Ireland prizes for Economics: 0",
          "Israel prizes for Economics: 2",
          "Italy prizes for Economics: 0",
          "Japan prizes for Economics: 0",
          "Netherlands prizes for Economics: 2",
          "Norway prizes for Economics: 3",
          "Poland prizes for Economics: 0",
          "Russia prizes for Economics: 1",
          "South Africa prizes for Economics: 0",
          "Spain prizes for Economics: 0",
          "Sweden prizes for Economics: 2",
          "Switzerland prizes for Economics: 0",
          "United Kingdom prizes for Economics: 9",
          "United States prizes for Economics: 65"
         ],
         "type": "scattermapbox",
         "visible": false
        },
        {
         "hoverinfo": "text",
         "lat": [
          -34.9964963,
          -24.7761086,
          47.59397,
          50.6402809,
          61.0666922,
          35.000074,
          55.670249,
          26.2540493,
          46.603354,
          51.1638175,
          47.1817585,
          22.3511148,
          52.865196,
          30.8124247,
          42.6384261,
          36.5748441,
          52.2434979,
          64.5731537,
          52.215933,
          64.6863136,
          -28.8166236,
          39.3260685,
          59.6749712,
          46.7985624,
          54.7023545,
          39.7837304
         ],
         "lon": [
          -64.9672817,
          134.755,
          14.12456,
          4.6667145,
          -107.991707,
          104.999927,
          10.3333283,
          29.2675469,
          1.8883335,
          10.4478313,
          19.5060937,
          78.6677428,
          -7.9794599,
          34.8594762,
          12.674297,
          139.2394179,
          5.6343227,
          11.52803643954819,
          19.134422,
          97.7453061,
          24.991639,
          -4.8379791,
          14.5208584,
          8.2319736,
          -3.2765753,
          -100.445882
         ],
         "marker": {
          "color": "#e7298a",
          "opacity": 0.8,
          "size": [
           0,
           3.949327084834294,
           5.585191925620058,
           3.949327084834294,
           3.949327084834294,
           3.949327084834294,
           6.840435166640879,
           3.949327084834294,
           16.283492720884475,
           11.170383851240116,
           3.949327084834294,
           3.949327084834294,
           6.840435166640879,
           3.949327084834294,
           9.673836185197395,
           5.585191925620058,
           0,
           7.898654169668588,
           7.898654169668588,
           7.898654169668588,
           5.585191925620058,
           9.673836185197395,
           11.170383851240116,
           5.585191925620058,
           14.239501307948768,
           13.680870333281758
          ]
         },
         "mode": "markers",
         "text": [
          "Argentina prizes for Literature: 0",
          "Australia prizes for Literature: 1",
          "Austria prizes for Literature: 2",
          "Belgium prizes for Literature: 1",
          "Canada prizes for Literature: 1",
          "China (People's Republic of China) prizes for Literature: 1",
          "Denmark prizes for Literature: 3",
          "Egypt prizes for Literature: 1",
          "France prizes for Literature: 17",
          "Germany prizes for Literature: 8",
          "Hungary prizes for Literature: 1",
          "India prizes for Literature: 1",
          "Ireland prizes for Literature: 3",
          "Israel prizes for Literature: 1",
          "Italy prizes for Literature: 6",
          "Japan prizes for Literature: 2",
          "Netherlands prizes for Literature: 0",
          "Norway prizes for Literature: 4",
          "Poland prizes for Literature: 4",
          "Russia prizes for Literature: 4",
          "South Africa prizes for Literature: 2",
          "Spain prizes for Literature: 6",
          "Sweden prizes for Literature: 8",
          "Switzerland prizes for Literature: 2",
          "United Kingdom prizes for Literature: 13",
          "United States prizes for Literature: 12"
         ],
         "type": "scattermapbox",
         "visible": false
        },
        {
         "hoverinfo": "text",
         "lat": [
          -34.9964963,
          -24.7761086,
          47.59397,
          50.6402809,
          61.0666922,
          35.000074,
          55.670249,
          26.2540493,
          46.603354,
          51.1638175,
          47.1817585,
          22.3511148,
          52.865196,
          30.8124247,
          42.6384261,
          36.5748441,
          52.2434979,
          64.5731537,
          52.215933,
          64.6863136,
          -28.8166236,
          39.3260685,
          59.6749712,
          46.7985624,
          54.7023545,
          39.7837304
         ],
         "lon": [
          -64.9672817,
          134.755,
          14.12456,
          4.6667145,
          -107.991707,
          104.999927,
          10.3333283,
          29.2675469,
          1.8883335,
          10.4478313,
          19.5060937,
          78.6677428,
          -7.9794599,
          34.8594762,
          12.674297,
          139.2394179,
          5.6343227,
          11.52803643954819,
          19.134422,
          97.7453061,
          24.991639,
          -4.8379791,
          14.5208584,
          8.2319736,
          -3.2765753,
          -100.445882
         ],
         "marker": {
          "color": "#66a61e",
          "opacity": 0.8,
          "size": [
           5.585191925620058,
           0,
           5.585191925620058,
           6.840435166640879,
           3.949327084834294,
           3.949327084834294,
           3.949327084834294,
           5.585191925620058,
           12.488868813069399,
           7.898654169668588,
           0,
           5.585191925620058,
           7.898654169668588,
           6.840435166640879,
           3.949327084834294,
           3.949327084834294,
           3.949327084834294,
           5.585191925620058,
           3.949327084834294,
           6.840435166640879,
           7.898654169668588,
           0,
           8.830963827070562,
           5.585191925620058,
           11.847981254502884,
           18.098090310392436
          ]
         },
         "mode": "markers",
         "text": [
          "Argentina prizes for Peace: 2",
          "Australia prizes for Peace: 0",
          "Austria prizes for Peace: 2",
          "Belgium prizes for Peace: 3",
          "Canada prizes for Peace: 1",
          "China (People's Republic of China) prizes for Peace: 1",
          "Denmark prizes for Peace: 1",
          "Egypt prizes for Peace: 2",
          "France prizes for Peace: 10",
          "Germany prizes for Peace: 4",
          "Hungary prizes for Peace: 0",
          "India prizes for Peace: 2",
          "Ireland prizes for Peace: 4",
          "Israel prizes for Peace: 3",
          "Italy prizes for Peace: 1",
          "Japan prizes for Peace: 1",
          "Netherlands prizes for Peace: 1",
          "Norway prizes for Peace: 2",
          "Poland prizes for Peace: 1",
          "Russia prizes for Peace: 3",
          "South Africa prizes for Peace: 4",
          "Spain prizes for Peace: 0",
          "Sweden prizes for Peace: 5",
          "Switzerland prizes for Peace: 2",
          "United Kingdom prizes for Peace: 9",
          "United States prizes for Peace: 21"
         ],
         "type": "scattermapbox",
         "visible": false
        },
        {
         "hoverinfo": "text",
         "lat": [
          -34.9964963,
          -24.7761086,
          47.59397,
          50.6402809,
          61.0666922,
          35.000074,
          55.670249,
          26.2540493,
          46.603354,
          51.1638175,
          47.1817585,
          22.3511148,
          52.865196,
          30.8124247,
          42.6384261,
          36.5748441,
          52.2434979,
          64.5731537,
          52.215933,
          64.6863136,
          -28.8166236,
          39.3260685,
          59.6749712,
          46.7985624,
          54.7023545,
          39.7837304
         ],
         "lon": [
          -64.9672817,
          134.755,
          14.12456,
          4.6667145,
          -107.991707,
          104.999927,
          10.3333283,
          29.2675469,
          1.8883335,
          10.4478313,
          19.5060937,
          78.6677428,
          -7.9794599,
          34.8594762,
          12.674297,
          139.2394179,
          5.6343227,
          11.52803643954819,
          19.134422,
          97.7453061,
          24.991639,
          -4.8379791,
          14.5208584,
          8.2319736,
          -3.2765753,
          -100.445882
         ],
         "marker": {
          "color": "#e6ab02",
          "opacity": 0.8,
          "size": [
           0,
           7.898654169668588,
           7.898654169668588,
           3.949327084834294,
           7.898654169668588,
           0,
           6.840435166640879,
           0,
           15.295678028289108,
           19.34767237039479,
           5.585191925620058,
           3.949327084834294,
           3.949327084834294,
           0,
           7.898654169668588,
           11.847981254502884,
           11.847981254502884,
           3.949327084834294,
           3.949327084834294,
           11.170383851240116,
           0,
           0,
           8.830963827070562,
           8.830963827070562,
           18.940307329321033,
           39.295308344350325
          ]
         },
         "mode": "markers",
         "text": [
          "Argentina prizes for Physics: 0",
          "Australia prizes for Physics: 4",
          "Austria prizes for Physics: 4",
          "Belgium prizes for Physics: 1",
          "Canada prizes for Physics: 4",
          "China (People's Republic of China) prizes for Physics: 0",
          "Denmark prizes for Physics: 3",
          "Egypt prizes for Physics: 0",
          "France prizes for Physics: 15",
          "Germany prizes for Physics: 24",
          "Hungary prizes for Physics: 2",
          "India prizes for Physics: 1",
          "Ireland prizes for Physics: 1",
          "Israel prizes for Physics: 0",
          "Italy prizes for Physics: 4",
          "Japan prizes for Physics: 9",
          "Netherlands prizes for Physics: 9",
          "Norway prizes for Physics: 1",
          "Poland prizes for Physics: 1",
          "Russia prizes for Physics: 8",
          "South Africa prizes for Physics: 0",
          "Spain prizes for Physics: 0",
          "Sweden prizes for Physics: 5",
          "Switzerland prizes for Physics: 5",
          "United Kingdom prizes for Physics: 23",
          "United States prizes for Physics: 99"
         ],
         "type": "scattermapbox",
         "visible": false
        },
        {
         "hoverinfo": "text",
         "lat": [
          -34.9964963,
          -24.7761086,
          47.59397,
          50.6402809,
          61.0666922,
          35.000074,
          55.670249,
          26.2540493,
          46.603354,
          51.1638175,
          47.1817585,
          22.3511148,
          52.865196,
          30.8124247,
          42.6384261,
          36.5748441,
          52.2434979,
          64.5731537,
          52.215933,
          64.6863136,
          -28.8166236,
          39.3260685,
          59.6749712,
          46.7985624,
          54.7023545,
          39.7837304
         ],
         "lon": [
          -64.9672817,
          134.755,
          14.12456,
          4.6667145,
          -107.991707,
          104.999927,
          10.3333283,
          29.2675469,
          1.8883335,
          10.4478313,
          19.5060937,
          78.6677428,
          -7.9794599,
          34.8594762,
          12.674297,
          139.2394179,
          5.6343227,
          11.52803643954819,
          19.134422,
          97.7453061,
          24.991639,
          -4.8379791,
          14.5208584,
          8.2319736,
          -3.2765753,
          -100.445882
         ],
         "marker": {
          "color": "#a6761d",
          "opacity": 0.8,
          "size": [
           3.949327084834294,
           10.448937312523231,
           7.898654169668588,
           7.898654169668588,
           5.585191925620058,
           3.949327084834294,
           8.830963827070562,
           0,
           13.680870333281758,
           15.295678028289108,
           3.949327084834294,
           0,
           3.949327084834294,
           0,
           5.585191925620058,
           8.830963827070562,
           5.585191925620058,
           5.585191925620058,
           0,
           5.585191925620058,
           3.949327084834294,
           3.949327084834294,
           11.847981254502884,
           10.448937312523231,
           22.340767702480232,
           41.2321852696122
          ]
         },
         "mode": "markers",
         "text": [
          "Argentina prizes for Physiology or Medicine: 1",
          "Australia prizes for Physiology or Medicine: 7",
          "Austria prizes for Physiology or Medicine: 4",
          "Belgium prizes for Physiology or Medicine: 4",
          "Canada prizes for Physiology or Medicine: 2",
          "China (People's Republic of China) prizes for Physiology or Medicine: 1",
          "Denmark prizes for Physiology or Medicine: 5",
          "Egypt prizes for Physiology or Medicine: 0",
          "France prizes for Physiology or Medicine: 12",
          "Germany prizes for Physiology or Medicine: 15",
          "Hungary prizes for Physiology or Medicine: 1",
          "India prizes for Physiology or Medicine: 0",
          "Ireland prizes for Physiology or Medicine: 1",
          "Israel prizes for Physiology or Medicine: 0",
          "Italy prizes for Physiology or Medicine: 2",
          "Japan prizes for Physiology or Medicine: 5",
          "Netherlands prizes for Physiology or Medicine: 2",
          "Norway prizes for Physiology or Medicine: 2",
          "Poland prizes for Physiology or Medicine: 0",
          "Russia prizes for Physiology or Medicine: 2",
          "South Africa prizes for Physiology or Medicine: 1",
          "Spain prizes for Physiology or Medicine: 1",
          "Sweden prizes for Physiology or Medicine: 9",
          "Switzerland prizes for Physiology or Medicine: 7",
          "United Kingdom prizes for Physiology or Medicine: 32",
          "United States prizes for Physiology or Medicine: 109"
         ],
         "type": "scattermapbox",
         "visible": false
        }
       ],
       "layout": {
        "height": 450,
        "hovermode": "closest",
        "mapbox": {
         "accesstoken": "pk.eyJ1Ijoia3lyYW4tZGFsZSIsImEiOiJjanZkbWE0cjkwNjkxNDBwYW0xb3p4MmtqIn0.WP9fQgGMgu8_nmMxJwFsbg",
         "style": "light",
         "zoom": 0.7
        },
        "margin": {
         "b": 0,
         "l": 0,
         "r": 0,
         "t": 0
        },
        "showlegend": false,
        "template": {
         "data": {
          "bar": [
           {
            "error_x": {
             "color": "#2a3f5f"
            },
            "error_y": {
             "color": "#2a3f5f"
            },
            "marker": {
             "line": {
              "color": "#E5ECF6",
              "width": 0.5
             },
             "pattern": {
              "fillmode": "overlay",
              "size": 10,
              "solidity": 0.2
             }
            },
            "type": "bar"
           }
          ],
          "barpolar": [
           {
            "marker": {
             "line": {
              "color": "#E5ECF6",
              "width": 0.5
             },
             "pattern": {
              "fillmode": "overlay",
              "size": 10,
              "solidity": 0.2
             }
            },
            "type": "barpolar"
           }
          ],
          "carpet": [
           {
            "aaxis": {
             "endlinecolor": "#2a3f5f",
             "gridcolor": "white",
             "linecolor": "white",
             "minorgridcolor": "white",
             "startlinecolor": "#2a3f5f"
            },
            "baxis": {
             "endlinecolor": "#2a3f5f",
             "gridcolor": "white",
             "linecolor": "white",
             "minorgridcolor": "white",
             "startlinecolor": "#2a3f5f"
            },
            "type": "carpet"
           }
          ],
          "choropleth": [
           {
            "colorbar": {
             "outlinewidth": 0,
             "ticks": ""
            },
            "type": "choropleth"
           }
          ],
          "contour": [
           {
            "colorbar": {
             "outlinewidth": 0,
             "ticks": ""
            },
            "colorscale": [
             [
              0,
              "#0d0887"
             ],
             [
              0.1111111111111111,
              "#46039f"
             ],
             [
              0.2222222222222222,
              "#7201a8"
             ],
             [
              0.3333333333333333,
              "#9c179e"
             ],
             [
              0.4444444444444444,
              "#bd3786"
             ],
             [
              0.5555555555555556,
              "#d8576b"
             ],
             [
              0.6666666666666666,
              "#ed7953"
             ],
             [
              0.7777777777777778,
              "#fb9f3a"
             ],
             [
              0.8888888888888888,
              "#fdca26"
             ],
             [
              1,
              "#f0f921"
             ]
            ],
            "type": "contour"
           }
          ],
          "contourcarpet": [
           {
            "colorbar": {
             "outlinewidth": 0,
             "ticks": ""
            },
            "type": "contourcarpet"
           }
          ],
          "heatmap": [
           {
            "colorbar": {
             "outlinewidth": 0,
             "ticks": ""
            },
            "colorscale": [
             [
              0,
              "#0d0887"
             ],
             [
              0.1111111111111111,
              "#46039f"
             ],
             [
              0.2222222222222222,
              "#7201a8"
             ],
             [
              0.3333333333333333,
              "#9c179e"
             ],
             [
              0.4444444444444444,
              "#bd3786"
             ],
             [
              0.5555555555555556,
              "#d8576b"
             ],
             [
              0.6666666666666666,
              "#ed7953"
             ],
             [
              0.7777777777777778,
              "#fb9f3a"
             ],
             [
              0.8888888888888888,
              "#fdca26"
             ],
             [
              1,
              "#f0f921"
             ]
            ],
            "type": "heatmap"
           }
          ],
          "heatmapgl": [
           {
            "colorbar": {
             "outlinewidth": 0,
             "ticks": ""
            },
            "colorscale": [
             [
              0,
              "#0d0887"
             ],
             [
              0.1111111111111111,
              "#46039f"
             ],
             [
              0.2222222222222222,
              "#7201a8"
             ],
             [
              0.3333333333333333,
              "#9c179e"
             ],
             [
              0.4444444444444444,
              "#bd3786"
             ],
             [
              0.5555555555555556,
              "#d8576b"
             ],
             [
              0.6666666666666666,
              "#ed7953"
             ],
             [
              0.7777777777777778,
              "#fb9f3a"
             ],
             [
              0.8888888888888888,
              "#fdca26"
             ],
             [
              1,
              "#f0f921"
             ]
            ],
            "type": "heatmapgl"
           }
          ],
          "histogram": [
           {
            "marker": {
             "pattern": {
              "fillmode": "overlay",
              "size": 10,
              "solidity": 0.2
             }
            },
            "type": "histogram"
           }
          ],
          "histogram2d": [
           {
            "colorbar": {
             "outlinewidth": 0,
             "ticks": ""
            },
            "colorscale": [
             [
              0,
              "#0d0887"
             ],
             [
              0.1111111111111111,
              "#46039f"
             ],
             [
              0.2222222222222222,
              "#7201a8"
             ],
             [
              0.3333333333333333,
              "#9c179e"
             ],
             [
              0.4444444444444444,
              "#bd3786"
             ],
             [
              0.5555555555555556,
              "#d8576b"
             ],
             [
              0.6666666666666666,
              "#ed7953"
             ],
             [
              0.7777777777777778,
              "#fb9f3a"
             ],
             [
              0.8888888888888888,
              "#fdca26"
             ],
             [
              1,
              "#f0f921"
             ]
            ],
            "type": "histogram2d"
           }
          ],
          "histogram2dcontour": [
           {
            "colorbar": {
             "outlinewidth": 0,
             "ticks": ""
            },
            "colorscale": [
             [
              0,
              "#0d0887"
             ],
             [
              0.1111111111111111,
              "#46039f"
             ],
             [
              0.2222222222222222,
              "#7201a8"
             ],
             [
              0.3333333333333333,
              "#9c179e"
             ],
             [
              0.4444444444444444,
              "#bd3786"
             ],
             [
              0.5555555555555556,
              "#d8576b"
             ],
             [
              0.6666666666666666,
              "#ed7953"
             ],
             [
              0.7777777777777778,
              "#fb9f3a"
             ],
             [
              0.8888888888888888,
              "#fdca26"
             ],
             [
              1,
              "#f0f921"
             ]
            ],
            "type": "histogram2dcontour"
           }
          ],
          "mesh3d": [
           {
            "colorbar": {
             "outlinewidth": 0,
             "ticks": ""
            },
            "type": "mesh3d"
           }
          ],
          "parcoords": [
           {
            "line": {
             "colorbar": {
              "outlinewidth": 0,
              "ticks": ""
             }
            },
            "type": "parcoords"
           }
          ],
          "pie": [
           {
            "automargin": true,
            "type": "pie"
           }
          ],
          "scatter": [
           {
            "fillpattern": {
             "fillmode": "overlay",
             "size": 10,
             "solidity": 0.2
            },
            "type": "scatter"
           }
          ],
          "scatter3d": [
           {
            "line": {
             "colorbar": {
              "outlinewidth": 0,
              "ticks": ""
             }
            },
            "marker": {
             "colorbar": {
              "outlinewidth": 0,
              "ticks": ""
             }
            },
            "type": "scatter3d"
           }
          ],
          "scattercarpet": [
           {
            "marker": {
             "colorbar": {
              "outlinewidth": 0,
              "ticks": ""
             }
            },
            "type": "scattercarpet"
           }
          ],
          "scattergeo": [
           {
            "marker": {
             "colorbar": {
              "outlinewidth": 0,
              "ticks": ""
             }
            },
            "type": "scattergeo"
           }
          ],
          "scattergl": [
           {
            "marker": {
             "colorbar": {
              "outlinewidth": 0,
              "ticks": ""
             }
            },
            "type": "scattergl"
           }
          ],
          "scattermapbox": [
           {
            "marker": {
             "colorbar": {
              "outlinewidth": 0,
              "ticks": ""
             }
            },
            "type": "scattermapbox"
           }
          ],
          "scatterpolar": [
           {
            "marker": {
             "colorbar": {
              "outlinewidth": 0,
              "ticks": ""
             }
            },
            "type": "scatterpolar"
           }
          ],
          "scatterpolargl": [
           {
            "marker": {
             "colorbar": {
              "outlinewidth": 0,
              "ticks": ""
             }
            },
            "type": "scatterpolargl"
           }
          ],
          "scatterternary": [
           {
            "marker": {
             "colorbar": {
              "outlinewidth": 0,
              "ticks": ""
             }
            },
            "type": "scatterternary"
           }
          ],
          "surface": [
           {
            "colorbar": {
             "outlinewidth": 0,
             "ticks": ""
            },
            "colorscale": [
             [
              0,
              "#0d0887"
             ],
             [
              0.1111111111111111,
              "#46039f"
             ],
             [
              0.2222222222222222,
              "#7201a8"
             ],
             [
              0.3333333333333333,
              "#9c179e"
             ],
             [
              0.4444444444444444,
              "#bd3786"
             ],
             [
              0.5555555555555556,
              "#d8576b"
             ],
             [
              0.6666666666666666,
              "#ed7953"
             ],
             [
              0.7777777777777778,
              "#fb9f3a"
             ],
             [
              0.8888888888888888,
              "#fdca26"
             ],
             [
              1,
              "#f0f921"
             ]
            ],
            "type": "surface"
           }
          ],
          "table": [
           {
            "cells": {
             "fill": {
              "color": "#EBF0F8"
             },
             "line": {
              "color": "white"
             }
            },
            "header": {
             "fill": {
              "color": "#C8D4E3"
             },
             "line": {
              "color": "white"
             }
            },
            "type": "table"
           }
          ]
         },
         "layout": {
          "annotationdefaults": {
           "arrowcolor": "#2a3f5f",
           "arrowhead": 0,
           "arrowwidth": 1
          },
          "autotypenumbers": "strict",
          "coloraxis": {
           "colorbar": {
            "outlinewidth": 0,
            "ticks": ""
           }
          },
          "colorscale": {
           "diverging": [
            [
             0,
             "#8e0152"
            ],
            [
             0.1,
             "#c51b7d"
            ],
            [
             0.2,
             "#de77ae"
            ],
            [
             0.3,
             "#f1b6da"
            ],
            [
             0.4,
             "#fde0ef"
            ],
            [
             0.5,
             "#f7f7f7"
            ],
            [
             0.6,
             "#e6f5d0"
            ],
            [
             0.7,
             "#b8e186"
            ],
            [
             0.8,
             "#7fbc41"
            ],
            [
             0.9,
             "#4d9221"
            ],
            [
             1,
             "#276419"
            ]
           ],
           "sequential": [
            [
             0,
             "#0d0887"
            ],
            [
             0.1111111111111111,
             "#46039f"
            ],
            [
             0.2222222222222222,
             "#7201a8"
            ],
            [
             0.3333333333333333,
             "#9c179e"
            ],
            [
             0.4444444444444444,
             "#bd3786"
            ],
            [
             0.5555555555555556,
             "#d8576b"
            ],
            [
             0.6666666666666666,
             "#ed7953"
            ],
            [
             0.7777777777777778,
             "#fb9f3a"
            ],
            [
             0.8888888888888888,
             "#fdca26"
            ],
            [
             1,
             "#f0f921"
            ]
           ],
           "sequentialminus": [
            [
             0,
             "#0d0887"
            ],
            [
             0.1111111111111111,
             "#46039f"
            ],
            [
             0.2222222222222222,
             "#7201a8"
            ],
            [
             0.3333333333333333,
             "#9c179e"
            ],
            [
             0.4444444444444444,
             "#bd3786"
            ],
            [
             0.5555555555555556,
             "#d8576b"
            ],
            [
             0.6666666666666666,
             "#ed7953"
            ],
            [
             0.7777777777777778,
             "#fb9f3a"
            ],
            [
             0.8888888888888888,
             "#fdca26"
            ],
            [
             1,
             "#f0f921"
            ]
           ]
          },
          "colorway": [
           "#636efa",
           "#EF553B",
           "#00cc96",
           "#ab63fa",
           "#FFA15A",
           "#19d3f3",
           "#FF6692",
           "#B6E880",
           "#FF97FF",
           "#FECB52"
          ],
          "font": {
           "color": "#2a3f5f"
          },
          "geo": {
           "bgcolor": "white",
           "lakecolor": "white",
           "landcolor": "#E5ECF6",
           "showlakes": true,
           "showland": true,
           "subunitcolor": "white"
          },
          "hoverlabel": {
           "align": "left"
          },
          "hovermode": "closest",
          "mapbox": {
           "style": "light"
          },
          "paper_bgcolor": "white",
          "plot_bgcolor": "#E5ECF6",
          "polar": {
           "angularaxis": {
            "gridcolor": "white",
            "linecolor": "white",
            "ticks": ""
           },
           "bgcolor": "#E5ECF6",
           "radialaxis": {
            "gridcolor": "white",
            "linecolor": "white",
            "ticks": ""
           }
          },
          "scene": {
           "xaxis": {
            "backgroundcolor": "#E5ECF6",
            "gridcolor": "white",
            "gridwidth": 2,
            "linecolor": "white",
            "showbackground": true,
            "ticks": "",
            "zerolinecolor": "white"
           },
           "yaxis": {
            "backgroundcolor": "#E5ECF6",
            "gridcolor": "white",
            "gridwidth": 2,
            "linecolor": "white",
            "showbackground": true,
            "ticks": "",
            "zerolinecolor": "white"
           },
           "zaxis": {
            "backgroundcolor": "#E5ECF6",
            "gridcolor": "white",
            "gridwidth": 2,
            "linecolor": "white",
            "showbackground": true,
            "ticks": "",
            "zerolinecolor": "white"
           }
          },
          "shapedefaults": {
           "line": {
            "color": "#2a3f5f"
           }
          },
          "ternary": {
           "aaxis": {
            "gridcolor": "white",
            "linecolor": "white",
            "ticks": ""
           },
           "baxis": {
            "gridcolor": "white",
            "linecolor": "white",
            "ticks": ""
           },
           "bgcolor": "#E5ECF6",
           "caxis": {
            "gridcolor": "white",
            "linecolor": "white",
            "ticks": ""
           }
          },
          "title": {
           "x": 0.05
          },
          "xaxis": {
           "automargin": true,
           "gridcolor": "white",
           "linecolor": "white",
           "ticks": "",
           "title": {
            "standoff": 15
           },
           "zerolinecolor": "white",
           "zerolinewidth": 2
          },
          "yaxis": {
           "automargin": true,
           "gridcolor": "white",
           "linecolor": "white",
           "ticks": "",
           "title": {
            "standoff": 15
           },
           "zerolinecolor": "white",
           "zerolinewidth": 2
          }
         }
        },
        "title": {
         "text": "Nobel prize totals by country"
        },
        "updatemenus": [
         {
          "active": 0,
          "buttons": [
           {
            "args": [
             {
              "visible": [
               true,
               false,
               false,
               false,
               false,
               false,
               false
              ]
             }
            ],
            "label": "Total",
            "method": "update"
           },
           {
            "args": [
             {
              "visible": [
               false,
               true,
               false,
               false,
               false,
               false,
               false
              ]
             }
            ],
            "label": "Chemistry",
            "method": "update"
           },
           {
            "args": [
             {
              "visible": [
               false,
               false,
               true,
               false,
               false,
               false,
               false
              ]
             }
            ],
            "label": "Economics",
            "method": "update"
           },
           {
            "args": [
             {
              "visible": [
               false,
               false,
               false,
               true,
               false,
               false,
               false
              ]
             }
            ],
            "label": "Literature",
            "method": "update"
           },
           {
            "args": [
             {
              "visible": [
               false,
               false,
               false,
               false,
               true,
               false,
               false
              ]
             }
            ],
            "label": "Peace",
            "method": "update"
           },
           {
            "args": [
             {
              "visible": [
               false,
               false,
               false,
               false,
               false,
               true,
               false
              ]
             }
            ],
            "label": "Physics",
            "method": "update"
           },
           {
            "args": [
             {
              "visible": [
               false,
               false,
               false,
               false,
               false,
               false,
               true
              ]
             }
            ],
            "label": "Physiology or Medicine",
            "method": "update"
           }
          ],
          "direction": "down",
          "showactive": true,
          "type": "buttons",
          "x": 0,
          "xanchor": "left",
          "y": 0.65
         }
        ],
        "width": 875
       }
      }
     },
     "metadata": {},
     "output_type": "display_data"
    }
   ],
   "source": [
    "mapbox_access_token = \"pk.eyJ1Ijoia3lyYW4tZGFsZSIsImEiOiJjanZkbWE0cjkwNjkxNDBwYW0xb3p4MmtqIn0.WP9fQgGMgu8_nmMxJwFsbg\"\n",
    "\n",
    "categories = [\n",
    "    \"Total\",\n",
    "    \"Chemistry\",\n",
    "    \"Economics\",\n",
    "    \"Literature\",\n",
    "    \"Peace\",\n",
    "    \"Physics\",\n",
    "    \"Physiology or Medicine\",\n",
    "]\n",
    "\n",
    "df_cc = df_country_category\n",
    "site_lat = df_cc.Lat\n",
    "site_lon = df_cc.Lon\n",
    "locations_name = df_cc.index\n",
    "\n",
    "colors = [\"#1b9e77\", \"#d95f02\", \"#7570b3\", \"#e7298a\", \"#66a61e\", \"#e6ab02\", \"#a6761d\"]\n",
    "layout = go.Layout(\n",
    "    title=\"Nobel prize totals by country\",\n",
    "    hovermode=\"closest\",\n",
    "    showlegend=False,\n",
    "    margin={\"l\": 0, \"t\": 0, \"b\": 0, \"r\": 0},\n",
    "    mapbox=dict(accesstoken=mapbox_access_token, zoom=0.7, style=\"light\"),\n",
    "    width=875,\n",
    "    height=450,\n",
    ")\n",
    "\n",
    "buttons = []\n",
    "fig = go.Figure(layout=layout)\n",
    "default_category = \"Total\"\n",
    "\n",
    "for i, category in enumerate(categories):\n",
    "    visible = False\n",
    "    if category == default_category:\n",
    "        visible = True\n",
    "    fig.add_trace(\n",
    "        go.Scattermapbox(\n",
    "            lat=site_lat,\n",
    "            lon=site_lon,\n",
    "            mode=\"markers\",\n",
    "            marker=dict(\n",
    "                size=df_cc[category].apply(calc_marker_radius, args=(7,)),\n",
    "                color=colors[i],\n",
    "                opacity=0.8,\n",
    "            ),\n",
    "            text=[\n",
    "                f\"{locations_name[i]} prizes for {category}: {int(x)}\"\n",
    "                for i, x in enumerate(df_cc[category])\n",
    "            ],\n",
    "            hoverinfo=\"text\",\n",
    "            visible=visible,\n",
    "        )\n",
    "    )\n",
    "\n",
    "    mask = [False] * len(categories)\n",
    "\n",
    "    mask[categories.index(category)] = True\n",
    "\n",
    "    buttons.append(dict(label=category, method=\"update\", args=[{\"visible\": mask}]))\n",
    "\n",
    "fig.layout.update(\n",
    "    updatemenus=[\n",
    "        dict(\n",
    "            type=\"buttons\",\n",
    "            direction=\"down\",\n",
    "            active=0,\n",
    "            x=0.0,\n",
    "            xanchor=\"left\",\n",
    "            y=0.65,\n",
    "            showactive=True,\n",
    "            buttons=buttons,\n",
    "        )\n",
    "    ]\n",
    ")\n",
    "\n",
    "fig.show()"
   ]
  },
  {
   "cell_type": "code",
   "execution_count": 31,
   "metadata": {},
   "outputs": [
    {
     "data": {
      "application/vnd.plotly.v1+json": {
       "config": {
        "plotlyServerURL": "https://plot.ly"
       },
       "data": [
        {
         "hovertemplate": "N. America<br>%{x}<br>$%{y}<extra></extra>",
         "line": {
          "dash": "solid"
         },
         "mode": "lines",
         "name": "N. America",
         "type": "scatter",
         "x": [
          1901,
          1902,
          1903,
          1904,
          1905,
          1906,
          1907,
          1908,
          1909,
          1910,
          1911,
          1912,
          1913,
          1914,
          1915,
          1916,
          1917,
          1918,
          1919,
          1920,
          1921,
          1922,
          1923,
          1924,
          1925,
          1926,
          1927,
          1928,
          1929,
          1930,
          1931,
          1932,
          1933,
          1934,
          1935,
          1936,
          1937,
          1938,
          1939,
          1940,
          1941,
          1942,
          1943,
          1944,
          1945,
          1946,
          1947,
          1948,
          1949,
          1950,
          1951,
          1952,
          1953,
          1954,
          1955,
          1956,
          1957,
          1958,
          1959,
          1960,
          1961,
          1962,
          1963,
          1964,
          1965,
          1966,
          1967,
          1968,
          1969,
          1970,
          1971,
          1972,
          1973,
          1974,
          1975,
          1976,
          1977,
          1978,
          1979,
          1980,
          1981,
          1982,
          1983,
          1984,
          1985,
          1986,
          1987,
          1988,
          1989,
          1990,
          1991,
          1992,
          1993,
          1994,
          1995,
          1996,
          1997,
          1998,
          1999,
          2000,
          2001,
          2002,
          2003,
          2004,
          2005,
          2006,
          2007,
          2008,
          2009,
          2010,
          2011,
          2012,
          2013,
          2014,
          2015,
          2016,
          2017,
          2018,
          2019,
          2020,
          2021,
          2022,
          2023,
          2024
         ],
         "y": [
          0,
          0,
          0,
          0,
          0,
          1,
          2,
          2,
          2,
          2,
          2,
          3,
          3,
          4,
          4,
          4,
          4,
          4,
          5,
          5,
          5,
          5,
          8,
          8,
          9,
          9,
          10,
          10,
          11,
          12,
          14,
          15,
          16,
          20,
          20,
          22,
          23,
          24,
          25,
          25,
          25,
          25,
          27,
          30,
          31,
          38,
          40,
          40,
          42,
          45,
          47,
          50,
          52,
          57,
          60,
          65,
          68,
          71,
          75,
          77,
          80,
          83,
          85,
          88,
          91,
          94,
          97,
          102,
          106,
          109,
          112,
          120,
          122,
          124,
          128,
          134,
          139,
          145,
          150,
          158,
          164,
          166,
          171,
          172,
          177,
          181,
          184,
          189,
          195,
          204,
          204,
          208,
          216,
          223,
          230,
          236,
          243,
          250,
          253,
          259,
          267,
          275,
          281,
          288,
          293,
          299,
          305,
          309,
          318,
          321,
          328,
          333,
          342,
          345,
          348,
          351,
          359,
          366,
          373,
          380,
          385,
          391,
          395,
          395
         ]
        },
        {
         "hovertemplate": "Europe<br>%{x}<br>$%{y}<extra></extra>",
         "line": {
          "dash": "dash"
         },
         "mode": "lines",
         "name": "Europe",
         "type": "scatter",
         "x": [
          1901,
          1902,
          1903,
          1904,
          1905,
          1906,
          1907,
          1908,
          1909,
          1910,
          1911,
          1912,
          1913,
          1914,
          1915,
          1916,
          1917,
          1918,
          1919,
          1920,
          1921,
          1922,
          1923,
          1924,
          1925,
          1926,
          1927,
          1928,
          1929,
          1930,
          1931,
          1932,
          1933,
          1934,
          1935,
          1936,
          1937,
          1938,
          1939,
          1940,
          1941,
          1942,
          1943,
          1944,
          1945,
          1946,
          1947,
          1948,
          1949,
          1950,
          1951,
          1952,
          1953,
          1954,
          1955,
          1956,
          1957,
          1958,
          1959,
          1960,
          1961,
          1962,
          1963,
          1964,
          1965,
          1966,
          1967,
          1968,
          1969,
          1970,
          1971,
          1972,
          1973,
          1974,
          1975,
          1976,
          1977,
          1978,
          1979,
          1980,
          1981,
          1982,
          1983,
          1984,
          1985,
          1986,
          1987,
          1988,
          1989,
          1990,
          1991,
          1992,
          1993,
          1994,
          1995,
          1996,
          1997,
          1998,
          1999,
          2000,
          2001,
          2002,
          2003,
          2004,
          2005,
          2006,
          2007,
          2008,
          2009,
          2010,
          2011,
          2012,
          2013,
          2014,
          2015,
          2016,
          2017,
          2018,
          2019,
          2020,
          2021,
          2022,
          2023,
          2024
         ],
         "y": [
          5,
          8,
          11,
          14,
          16,
          18,
          22,
          26,
          29,
          32,
          34,
          38,
          39,
          40,
          42,
          42,
          43,
          45,
          46,
          48,
          51,
          54,
          54,
          54,
          58,
          61,
          66,
          69,
          73,
          74,
          77,
          81,
          84,
          85,
          90,
          91,
          95,
          96,
          98,
          98,
          98,
          98,
          98,
          99,
          101,
          101,
          104,
          106,
          107,
          111,
          113,
          117,
          120,
          122,
          122,
          125,
          127,
          128,
          129,
          131,
          132,
          135,
          139,
          142,
          145,
          146,
          149,
          150,
          151,
          153,
          155,
          158,
          163,
          165,
          166,
          166,
          168,
          169,
          172,
          174,
          175,
          177,
          178,
          180,
          182,
          184,
          186,
          191,
          192,
          192,
          196,
          197,
          198,
          199,
          202,
          204,
          206,
          208,
          209,
          211,
          215,
          216,
          218,
          218,
          221,
          221,
          226,
          230,
          232,
          235,
          236,
          238,
          239,
          243,
          243,
          247,
          249,
          251,
          253,
          257,
          261,
          263,
          265,
          265
         ]
        },
        {
         "hovertemplate": "Asia<br>%{x}<br>$%{y}<extra></extra>",
         "line": {
          "dash": "dot"
         },
         "mode": "lines",
         "name": "Asia",
         "type": "scatter",
         "x": [
          1901,
          1902,
          1903,
          1904,
          1905,
          1906,
          1907,
          1908,
          1909,
          1910,
          1911,
          1912,
          1913,
          1914,
          1915,
          1916,
          1917,
          1918,
          1919,
          1920,
          1921,
          1922,
          1923,
          1924,
          1925,
          1926,
          1927,
          1928,
          1929,
          1930,
          1931,
          1932,
          1933,
          1934,
          1935,
          1936,
          1937,
          1938,
          1939,
          1940,
          1941,
          1942,
          1943,
          1944,
          1945,
          1946,
          1947,
          1948,
          1949,
          1950,
          1951,
          1952,
          1953,
          1954,
          1955,
          1956,
          1957,
          1958,
          1959,
          1960,
          1961,
          1962,
          1963,
          1964,
          1965,
          1966,
          1967,
          1968,
          1969,
          1970,
          1971,
          1972,
          1973,
          1974,
          1975,
          1976,
          1977,
          1978,
          1979,
          1980,
          1981,
          1982,
          1983,
          1984,
          1985,
          1986,
          1987,
          1988,
          1989,
          1990,
          1991,
          1992,
          1993,
          1994,
          1995,
          1996,
          1997,
          1998,
          1999,
          2000,
          2001,
          2002,
          2003,
          2004,
          2005,
          2006,
          2007,
          2008,
          2009,
          2010,
          2011,
          2012,
          2013,
          2014,
          2015,
          2016,
          2017,
          2018,
          2019,
          2020,
          2021,
          2022,
          2023,
          2024
         ],
         "y": [
          0,
          0,
          0,
          1,
          1,
          1,
          1,
          2,
          2,
          2,
          2,
          2,
          3,
          3,
          3,
          3,
          3,
          3,
          3,
          3,
          3,
          3,
          3,
          3,
          3,
          3,
          3,
          3,
          3,
          4,
          4,
          4,
          4,
          4,
          4,
          4,
          4,
          4,
          4,
          4,
          4,
          4,
          4,
          4,
          4,
          4,
          4,
          4,
          5,
          5,
          5,
          5,
          5,
          5,
          5,
          6,
          6,
          10,
          10,
          10,
          10,
          11,
          11,
          12,
          14,
          14,
          14,
          15,
          15,
          16,
          16,
          16,
          17,
          18,
          20,
          20,
          20,
          21,
          22,
          22,
          23,
          23,
          23,
          23,
          23,
          23,
          25,
          25,
          25,
          26,
          26,
          26,
          26,
          27,
          27,
          27,
          27,
          28,
          28,
          30,
          31,
          33,
          34,
          34,
          34,
          34,
          34,
          37,
          37,
          39,
          39,
          40,
          40,
          43,
          45,
          46,
          46,
          47,
          48,
          48,
          49,
          49,
          50,
          50
         ]
        }
       ],
       "layout": {
        "template": {
         "data": {
          "bar": [
           {
            "error_x": {
             "color": "#2a3f5f"
            },
            "error_y": {
             "color": "#2a3f5f"
            },
            "marker": {
             "line": {
              "color": "#E5ECF6",
              "width": 0.5
             },
             "pattern": {
              "fillmode": "overlay",
              "size": 10,
              "solidity": 0.2
             }
            },
            "type": "bar"
           }
          ],
          "barpolar": [
           {
            "marker": {
             "line": {
              "color": "#E5ECF6",
              "width": 0.5
             },
             "pattern": {
              "fillmode": "overlay",
              "size": 10,
              "solidity": 0.2
             }
            },
            "type": "barpolar"
           }
          ],
          "carpet": [
           {
            "aaxis": {
             "endlinecolor": "#2a3f5f",
             "gridcolor": "white",
             "linecolor": "white",
             "minorgridcolor": "white",
             "startlinecolor": "#2a3f5f"
            },
            "baxis": {
             "endlinecolor": "#2a3f5f",
             "gridcolor": "white",
             "linecolor": "white",
             "minorgridcolor": "white",
             "startlinecolor": "#2a3f5f"
            },
            "type": "carpet"
           }
          ],
          "choropleth": [
           {
            "colorbar": {
             "outlinewidth": 0,
             "ticks": ""
            },
            "type": "choropleth"
           }
          ],
          "contour": [
           {
            "colorbar": {
             "outlinewidth": 0,
             "ticks": ""
            },
            "colorscale": [
             [
              0,
              "#0d0887"
             ],
             [
              0.1111111111111111,
              "#46039f"
             ],
             [
              0.2222222222222222,
              "#7201a8"
             ],
             [
              0.3333333333333333,
              "#9c179e"
             ],
             [
              0.4444444444444444,
              "#bd3786"
             ],
             [
              0.5555555555555556,
              "#d8576b"
             ],
             [
              0.6666666666666666,
              "#ed7953"
             ],
             [
              0.7777777777777778,
              "#fb9f3a"
             ],
             [
              0.8888888888888888,
              "#fdca26"
             ],
             [
              1,
              "#f0f921"
             ]
            ],
            "type": "contour"
           }
          ],
          "contourcarpet": [
           {
            "colorbar": {
             "outlinewidth": 0,
             "ticks": ""
            },
            "type": "contourcarpet"
           }
          ],
          "heatmap": [
           {
            "colorbar": {
             "outlinewidth": 0,
             "ticks": ""
            },
            "colorscale": [
             [
              0,
              "#0d0887"
             ],
             [
              0.1111111111111111,
              "#46039f"
             ],
             [
              0.2222222222222222,
              "#7201a8"
             ],
             [
              0.3333333333333333,
              "#9c179e"
             ],
             [
              0.4444444444444444,
              "#bd3786"
             ],
             [
              0.5555555555555556,
              "#d8576b"
             ],
             [
              0.6666666666666666,
              "#ed7953"
             ],
             [
              0.7777777777777778,
              "#fb9f3a"
             ],
             [
              0.8888888888888888,
              "#fdca26"
             ],
             [
              1,
              "#f0f921"
             ]
            ],
            "type": "heatmap"
           }
          ],
          "heatmapgl": [
           {
            "colorbar": {
             "outlinewidth": 0,
             "ticks": ""
            },
            "colorscale": [
             [
              0,
              "#0d0887"
             ],
             [
              0.1111111111111111,
              "#46039f"
             ],
             [
              0.2222222222222222,
              "#7201a8"
             ],
             [
              0.3333333333333333,
              "#9c179e"
             ],
             [
              0.4444444444444444,
              "#bd3786"
             ],
             [
              0.5555555555555556,
              "#d8576b"
             ],
             [
              0.6666666666666666,
              "#ed7953"
             ],
             [
              0.7777777777777778,
              "#fb9f3a"
             ],
             [
              0.8888888888888888,
              "#fdca26"
             ],
             [
              1,
              "#f0f921"
             ]
            ],
            "type": "heatmapgl"
           }
          ],
          "histogram": [
           {
            "marker": {
             "pattern": {
              "fillmode": "overlay",
              "size": 10,
              "solidity": 0.2
             }
            },
            "type": "histogram"
           }
          ],
          "histogram2d": [
           {
            "colorbar": {
             "outlinewidth": 0,
             "ticks": ""
            },
            "colorscale": [
             [
              0,
              "#0d0887"
             ],
             [
              0.1111111111111111,
              "#46039f"
             ],
             [
              0.2222222222222222,
              "#7201a8"
             ],
             [
              0.3333333333333333,
              "#9c179e"
             ],
             [
              0.4444444444444444,
              "#bd3786"
             ],
             [
              0.5555555555555556,
              "#d8576b"
             ],
             [
              0.6666666666666666,
              "#ed7953"
             ],
             [
              0.7777777777777778,
              "#fb9f3a"
             ],
             [
              0.8888888888888888,
              "#fdca26"
             ],
             [
              1,
              "#f0f921"
             ]
            ],
            "type": "histogram2d"
           }
          ],
          "histogram2dcontour": [
           {
            "colorbar": {
             "outlinewidth": 0,
             "ticks": ""
            },
            "colorscale": [
             [
              0,
              "#0d0887"
             ],
             [
              0.1111111111111111,
              "#46039f"
             ],
             [
              0.2222222222222222,
              "#7201a8"
             ],
             [
              0.3333333333333333,
              "#9c179e"
             ],
             [
              0.4444444444444444,
              "#bd3786"
             ],
             [
              0.5555555555555556,
              "#d8576b"
             ],
             [
              0.6666666666666666,
              "#ed7953"
             ],
             [
              0.7777777777777778,
              "#fb9f3a"
             ],
             [
              0.8888888888888888,
              "#fdca26"
             ],
             [
              1,
              "#f0f921"
             ]
            ],
            "type": "histogram2dcontour"
           }
          ],
          "mesh3d": [
           {
            "colorbar": {
             "outlinewidth": 0,
             "ticks": ""
            },
            "type": "mesh3d"
           }
          ],
          "parcoords": [
           {
            "line": {
             "colorbar": {
              "outlinewidth": 0,
              "ticks": ""
             }
            },
            "type": "parcoords"
           }
          ],
          "pie": [
           {
            "automargin": true,
            "type": "pie"
           }
          ],
          "scatter": [
           {
            "fillpattern": {
             "fillmode": "overlay",
             "size": 10,
             "solidity": 0.2
            },
            "type": "scatter"
           }
          ],
          "scatter3d": [
           {
            "line": {
             "colorbar": {
              "outlinewidth": 0,
              "ticks": ""
             }
            },
            "marker": {
             "colorbar": {
              "outlinewidth": 0,
              "ticks": ""
             }
            },
            "type": "scatter3d"
           }
          ],
          "scattercarpet": [
           {
            "marker": {
             "colorbar": {
              "outlinewidth": 0,
              "ticks": ""
             }
            },
            "type": "scattercarpet"
           }
          ],
          "scattergeo": [
           {
            "marker": {
             "colorbar": {
              "outlinewidth": 0,
              "ticks": ""
             }
            },
            "type": "scattergeo"
           }
          ],
          "scattergl": [
           {
            "marker": {
             "colorbar": {
              "outlinewidth": 0,
              "ticks": ""
             }
            },
            "type": "scattergl"
           }
          ],
          "scattermapbox": [
           {
            "marker": {
             "colorbar": {
              "outlinewidth": 0,
              "ticks": ""
             }
            },
            "type": "scattermapbox"
           }
          ],
          "scatterpolar": [
           {
            "marker": {
             "colorbar": {
              "outlinewidth": 0,
              "ticks": ""
             }
            },
            "type": "scatterpolar"
           }
          ],
          "scatterpolargl": [
           {
            "marker": {
             "colorbar": {
              "outlinewidth": 0,
              "ticks": ""
             }
            },
            "type": "scatterpolargl"
           }
          ],
          "scatterternary": [
           {
            "marker": {
             "colorbar": {
              "outlinewidth": 0,
              "ticks": ""
             }
            },
            "type": "scatterternary"
           }
          ],
          "surface": [
           {
            "colorbar": {
             "outlinewidth": 0,
             "ticks": ""
            },
            "colorscale": [
             [
              0,
              "#0d0887"
             ],
             [
              0.1111111111111111,
              "#46039f"
             ],
             [
              0.2222222222222222,
              "#7201a8"
             ],
             [
              0.3333333333333333,
              "#9c179e"
             ],
             [
              0.4444444444444444,
              "#bd3786"
             ],
             [
              0.5555555555555556,
              "#d8576b"
             ],
             [
              0.6666666666666666,
              "#ed7953"
             ],
             [
              0.7777777777777778,
              "#fb9f3a"
             ],
             [
              0.8888888888888888,
              "#fdca26"
             ],
             [
              1,
              "#f0f921"
             ]
            ],
            "type": "surface"
           }
          ],
          "table": [
           {
            "cells": {
             "fill": {
              "color": "#EBF0F8"
             },
             "line": {
              "color": "white"
             }
            },
            "header": {
             "fill": {
              "color": "#C8D4E3"
             },
             "line": {
              "color": "white"
             }
            },
            "type": "table"
           }
          ]
         },
         "layout": {
          "annotationdefaults": {
           "arrowcolor": "#2a3f5f",
           "arrowhead": 0,
           "arrowwidth": 1
          },
          "autotypenumbers": "strict",
          "coloraxis": {
           "colorbar": {
            "outlinewidth": 0,
            "ticks": ""
           }
          },
          "colorscale": {
           "diverging": [
            [
             0,
             "#8e0152"
            ],
            [
             0.1,
             "#c51b7d"
            ],
            [
             0.2,
             "#de77ae"
            ],
            [
             0.3,
             "#f1b6da"
            ],
            [
             0.4,
             "#fde0ef"
            ],
            [
             0.5,
             "#f7f7f7"
            ],
            [
             0.6,
             "#e6f5d0"
            ],
            [
             0.7,
             "#b8e186"
            ],
            [
             0.8,
             "#7fbc41"
            ],
            [
             0.9,
             "#4d9221"
            ],
            [
             1,
             "#276419"
            ]
           ],
           "sequential": [
            [
             0,
             "#0d0887"
            ],
            [
             0.1111111111111111,
             "#46039f"
            ],
            [
             0.2222222222222222,
             "#7201a8"
            ],
            [
             0.3333333333333333,
             "#9c179e"
            ],
            [
             0.4444444444444444,
             "#bd3786"
            ],
            [
             0.5555555555555556,
             "#d8576b"
            ],
            [
             0.6666666666666666,
             "#ed7953"
            ],
            [
             0.7777777777777778,
             "#fb9f3a"
            ],
            [
             0.8888888888888888,
             "#fdca26"
            ],
            [
             1,
             "#f0f921"
            ]
           ],
           "sequentialminus": [
            [
             0,
             "#0d0887"
            ],
            [
             0.1111111111111111,
             "#46039f"
            ],
            [
             0.2222222222222222,
             "#7201a8"
            ],
            [
             0.3333333333333333,
             "#9c179e"
            ],
            [
             0.4444444444444444,
             "#bd3786"
            ],
            [
             0.5555555555555556,
             "#d8576b"
            ],
            [
             0.6666666666666666,
             "#ed7953"
            ],
            [
             0.7777777777777778,
             "#fb9f3a"
            ],
            [
             0.8888888888888888,
             "#fdca26"
            ],
            [
             1,
             "#f0f921"
            ]
           ]
          },
          "colorway": [
           "#636efa",
           "#EF553B",
           "#00cc96",
           "#ab63fa",
           "#FFA15A",
           "#19d3f3",
           "#FF6692",
           "#B6E880",
           "#FF97FF",
           "#FECB52"
          ],
          "font": {
           "color": "#2a3f5f"
          },
          "geo": {
           "bgcolor": "white",
           "lakecolor": "white",
           "landcolor": "#E5ECF6",
           "showlakes": true,
           "showland": true,
           "subunitcolor": "white"
          },
          "hoverlabel": {
           "align": "left"
          },
          "hovermode": "closest",
          "mapbox": {
           "style": "light"
          },
          "paper_bgcolor": "white",
          "plot_bgcolor": "#E5ECF6",
          "polar": {
           "angularaxis": {
            "gridcolor": "white",
            "linecolor": "white",
            "ticks": ""
           },
           "bgcolor": "#E5ECF6",
           "radialaxis": {
            "gridcolor": "white",
            "linecolor": "white",
            "ticks": ""
           }
          },
          "scene": {
           "xaxis": {
            "backgroundcolor": "#E5ECF6",
            "gridcolor": "white",
            "gridwidth": 2,
            "linecolor": "white",
            "showbackground": true,
            "ticks": "",
            "zerolinecolor": "white"
           },
           "yaxis": {
            "backgroundcolor": "#E5ECF6",
            "gridcolor": "white",
            "gridwidth": 2,
            "linecolor": "white",
            "showbackground": true,
            "ticks": "",
            "zerolinecolor": "white"
           },
           "zaxis": {
            "backgroundcolor": "#E5ECF6",
            "gridcolor": "white",
            "gridwidth": 2,
            "linecolor": "white",
            "showbackground": true,
            "ticks": "",
            "zerolinecolor": "white"
           }
          },
          "shapedefaults": {
           "line": {
            "color": "#2a3f5f"
           }
          },
          "ternary": {
           "aaxis": {
            "gridcolor": "white",
            "linecolor": "white",
            "ticks": ""
           },
           "baxis": {
            "gridcolor": "white",
            "linecolor": "white",
            "ticks": ""
           },
           "bgcolor": "#E5ECF6",
           "caxis": {
            "gridcolor": "white",
            "linecolor": "white",
            "ticks": ""
           }
          },
          "title": {
           "x": 0.05
          },
          "xaxis": {
           "automargin": true,
           "gridcolor": "white",
           "linecolor": "white",
           "ticks": "",
           "title": {
            "standoff": 15
           },
           "zerolinecolor": "white",
           "zerolinewidth": 2
          },
          "yaxis": {
           "automargin": true,
           "gridcolor": "white",
           "linecolor": "white",
           "ticks": "",
           "title": {
            "standoff": 15
           },
           "zerolinecolor": "white",
           "zerolinewidth": 2
          }
         }
        },
        "xaxis": {
         "title": {
          "text": "year"
         }
        },
        "yaxis": {
         "title": {
          "text": "cumulative prizes"
         }
        }
       }
      }
     },
     "metadata": {},
     "output_type": "display_data"
    },
    {
     "data": {
      "text/plain": [
       "'<div>                        <script type=\"text/javascript\">window.PlotlyConfig = {MathJaxConfig: \\'local\\'};</script>\\n        <script src=\"https://cdn.plot.ly/plotly-2.12.1.min.js\"></script>                <div id=\"1d3048c1-2f87-41c6-920d-a2106149c801\" class=\"plotly-graph-div\" style=\"height:100%; width:100%;\"></div>            <script type=\"text/javascript\">                                    window.PLOTLYENV=window.PLOTLYENV || {};                                    if (document.getElementById(\"1d3048c1-2f87-41c6-920d-a2106149c801\")) {                    Plotly.newPlot(                        \"1d3048c1-2f87-41c6-920d-a2106149c801\",                        [{\"hovertemplate\":\"N. America<br>%{x}<br>$%{y}<extra></extra>\",\"line\":{\"dash\":\"solid\"},\"mode\":\"lines\",\"name\":\"N. America\",\"x\":[1901,1902,1903,1904,1905,1906,1907,1908,1909,1910,1911,1912,1913,1914,1915,1916,1917,1918,1919,1920,1921,1922,1923,1924,1925,1926,1927,1928,1929,1930,1931,1932,1933,1934,1935,1936,1937,1938,1939,1940,1941,1942,1943,1944,1945,1946,1947,1948,1949,1950,1951,1952,1953,1954,1955,1956,1957,1958,1959,1960,1961,1962,1963,1964,1965,1966,1967,1968,1969,1970,1971,1972,1973,1974,1975,1976,1977,1978,1979,1980,1981,1982,1983,1984,1985,1986,1987,1988,1989,1990,1991,1992,1993,1994,1995,1996,1997,1998,1999,2000,2001,2002,2003,2004,2005,2006,2007,2008,2009,2010,2011,2012,2013,2014,2015,2016,2017,2018,2019,2020,2021,2022,2023,2024],\"y\":[0.0,0.0,0.0,0.0,0.0,1.0,2.0,2.0,2.0,2.0,2.0,3.0,3.0,4.0,4.0,4.0,4.0,4.0,5.0,5.0,5.0,5.0,8.0,8.0,9.0,9.0,10.0,10.0,11.0,12.0,14.0,15.0,16.0,20.0,20.0,22.0,23.0,24.0,25.0,25.0,25.0,25.0,27.0,30.0,31.0,38.0,40.0,40.0,42.0,45.0,47.0,50.0,52.0,57.0,60.0,65.0,68.0,71.0,75.0,77.0,80.0,83.0,85.0,88.0,91.0,94.0,97.0,102.0,106.0,109.0,112.0,120.0,122.0,124.0,128.0,134.0,139.0,145.0,150.0,158.0,164.0,166.0,171.0,172.0,177.0,181.0,184.0,189.0,195.0,204.0,204.0,208.0,216.0,223.0,230.0,236.0,243.0,250.0,253.0,259.0,267.0,275.0,281.0,288.0,293.0,299.0,305.0,309.0,318.0,321.0,328.0,333.0,342.0,345.0,348.0,351.0,359.0,366.0,373.0,380.0,385.0,391.0,395.0,395.0],\"type\":\"scatter\"},{\"hovertemplate\":\"Europe<br>%{x}<br>$%{y}<extra></extra>\",\"line\":{\"dash\":\"dash\"},\"mode\":\"lines\",\"name\":\"Europe\",\"x\":[1901,1902,1903,1904,1905,1906,1907,1908,1909,1910,1911,1912,1913,1914,1915,1916,1917,1918,1919,1920,1921,1922,1923,1924,1925,1926,1927,1928,1929,1930,1931,1932,1933,1934,1935,1936,1937,1938,1939,1940,1941,1942,1943,1944,1945,1946,1947,1948,1949,1950,1951,1952,1953,1954,1955,1956,1957,1958,1959,1960,1961,1962,1963,1964,1965,1966,1967,1968,1969,1970,1971,1972,1973,1974,1975,1976,1977,1978,1979,1980,1981,1982,1983,1984,1985,1986,1987,1988,1989,1990,1991,1992,1993,1994,1995,1996,1997,1998,1999,2000,2001,2002,2003,2004,2005,2006,2007,2008,2009,2010,2011,2012,2013,2014,2015,2016,2017,2018,2019,2020,2021,2022,2023,2024],\"y\":[5.0,8.0,11.0,14.0,16.0,18.0,22.0,26.0,29.0,32.0,34.0,38.0,39.0,40.0,42.0,42.0,43.0,45.0,46.0,48.0,51.0,54.0,54.0,54.0,58.0,61.0,66.0,69.0,73.0,74.0,77.0,81.0,84.0,85.0,90.0,91.0,95.0,96.0,98.0,98.0,98.0,98.0,98.0,99.0,101.0,101.0,104.0,106.0,107.0,111.0,113.0,117.0,120.0,122.0,122.0,125.0,127.0,128.0,129.0,131.0,132.0,135.0,139.0,142.0,145.0,146.0,149.0,150.0,151.0,153.0,155.0,158.0,163.0,165.0,166.0,166.0,168.0,169.0,172.0,174.0,175.0,177.0,178.0,180.0,182.0,184.0,186.0,191.0,192.0,192.0,196.0,197.0,198.0,199.0,202.0,204.0,206.0,208.0,209.0,211.0,215.0,216.0,218.0,218.0,221.0,221.0,226.0,230.0,232.0,235.0,236.0,238.0,239.0,243.0,243.0,247.0,249.0,251.0,253.0,257.0,261.0,263.0,265.0,265.0],\"type\":\"scatter\"},{\"hovertemplate\":\"Asia<br>%{x}<br>$%{y}<extra></extra>\",\"line\":{\"dash\":\"dot\"},\"mode\":\"lines\",\"name\":\"Asia\",\"x\":[1901,1902,1903,1904,1905,1906,1907,1908,1909,1910,1911,1912,1913,1914,1915,1916,1917,1918,1919,1920,1921,1922,1923,1924,1925,1926,1927,1928,1929,1930,1931,1932,1933,1934,1935,1936,1937,1938,1939,1940,1941,1942,1943,1944,1945,1946,1947,1948,1949,1950,1951,1952,1953,1954,1955,1956,1957,1958,1959,1960,1961,1962,1963,1964,1965,1966,1967,1968,1969,1970,1971,1972,1973,1974,1975,1976,1977,1978,1979,1980,1981,1982,1983,1984,1985,1986,1987,1988,1989,1990,1991,1992,1993,1994,1995,1996,1997,1998,1999,2000,2001,2002,2003,2004,2005,2006,2007,2008,2009,2010,2011,2012,2013,2014,2015,2016,2017,2018,2019,2020,2021,2022,2023,2024],\"y\":[0.0,0.0,0.0,1.0,1.0,1.0,1.0,2.0,2.0,2.0,2.0,2.0,3.0,3.0,3.0,3.0,3.0,3.0,3.0,3.0,3.0,3.0,3.0,3.0,3.0,3.0,3.0,3.0,3.0,4.0,4.0,4.0,4.0,4.0,4.0,4.0,4.0,4.0,4.0,4.0,4.0,4.0,4.0,4.0,4.0,4.0,4.0,4.0,5.0,5.0,5.0,5.0,5.0,5.0,5.0,6.0,6.0,10.0,10.0,10.0,10.0,11.0,11.0,12.0,14.0,14.0,14.0,15.0,15.0,16.0,16.0,16.0,17.0,18.0,20.0,20.0,20.0,21.0,22.0,22.0,23.0,23.0,23.0,23.0,23.0,23.0,25.0,25.0,25.0,26.0,26.0,26.0,26.0,27.0,27.0,27.0,27.0,28.0,28.0,30.0,31.0,33.0,34.0,34.0,34.0,34.0,34.0,37.0,37.0,39.0,39.0,40.0,40.0,43.0,45.0,46.0,46.0,47.0,48.0,48.0,49.0,49.0,50.0,50.0],\"type\":\"scatter\"}],                        {\"template\":{\"data\":{\"barpolar\":[{\"marker\":{\"line\":{\"color\":\"#E5ECF6\",\"width\":0.5},\"pattern\":{\"fillmode\":\"overlay\",\"size\":10,\"solidity\":0.2}},\"type\":\"barpolar\"}],\"bar\":[{\"error_x\":{\"color\":\"#2a3f5f\"},\"error_y\":{\"color\":\"#2a3f5f\"},\"marker\":{\"line\":{\"color\":\"#E5ECF6\",\"width\":0.5},\"pattern\":{\"fillmode\":\"overlay\",\"size\":10,\"solidity\":0.2}},\"type\":\"bar\"}],\"carpet\":[{\"aaxis\":{\"endlinecolor\":\"#2a3f5f\",\"gridcolor\":\"white\",\"linecolor\":\"white\",\"minorgridcolor\":\"white\",\"startlinecolor\":\"#2a3f5f\"},\"baxis\":{\"endlinecolor\":\"#2a3f5f\",\"gridcolor\":\"white\",\"linecolor\":\"white\",\"minorgridcolor\":\"white\",\"startlinecolor\":\"#2a3f5f\"},\"type\":\"carpet\"}],\"choropleth\":[{\"colorbar\":{\"outlinewidth\":0,\"ticks\":\"\"},\"type\":\"choropleth\"}],\"contourcarpet\":[{\"colorbar\":{\"outlinewidth\":0,\"ticks\":\"\"},\"type\":\"contourcarpet\"}],\"contour\":[{\"colorbar\":{\"outlinewidth\":0,\"ticks\":\"\"},\"colorscale\":[[0.0,\"#0d0887\"],[0.1111111111111111,\"#46039f\"],[0.2222222222222222,\"#7201a8\"],[0.3333333333333333,\"#9c179e\"],[0.4444444444444444,\"#bd3786\"],[0.5555555555555556,\"#d8576b\"],[0.6666666666666666,\"#ed7953\"],[0.7777777777777778,\"#fb9f3a\"],[0.8888888888888888,\"#fdca26\"],[1.0,\"#f0f921\"]],\"type\":\"contour\"}],\"heatmapgl\":[{\"colorbar\":{\"outlinewidth\":0,\"ticks\":\"\"},\"colorscale\":[[0.0,\"#0d0887\"],[0.1111111111111111,\"#46039f\"],[0.2222222222222222,\"#7201a8\"],[0.3333333333333333,\"#9c179e\"],[0.4444444444444444,\"#bd3786\"],[0.5555555555555556,\"#d8576b\"],[0.6666666666666666,\"#ed7953\"],[0.7777777777777778,\"#fb9f3a\"],[0.8888888888888888,\"#fdca26\"],[1.0,\"#f0f921\"]],\"type\":\"heatmapgl\"}],\"heatmap\":[{\"colorbar\":{\"outlinewidth\":0,\"ticks\":\"\"},\"colorscale\":[[0.0,\"#0d0887\"],[0.1111111111111111,\"#46039f\"],[0.2222222222222222,\"#7201a8\"],[0.3333333333333333,\"#9c179e\"],[0.4444444444444444,\"#bd3786\"],[0.5555555555555556,\"#d8576b\"],[0.6666666666666666,\"#ed7953\"],[0.7777777777777778,\"#fb9f3a\"],[0.8888888888888888,\"#fdca26\"],[1.0,\"#f0f921\"]],\"type\":\"heatmap\"}],\"histogram2dcontour\":[{\"colorbar\":{\"outlinewidth\":0,\"ticks\":\"\"},\"colorscale\":[[0.0,\"#0d0887\"],[0.1111111111111111,\"#46039f\"],[0.2222222222222222,\"#7201a8\"],[0.3333333333333333,\"#9c179e\"],[0.4444444444444444,\"#bd3786\"],[0.5555555555555556,\"#d8576b\"],[0.6666666666666666,\"#ed7953\"],[0.7777777777777778,\"#fb9f3a\"],[0.8888888888888888,\"#fdca26\"],[1.0,\"#f0f921\"]],\"type\":\"histogram2dcontour\"}],\"histogram2d\":[{\"colorbar\":{\"outlinewidth\":0,\"ticks\":\"\"},\"colorscale\":[[0.0,\"#0d0887\"],[0.1111111111111111,\"#46039f\"],[0.2222222222222222,\"#7201a8\"],[0.3333333333333333,\"#9c179e\"],[0.4444444444444444,\"#bd3786\"],[0.5555555555555556,\"#d8576b\"],[0.6666666666666666,\"#ed7953\"],[0.7777777777777778,\"#fb9f3a\"],[0.8888888888888888,\"#fdca26\"],[1.0,\"#f0f921\"]],\"type\":\"histogram2d\"}],\"histogram\":[{\"marker\":{\"pattern\":{\"fillmode\":\"overlay\",\"size\":10,\"solidity\":0.2}},\"type\":\"histogram\"}],\"mesh3d\":[{\"colorbar\":{\"outlinewidth\":0,\"ticks\":\"\"},\"type\":\"mesh3d\"}],\"parcoords\":[{\"line\":{\"colorbar\":{\"outlinewidth\":0,\"ticks\":\"\"}},\"type\":\"parcoords\"}],\"pie\":[{\"automargin\":true,\"type\":\"pie\"}],\"scatter3d\":[{\"line\":{\"colorbar\":{\"outlinewidth\":0,\"ticks\":\"\"}},\"marker\":{\"colorbar\":{\"outlinewidth\":0,\"ticks\":\"\"}},\"type\":\"scatter3d\"}],\"scattercarpet\":[{\"marker\":{\"colorbar\":{\"outlinewidth\":0,\"ticks\":\"\"}},\"type\":\"scattercarpet\"}],\"scattergeo\":[{\"marker\":{\"colorbar\":{\"outlinewidth\":0,\"ticks\":\"\"}},\"type\":\"scattergeo\"}],\"scattergl\":[{\"marker\":{\"colorbar\":{\"outlinewidth\":0,\"ticks\":\"\"}},\"type\":\"scattergl\"}],\"scattermapbox\":[{\"marker\":{\"colorbar\":{\"outlinewidth\":0,\"ticks\":\"\"}},\"type\":\"scattermapbox\"}],\"scatterpolargl\":[{\"marker\":{\"colorbar\":{\"outlinewidth\":0,\"ticks\":\"\"}},\"type\":\"scatterpolargl\"}],\"scatterpolar\":[{\"marker\":{\"colorbar\":{\"outlinewidth\":0,\"ticks\":\"\"}},\"type\":\"scatterpolar\"}],\"scatter\":[{\"fillpattern\":{\"fillmode\":\"overlay\",\"size\":10,\"solidity\":0.2},\"type\":\"scatter\"}],\"scatterternary\":[{\"marker\":{\"colorbar\":{\"outlinewidth\":0,\"ticks\":\"\"}},\"type\":\"scatterternary\"}],\"surface\":[{\"colorbar\":{\"outlinewidth\":0,\"ticks\":\"\"},\"colorscale\":[[0.0,\"#0d0887\"],[0.1111111111111111,\"#46039f\"],[0.2222222222222222,\"#7201a8\"],[0.3333333333333333,\"#9c179e\"],[0.4444444444444444,\"#bd3786\"],[0.5555555555555556,\"#d8576b\"],[0.6666666666666666,\"#ed7953\"],[0.7777777777777778,\"#fb9f3a\"],[0.8888888888888888,\"#fdca26\"],[1.0,\"#f0f921\"]],\"type\":\"surface\"}],\"table\":[{\"cells\":{\"fill\":{\"color\":\"#EBF0F8\"},\"line\":{\"color\":\"white\"}},\"header\":{\"fill\":{\"color\":\"#C8D4E3\"},\"line\":{\"color\":\"white\"}},\"type\":\"table\"}]},\"layout\":{\"annotationdefaults\":{\"arrowcolor\":\"#2a3f5f\",\"arrowhead\":0,\"arrowwidth\":1},\"autotypenumbers\":\"strict\",\"coloraxis\":{\"colorbar\":{\"outlinewidth\":0,\"ticks\":\"\"}},\"colorscale\":{\"diverging\":[[0,\"#8e0152\"],[0.1,\"#c51b7d\"],[0.2,\"#de77ae\"],[0.3,\"#f1b6da\"],[0.4,\"#fde0ef\"],[0.5,\"#f7f7f7\"],[0.6,\"#e6f5d0\"],[0.7,\"#b8e186\"],[0.8,\"#7fbc41\"],[0.9,\"#4d9221\"],[1,\"#276419\"]],\"sequential\":[[0.0,\"#0d0887\"],[0.1111111111111111,\"#46039f\"],[0.2222222222222222,\"#7201a8\"],[0.3333333333333333,\"#9c179e\"],[0.4444444444444444,\"#bd3786\"],[0.5555555555555556,\"#d8576b\"],[0.6666666666666666,\"#ed7953\"],[0.7777777777777778,\"#fb9f3a\"],[0.8888888888888888,\"#fdca26\"],[1.0,\"#f0f921\"]],\"sequentialminus\":[[0.0,\"#0d0887\"],[0.1111111111111111,\"#46039f\"],[0.2222222222222222,\"#7201a8\"],[0.3333333333333333,\"#9c179e\"],[0.4444444444444444,\"#bd3786\"],[0.5555555555555556,\"#d8576b\"],[0.6666666666666666,\"#ed7953\"],[0.7777777777777778,\"#fb9f3a\"],[0.8888888888888888,\"#fdca26\"],[1.0,\"#f0f921\"]]},\"colorway\":[\"#636efa\",\"#EF553B\",\"#00cc96\",\"#ab63fa\",\"#FFA15A\",\"#19d3f3\",\"#FF6692\",\"#B6E880\",\"#FF97FF\",\"#FECB52\"],\"font\":{\"color\":\"#2a3f5f\"},\"geo\":{\"bgcolor\":\"white\",\"lakecolor\":\"white\",\"landcolor\":\"#E5ECF6\",\"showlakes\":true,\"showland\":true,\"subunitcolor\":\"white\"},\"hoverlabel\":{\"align\":\"left\"},\"hovermode\":\"closest\",\"mapbox\":{\"style\":\"light\"},\"paper_bgcolor\":\"white\",\"plot_bgcolor\":\"#E5ECF6\",\"polar\":{\"angularaxis\":{\"gridcolor\":\"white\",\"linecolor\":\"white\",\"ticks\":\"\"},\"bgcolor\":\"#E5ECF6\",\"radialaxis\":{\"gridcolor\":\"white\",\"linecolor\":\"white\",\"ticks\":\"\"}},\"scene\":{\"xaxis\":{\"backgroundcolor\":\"#E5ECF6\",\"gridcolor\":\"white\",\"gridwidth\":2,\"linecolor\":\"white\",\"showbackground\":true,\"ticks\":\"\",\"zerolinecolor\":\"white\"},\"yaxis\":{\"backgroundcolor\":\"#E5ECF6\",\"gridcolor\":\"white\",\"gridwidth\":2,\"linecolor\":\"white\",\"showbackground\":true,\"ticks\":\"\",\"zerolinecolor\":\"white\"},\"zaxis\":{\"backgroundcolor\":\"#E5ECF6\",\"gridcolor\":\"white\",\"gridwidth\":2,\"linecolor\":\"white\",\"showbackground\":true,\"ticks\":\"\",\"zerolinecolor\":\"white\"}},\"shapedefaults\":{\"line\":{\"color\":\"#2a3f5f\"}},\"ternary\":{\"aaxis\":{\"gridcolor\":\"white\",\"linecolor\":\"white\",\"ticks\":\"\"},\"baxis\":{\"gridcolor\":\"white\",\"linecolor\":\"white\",\"ticks\":\"\"},\"bgcolor\":\"#E5ECF6\",\"caxis\":{\"gridcolor\":\"white\",\"linecolor\":\"white\",\"ticks\":\"\"}},\"title\":{\"x\":0.05},\"xaxis\":{\"automargin\":true,\"gridcolor\":\"white\",\"linecolor\":\"white\",\"ticks\":\"\",\"title\":{\"standoff\":15},\"zerolinecolor\":\"white\",\"zerolinewidth\":2},\"yaxis\":{\"automargin\":true,\"gridcolor\":\"white\",\"linecolor\":\"white\",\"ticks\":\"\",\"title\":{\"standoff\":15},\"zerolinecolor\":\"white\",\"zerolinewidth\":2}}},\"xaxis\":{\"title\":{\"text\":\"year\"}},\"yaxis\":{\"title\":{\"text\":\"cumulative prizes\"}}},                        {\"responsive\": true}                    )                };                            </script>        </div>'"
      ]
     },
     "execution_count": 31,
     "metadata": {},
     "output_type": "execute_result"
    }
   ],
   "source": [
    "from plotly.offline import plot\n",
    "\n",
    "traces = []\n",
    "for region in regions:\n",
    "    name = region['label']\n",
    "    traces.append(\n",
    "        go.Scatter(\n",
    "            y=df_regions[name],\n",
    "            x=df_regions.index,\n",
    "            name=name,\n",
    "            mode=\"lines\",\n",
    "            hovertemplate=f\"{name}<br>%{{x}}<br>$%{{y}}<extra></extra>\",\n",
    "            line=dict(dash=['solid', 'dash', 'dot'][len(traces)])\n",
    "        )\n",
    "    )\n",
    "layout = go.Layout(xaxis_title=\"year\", yaxis_title=\"cumulative prizes\")\n",
    "fig = go.Figure(traces, layout)\n",
    "fig.show()\n",
    "\n",
    "\n",
    "embed_string = plot(fig, output_type=\"div\", include_plotlyjs=\"cdn\")\n",
    "embed_string"
   ]
  },
  {
   "cell_type": "code",
   "execution_count": 32,
   "metadata": {},
   "outputs": [
    {
     "data": {
      "text/plain": [
       "'[{\"gender\":\"male\",\"award_age\":25},{\"gender\":\"male\",\"award_age\":44},{\"gender\":\"male\",\"award_age\":54},{\"gender\":\"male\",\"award_age\":68},{\"gender\":\"male\",\"award_age\":56},{\"gender\":\"male\",\"award_age\":52},{\"gender\":\"male\",\"award_age\":49},{\"gender\":\"male\",\"award_age\":64},{\"gender\":\"male\",\"award_age\":69},{\"gender\":\"male\",\"award_age\":60},{\"gender\":\"male\",\"award_age\":58},{\"gender\":\"male\",\"award_age\":61},{\"gender\":\"male\",\"award_age\":48},{\"gender\":\"male\",\"award_age\":60},{\"gender\":\"male\",\"award_age\":61},{\"gender\":\"male\",\"award_age\":47},{\"gender\":\"male\",\"award_age\":62},{\"gender\":\"male\",\"award_age\":48},{\"gender\":\"female\",\"award_age\":32},{\"gender\":\"male\",\"award_age\":55},{\"gender\":\"male\",\"award_age\":67},{\"gender\":\"male\",\"award_age\":55},{\"gender\":\"male\",\"award_age\":60},{\"gender\":\"male\",\"award_age\":63},{\"gender\":\"male\",\"award_age\":73},{\"gender\":\"male\",\"award_age\":35},{\"gender\":\"male\",\"award_age\":46},{\"gender\":\"male\",\"award_age\":45},{\"gender\":\"male\",\"award_age\":69},{\"gender\":\"male\",\"award_age\":67},{\"gender\":\"male\",\"award_age\":42},{\"gender\":\"male\",\"award_age\":56},{\"gender\":\"male\",\"award_age\":38},{\"gender\":\"female\",\"award_age\":46},{\"gender\":\"male\",\"award_age\":56},{\"gender\":\"male\",\"award_age\":46},{\"gender\":\"male\",\"award_age\":70},{\"gender\":\"male\",\"award_age\":56},{\"gender\":\"male\",\"award_age\":55},{\"gender\":\"male\",\"award_age\":50},{\"gender\":\"male\",\"award_age\":48},{\"gender\":\"male\",\"award_age\":31},{\"gender\":\"male\",\"award_age\":41},{\"gender\":\"male\",\"award_age\":49},{\"gender\":\"male\",\"award_age\":51},{\"gender\":\"female\",\"award_age\":71},{\"gender\":\"male\",\"award_age\":74},{\"gender\":\"male\",\"award_age\":55},{\"gender\":\"female\",\"award_age\":79},{\"gender\":\"male\",\"award_age\":42},{\"gender\":\"male\",\"award_age\":54},{\"gender\":\"male\",\"award_age\":64},{\"gender\":\"male\",\"award_age\":54},{\"gender\":\"male\",\"award_age\":52},{\"gender\":\"male\",\"award_age\":44},{\"gender\":\"male\",\"award_age\":39},{\"gender\":\"male\",\"award_age\":40},{\"gender\":\"male\",\"award_age\":47},{\"gender\":\"male\",\"award_age\":64},{\"gender\":\"male\",\"award_age\":46},{\"gender\":\"male\",\"award_age\":51},{\"gender\":\"female\",\"award_age\":51},{\"gender\":\"male\",\"award_age\":59},{\"gender\":\"male\",\"award_age\":81},{\"gender\":\"male\",\"award_age\":64},{\"gender\":\"male\",\"award_age\":56},{\"gender\":\"male\",\"award_age\":53},{\"gender\":\"male\",\"award_age\":38},{\"gender\":\"male\",\"award_age\":39},{\"gender\":\"male\",\"award_age\":73},{\"gender\":\"male\",\"award_age\":53},{\"gender\":\"male\",\"award_age\":61},{\"gender\":\"male\",\"award_age\":55},{\"gender\":\"male\",\"award_age\":48},{\"gender\":\"male\",\"award_age\":64},{\"gender\":\"male\",\"award_age\":54},{\"gender\":\"male\",\"award_age\":61},{\"gender\":\"male\",\"award_age\":61},{\"gender\":\"male\",\"award_age\":54},{\"gender\":\"male\",\"award_age\":42},{\"gender\":\"male\",\"award_age\":44},{\"gender\":\"male\",\"award_age\":57},{\"gender\":\"male\",\"award_age\":54},{\"gender\":\"male\",\"award_age\":55},{\"gender\":\"male\",\"award_age\":33},{\"gender\":\"male\",\"award_age\":49},{\"gender\":\"male\",\"award_age\":35},{\"gender\":\"male\",\"award_age\":31},{\"gender\":\"male\",\"award_age\":46},{\"gender\":\"male\",\"award_age\":54},{\"gender\":\"male\",\"award_age\":39},{\"gender\":\"male\",\"award_age\":62},{\"gender\":\"male\",\"award_age\":52},{\"gender\":\"male\",\"award_age\":50},{\"gender\":\"male\",\"award_age\":46},{\"gender\":\"male\",\"award_age\":34},{\"gender\":\"male\",\"award_age\":34},{\"gender\":\"male\",\"award_age\":54},{\"gender\":\"male\",\"award_age\":41},{\"gender\":\"male\",\"award_age\":52},{\"gender\":\"female\",\"award_age\":57},{\"gender\":\"male\",\"award_age\":61},{\"gender\":\"male\",\"award_age\":60},{\"gender\":\"male\",\"award_age\":47},{\"gender\":\"male\",\"award_age\":35},{\"gender\":\"male\",\"award_age\":49},{\"gender\":\"male\",\"award_age\":46},{\"gender\":\"male\",\"award_age\":41},{\"gender\":\"male\",\"award_age\":61},{\"gender\":\"male\",\"award_age\":64},{\"gender\":\"male\",\"award_age\":61},{\"gender\":\"male\",\"award_age\":70},{\"gender\":\"male\",\"award_age\":65},{\"gender\":\"male\",\"award_age\":87},{\"gender\":\"male\",\"award_age\":61},{\"gender\":\"male\",\"award_age\":57},{\"gender\":\"male\",\"award_age\":65},{\"gender\":\"male\",\"award_age\":58},{\"gender\":\"male\",\"award_age\":40},{\"gender\":\"male\",\"award_age\":63},{\"gender\":\"male\",\"award_age\":57},{\"gender\":\"male\",\"award_age\":46},{\"gender\":\"male\",\"award_age\":48},{\"gender\":\"male\",\"award_age\":47},{\"gender\":\"male\",\"award_age\":55},{\"gender\":\"male\",\"award_age\":56},{\"gender\":\"male\",\"award_age\":70},{\"gender\":\"male\",\"award_age\":56},{\"gender\":\"male\",\"award_age\":56},{\"gender\":\"male\",\"award_age\":59},{\"gender\":\"male\",\"award_age\":61},{\"gender\":\"male\",\"award_age\":51},{\"gender\":\"male\",\"award_age\":42},{\"gender\":\"male\",\"award_age\":41},{\"gender\":\"male\",\"award_age\":62},{\"gender\":\"male\",\"award_age\":67},{\"gender\":\"male\",\"award_age\":50},{\"gender\":\"male\",\"award_age\":43},{\"gender\":\"male\",\"award_age\":61},{\"gender\":\"male\",\"award_age\":51},{\"gender\":\"male\",\"award_age\":53},{\"gender\":\"male\",\"award_age\":45},{\"gender\":\"male\",\"award_age\":61},{\"gender\":\"male\",\"award_age\":78},{\"gender\":\"male\",\"award_age\":54},{\"gender\":\"male\",\"award_age\":53},{\"gender\":\"male\",\"award_age\":51},{\"gender\":\"female\",\"award_age\":56},{\"gender\":\"male\",\"award_age\":57},{\"gender\":\"male\",\"award_age\":64},{\"gender\":\"male\",\"award_age\":58},{\"gender\":\"male\",\"award_age\":37},{\"gender\":\"male\",\"award_age\":41},{\"gender\":\"male\",\"award_age\":64},{\"gender\":\"male\",\"award_age\":47},{\"gender\":\"male\",\"award_age\":50},{\"gender\":\"male\",\"award_age\":42},{\"gender\":\"male\",\"award_age\":45},{\"gender\":\"male\",\"award_age\":46},{\"gender\":\"male\",\"award_age\":47},{\"gender\":\"male\",\"award_age\":55},{\"gender\":\"male\",\"award_age\":62},{\"gender\":\"male\",\"award_age\":67},{\"gender\":\"male\",\"award_age\":48},{\"gender\":\"male\",\"award_age\":54},{\"gender\":\"male\",\"award_age\":60},{\"gender\":\"male\",\"award_age\":69},{\"gender\":\"male\",\"award_age\":49},{\"gender\":\"male\",\"award_age\":57},{\"gender\":\"male\",\"award_age\":60},{\"gender\":\"male\",\"award_age\":77},{\"gender\":\"male\",\"award_age\":77},{\"gender\":\"male\",\"award_age\":75},{\"gender\":\"male\",\"award_age\":68},{\"gender\":\"male\",\"award_age\":63},{\"gender\":\"male\",\"award_age\":44},{\"gender\":\"male\",\"award_age\":62},{\"gender\":\"male\",\"award_age\":72},{\"gender\":\"male\",\"award_age\":73},{\"gender\":\"male\",\"award_age\":67},{\"gender\":\"male\",\"award_age\":68},{\"gender\":\"male\",\"award_age\":67},{\"gender\":\"male\",\"award_age\":44},{\"gender\":\"male\",\"award_age\":45},{\"gender\":\"male\",\"award_age\":63},{\"gender\":\"male\",\"award_age\":68},{\"gender\":\"female\",\"award_age\":81},{\"gender\":\"male\",\"award_age\":71},{\"gender\":\"male\",\"award_age\":46},{\"gender\":\"male\",\"award_age\":61},{\"gender\":\"male\",\"award_age\":60},{\"gender\":\"male\",\"award_age\":55},{\"gender\":\"male\",\"award_age\":67},{\"gender\":\"male\",\"award_age\":58},{\"gender\":\"male\",\"award_age\":64},{\"gender\":\"male\",\"award_age\":53},{\"gender\":\"male\",\"award_age\":50},{\"gender\":\"male\",\"award_age\":66},{\"gender\":\"male\",\"award_age\":56},{\"gender\":\"male\",\"award_age\":67},{\"gender\":\"female\",\"award_age\":70},{\"gender\":\"male\",\"award_age\":83},{\"gender\":\"male\",\"award_age\":83},{\"gender\":\"male\",\"award_age\":68},{\"gender\":\"male\",\"award_age\":63},{\"gender\":\"male\",\"award_age\":54},{\"gender\":\"male\",\"award_age\":67},{\"gender\":\"male\",\"award_age\":74},{\"gender\":\"male\",\"award_age\":60},{\"gender\":\"male\",\"award_age\":64},{\"gender\":\"male\",\"award_age\":71},{\"gender\":\"male\",\"award_age\":56},{\"gender\":\"male\",\"award_age\":74},{\"gender\":\"female\",\"award_age\":62},{\"gender\":\"male\",\"award_age\":43},{\"gender\":\"male\",\"award_age\":52},{\"gender\":\"male\",\"award_age\":49},{\"gender\":\"male\",\"award_age\":69},{\"gender\":\"male\",\"award_age\":62},{\"gender\":\"male\",\"award_age\":72},{\"gender\":\"male\",\"award_age\":62},{\"gender\":\"male\",\"award_age\":67},{\"gender\":\"male\",\"award_age\":63},{\"gender\":\"male\",\"award_age\":70},{\"gender\":\"male\",\"award_age\":50},{\"gender\":\"male\",\"award_age\":42},{\"gender\":\"male\",\"award_age\":53},{\"gender\":\"male\",\"award_age\":69},{\"gender\":\"male\",\"award_age\":49},{\"gender\":\"male\",\"award_age\":66},{\"gender\":\"male\",\"award_age\":52},{\"gender\":\"male\",\"award_age\":68},{\"gender\":\"male\",\"award_age\":58},{\"gender\":\"male\",\"award_age\":68},{\"gender\":\"male\",\"award_age\":77},{\"gender\":\"male\",\"award_age\":82},{\"gender\":\"male\",\"award_age\":49},{\"gender\":\"male\",\"award_age\":49},{\"gender\":\"male\",\"award_age\":55},{\"gender\":\"male\",\"award_age\":53},{\"gender\":\"male\",\"award_age\":63},{\"gender\":\"male\",\"award_age\":65},{\"gender\":\"male\",\"award_age\":51},{\"gender\":\"male\",\"award_age\":59},{\"gender\":\"male\",\"award_age\":77},{\"gender\":\"male\",\"award_age\":48},{\"gender\":\"male\",\"award_age\":67},{\"gender\":\"male\",\"award_age\":74},{\"gender\":\"male\",\"award_age\":79},{\"gender\":\"male\",\"award_age\":67},{\"gender\":\"male\",\"award_age\":73},{\"gender\":\"male\",\"award_age\":49},{\"gender\":\"male\",\"award_age\":48},{\"gender\":\"male\",\"award_age\":59},{\"gender\":\"male\",\"award_age\":82},{\"gender\":\"male\",\"award_age\":57},{\"gender\":\"male\",\"award_age\":75},{\"gender\":\"male\",\"award_age\":53},{\"gender\":\"male\",\"award_age\":62},{\"gender\":\"male\",\"award_age\":64},{\"gender\":\"male\",\"award_age\":56},{\"gender\":\"male\",\"award_age\":58},{\"gender\":\"male\",\"award_age\":61},{\"gender\":\"male\",\"award_age\":58},{\"gender\":\"male\",\"award_age\":40},{\"gender\":\"male\",\"award_age\":50},{\"gender\":\"male\",\"award_age\":63},{\"gender\":\"male\",\"award_age\":77},{\"gender\":\"male\",\"award_age\":75},{\"gender\":\"male\",\"award_age\":71},{\"gender\":\"male\",\"award_age\":63},{\"gender\":\"male\",\"award_age\":62},{\"gender\":\"male\",\"award_age\":79},{\"gender\":\"male\",\"award_age\":53},{\"gender\":\"male\",\"award_age\":56},{\"gender\":\"female\",\"award_age\":47},{\"gender\":\"male\",\"award_age\":60},{\"gender\":\"male\",\"award_age\":81},{\"gender\":\"male\",\"award_age\":71},{\"gender\":\"male\",\"award_age\":75},{\"gender\":\"male\",\"award_age\":55},{\"gender\":\"male\",\"award_age\":61},{\"gender\":\"male\",\"award_age\":65},{\"gender\":\"male\",\"award_age\":74},{\"gender\":\"male\",\"award_age\":75},{\"gender\":\"male\",\"award_age\":68},{\"gender\":\"male\",\"award_age\":75},{\"gender\":\"male\",\"award_age\":54},{\"gender\":\"male\",\"award_age\":47},{\"gender\":\"male\",\"award_age\":78},{\"gender\":\"male\",\"award_age\":85},{\"gender\":\"male\",\"award_age\":88},{\"gender\":\"male\",\"award_age\":84},{\"gender\":\"male\",\"award_age\":60},{\"gender\":\"male\",\"award_age\":84},{\"gender\":\"male\",\"award_age\":71},{\"gender\":\"male\",\"award_age\":80},{\"gender\":\"male\",\"award_age\":78},{\"gender\":\"male\",\"award_age\":46},{\"gender\":\"male\",\"award_age\":61},{\"gender\":\"male\",\"award_age\":73},{\"gender\":\"male\",\"award_age\":82},{\"gender\":\"male\",\"award_age\":70},{\"gender\":\"male\",\"award_age\":59},{\"gender\":\"male\",\"award_age\":59},{\"gender\":\"male\",\"award_age\":60},{\"gender\":\"male\",\"award_age\":47},{\"gender\":\"male\",\"award_age\":63},{\"gender\":\"male\",\"award_age\":64},{\"gender\":\"male\",\"award_age\":63},{\"gender\":\"male\",\"award_age\":55},{\"gender\":\"male\",\"award_age\":53},{\"gender\":\"male\",\"award_age\":58},{\"gender\":\"female\",\"award_age\":57},{\"gender\":\"male\",\"award_age\":56},{\"gender\":\"male\",\"award_age\":57},{\"gender\":\"female\",\"award_age\":61},{\"gender\":\"female\",\"award_age\":48},{\"gender\":\"male\",\"award_age\":48},{\"gender\":\"male\",\"award_age\":57},{\"gender\":\"male\",\"award_age\":69},{\"gender\":\"male\",\"award_age\":85},{\"gender\":\"male\",\"award_age\":79},{\"gender\":\"male\",\"award_age\":55},{\"gender\":\"male\",\"award_age\":56},{\"gender\":\"male\",\"award_age\":61},{\"gender\":\"male\",\"award_age\":87},{\"gender\":\"male\",\"award_age\":90},{\"gender\":\"male\",\"award_age\":79},{\"gender\":\"female\",\"award_age\":76},{\"gender\":\"male\",\"award_age\":77},{\"gender\":\"male\",\"award_age\":69},{\"gender\":\"male\",\"award_age\":68},{\"gender\":\"male\",\"award_age\":52},{\"gender\":\"male\",\"award_age\":44},{\"gender\":\"male\",\"award_age\":42},{\"gender\":\"male\",\"award_age\":61},{\"gender\":\"male\",\"award_age\":89},{\"gender\":\"male\",\"award_age\":57},{\"gender\":\"male\",\"award_age\":63},{\"gender\":\"male\",\"award_age\":69},{\"gender\":\"male\",\"award_age\":68},{\"gender\":\"male\",\"award_age\":68},{\"gender\":\"male\",\"award_age\":54},{\"gender\":\"male\",\"award_age\":70},{\"gender\":\"male\",\"award_age\":71},{\"gender\":\"male\",\"award_age\":66},{\"gender\":\"male\",\"award_age\":83},{\"gender\":\"male\",\"award_age\":65},{\"gender\":\"male\",\"award_age\":61},{\"gender\":\"male\",\"award_age\":54},{\"gender\":\"male\",\"award_age\":60},{\"gender\":\"male\",\"award_age\":67},{\"gender\":\"male\",\"award_age\":75},{\"gender\":\"male\",\"award_age\":74},{\"gender\":\"male\",\"award_age\":65},{\"gender\":\"male\",\"award_age\":70},{\"gender\":\"male\",\"award_age\":69},{\"gender\":\"male\",\"award_age\":61},{\"gender\":\"male\",\"award_age\":74},{\"gender\":\"male\",\"award_age\":58},{\"gender\":\"male\",\"award_age\":72},{\"gender\":\"male\",\"award_age\":81},{\"gender\":\"male\",\"award_age\":68},{\"gender\":\"male\",\"award_age\":73},{\"gender\":\"male\",\"award_age\":77},{\"gender\":\"male\",\"award_age\":77},{\"gender\":\"female\",\"award_age\":62},{\"gender\":\"male\",\"award_age\":96},{\"gender\":\"male\",\"award_age\":70},{\"gender\":\"male\",\"award_age\":63},{\"gender\":\"male\",\"award_age\":63},{\"gender\":\"male\",\"award_age\":78},{\"gender\":\"male\",\"award_age\":84},{\"gender\":\"male\",\"award_age\":55},{\"gender\":\"male\",\"award_age\":97},{\"gender\":\"male\",\"award_age\":58},{\"gender\":\"male\",\"award_age\":62},{\"gender\":\"male\",\"award_age\":77},{\"gender\":\"male\",\"award_age\":72},{\"gender\":\"male\",\"award_age\":77},{\"gender\":\"male\",\"award_age\":85},{\"gender\":\"male\",\"award_age\":85},{\"gender\":\"male\",\"award_age\":68},{\"gender\":\"male\",\"award_age\":90},{\"gender\":\"male\",\"award_age\":66},{\"gender\":\"male\",\"award_age\":54},{\"gender\":\"male\",\"award_age\":83},{\"gender\":\"male\",\"award_age\":72},{\"gender\":\"female\",\"award_age\":77},{\"gender\":\"female\",\"award_age\":56},{\"gender\":\"female\",\"award_age\":55},{\"gender\":\"male\",\"award_age\":58},{\"gender\":\"male\",\"award_age\":80},{\"gender\":\"male\",\"award_age\":69},{\"gender\":\"male\",\"award_age\":69},{\"gender\":\"female\",\"award_age\":68},{\"gender\":\"female\",\"award_age\":77},{\"gender\":\"male\",\"award_age\":80},{\"gender\":\"male\",\"award_age\":45},{\"gender\":\"male\",\"award_age\":42},{\"gender\":\"male\",\"award_age\":50},{\"gender\":\"male\",\"award_age\":37},{\"gender\":\"male\",\"award_age\":62},{\"gender\":\"male\",\"award_age\":52},{\"gender\":\"male\",\"award_age\":75},{\"gender\":\"male\",\"award_age\":64},{\"gender\":\"male\",\"award_age\":67},{\"gender\":\"female\",\"award_age\":56},{\"gender\":\"male\",\"award_age\":40},{\"gender\":\"male\",\"award_age\":45},{\"gender\":\"male\",\"award_age\":62},{\"gender\":\"male\",\"award_age\":61},{\"gender\":\"male\",\"award_age\":31},{\"gender\":\"male\",\"award_age\":75},{\"gender\":\"male\",\"award_age\":65},{\"gender\":\"male\",\"award_age\":43},{\"gender\":\"male\",\"award_age\":64},{\"gender\":\"male\",\"award_age\":68},{\"gender\":\"male\",\"award_age\":49},{\"gender\":\"male\",\"award_age\":58},{\"gender\":\"male\",\"award_age\":69},{\"gender\":\"male\",\"award_age\":36},{\"gender\":\"male\",\"award_age\":44},{\"gender\":\"male\",\"award_age\":44},{\"gender\":\"male\",\"award_age\":71},{\"gender\":\"male\",\"award_age\":64},{\"gender\":\"male\",\"award_age\":45},{\"gender\":\"male\",\"award_age\":47},{\"gender\":\"male\",\"award_age\":69},{\"gender\":\"male\",\"award_age\":60},{\"gender\":\"male\",\"award_age\":51},{\"gender\":\"male\",\"award_age\":78},{\"gender\":\"male\",\"award_age\":55},{\"gender\":\"male\",\"award_age\":61},{\"gender\":\"male\",\"award_age\":39},{\"gender\":\"male\",\"award_age\":73},{\"gender\":\"male\",\"award_age\":54},{\"gender\":\"male\",\"award_age\":61},{\"gender\":\"male\",\"award_age\":42},{\"gender\":\"male\",\"award_age\":38},{\"gender\":\"male\",\"award_age\":54},{\"gender\":\"male\",\"award_age\":40},{\"gender\":\"male\",\"award_age\":62},{\"gender\":\"male\",\"award_age\":50},{\"gender\":\"male\",\"award_age\":59},{\"gender\":\"male\",\"award_age\":72},{\"gender\":\"male\",\"award_age\":79},{\"gender\":\"male\",\"award_age\":46},{\"gender\":\"male\",\"award_age\":45},{\"gender\":\"male\",\"award_age\":70},{\"gender\":\"male\",\"award_age\":53},{\"gender\":\"male\",\"award_age\":68},{\"gender\":\"male\",\"award_age\":71},{\"gender\":\"male\",\"award_age\":59},{\"gender\":\"male\",\"award_age\":51},{\"gender\":\"male\",\"award_age\":70},{\"gender\":\"male\",\"award_age\":47},{\"gender\":\"female\",\"award_age\":54},{\"gender\":\"male\",\"award_age\":46},{\"gender\":\"male\",\"award_age\":49},{\"gender\":\"male\",\"award_age\":45},{\"gender\":\"male\",\"award_age\":48},{\"gender\":\"male\",\"award_age\":66},{\"gender\":\"male\",\"award_age\":56},{\"gender\":\"male\",\"award_age\":50},{\"gender\":\"male\",\"award_age\":58},{\"gender\":\"male\",\"award_age\":64},{\"gender\":\"male\",\"award_age\":60},{\"gender\":\"male\",\"award_age\":58},{\"gender\":\"male\",\"award_age\":70},{\"gender\":\"male\",\"award_age\":72},{\"gender\":\"male\",\"award_age\":52},{\"gender\":\"male\",\"award_age\":33},{\"gender\":\"male\",\"award_age\":55},{\"gender\":\"male\",\"award_age\":64},{\"gender\":\"male\",\"award_age\":57},{\"gender\":\"male\",\"award_age\":71},{\"gender\":\"male\",\"award_age\":72},{\"gender\":\"male\",\"award_age\":81},{\"gender\":\"male\",\"award_age\":56},{\"gender\":\"male\",\"award_age\":55},{\"gender\":\"male\",\"award_age\":54},{\"gender\":\"male\",\"award_age\":73},{\"gender\":\"male\",\"award_age\":56},{\"gender\":\"male\",\"award_age\":57},{\"gender\":\"male\",\"award_age\":60},{\"gender\":\"male\",\"award_age\":87},{\"gender\":\"male\",\"award_age\":50},{\"gender\":\"male\",\"award_age\":76},{\"gender\":\"male\",\"award_age\":69},{\"gender\":\"male\",\"award_age\":70},{\"gender\":\"male\",\"award_age\":60},{\"gender\":\"male\",\"award_age\":75},{\"gender\":\"male\",\"award_age\":66},{\"gender\":\"female\",\"award_age\":88},{\"gender\":\"male\",\"award_age\":62},{\"gender\":\"male\",\"award_age\":36},{\"gender\":\"male\",\"award_age\":85},{\"gender\":\"male\",\"award_age\":57},{\"gender\":\"male\",\"award_age\":58},{\"gender\":\"male\",\"award_age\":52},{\"gender\":\"male\",\"award_age\":69},{\"gender\":\"male\",\"award_age\":79},{\"gender\":\"male\",\"award_age\":82},{\"gender\":\"male\",\"award_age\":73},{\"gender\":\"male\",\"award_age\":68},{\"gender\":\"male\",\"award_age\":63},{\"gender\":\"male\",\"award_age\":65},{\"gender\":\"male\",\"award_age\":63},{\"gender\":\"male\",\"award_age\":73},{\"gender\":\"male\",\"award_age\":53},{\"gender\":\"male\",\"award_age\":89},{\"gender\":\"male\",\"award_age\":71},{\"gender\":\"male\",\"award_age\":67},{\"gender\":\"male\",\"award_age\":72},{\"gender\":\"male\",\"award_age\":75},{\"gender\":\"male\",\"award_age\":84},{\"gender\":\"male\",\"award_age\":69},{\"gender\":\"male\",\"award_age\":54},{\"gender\":\"male\",\"award_age\":50},{\"gender\":\"male\",\"award_age\":40},{\"gender\":\"male\",\"award_age\":59},{\"gender\":\"male\",\"award_age\":54},{\"gender\":\"male\",\"award_age\":69},{\"gender\":\"male\",\"award_age\":59},{\"gender\":\"male\",\"award_age\":74},{\"gender\":\"male\",\"award_age\":47},{\"gender\":\"male\",\"award_age\":68},{\"gender\":\"male\",\"award_age\":48},{\"gender\":\"male\",\"award_age\":52},{\"gender\":\"male\",\"award_age\":58},{\"gender\":\"male\",\"award_age\":60},{\"gender\":\"male\",\"award_age\":53},{\"gender\":\"male\",\"award_age\":49},{\"gender\":\"male\",\"award_age\":50},{\"gender\":\"male\",\"award_age\":53},{\"gender\":\"male\",\"award_age\":68},{\"gender\":\"male\",\"award_age\":49},{\"gender\":\"male\",\"award_age\":69},{\"gender\":\"male\",\"award_age\":75},{\"gender\":\"male\",\"award_age\":64},{\"gender\":\"male\",\"award_age\":38},{\"gender\":\"male\",\"award_age\":61},{\"gender\":\"male\",\"award_age\":57},{\"gender\":\"male\",\"award_age\":43},{\"gender\":\"male\",\"award_age\":56},{\"gender\":\"male\",\"award_age\":52},{\"gender\":\"male\",\"award_age\":60},{\"gender\":\"male\",\"award_age\":76},{\"gender\":\"male\",\"award_age\":65},{\"gender\":\"male\",\"award_age\":62},{\"gender\":\"male\",\"award_age\":67},{\"gender\":\"female\",\"award_age\":75},{\"gender\":\"male\",\"award_age\":46},{\"gender\":\"male\",\"award_age\":67},{\"gender\":\"male\",\"award_age\":64},{\"gender\":\"male\",\"award_age\":56},{\"gender\":\"male\",\"award_age\":42},{\"gender\":\"male\",\"award_age\":49},{\"gender\":\"female\",\"award_age\":51},{\"gender\":\"male\",\"award_age\":64},{\"gender\":\"male\",\"award_age\":44},{\"gender\":\"male\",\"award_age\":77},{\"gender\":\"male\",\"award_age\":53},{\"gender\":\"male\",\"award_age\":78},{\"gender\":\"male\",\"award_age\":48},{\"gender\":\"male\",\"award_age\":77},{\"gender\":\"male\",\"award_age\":80},{\"gender\":\"male\",\"award_age\":77},{\"gender\":\"male\",\"award_age\":56},{\"gender\":\"male\",\"award_age\":54},{\"gender\":\"male\",\"award_age\":79},{\"gender\":\"male\",\"award_age\":76},{\"gender\":\"male\",\"award_age\":74},{\"gender\":\"male\",\"award_age\":73},{\"gender\":\"male\",\"award_age\":75},{\"gender\":\"male\",\"award_age\":72},{\"gender\":\"female\",\"award_age\":65},{\"gender\":\"male\",\"award_age\":67},{\"gender\":\"female\",\"award_age\":80},{\"gender\":\"male\",\"award_age\":66},{\"gender\":\"male\",\"award_age\":63},{\"gender\":\"male\",\"award_age\":57},{\"gender\":\"male\",\"award_age\":74},{\"gender\":\"male\",\"award_age\":70},{\"gender\":\"male\",\"award_age\":62},{\"gender\":\"male\",\"award_age\":52},{\"gender\":\"female\",\"award_age\":68},{\"gender\":\"male\",\"award_age\":53},{\"gender\":\"male\",\"award_age\":75},{\"gender\":\"male\",\"award_age\":62},{\"gender\":\"male\",\"award_age\":63},{\"gender\":\"male\",\"award_age\":57},{\"gender\":\"male\",\"award_age\":50},{\"gender\":\"male\",\"award_age\":60},{\"gender\":\"male\",\"award_age\":52},{\"gender\":\"male\",\"award_age\":60},{\"gender\":\"male\",\"award_age\":54},{\"gender\":\"male\",\"award_age\":63},{\"gender\":\"male\",\"award_age\":42},{\"gender\":\"male\",\"award_age\":54},{\"gender\":\"male\",\"award_age\":68},{\"gender\":\"male\",\"award_age\":54},{\"gender\":\"male\",\"award_age\":63},{\"gender\":\"male\",\"award_age\":63},{\"gender\":\"male\",\"award_age\":55},{\"gender\":\"male\",\"award_age\":47},{\"gender\":\"male\",\"award_age\":84},{\"gender\":\"male\",\"award_age\":59},{\"gender\":\"male\",\"award_age\":78},{\"gender\":\"male\",\"award_age\":60},{\"gender\":\"male\",\"award_age\":87},{\"gender\":\"male\",\"award_age\":70},{\"gender\":\"male\",\"award_age\":75},{\"gender\":\"male\",\"award_age\":76},{\"gender\":\"male\",\"award_age\":59},{\"gender\":\"female\",\"award_age\":44},{\"gender\":\"female\",\"award_age\":36},{\"gender\":\"male\",\"award_age\":57},{\"gender\":\"male\",\"award_age\":40},{\"gender\":\"female\",\"award_age\":58},{\"gender\":\"female\",\"award_age\":56},{\"gender\":\"female\",\"award_age\":73},{\"gender\":\"female\",\"award_age\":46},{\"gender\":\"male\",\"award_age\":61},{\"gender\":\"male\",\"award_age\":72},{\"gender\":\"male\",\"award_age\":52},{\"gender\":\"male\",\"award_age\":61},{\"gender\":\"male\",\"award_age\":64},{\"gender\":\"female\",\"award_age\":51},{\"gender\":\"male\",\"award_age\":52},{\"gender\":\"male\",\"award_age\":61},{\"gender\":\"male\",\"award_age\":78},{\"gender\":\"male\",\"award_age\":44},{\"gender\":\"male\",\"award_age\":74},{\"gender\":\"male\",\"award_age\":71},{\"gender\":\"male\",\"award_age\":53},{\"gender\":\"female\",\"award_age\":17},{\"gender\":\"male\",\"award_age\":65},{\"gender\":\"male\",\"award_age\":52},{\"gender\":\"male\",\"award_age\":46},{\"gender\":\"male\",\"award_age\":73},{\"gender\":\"male\",\"award_age\":64},{\"gender\":\"male\",\"award_age\":52},{\"gender\":\"male\",\"award_age\":53},{\"gender\":\"male\",\"award_age\":59},{\"gender\":\"male\",\"award_age\":65},{\"gender\":\"male\",\"award_age\":66},{\"gender\":\"male\",\"award_age\":65},{\"gender\":\"male\",\"award_age\":71},{\"gender\":\"male\",\"award_age\":60},{\"gender\":\"male\",\"award_age\":73},{\"gender\":\"male\",\"award_age\":37},{\"gender\":\"male\",\"award_age\":49},{\"gender\":\"male\",\"award_age\":49},{\"gender\":\"male\",\"award_age\":73},{\"gender\":\"male\",\"award_age\":65},{\"gender\":\"male\",\"award_age\":52},{\"gender\":\"male\",\"award_age\":68},{\"gender\":\"female\",\"award_age\":46},{\"gender\":\"male\",\"award_age\":76},{\"gender\":\"male\",\"award_age\":71},{\"gender\":\"female\",\"award_age\":73},{\"gender\":\"female\",\"award_age\":39},{\"gender\":\"male\",\"award_age\":59},{\"gender\":\"male\",\"award_age\":48},{\"gender\":\"male\",\"award_age\":63},{\"gender\":\"male\",\"award_age\":73},{\"gender\":\"male\",\"award_age\":48},{\"gender\":\"male\",\"award_age\":43},{\"gender\":\"male\",\"award_age\":76},{\"gender\":\"male\",\"award_age\":68},{\"gender\":\"male\",\"award_age\":64},{\"gender\":\"male\",\"award_age\":50},{\"gender\":\"male\",\"award_age\":80},{\"gender\":\"male\",\"award_age\":54},{\"gender\":\"male\",\"award_age\":85},{\"gender\":\"male\",\"award_age\":75},{\"gender\":\"male\",\"award_age\":80},{\"gender\":\"male\",\"award_age\":63},{\"gender\":\"male\",\"award_age\":64},{\"gender\":\"male\",\"award_age\":69},{\"gender\":\"male\",\"award_age\":59},{\"gender\":\"male\",\"award_age\":42},{\"gender\":\"female\",\"award_age\":64},{\"gender\":\"male\",\"award_age\":56},{\"gender\":\"male\",\"award_age\":80},{\"gender\":\"male\",\"award_age\":71},{\"gender\":\"male\",\"award_age\":76},{\"gender\":\"male\",\"award_age\":67},{\"gender\":\"female\",\"award_age\":55},{\"gender\":\"male\",\"award_age\":58},{\"gender\":\"male\",\"award_age\":60},{\"gender\":\"male\",\"award_age\":37},{\"gender\":\"male\",\"award_age\":35},{\"gender\":\"male\",\"award_age\":74},{\"gender\":\"male\",\"award_age\":63},{\"gender\":\"male\",\"award_age\":71},{\"gender\":\"male\",\"award_age\":71},{\"gender\":\"male\",\"award_age\":71},{\"gender\":\"female\",\"award_age\":77},{\"gender\":\"male\",\"award_age\":65},{\"gender\":\"male\",\"award_age\":79},{\"gender\":\"male\",\"award_age\":67},{\"gender\":\"male\",\"award_age\":72},{\"gender\":\"male\",\"award_age\":71},{\"gender\":\"male\",\"award_age\":73},{\"gender\":\"male\",\"award_age\":50},{\"gender\":\"male\",\"award_age\":79},{\"gender\":\"male\",\"award_age\":58},{\"gender\":\"male\",\"award_age\":61},{\"gender\":\"male\",\"award_age\":48},{\"gender\":\"male\",\"award_age\":73},{\"gender\":\"male\",\"award_age\":70},{\"gender\":\"female\",\"award_age\":70},{\"gender\":\"female\",\"award_age\":33},{\"gender\":\"male\",\"award_age\":70},{\"gender\":\"male\",\"award_age\":63},{\"gender\":\"male\",\"award_age\":75},{\"gender\":\"male\",\"award_age\":57},{\"gender\":\"male\",\"award_age\":52},{\"gender\":\"female\",\"award_age\":51},{\"gender\":\"female\",\"award_age\":56},{\"gender\":\"female\",\"award_age\":25},{\"gender\":\"male\",\"award_age\":85},{\"gender\":\"male\",\"award_age\":61},{\"gender\":\"male\",\"award_age\":56},{\"gender\":\"female\",\"award_age\":32},{\"gender\":\"male\",\"award_age\":42},{\"gender\":\"male\",\"award_age\":60},{\"gender\":\"male\",\"award_age\":65},{\"gender\":\"male\",\"award_age\":58},{\"gender\":\"male\",\"award_age\":44},{\"gender\":\"male\",\"award_age\":60},{\"gender\":\"male\",\"award_age\":38},{\"gender\":\"male\",\"award_age\":43},{\"gender\":\"male\",\"award_age\":53},{\"gender\":\"female\",\"award_age\":69},{\"gender\":\"male\",\"award_age\":73},{\"gender\":\"male\",\"award_age\":56},{\"gender\":\"male\",\"award_age\":63},{\"gender\":\"male\",\"award_age\":68},{\"gender\":\"male\",\"award_age\":63},{\"gender\":\"female\",\"award_age\":33},{\"gender\":\"male\",\"award_age\":68},{\"gender\":\"male\",\"award_age\":76},{\"gender\":\"male\",\"award_age\":61},{\"gender\":\"male\",\"award_age\":57},{\"gender\":\"male\",\"award_age\":70},{\"gender\":\"male\",\"award_age\":50},{\"gender\":\"male\",\"award_age\":62},{\"gender\":\"male\",\"award_age\":85},{\"gender\":\"male\",\"award_age\":57},{\"gender\":\"male\",\"award_age\":80},{\"gender\":\"male\",\"award_age\":35},{\"gender\":\"male\",\"award_age\":50},{\"gender\":\"male\",\"award_age\":47},{\"gender\":\"male\",\"award_age\":63},{\"gender\":\"male\",\"award_age\":59},{\"gender\":\"male\",\"award_age\":56},{\"gender\":\"male\",\"award_age\":62},{\"gender\":\"male\",\"award_age\":54},{\"gender\":\"male\",\"award_age\":47},{\"gender\":\"male\",\"award_age\":47},{\"gender\":\"male\",\"award_age\":42},{\"gender\":\"male\",\"award_age\":56},{\"gender\":\"male\",\"award_age\":45},{\"gender\":\"male\",\"award_age\":38},{\"gender\":\"male\",\"award_age\":43},{\"gender\":\"male\",\"award_age\":49},{\"gender\":\"male\",\"award_age\":54},{\"gender\":\"male\",\"award_age\":52},{\"gender\":\"male\",\"award_age\":69},{\"gender\":\"male\",\"award_age\":50},{\"gender\":\"male\",\"award_age\":48},{\"gender\":\"male\",\"award_age\":38},{\"gender\":\"male\",\"award_age\":50},{\"gender\":\"male\",\"award_age\":60},{\"gender\":\"male\",\"award_age\":43},{\"gender\":\"male\",\"award_age\":57},{\"gender\":\"male\",\"award_age\":47},{\"gender\":\"male\",\"award_age\":44},{\"gender\":\"male\",\"award_age\":38},{\"gender\":\"male\",\"award_age\":46},{\"gender\":\"male\",\"award_age\":74},{\"gender\":\"male\",\"award_age\":48},{\"gender\":\"male\",\"award_age\":65},{\"gender\":\"male\",\"award_age\":36},{\"gender\":\"male\",\"award_age\":66},{\"gender\":\"male\",\"award_age\":31},{\"gender\":\"male\",\"award_age\":48},{\"gender\":\"male\",\"award_age\":63},{\"gender\":\"male\",\"award_age\":65},{\"gender\":\"male\",\"award_age\":56},{\"gender\":\"male\",\"award_age\":40},{\"gender\":\"male\",\"award_age\":58},{\"gender\":\"male\",\"award_age\":53},{\"gender\":\"male\",\"award_age\":32},{\"gender\":\"male\",\"award_age\":52},{\"gender\":\"male\",\"award_age\":72},{\"gender\":\"male\",\"award_age\":82},{\"gender\":\"male\",\"award_age\":55},{\"gender\":\"male\",\"award_age\":80},{\"gender\":\"male\",\"award_age\":76},{\"gender\":\"male\",\"award_age\":45},{\"gender\":\"female\",\"award_age\":53},{\"gender\":\"male\",\"award_age\":64},{\"gender\":\"male\",\"award_age\":62},{\"gender\":\"male\",\"award_age\":49},{\"gender\":\"male\",\"award_age\":47},{\"gender\":\"male\",\"award_age\":51},{\"gender\":\"male\",\"award_age\":40},{\"gender\":\"male\",\"award_age\":37},{\"gender\":\"male\",\"award_age\":39},{\"gender\":\"male\",\"award_age\":42},{\"gender\":\"male\",\"award_age\":87},{\"gender\":\"male\",\"award_age\":55},{\"gender\":\"male\",\"award_age\":71},{\"gender\":\"male\",\"award_age\":68},{\"gender\":\"male\",\"award_age\":64},{\"gender\":\"male\",\"award_age\":44},{\"gender\":\"male\",\"award_age\":72},{\"gender\":\"male\",\"award_age\":62},{\"gender\":\"male\",\"award_age\":53},{\"gender\":\"male\",\"award_age\":90},{\"gender\":\"male\",\"award_age\":68},{\"gender\":\"male\",\"award_age\":52},{\"gender\":\"female\",\"award_age\":56},{\"gender\":\"male\",\"award_age\":72},{\"gender\":\"male\",\"award_age\":72},{\"gender\":\"male\",\"award_age\":73},{\"gender\":\"male\",\"award_age\":79},{\"gender\":\"male\",\"award_age\":39},{\"gender\":\"male\",\"award_age\":58},{\"gender\":\"male\",\"award_age\":41},{\"gender\":\"male\",\"award_age\":57},{\"gender\":\"male\",\"award_age\":63},{\"gender\":\"male\",\"award_age\":62},{\"gender\":\"male\",\"award_age\":64},{\"gender\":\"male\",\"award_age\":54},{\"gender\":\"male\",\"award_age\":74},{\"gender\":\"male\",\"award_age\":51},{\"gender\":\"male\",\"award_age\":44},{\"gender\":\"male\",\"award_age\":63},{\"gender\":\"male\",\"award_age\":37},{\"gender\":\"male\",\"award_age\":62},{\"gender\":\"male\",\"award_age\":68},{\"gender\":\"male\",\"award_age\":86},{\"gender\":\"male\",\"award_age\":64},{\"gender\":\"male\",\"award_age\":56},{\"gender\":\"male\",\"award_age\":77},{\"gender\":\"male\",\"award_age\":69},{\"gender\":\"male\",\"award_age\":49},{\"gender\":\"male\",\"award_age\":63},{\"gender\":\"male\",\"award_age\":67},{\"gender\":\"male\",\"award_age\":77},{\"gender\":\"male\",\"award_age\":72},{\"gender\":\"male\",\"award_age\":78},{\"gender\":\"male\",\"award_age\":56},{\"gender\":\"male\",\"award_age\":59},{\"gender\":\"male\",\"award_age\":73},{\"gender\":\"male\",\"award_age\":44},{\"gender\":\"male\",\"award_age\":61},{\"gender\":\"male\",\"award_age\":35},{\"gender\":\"female\",\"award_age\":38},{\"gender\":\"male\",\"award_age\":63},{\"gender\":\"male\",\"award_age\":66},{\"gender\":\"male\",\"award_age\":77},{\"gender\":\"male\",\"award_age\":48},{\"gender\":\"male\",\"award_age\":72},{\"gender\":\"male\",\"award_age\":68},{\"gender\":\"male\",\"award_age\":76},{\"gender\":\"female\",\"award_age\":61},{\"gender\":\"male\",\"award_age\":69},{\"gender\":\"male\",\"award_age\":75},{\"gender\":\"male\",\"award_age\":60},{\"gender\":\"male\",\"award_age\":64},{\"gender\":\"male\",\"award_age\":59},{\"gender\":\"male\",\"award_age\":64},{\"gender\":\"male\",\"award_age\":81},{\"gender\":\"male\",\"award_age\":64},{\"gender\":\"male\",\"award_age\":45},{\"gender\":\"male\",\"award_age\":55},{\"gender\":\"male\",\"award_age\":68},{\"gender\":\"male\",\"award_age\":61},{\"gender\":\"female\",\"award_age\":47},{\"gender\":\"male\",\"award_age\":82},{\"gender\":\"female\",\"award_age\":82},{\"gender\":\"male\",\"award_age\":43},{\"gender\":\"male\",\"award_age\":67},{\"gender\":\"male\",\"award_age\":71},{\"gender\":\"male\",\"award_age\":62},{\"gender\":\"male\",\"award_age\":75},{\"gender\":\"female\",\"award_age\":52},{\"gender\":\"male\",\"award_age\":74},{\"gender\":\"male\",\"award_age\":72},{\"gender\":\"male\",\"award_age\":69},{\"gender\":\"male\",\"award_age\":68},{\"gender\":\"male\",\"award_age\":70},{\"gender\":\"male\",\"award_age\":77},{\"gender\":\"male\",\"award_age\":60},{\"gender\":\"male\",\"award_age\":53},{\"gender\":\"male\",\"award_age\":48},{\"gender\":\"male\",\"award_age\":47},{\"gender\":\"male\",\"award_age\":48},{\"gender\":\"male\",\"award_age\":59},{\"gender\":\"male\",\"award_age\":37},{\"gender\":\"male\",\"award_age\":79},{\"gender\":\"male\",\"award_age\":73},{\"gender\":\"male\",\"award_age\":53},{\"gender\":\"male\",\"award_age\":49},{\"gender\":\"male\",\"award_age\":71},{\"gender\":\"male\",\"award_age\":46},{\"gender\":\"male\",\"award_age\":60},{\"gender\":\"male\",\"award_age\":60},{\"gender\":\"male\",\"award_age\":71},{\"gender\":\"male\",\"award_age\":43},{\"gender\":\"male\",\"award_age\":63},{\"gender\":\"male\",\"award_age\":83},{\"gender\":\"male\",\"award_age\":65},{\"gender\":\"male\",\"award_age\":55},{\"gender\":\"male\",\"award_age\":55},{\"gender\":\"male\",\"award_age\":63},{\"gender\":\"male\",\"award_age\":46},{\"gender\":\"male\",\"award_age\":69},{\"gender\":\"male\",\"award_age\":68},{\"gender\":\"female\",\"award_age\":56},{\"gender\":\"female\",\"award_age\":85},{\"gender\":\"male\",\"award_age\":57},{\"gender\":\"male\",\"award_age\":32},{\"gender\":\"male\",\"award_age\":47},{\"gender\":\"male\",\"award_age\":67},{\"gender\":\"male\",\"award_age\":61},{\"gender\":\"male\",\"award_age\":67},{\"gender\":\"male\",\"award_age\":60},{\"gender\":\"male\",\"award_age\":76},{\"gender\":\"male\",\"award_age\":61},{\"gender\":\"male\",\"award_age\":67},{\"gender\":\"female\",\"award_age\":82},{\"gender\":\"male\",\"award_age\":69},{\"gender\":\"male\",\"award_age\":59},{\"gender\":\"male\",\"award_age\":49},{\"gender\":\"male\",\"award_age\":49},{\"gender\":\"male\",\"award_age\":80},{\"gender\":\"male\",\"award_age\":65},{\"gender\":\"female\",\"award_age\":62},{\"gender\":\"male\",\"award_age\":72},{\"gender\":\"male\",\"award_age\":57},{\"gender\":\"male\",\"award_age\":76},{\"gender\":\"male\",\"award_age\":48},{\"gender\":\"male\",\"award_age\":46},{\"gender\":\"male\",\"award_age\":66},{\"gender\":\"male\",\"award_age\":60},{\"gender\":\"female\",\"award_age\":67},{\"gender\":\"male\",\"award_age\":54},{\"gender\":\"male\",\"award_age\":47},{\"gender\":\"female\",\"award_age\":62},{\"gender\":\"male\",\"award_age\":62},{\"gender\":\"male\",\"award_age\":70},{\"gender\":\"male\",\"award_age\":81},{\"gender\":\"male\",\"award_age\":60},{\"gender\":\"male\",\"award_age\":45},{\"gender\":\"male\",\"award_age\":63},{\"gender\":\"male\",\"award_age\":53},{\"gender\":\"male\",\"award_age\":46},{\"gender\":\"male\",\"award_age\":75},{\"gender\":\"male\",\"award_age\":70},{\"gender\":\"male\",\"award_age\":77},{\"gender\":\"male\",\"award_age\":77},{\"gender\":\"female\",\"award_age\":58}]'"
      ]
     },
     "execution_count": 32,
     "metadata": {},
     "output_type": "execute_result"
    }
   ],
   "source": [
    "df_select = df[['gender','award_age']]\n",
    "df_select.to_json(orient='records')"
   ]
  },
  {
   "cell_type": "code",
   "execution_count": 33,
   "metadata": {},
   "outputs": [],
   "source": [
    "df.to_json('data/nobel_winners.json',orient='records')"
   ]
  },
  {
   "cell_type": "code",
   "execution_count": null,
   "metadata": {},
   "outputs": [],
   "source": []
  }
 ],
 "metadata": {
  "kernelspec": {
   "display_name": "base",
   "language": "python",
   "name": "python3"
  },
  "language_info": {
   "codemirror_mode": {
    "name": "ipython",
    "version": 3
   },
   "file_extension": ".py",
   "mimetype": "text/x-python",
   "name": "python",
   "nbconvert_exporter": "python",
   "pygments_lexer": "ipython3",
   "version": "3.11.4"
  }
 },
 "nbformat": 4,
 "nbformat_minor": 2
}
