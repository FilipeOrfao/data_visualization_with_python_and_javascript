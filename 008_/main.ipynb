{
 "cells": [
  {
   "cell_type": "code",
   "execution_count": 1,
   "metadata": {},
   "outputs": [],
   "source": [
    "import pandas as pd\n",
    "import numpy as np\n",
    "\n",
    "df = pd.read_json(\"data/nobel_winners.json\")"
   ]
  },
  {
   "cell_type": "code",
   "execution_count": 2,
   "metadata": {},
   "outputs": [
    {
     "data": {
      "text/plain": [
       "Index(['link', 'name', 'year', 'category', 'country', 'born_in', 'text',\n",
       "       'date_of_birth', 'date_of_death', 'place_of_birth', 'place_of_death',\n",
       "       'gender'],\n",
       "      dtype='object')"
      ]
     },
     "execution_count": 2,
     "metadata": {},
     "output_type": "execute_result"
    }
   ],
   "source": [
    "df.columns"
   ]
  },
  {
   "cell_type": "code",
   "execution_count": 3,
   "metadata": {},
   "outputs": [
    {
     "data": {
      "text/plain": [
       "RangeIndex(start=0, stop=1206, step=1)"
      ]
     },
     "execution_count": 3,
     "metadata": {},
     "output_type": "execute_result"
    }
   ],
   "source": [
    "df.index"
   ]
  },
  {
   "cell_type": "code",
   "execution_count": 4,
   "metadata": {},
   "outputs": [],
   "source": [
    "df = df.set_index(\"name\")"
   ]
  },
  {
   "cell_type": "code",
   "execution_count": 5,
   "metadata": {},
   "outputs": [
    {
     "data": {
      "text/html": [
       "<div>\n",
       "<style scoped>\n",
       "    .dataframe tbody tr th:only-of-type {\n",
       "        vertical-align: middle;\n",
       "    }\n",
       "\n",
       "    .dataframe tbody tr th {\n",
       "        vertical-align: top;\n",
       "    }\n",
       "\n",
       "    .dataframe thead th {\n",
       "        text-align: right;\n",
       "    }\n",
       "</style>\n",
       "<table border=\"1\" class=\"dataframe\">\n",
       "  <thead>\n",
       "    <tr style=\"text-align: right;\">\n",
       "      <th></th>\n",
       "      <th>link</th>\n",
       "      <th>year</th>\n",
       "      <th>category</th>\n",
       "      <th>country</th>\n",
       "      <th>born_in</th>\n",
       "      <th>text</th>\n",
       "      <th>date_of_birth</th>\n",
       "      <th>date_of_death</th>\n",
       "      <th>place_of_birth</th>\n",
       "      <th>place_of_death</th>\n",
       "      <th>gender</th>\n",
       "    </tr>\n",
       "    <tr>\n",
       "      <th>name</th>\n",
       "      <th></th>\n",
       "      <th></th>\n",
       "      <th></th>\n",
       "      <th></th>\n",
       "      <th></th>\n",
       "      <th></th>\n",
       "      <th></th>\n",
       "      <th></th>\n",
       "      <th></th>\n",
       "      <th></th>\n",
       "      <th></th>\n",
       "    </tr>\n",
       "  </thead>\n",
       "  <tbody>\n",
       "    <tr>\n",
       "      <th>Albert Einstein</th>\n",
       "      <td>http://en.wikipedia.org/wiki/Albert_Einstein</td>\n",
       "      <td>1921</td>\n",
       "      <td>Physics</td>\n",
       "      <td>Switzerland</td>\n",
       "      <td></td>\n",
       "      <td>Albert Einstein ,  born in Germany , Physics, ...</td>\n",
       "      <td>14 March 1879</td>\n",
       "      <td>18 April 1955</td>\n",
       "      <td>Ulm</td>\n",
       "      <td>Princeton</td>\n",
       "      <td>male</td>\n",
       "    </tr>\n",
       "    <tr>\n",
       "      <th>Albert Einstein</th>\n",
       "      <td>http://en.wikipedia.org/wiki/Albert_Einstein</td>\n",
       "      <td>1921</td>\n",
       "      <td>Physics</td>\n",
       "      <td>Germany</td>\n",
       "      <td></td>\n",
       "      <td>Albert Einstein , Physics, 1921</td>\n",
       "      <td>14 March 1879</td>\n",
       "      <td>18 April 1955</td>\n",
       "      <td>Ulm</td>\n",
       "      <td>Princeton</td>\n",
       "      <td>male</td>\n",
       "    </tr>\n",
       "  </tbody>\n",
       "</table>\n",
       "</div>"
      ],
      "text/plain": [
       "                                                         link  year category  \\\n",
       "name                                                                           \n",
       "Albert Einstein  http://en.wikipedia.org/wiki/Albert_Einstein  1921  Physics   \n",
       "Albert Einstein  http://en.wikipedia.org/wiki/Albert_Einstein  1921  Physics   \n",
       "\n",
       "                     country born_in  \\\n",
       "name                                   \n",
       "Albert Einstein  Switzerland           \n",
       "Albert Einstein      Germany           \n",
       "\n",
       "                                                              text  \\\n",
       "name                                                                 \n",
       "Albert Einstein  Albert Einstein ,  born in Germany , Physics, ...   \n",
       "Albert Einstein                    Albert Einstein , Physics, 1921   \n",
       "\n",
       "                 date_of_birth  date_of_death place_of_birth place_of_death  \\\n",
       "name                                                                          \n",
       "Albert Einstein  14 March 1879  18 April 1955            Ulm      Princeton   \n",
       "Albert Einstein  14 March 1879  18 April 1955            Ulm      Princeton   \n",
       "\n",
       "                gender  \n",
       "name                    \n",
       "Albert Einstein   male  \n",
       "Albert Einstein   male  "
      ]
     },
     "execution_count": 5,
     "metadata": {},
     "output_type": "execute_result"
    }
   ],
   "source": [
    "df.loc[\"Albert Einstein\"]"
   ]
  },
  {
   "cell_type": "code",
   "execution_count": 6,
   "metadata": {},
   "outputs": [
    {
     "data": {
      "text/html": [
       "<div>\n",
       "<style scoped>\n",
       "    .dataframe tbody tr th:only-of-type {\n",
       "        vertical-align: middle;\n",
       "    }\n",
       "\n",
       "    .dataframe tbody tr th {\n",
       "        vertical-align: top;\n",
       "    }\n",
       "\n",
       "    .dataframe thead th {\n",
       "        text-align: right;\n",
       "    }\n",
       "</style>\n",
       "<table border=\"1\" class=\"dataframe\">\n",
       "  <thead>\n",
       "    <tr style=\"text-align: right;\">\n",
       "      <th></th>\n",
       "      <th>name</th>\n",
       "      <th>link</th>\n",
       "      <th>year</th>\n",
       "      <th>category</th>\n",
       "      <th>country</th>\n",
       "      <th>born_in</th>\n",
       "      <th>text</th>\n",
       "      <th>date_of_birth</th>\n",
       "      <th>date_of_death</th>\n",
       "      <th>place_of_birth</th>\n",
       "      <th>place_of_death</th>\n",
       "      <th>gender</th>\n",
       "    </tr>\n",
       "  </thead>\n",
       "  <tbody>\n",
       "    <tr>\n",
       "      <th>0</th>\n",
       "      <td>William Lawrence Bragg</td>\n",
       "      <td>http://en.wikipedia.org/wiki/William_Lawrence_...</td>\n",
       "      <td>1915</td>\n",
       "      <td>Physics</td>\n",
       "      <td>Australia</td>\n",
       "      <td></td>\n",
       "      <td>William Lawrence Bragg , Physics, 1915</td>\n",
       "      <td>31 March 1890</td>\n",
       "      <td>1 July 1971</td>\n",
       "      <td>Adelaide</td>\n",
       "      <td>Ipswich</td>\n",
       "      <td>male</td>\n",
       "    </tr>\n",
       "    <tr>\n",
       "      <th>1</th>\n",
       "      <td>Brian Schmidt</td>\n",
       "      <td>http://en.wikipedia.org/wiki/Brian_Schmidt</td>\n",
       "      <td>2011</td>\n",
       "      <td>Physics</td>\n",
       "      <td>Australia</td>\n",
       "      <td></td>\n",
       "      <td>Brian Schmidt ,  born in the United States , P...</td>\n",
       "      <td>24 February 1967</td>\n",
       "      <td>NaN</td>\n",
       "      <td>Missoula</td>\n",
       "      <td>NaN</td>\n",
       "      <td>male</td>\n",
       "    </tr>\n",
       "    <tr>\n",
       "      <th>2</th>\n",
       "      <td>Elizabeth Blackburn *</td>\n",
       "      <td>http://en.wikipedia.org/wiki/Elizabeth_Blackburn</td>\n",
       "      <td>2009</td>\n",
       "      <td>Physiology or Medicine</td>\n",
       "      <td></td>\n",
       "      <td>Australia</td>\n",
       "      <td>Elizabeth Blackburn *, Physiology or Medicine,...</td>\n",
       "      <td>26 November 1948</td>\n",
       "      <td>NaN</td>\n",
       "      <td>Hobart</td>\n",
       "      <td>NaN</td>\n",
       "      <td>female</td>\n",
       "    </tr>\n",
       "    <tr>\n",
       "      <th>3</th>\n",
       "      <td>Barry Marshall</td>\n",
       "      <td>http://en.wikipedia.org/wiki/Barry_Marshall</td>\n",
       "      <td>2005</td>\n",
       "      <td>Physiology or Medicine</td>\n",
       "      <td>Australia</td>\n",
       "      <td></td>\n",
       "      <td>Barry Marshall , Physiology or Medicine, 2005</td>\n",
       "      <td>30 September 1951</td>\n",
       "      <td>NaN</td>\n",
       "      <td>Kalgoorlie</td>\n",
       "      <td>NaN</td>\n",
       "      <td>male</td>\n",
       "    </tr>\n",
       "    <tr>\n",
       "      <th>4</th>\n",
       "      <td>J. Robin Warren</td>\n",
       "      <td>http://en.wikipedia.org/wiki/Robin_Warren</td>\n",
       "      <td>2005</td>\n",
       "      <td>Physiology or Medicine</td>\n",
       "      <td>Australia</td>\n",
       "      <td></td>\n",
       "      <td>J. Robin Warren , Physiology or Medicine, 2005</td>\n",
       "      <td>11 June 1937</td>\n",
       "      <td>NaN</td>\n",
       "      <td>Adelaide</td>\n",
       "      <td>NaN</td>\n",
       "      <td>male</td>\n",
       "    </tr>\n",
       "    <tr>\n",
       "      <th>...</th>\n",
       "      <td>...</td>\n",
       "      <td>...</td>\n",
       "      <td>...</td>\n",
       "      <td>...</td>\n",
       "      <td>...</td>\n",
       "      <td>...</td>\n",
       "      <td>...</td>\n",
       "      <td>...</td>\n",
       "      <td>...</td>\n",
       "      <td>...</td>\n",
       "      <td>...</td>\n",
       "      <td>...</td>\n",
       "    </tr>\n",
       "    <tr>\n",
       "      <th>1201</th>\n",
       "      <td>Peter Handke</td>\n",
       "      <td>http://en.wikipedia.org/wiki/Peter_Handke</td>\n",
       "      <td>2019</td>\n",
       "      <td>Literature</td>\n",
       "      <td>Austria</td>\n",
       "      <td></td>\n",
       "      <td>Peter Handke , Literature, 2019</td>\n",
       "      <td>6 December 1942</td>\n",
       "      <td>NaN</td>\n",
       "      <td>Griffen</td>\n",
       "      <td>NaN</td>\n",
       "      <td>male</td>\n",
       "    </tr>\n",
       "    <tr>\n",
       "      <th>1202</th>\n",
       "      <td>Martin Karplus *</td>\n",
       "      <td>http://en.wikipedia.org/wiki/Martin_Karplus</td>\n",
       "      <td>2013</td>\n",
       "      <td>Chemistry</td>\n",
       "      <td></td>\n",
       "      <td>Austria</td>\n",
       "      <td>Martin Karplus *, Chemistry, 2013</td>\n",
       "      <td>15 March 1930</td>\n",
       "      <td>NaN</td>\n",
       "      <td>Vienna</td>\n",
       "      <td>NaN</td>\n",
       "      <td>male</td>\n",
       "    </tr>\n",
       "    <tr>\n",
       "      <th>1203</th>\n",
       "      <td>Elfriede Jelinek</td>\n",
       "      <td>http://en.wikipedia.org/wiki/Elfriede_Jelinek</td>\n",
       "      <td>2004</td>\n",
       "      <td>Literature</td>\n",
       "      <td>Austria</td>\n",
       "      <td></td>\n",
       "      <td>Elfriede Jelinek , Literature, 2004</td>\n",
       "      <td>20 October 1946</td>\n",
       "      <td>NaN</td>\n",
       "      <td>Mürzzuschlag</td>\n",
       "      <td>NaN</td>\n",
       "      <td>female</td>\n",
       "    </tr>\n",
       "    <tr>\n",
       "      <th>1204</th>\n",
       "      <td>Eric Kandel *</td>\n",
       "      <td>http://en.wikipedia.org/wiki/Eric_Kandel</td>\n",
       "      <td>2000</td>\n",
       "      <td>Physiology or Medicine</td>\n",
       "      <td></td>\n",
       "      <td>Austria</td>\n",
       "      <td>Eric Kandel *, Physiology or Medicine, 2000</td>\n",
       "      <td>7 November 1929</td>\n",
       "      <td>NaN</td>\n",
       "      <td>Vienna</td>\n",
       "      <td>NaN</td>\n",
       "      <td>male</td>\n",
       "    </tr>\n",
       "    <tr>\n",
       "      <th>1205</th>\n",
       "      <td>Walter Kohn *</td>\n",
       "      <td>http://en.wikipedia.org/wiki/Walter_Kohn</td>\n",
       "      <td>1998</td>\n",
       "      <td>Chemistry</td>\n",
       "      <td></td>\n",
       "      <td>Austria</td>\n",
       "      <td>Walter Kohn *, Chemistry, 1998</td>\n",
       "      <td>9 March 1923</td>\n",
       "      <td>19 April 2016</td>\n",
       "      <td>Vienna</td>\n",
       "      <td>Santa Barbara</td>\n",
       "      <td>male</td>\n",
       "    </tr>\n",
       "  </tbody>\n",
       "</table>\n",
       "<p>1206 rows × 12 columns</p>\n",
       "</div>"
      ],
      "text/plain": [
       "                        name  \\\n",
       "0     William Lawrence Bragg   \n",
       "1              Brian Schmidt   \n",
       "2      Elizabeth Blackburn *   \n",
       "3             Barry Marshall   \n",
       "4            J. Robin Warren   \n",
       "...                      ...   \n",
       "1201            Peter Handke   \n",
       "1202        Martin Karplus *   \n",
       "1203        Elfriede Jelinek   \n",
       "1204           Eric Kandel *   \n",
       "1205           Walter Kohn *   \n",
       "\n",
       "                                                   link  year  \\\n",
       "0     http://en.wikipedia.org/wiki/William_Lawrence_...  1915   \n",
       "1            http://en.wikipedia.org/wiki/Brian_Schmidt  2011   \n",
       "2      http://en.wikipedia.org/wiki/Elizabeth_Blackburn  2009   \n",
       "3           http://en.wikipedia.org/wiki/Barry_Marshall  2005   \n",
       "4             http://en.wikipedia.org/wiki/Robin_Warren  2005   \n",
       "...                                                 ...   ...   \n",
       "1201          http://en.wikipedia.org/wiki/Peter_Handke  2019   \n",
       "1202        http://en.wikipedia.org/wiki/Martin_Karplus  2013   \n",
       "1203      http://en.wikipedia.org/wiki/Elfriede_Jelinek  2004   \n",
       "1204           http://en.wikipedia.org/wiki/Eric_Kandel  2000   \n",
       "1205           http://en.wikipedia.org/wiki/Walter_Kohn  1998   \n",
       "\n",
       "                    category    country    born_in  \\\n",
       "0                    Physics  Australia              \n",
       "1                    Physics  Australia              \n",
       "2     Physiology or Medicine             Australia   \n",
       "3     Physiology or Medicine  Australia              \n",
       "4     Physiology or Medicine  Australia              \n",
       "...                      ...        ...        ...   \n",
       "1201              Literature    Austria              \n",
       "1202               Chemistry               Austria   \n",
       "1203              Literature    Austria              \n",
       "1204  Physiology or Medicine               Austria   \n",
       "1205               Chemistry               Austria   \n",
       "\n",
       "                                                   text      date_of_birth  \\\n",
       "0                William Lawrence Bragg , Physics, 1915      31 March 1890   \n",
       "1     Brian Schmidt ,  born in the United States , P...   24 February 1967   \n",
       "2     Elizabeth Blackburn *, Physiology or Medicine,...   26 November 1948   \n",
       "3         Barry Marshall , Physiology or Medicine, 2005  30 September 1951   \n",
       "4        J. Robin Warren , Physiology or Medicine, 2005       11 June 1937   \n",
       "...                                                 ...                ...   \n",
       "1201                    Peter Handke , Literature, 2019    6 December 1942   \n",
       "1202                  Martin Karplus *, Chemistry, 2013      15 March 1930   \n",
       "1203                Elfriede Jelinek , Literature, 2004    20 October 1946   \n",
       "1204        Eric Kandel *, Physiology or Medicine, 2000    7 November 1929   \n",
       "1205                     Walter Kohn *, Chemistry, 1998       9 March 1923   \n",
       "\n",
       "      date_of_death place_of_birth place_of_death  gender  \n",
       "0       1 July 1971       Adelaide        Ipswich    male  \n",
       "1               NaN       Missoula            NaN    male  \n",
       "2               NaN         Hobart            NaN  female  \n",
       "3               NaN     Kalgoorlie            NaN    male  \n",
       "4               NaN       Adelaide            NaN    male  \n",
       "...             ...            ...            ...     ...  \n",
       "1201            NaN        Griffen            NaN    male  \n",
       "1202            NaN         Vienna            NaN    male  \n",
       "1203            NaN   Mürzzuschlag            NaN  female  \n",
       "1204            NaN         Vienna            NaN    male  \n",
       "1205  19 April 2016         Vienna  Santa Barbara    male  \n",
       "\n",
       "[1206 rows x 12 columns]"
      ]
     },
     "execution_count": 6,
     "metadata": {},
     "output_type": "execute_result"
    }
   ],
   "source": [
    "df = df.reset_index()\n",
    "df"
   ]
  },
  {
   "cell_type": "code",
   "execution_count": 7,
   "metadata": {},
   "outputs": [
    {
     "data": {
      "text/plain": [
       "name                                          Elizabeth Blackburn *\n",
       "link               http://en.wikipedia.org/wiki/Elizabeth_Blackburn\n",
       "year                                                           2009\n",
       "category                                     Physiology or Medicine\n",
       "country                                                            \n",
       "born_in                                                   Australia\n",
       "text              Elizabeth Blackburn *, Physiology or Medicine,...\n",
       "date_of_birth                                      26 November 1948\n",
       "date_of_death                                                   NaN\n",
       "place_of_birth                                               Hobart\n",
       "place_of_death                                                  NaN\n",
       "gender                                                       female\n",
       "Name: 2, dtype: object"
      ]
     },
     "execution_count": 7,
     "metadata": {},
     "output_type": "execute_result"
    }
   ],
   "source": [
    "df.loc[2]"
   ]
  },
  {
   "cell_type": "code",
   "execution_count": 8,
   "metadata": {},
   "outputs": [
    {
     "data": {
      "text/plain": [
       "0      male\n",
       "1      male\n",
       "2    female\n",
       "3      male\n",
       "4      male\n",
       "Name: gender, dtype: object"
      ]
     },
     "execution_count": 8,
     "metadata": {},
     "output_type": "execute_result"
    }
   ],
   "source": [
    "gender_col = df.gender\n",
    "type(gender_col)\n",
    "pd.core.series.Series\n",
    "gender_col.head()"
   ]
  },
  {
   "cell_type": "code",
   "execution_count": 9,
   "metadata": {},
   "outputs": [
    {
     "data": {
      "text/plain": [
       "<pandas.core.groupby.generic.DataFrameGroupBy object at 0x7f0369714690>"
      ]
     },
     "execution_count": 9,
     "metadata": {},
     "output_type": "execute_result"
    }
   ],
   "source": [
    "cat_groups = df.groupby(\"category\")\n",
    "cat_groups"
   ]
  },
  {
   "cell_type": "code",
   "execution_count": 10,
   "metadata": {},
   "outputs": [
    {
     "data": {
      "text/plain": [
       "dict_keys(['', 'Chemistry', 'Economics', 'Literature', 'Peace', 'Physics', 'Physiology or Medicine'])"
      ]
     },
     "execution_count": 10,
     "metadata": {},
     "output_type": "execute_result"
    }
   ],
   "source": [
    "cat_groups.groups.keys()"
   ]
  },
  {
   "cell_type": "code",
   "execution_count": 11,
   "metadata": {},
   "outputs": [
    {
     "data": {
      "text/html": [
       "<div>\n",
       "<style scoped>\n",
       "    .dataframe tbody tr th:only-of-type {\n",
       "        vertical-align: middle;\n",
       "    }\n",
       "\n",
       "    .dataframe tbody tr th {\n",
       "        vertical-align: top;\n",
       "    }\n",
       "\n",
       "    .dataframe thead th {\n",
       "        text-align: right;\n",
       "    }\n",
       "</style>\n",
       "<table border=\"1\" class=\"dataframe\">\n",
       "  <thead>\n",
       "    <tr style=\"text-align: right;\">\n",
       "      <th></th>\n",
       "      <th>name</th>\n",
       "      <th>link</th>\n",
       "      <th>year</th>\n",
       "      <th>category</th>\n",
       "      <th>country</th>\n",
       "      <th>born_in</th>\n",
       "      <th>text</th>\n",
       "      <th>date_of_birth</th>\n",
       "      <th>date_of_death</th>\n",
       "      <th>place_of_birth</th>\n",
       "      <th>place_of_death</th>\n",
       "      <th>gender</th>\n",
       "    </tr>\n",
       "  </thead>\n",
       "  <tbody>\n",
       "    <tr>\n",
       "      <th>0</th>\n",
       "      <td>William Lawrence Bragg</td>\n",
       "      <td>http://en.wikipedia.org/wiki/William_Lawrence_...</td>\n",
       "      <td>1915</td>\n",
       "      <td>Physics</td>\n",
       "      <td>Australia</td>\n",
       "      <td></td>\n",
       "      <td>William Lawrence Bragg , Physics, 1915</td>\n",
       "      <td>31 March 1890</td>\n",
       "      <td>1 July 1971</td>\n",
       "      <td>Adelaide</td>\n",
       "      <td>Ipswich</td>\n",
       "      <td>male</td>\n",
       "    </tr>\n",
       "    <tr>\n",
       "      <th>1</th>\n",
       "      <td>Brian Schmidt</td>\n",
       "      <td>http://en.wikipedia.org/wiki/Brian_Schmidt</td>\n",
       "      <td>2011</td>\n",
       "      <td>Physics</td>\n",
       "      <td>Australia</td>\n",
       "      <td></td>\n",
       "      <td>Brian Schmidt ,  born in the United States , P...</td>\n",
       "      <td>24 February 1967</td>\n",
       "      <td>NaN</td>\n",
       "      <td>Missoula</td>\n",
       "      <td>NaN</td>\n",
       "      <td>male</td>\n",
       "    </tr>\n",
       "    <tr>\n",
       "      <th>16</th>\n",
       "      <td>Aleksandr M. Prokhorov</td>\n",
       "      <td>http://en.wikipedia.org/wiki/Alexander_Prokhorov</td>\n",
       "      <td>1964</td>\n",
       "      <td>Physics</td>\n",
       "      <td>Australia</td>\n",
       "      <td></td>\n",
       "      <td>Aleksandr M. Prokhorov , Physics, 1964</td>\n",
       "      <td>11 July 1916</td>\n",
       "      <td>8 January 2002</td>\n",
       "      <td>Atherton</td>\n",
       "      <td>Moscow</td>\n",
       "      <td>male</td>\n",
       "    </tr>\n",
       "    <tr>\n",
       "      <th>24</th>\n",
       "      <td>Albert A. Michelson</td>\n",
       "      <td>http://en.wikipedia.org/wiki/Albert_A._Michelson</td>\n",
       "      <td>1907</td>\n",
       "      <td>Physics</td>\n",
       "      <td>United States</td>\n",
       "      <td></td>\n",
       "      <td>Albert A. Michelson ,  born in then Germany, n...</td>\n",
       "      <td>19 December 1852</td>\n",
       "      <td>9 May 1931</td>\n",
       "      <td>Strzelno</td>\n",
       "      <td>Pasadena</td>\n",
       "      <td>male</td>\n",
       "    </tr>\n",
       "    <tr>\n",
       "      <th>26</th>\n",
       "      <td>Robert A. Millikan</td>\n",
       "      <td>http://en.wikipedia.org/wiki/Robert_A._Millikan</td>\n",
       "      <td>1923</td>\n",
       "      <td>Physics</td>\n",
       "      <td>United States</td>\n",
       "      <td></td>\n",
       "      <td>Robert A. Millikan , Physics, 1923</td>\n",
       "      <td>22 March 1868</td>\n",
       "      <td>19 December 1953</td>\n",
       "      <td>Morrison</td>\n",
       "      <td>San Marino</td>\n",
       "      <td>male</td>\n",
       "    </tr>\n",
       "  </tbody>\n",
       "</table>\n",
       "</div>"
      ],
      "text/plain": [
       "                      name                                               link  \\\n",
       "0   William Lawrence Bragg  http://en.wikipedia.org/wiki/William_Lawrence_...   \n",
       "1            Brian Schmidt         http://en.wikipedia.org/wiki/Brian_Schmidt   \n",
       "16  Aleksandr M. Prokhorov   http://en.wikipedia.org/wiki/Alexander_Prokhorov   \n",
       "24     Albert A. Michelson   http://en.wikipedia.org/wiki/Albert_A._Michelson   \n",
       "26      Robert A. Millikan    http://en.wikipedia.org/wiki/Robert_A._Millikan   \n",
       "\n",
       "    year category        country born_in  \\\n",
       "0   1915  Physics      Australia           \n",
       "1   2011  Physics      Australia           \n",
       "16  1964  Physics      Australia           \n",
       "24  1907  Physics  United States           \n",
       "26  1923  Physics  United States           \n",
       "\n",
       "                                                 text     date_of_birth  \\\n",
       "0              William Lawrence Bragg , Physics, 1915     31 March 1890   \n",
       "1   Brian Schmidt ,  born in the United States , P...  24 February 1967   \n",
       "16             Aleksandr M. Prokhorov , Physics, 1964      11 July 1916   \n",
       "24  Albert A. Michelson ,  born in then Germany, n...  19 December 1852   \n",
       "26                 Robert A. Millikan , Physics, 1923     22 March 1868   \n",
       "\n",
       "       date_of_death place_of_birth place_of_death gender  \n",
       "0        1 July 1971       Adelaide        Ipswich   male  \n",
       "1                NaN       Missoula            NaN   male  \n",
       "16    8 January 2002       Atherton         Moscow   male  \n",
       "24        9 May 1931       Strzelno       Pasadena   male  \n",
       "26  19 December 1953       Morrison     San Marino   male  "
      ]
     },
     "execution_count": 11,
     "metadata": {},
     "output_type": "execute_result"
    }
   ],
   "source": [
    "phy_group = cat_groups.get_group(\"Physics\")\n",
    "phy_group.head()"
   ]
  },
  {
   "cell_type": "code",
   "execution_count": 12,
   "metadata": {},
   "outputs": [
    {
     "data": {
      "text/html": [
       "<div>\n",
       "<style scoped>\n",
       "    .dataframe tbody tr th:only-of-type {\n",
       "        vertical-align: middle;\n",
       "    }\n",
       "\n",
       "    .dataframe tbody tr th {\n",
       "        vertical-align: top;\n",
       "    }\n",
       "\n",
       "    .dataframe thead th {\n",
       "        text-align: right;\n",
       "    }\n",
       "</style>\n",
       "<table border=\"1\" class=\"dataframe\">\n",
       "  <thead>\n",
       "    <tr style=\"text-align: right;\">\n",
       "      <th></th>\n",
       "      <th>name</th>\n",
       "      <th>link</th>\n",
       "      <th>year</th>\n",
       "      <th>category</th>\n",
       "      <th>country</th>\n",
       "      <th>born_in</th>\n",
       "      <th>text</th>\n",
       "      <th>date_of_birth</th>\n",
       "      <th>date_of_death</th>\n",
       "      <th>place_of_birth</th>\n",
       "      <th>place_of_death</th>\n",
       "      <th>gender</th>\n",
       "    </tr>\n",
       "  </thead>\n",
       "  <tbody>\n",
       "    <tr>\n",
       "      <th>0</th>\n",
       "      <td>William Lawrence Bragg</td>\n",
       "      <td>http://en.wikipedia.org/wiki/William_Lawrence_...</td>\n",
       "      <td>1915</td>\n",
       "      <td>Physics</td>\n",
       "      <td>Australia</td>\n",
       "      <td></td>\n",
       "      <td>William Lawrence Bragg , Physics, 1915</td>\n",
       "      <td>31 March 1890</td>\n",
       "      <td>1 July 1971</td>\n",
       "      <td>Adelaide</td>\n",
       "      <td>Ipswich</td>\n",
       "      <td>male</td>\n",
       "    </tr>\n",
       "    <tr>\n",
       "      <th>1</th>\n",
       "      <td>Brian Schmidt</td>\n",
       "      <td>http://en.wikipedia.org/wiki/Brian_Schmidt</td>\n",
       "      <td>2011</td>\n",
       "      <td>Physics</td>\n",
       "      <td>Australia</td>\n",
       "      <td></td>\n",
       "      <td>Brian Schmidt ,  born in the United States , P...</td>\n",
       "      <td>24 February 1967</td>\n",
       "      <td>NaN</td>\n",
       "      <td>Missoula</td>\n",
       "      <td>NaN</td>\n",
       "      <td>male</td>\n",
       "    </tr>\n",
       "    <tr>\n",
       "      <th>16</th>\n",
       "      <td>Aleksandr M. Prokhorov</td>\n",
       "      <td>http://en.wikipedia.org/wiki/Alexander_Prokhorov</td>\n",
       "      <td>1964</td>\n",
       "      <td>Physics</td>\n",
       "      <td>Australia</td>\n",
       "      <td></td>\n",
       "      <td>Aleksandr M. Prokhorov , Physics, 1964</td>\n",
       "      <td>11 July 1916</td>\n",
       "      <td>8 January 2002</td>\n",
       "      <td>Atherton</td>\n",
       "      <td>Moscow</td>\n",
       "      <td>male</td>\n",
       "    </tr>\n",
       "    <tr>\n",
       "      <th>24</th>\n",
       "      <td>Albert A. Michelson</td>\n",
       "      <td>http://en.wikipedia.org/wiki/Albert_A._Michelson</td>\n",
       "      <td>1907</td>\n",
       "      <td>Physics</td>\n",
       "      <td>United States</td>\n",
       "      <td></td>\n",
       "      <td>Albert A. Michelson ,  born in then Germany, n...</td>\n",
       "      <td>19 December 1852</td>\n",
       "      <td>9 May 1931</td>\n",
       "      <td>Strzelno</td>\n",
       "      <td>Pasadena</td>\n",
       "      <td>male</td>\n",
       "    </tr>\n",
       "    <tr>\n",
       "      <th>26</th>\n",
       "      <td>Robert A. Millikan</td>\n",
       "      <td>http://en.wikipedia.org/wiki/Robert_A._Millikan</td>\n",
       "      <td>1923</td>\n",
       "      <td>Physics</td>\n",
       "      <td>United States</td>\n",
       "      <td></td>\n",
       "      <td>Robert A. Millikan , Physics, 1923</td>\n",
       "      <td>22 March 1868</td>\n",
       "      <td>19 December 1953</td>\n",
       "      <td>Morrison</td>\n",
       "      <td>San Marino</td>\n",
       "      <td>male</td>\n",
       "    </tr>\n",
       "    <tr>\n",
       "      <th>...</th>\n",
       "      <td>...</td>\n",
       "      <td>...</td>\n",
       "      <td>...</td>\n",
       "      <td>...</td>\n",
       "      <td>...</td>\n",
       "      <td>...</td>\n",
       "      <td>...</td>\n",
       "      <td>...</td>\n",
       "      <td>...</td>\n",
       "      <td>...</td>\n",
       "      <td>...</td>\n",
       "      <td>...</td>\n",
       "    </tr>\n",
       "    <tr>\n",
       "      <th>1187</th>\n",
       "      <td>François Englert</td>\n",
       "      <td>http://en.wikipedia.org/wiki/Fran%C3%A7ois_Eng...</td>\n",
       "      <td>2013</td>\n",
       "      <td>Physics</td>\n",
       "      <td>Belgium</td>\n",
       "      <td></td>\n",
       "      <td>François Englert , Physics, 2013</td>\n",
       "      <td>6 November 1932</td>\n",
       "      <td>NaN</td>\n",
       "      <td>Etterbeek</td>\n",
       "      <td>NaN</td>\n",
       "      <td>male</td>\n",
       "    </tr>\n",
       "    <tr>\n",
       "      <th>1190</th>\n",
       "      <td>Wolfgang Pauli</td>\n",
       "      <td>http://en.wikipedia.org/wiki/Wolfgang_Pauli</td>\n",
       "      <td>1945</td>\n",
       "      <td>Physics</td>\n",
       "      <td>Austria</td>\n",
       "      <td></td>\n",
       "      <td>Wolfgang Pauli , Physics, 1945</td>\n",
       "      <td>25 April 1900</td>\n",
       "      <td>15 December 1958</td>\n",
       "      <td>Vienna</td>\n",
       "      <td>Zürich</td>\n",
       "      <td>male</td>\n",
       "    </tr>\n",
       "    <tr>\n",
       "      <th>1193</th>\n",
       "      <td>Victor Francis Hess</td>\n",
       "      <td>http://en.wikipedia.org/wiki/Victor_Francis_Hess</td>\n",
       "      <td>1936</td>\n",
       "      <td>Physics</td>\n",
       "      <td>Austria</td>\n",
       "      <td></td>\n",
       "      <td>Victor Francis Hess , Physics, 1936</td>\n",
       "      <td>24 June 1883</td>\n",
       "      <td>17 December 1964</td>\n",
       "      <td>Schloss Waldstein</td>\n",
       "      <td>Mount Vernon</td>\n",
       "      <td>male</td>\n",
       "    </tr>\n",
       "    <tr>\n",
       "      <th>1194</th>\n",
       "      <td>Erwin Schrödinger</td>\n",
       "      <td>http://en.wikipedia.org/wiki/Erwin_Schr%C3%B6d...</td>\n",
       "      <td>1933</td>\n",
       "      <td>Physics</td>\n",
       "      <td>Austria</td>\n",
       "      <td></td>\n",
       "      <td>Erwin Schrödinger , Physics, 1933</td>\n",
       "      <td>12 August 1887</td>\n",
       "      <td>4 January 1961</td>\n",
       "      <td>Vienna</td>\n",
       "      <td>Vienna</td>\n",
       "      <td>male</td>\n",
       "    </tr>\n",
       "    <tr>\n",
       "      <th>1200</th>\n",
       "      <td>Anton Zeilinger</td>\n",
       "      <td>http://en.wikipedia.org/wiki/Anton_Zeilinger</td>\n",
       "      <td>2022</td>\n",
       "      <td>Physics</td>\n",
       "      <td>Austria</td>\n",
       "      <td></td>\n",
       "      <td>Anton Zeilinger , Physics, 2022</td>\n",
       "      <td>20 May 1945</td>\n",
       "      <td>NaN</td>\n",
       "      <td>Ried im Innkreis</td>\n",
       "      <td>NaN</td>\n",
       "      <td>male</td>\n",
       "    </tr>\n",
       "  </tbody>\n",
       "</table>\n",
       "<p>279 rows × 12 columns</p>\n",
       "</div>"
      ],
      "text/plain": [
       "                        name  \\\n",
       "0     William Lawrence Bragg   \n",
       "1              Brian Schmidt   \n",
       "16    Aleksandr M. Prokhorov   \n",
       "24       Albert A. Michelson   \n",
       "26        Robert A. Millikan   \n",
       "...                      ...   \n",
       "1187        François Englert   \n",
       "1190          Wolfgang Pauli   \n",
       "1193     Victor Francis Hess   \n",
       "1194       Erwin Schrödinger   \n",
       "1200         Anton Zeilinger   \n",
       "\n",
       "                                                   link  year category  \\\n",
       "0     http://en.wikipedia.org/wiki/William_Lawrence_...  1915  Physics   \n",
       "1            http://en.wikipedia.org/wiki/Brian_Schmidt  2011  Physics   \n",
       "16     http://en.wikipedia.org/wiki/Alexander_Prokhorov  1964  Physics   \n",
       "24     http://en.wikipedia.org/wiki/Albert_A._Michelson  1907  Physics   \n",
       "26      http://en.wikipedia.org/wiki/Robert_A._Millikan  1923  Physics   \n",
       "...                                                 ...   ...      ...   \n",
       "1187  http://en.wikipedia.org/wiki/Fran%C3%A7ois_Eng...  2013  Physics   \n",
       "1190        http://en.wikipedia.org/wiki/Wolfgang_Pauli  1945  Physics   \n",
       "1193   http://en.wikipedia.org/wiki/Victor_Francis_Hess  1936  Physics   \n",
       "1194  http://en.wikipedia.org/wiki/Erwin_Schr%C3%B6d...  1933  Physics   \n",
       "1200       http://en.wikipedia.org/wiki/Anton_Zeilinger  2022  Physics   \n",
       "\n",
       "            country born_in  \\\n",
       "0         Australia           \n",
       "1         Australia           \n",
       "16        Australia           \n",
       "24    United States           \n",
       "26    United States           \n",
       "...             ...     ...   \n",
       "1187        Belgium           \n",
       "1190        Austria           \n",
       "1193        Austria           \n",
       "1194        Austria           \n",
       "1200        Austria           \n",
       "\n",
       "                                                   text     date_of_birth  \\\n",
       "0                William Lawrence Bragg , Physics, 1915     31 March 1890   \n",
       "1     Brian Schmidt ,  born in the United States , P...  24 February 1967   \n",
       "16               Aleksandr M. Prokhorov , Physics, 1964      11 July 1916   \n",
       "24    Albert A. Michelson ,  born in then Germany, n...  19 December 1852   \n",
       "26                   Robert A. Millikan , Physics, 1923     22 March 1868   \n",
       "...                                                 ...               ...   \n",
       "1187                   François Englert , Physics, 2013   6 November 1932   \n",
       "1190                     Wolfgang Pauli , Physics, 1945     25 April 1900   \n",
       "1193                Victor Francis Hess , Physics, 1936      24 June 1883   \n",
       "1194                  Erwin Schrödinger , Physics, 1933    12 August 1887   \n",
       "1200                    Anton Zeilinger , Physics, 2022       20 May 1945   \n",
       "\n",
       "         date_of_death     place_of_birth place_of_death gender  \n",
       "0          1 July 1971           Adelaide        Ipswich   male  \n",
       "1                  NaN           Missoula            NaN   male  \n",
       "16      8 January 2002           Atherton         Moscow   male  \n",
       "24          9 May 1931           Strzelno       Pasadena   male  \n",
       "26    19 December 1953           Morrison     San Marino   male  \n",
       "...                ...                ...            ...    ...  \n",
       "1187               NaN          Etterbeek            NaN   male  \n",
       "1190  15 December 1958             Vienna         Zürich   male  \n",
       "1193  17 December 1964  Schloss Waldstein   Mount Vernon   male  \n",
       "1194    4 January 1961             Vienna         Vienna   male  \n",
       "1200               NaN   Ried im Innkreis            NaN   male  \n",
       "\n",
       "[279 rows x 12 columns]"
      ]
     },
     "execution_count": 12,
     "metadata": {},
     "output_type": "execute_result"
    }
   ],
   "source": [
    "df[df.category == \"Physics\"]"
   ]
  },
  {
   "cell_type": "code",
   "execution_count": 13,
   "metadata": {},
   "outputs": [
    {
     "data": {
      "text/html": [
       "<div>\n",
       "<style scoped>\n",
       "    .dataframe tbody tr th:only-of-type {\n",
       "        vertical-align: middle;\n",
       "    }\n",
       "\n",
       "    .dataframe tbody tr th {\n",
       "        vertical-align: top;\n",
       "    }\n",
       "\n",
       "    .dataframe thead th {\n",
       "        text-align: right;\n",
       "    }\n",
       "</style>\n",
       "<table border=\"1\" class=\"dataframe\">\n",
       "  <thead>\n",
       "    <tr style=\"text-align: right;\">\n",
       "      <th></th>\n",
       "      <th>name</th>\n",
       "      <th>category</th>\n",
       "    </tr>\n",
       "  </thead>\n",
       "  <tbody>\n",
       "    <tr>\n",
       "      <th>0</th>\n",
       "      <td>Albert Einstein</td>\n",
       "      <td>Physics</td>\n",
       "    </tr>\n",
       "    <tr>\n",
       "      <th>1</th>\n",
       "      <td>Marie Curie</td>\n",
       "      <td>Chemistry</td>\n",
       "    </tr>\n",
       "    <tr>\n",
       "      <th>2</th>\n",
       "      <td>William Faulkner</td>\n",
       "      <td>Literature</td>\n",
       "    </tr>\n",
       "  </tbody>\n",
       "</table>\n",
       "</div>"
      ],
      "text/plain": [
       "               name    category\n",
       "0   Albert Einstein     Physics\n",
       "1       Marie Curie   Chemistry\n",
       "2  William Faulkner  Literature"
      ]
     },
     "execution_count": 13,
     "metadata": {},
     "output_type": "execute_result"
    }
   ],
   "source": [
    "df = pd.DataFrame(\n",
    "    {\n",
    "        \"name\": [\"Albert Einstein\", \"Marie Curie\", \"William Faulkner\"],\n",
    "        \"category\": [\"Physics\", \"Chemistry\", \"Literature\"],\n",
    "    }\n",
    ")\n",
    "df.head()"
   ]
  },
  {
   "cell_type": "code",
   "execution_count": 14,
   "metadata": {},
   "outputs": [
    {
     "data": {
      "text/html": [
       "<div>\n",
       "<style scoped>\n",
       "    .dataframe tbody tr th:only-of-type {\n",
       "        vertical-align: middle;\n",
       "    }\n",
       "\n",
       "    .dataframe tbody tr th {\n",
       "        vertical-align: top;\n",
       "    }\n",
       "\n",
       "    .dataframe thead th {\n",
       "        text-align: right;\n",
       "    }\n",
       "</style>\n",
       "<table border=\"1\" class=\"dataframe\">\n",
       "  <thead>\n",
       "    <tr style=\"text-align: right;\">\n",
       "      <th></th>\n",
       "      <th>name</th>\n",
       "      <th>category</th>\n",
       "    </tr>\n",
       "  </thead>\n",
       "  <tbody>\n",
       "    <tr>\n",
       "      <th>0</th>\n",
       "      <td>Albert Einstein</td>\n",
       "      <td>Physics</td>\n",
       "    </tr>\n",
       "    <tr>\n",
       "      <th>1</th>\n",
       "      <td>Marie Curie</td>\n",
       "      <td>Chemistry</td>\n",
       "    </tr>\n",
       "    <tr>\n",
       "      <th>2</th>\n",
       "      <td>William Faulkner</td>\n",
       "      <td>Literature</td>\n",
       "    </tr>\n",
       "  </tbody>\n",
       "</table>\n",
       "</div>"
      ],
      "text/plain": [
       "               name    category\n",
       "0   Albert Einstein     Physics\n",
       "1       Marie Curie   Chemistry\n",
       "2  William Faulkner  Literature"
      ]
     },
     "execution_count": 14,
     "metadata": {},
     "output_type": "execute_result"
    }
   ],
   "source": [
    "df = pd.read_json(\"data/data.json\")\n",
    "df"
   ]
  },
  {
   "cell_type": "code",
   "execution_count": 15,
   "metadata": {},
   "outputs": [],
   "source": [
    "json = df.to_json(\"data/data_cleaned.json\", orient=\"records\")"
   ]
  },
  {
   "cell_type": "code",
   "execution_count": 16,
   "metadata": {},
   "outputs": [
    {
     "data": {
      "text/html": [
       "<div>\n",
       "<style scoped>\n",
       "    .dataframe tbody tr th:only-of-type {\n",
       "        vertical-align: middle;\n",
       "    }\n",
       "\n",
       "    .dataframe tbody tr th {\n",
       "        vertical-align: top;\n",
       "    }\n",
       "\n",
       "    .dataframe thead th {\n",
       "        text-align: right;\n",
       "    }\n",
       "</style>\n",
       "<table border=\"1\" class=\"dataframe\">\n",
       "  <thead>\n",
       "    <tr style=\"text-align: right;\">\n",
       "      <th></th>\n",
       "      <th>Unnamed: 0</th>\n",
       "      <th>name</th>\n",
       "      <th>category</th>\n",
       "    </tr>\n",
       "  </thead>\n",
       "  <tbody>\n",
       "    <tr>\n",
       "      <th>0</th>\n",
       "      <td>0</td>\n",
       "      <td>Albert Einstein</td>\n",
       "      <td>Physics</td>\n",
       "    </tr>\n",
       "    <tr>\n",
       "      <th>1</th>\n",
       "      <td>1</td>\n",
       "      <td>Marie Curie</td>\n",
       "      <td>Chemistry</td>\n",
       "    </tr>\n",
       "  </tbody>\n",
       "</table>\n",
       "</div>"
      ],
      "text/plain": [
       "   Unnamed: 0             name   category\n",
       "0           0  Albert Einstein   Physics \n",
       "1           1      Marie Curie  Chemistry"
      ]
     },
     "execution_count": 16,
     "metadata": {},
     "output_type": "execute_result"
    }
   ],
   "source": [
    "df = pd.read_csv(\"data/data.csv\")\n",
    "df"
   ]
  },
  {
   "cell_type": "code",
   "execution_count": 17,
   "metadata": {},
   "outputs": [
    {
     "data": {
      "text/html": [
       "<div>\n",
       "<style scoped>\n",
       "    .dataframe tbody tr th:only-of-type {\n",
       "        vertical-align: middle;\n",
       "    }\n",
       "\n",
       "    .dataframe tbody tr th {\n",
       "        vertical-align: top;\n",
       "    }\n",
       "\n",
       "    .dataframe thead th {\n",
       "        text-align: right;\n",
       "    }\n",
       "</style>\n",
       "<table border=\"1\" class=\"dataframe\">\n",
       "  <thead>\n",
       "    <tr style=\"text-align: right;\">\n",
       "      <th></th>\n",
       "      <th>name</th>\n",
       "      <th>category</th>\n",
       "    </tr>\n",
       "  </thead>\n",
       "  <tbody>\n",
       "    <tr>\n",
       "      <th>0</th>\n",
       "      <td>Albert Einstein</td>\n",
       "      <td>Physics</td>\n",
       "    </tr>\n",
       "    <tr>\n",
       "      <th>1</th>\n",
       "      <td>Marie Curie</td>\n",
       "      <td>Chemistry</td>\n",
       "    </tr>\n",
       "  </tbody>\n",
       "</table>\n",
       "</div>"
      ],
      "text/plain": [
       "              name   category\n",
       "0  Albert Einstein   Physics \n",
       "1      Marie Curie  Chemistry"
      ]
     },
     "execution_count": 17,
     "metadata": {},
     "output_type": "execute_result"
    }
   ],
   "source": [
    "from io import StringIO\n",
    "\n",
    "data = \" `Albert Einstein`| Physics \\n`Marie Curie`| Chemistry\"\n",
    "\n",
    "df = pd.read_csv(\n",
    "    StringIO(data),\n",
    "    sep=\"|\",\n",
    "    names=[\"name\", \"category\"],\n",
    "    skipinitialspace=True,\n",
    "    quotechar=\"`\",\n",
    ")\n",
    "df"
   ]
  },
  {
   "cell_type": "code",
   "execution_count": 18,
   "metadata": {},
   "outputs": [],
   "source": [
    "df.to_csv(\"data/data.csv\", encoding=\"utf-8\")"
   ]
  },
  {
   "cell_type": "code",
   "execution_count": 19,
   "metadata": {},
   "outputs": [
    {
     "data": {
      "text/plain": [
       "{'WinnersSheet1':     category nationality  year             name  gender\n",
       " 0    Physics       Swiss  1921  Albert Einstein    male\n",
       " 1    Physics     British  1933       Paul Dirac    male\n",
       " 2  Chemistry      Polish  1911      Marie Curie  female,\n",
       " 'WinnersSheet2': Empty DataFrame\n",
       " Columns: [Chemistry, 1975, Vladamir Prelog, male]\n",
       " Index: []}"
      ]
     },
     "execution_count": 19,
     "metadata": {},
     "output_type": "execute_result"
    }
   ],
   "source": [
    "# Excel Files\n",
    "dfs = {}\n",
    "xls = pd.ExcelFile(\"data/nobel_winners.xlsx\")\n",
    "dfs[\"WinnersSheet1\"] = xls.parse(\"WinnersSheet1\", na_values=[\"NA\"])\n",
    "dfs[\"WinnersSheet2\"] = xls.parse(\n",
    "    \"WinnersSheet2\", index_col=1, na_values=[\"-\"], skiprows=3\n",
    ")\n",
    "dfs"
   ]
  },
  {
   "cell_type": "code",
   "execution_count": null,
   "metadata": {},
   "outputs": [],
   "source": []
  },
  {
   "cell_type": "code",
   "execution_count": 20,
   "metadata": {},
   "outputs": [
    {
     "data": {
      "text/html": [
       "<div>\n",
       "<style scoped>\n",
       "    .dataframe tbody tr th:only-of-type {\n",
       "        vertical-align: middle;\n",
       "    }\n",
       "\n",
       "    .dataframe tbody tr th {\n",
       "        vertical-align: top;\n",
       "    }\n",
       "\n",
       "    .dataframe thead th {\n",
       "        text-align: right;\n",
       "    }\n",
       "</style>\n",
       "<table border=\"1\" class=\"dataframe\">\n",
       "  <thead>\n",
       "    <tr style=\"text-align: right;\">\n",
       "      <th></th>\n",
       "      <th>category</th>\n",
       "      <th>nationality</th>\n",
       "      <th>year</th>\n",
       "      <th>name</th>\n",
       "      <th>gender</th>\n",
       "    </tr>\n",
       "  </thead>\n",
       "  <tbody>\n",
       "    <tr>\n",
       "      <th>0</th>\n",
       "      <td>Peace</td>\n",
       "      <td>American</td>\n",
       "      <td>1906</td>\n",
       "      <td>Theodore Roosevelt</td>\n",
       "      <td>male</td>\n",
       "    </tr>\n",
       "    <tr>\n",
       "      <th>1</th>\n",
       "      <td>Literature</td>\n",
       "      <td>South African</td>\n",
       "      <td>1991</td>\n",
       "      <td>Nadine Gordimer</td>\n",
       "      <td>female</td>\n",
       "    </tr>\n",
       "    <tr>\n",
       "      <th>2</th>\n",
       "      <td>Chemistry</td>\n",
       "      <td>Bosnia and Herzegovina</td>\n",
       "      <td>1975</td>\n",
       "      <td>Vladamir Prelog</td>\n",
       "      <td>male</td>\n",
       "    </tr>\n",
       "  </tbody>\n",
       "</table>\n",
       "</div>"
      ],
      "text/plain": [
       "     category             nationality  year                name  gender\n",
       "0       Peace                American  1906  Theodore Roosevelt    male\n",
       "1  Literature           South African  1991     Nadine Gordimer  female\n",
       "2   Chemistry  Bosnia and Herzegovina  1975     Vladamir Prelog    male"
      ]
     },
     "execution_count": 20,
     "metadata": {},
     "output_type": "execute_result"
    }
   ],
   "source": [
    "dfs = pd.read_excel(\n",
    "    \"data/nobel_winners.xlsx\",\n",
    "    [\"WinnersSheet1\", \"WinnersSheet2\"],\n",
    "    index_col=None,\n",
    "    na_values=[\"NA\"],\n",
    ")\n",
    "dfs[\"WinnersSheet2\"].head()"
   ]
  },
  {
   "cell_type": "code",
   "execution_count": 21,
   "metadata": {},
   "outputs": [
    {
     "name": "stdout",
     "output_type": "stream",
     "text": [
      "Failed to create database: database \"nobel_winners_chapter_eight\" already exists\n",
      "\n"
     ]
    },
    {
     "data": {
      "text/plain": [
       "2"
      ]
     },
     "execution_count": 21,
     "metadata": {},
     "output_type": "execute_result"
    }
   ],
   "source": [
    "# SQL\n",
    "import sqlalchemy\n",
    "import psycopg2\n",
    "import pandas as pd\n",
    "\n",
    "db_params = {\n",
    "    \"dbname\": \"postgres\",\n",
    "    \"user\": \"filipe\",\n",
    "    \"password\": \"mysecretword123\",\n",
    "    \"host\": \"localhost\",\n",
    "    \"port\": \"5432\",\n",
    "}\n",
    "\n",
    "new_db_name = \"nobel_winners_chapter_eight\"\n",
    "\n",
    "\n",
    "def create_database(dbname):\n",
    "    try:\n",
    "        conn = psycopg2.connect(\n",
    "            dbname=db_params[\"dbname\"],\n",
    "            user=db_params[\"user\"],\n",
    "            password=db_params[\"password\"],\n",
    "            host=db_params[\"host\"],\n",
    "        )\n",
    "        conn.autocommit = True\n",
    "        cursor = conn.cursor()\n",
    "        cursor.execute(f\"CREATE DATABASE {dbname}\")\n",
    "        cursor.close()\n",
    "        conn.close()\n",
    "        print(f\"Database {new_db_name} created successfully.\")\n",
    "    except Exception as e:\n",
    "        print(f\"Failed to create database: {e}\")\n",
    "\n",
    "\n",
    "create_database(new_db_name)\n",
    "\n",
    "engine = sqlalchemy.create_engine(\n",
    "    # \"postgresql+psycopg2:///filipe:mysecretword123@localhost/nobel_winners\", echo=True\n",
    "    f'postgresql+psycopg2://{db_params[\"user\"]}:{db_params[\"password\"]}@{db_params[\"host\"]}:{db_params[\"port\"]}/{new_db_name}'\n",
    ")\n",
    "\n",
    "df = pd.DataFrame(\n",
    "    {\n",
    "        \"name\": [\"Albert Einstein\", \"Marie Curie\"],\n",
    "        \"category\": [\"Physics\", \"Chemistry\"],\n",
    "    }\n",
    ")\n",
    "\n",
    "df.to_sql(\"winners_copy\", engine, if_exists=\"replace\")"
   ]
  },
  {
   "cell_type": "code",
   "execution_count": 22,
   "metadata": {},
   "outputs": [
    {
     "data": {
      "text/html": [
       "<div>\n",
       "<style scoped>\n",
       "    .dataframe tbody tr th:only-of-type {\n",
       "        vertical-align: middle;\n",
       "    }\n",
       "\n",
       "    .dataframe tbody tr th {\n",
       "        vertical-align: top;\n",
       "    }\n",
       "\n",
       "    .dataframe thead th {\n",
       "        text-align: right;\n",
       "    }\n",
       "</style>\n",
       "<table border=\"1\" class=\"dataframe\">\n",
       "  <thead>\n",
       "    <tr style=\"text-align: right;\">\n",
       "      <th></th>\n",
       "      <th>index</th>\n",
       "      <th>name</th>\n",
       "      <th>category</th>\n",
       "    </tr>\n",
       "  </thead>\n",
       "  <tbody>\n",
       "    <tr>\n",
       "      <th>0</th>\n",
       "      <td>0</td>\n",
       "      <td>Albert Einstein</td>\n",
       "      <td>Physics</td>\n",
       "    </tr>\n",
       "    <tr>\n",
       "      <th>1</th>\n",
       "      <td>1</td>\n",
       "      <td>Marie Curie</td>\n",
       "      <td>Chemistry</td>\n",
       "    </tr>\n",
       "  </tbody>\n",
       "</table>\n",
       "</div>"
      ],
      "text/plain": [
       "   index             name   category\n",
       "0      0  Albert Einstein    Physics\n",
       "1      1      Marie Curie  Chemistry"
      ]
     },
     "execution_count": 22,
     "metadata": {},
     "output_type": "execute_result"
    }
   ],
   "source": [
    "pd.read_sql_table(\"winners_copy\", engine)"
   ]
  },
  {
   "cell_type": "code",
   "execution_count": 23,
   "metadata": {},
   "outputs": [
    {
     "data": {
      "text/plain": [
       "0    1\n",
       "1    2\n",
       "2    3\n",
       "3    4\n",
       "dtype: int64"
      ]
     },
     "execution_count": 23,
     "metadata": {},
     "output_type": "execute_result"
    }
   ],
   "source": [
    "s = pd.Series([1, 2, 3, 4])\n",
    "s"
   ]
  },
  {
   "cell_type": "code",
   "execution_count": 24,
   "metadata": {},
   "outputs": [
    {
     "data": {
      "text/plain": [
       "a    1\n",
       "b    2\n",
       "c    3\n",
       "d    4\n",
       "dtype: int64"
      ]
     },
     "execution_count": 24,
     "metadata": {},
     "output_type": "execute_result"
    }
   ],
   "source": [
    "s = pd.Series([1, 2, 3, 4], index=[\"a\", \"b\", \"c\", \"d\"])\n",
    "s"
   ]
  },
  {
   "cell_type": "code",
   "execution_count": 25,
   "metadata": {},
   "outputs": [
    {
     "data": {
      "text/plain": [
       "a    1\n",
       "b    2\n",
       "c    3\n",
       "dtype: int64"
      ]
     },
     "execution_count": 25,
     "metadata": {},
     "output_type": "execute_result"
    }
   ],
   "source": [
    "s = pd.Series({'a':1, 'b':2, 'c':3})\n",
    "s"
   ]
  },
  {
   "cell_type": "code",
   "execution_count": 26,
   "metadata": {},
   "outputs": [
    {
     "data": {
      "text/plain": [
       "a    1.0\n",
       "b    2.0\n",
       "c    NaN\n",
       "dtype: float64"
      ]
     },
     "execution_count": 26,
     "metadata": {},
     "output_type": "execute_result"
    }
   ],
   "source": [
    "s = pd.Series({'a':1, 'b':2}, index=['a', 'b', 'c'])\n",
    "s"
   ]
  },
  {
   "cell_type": "code",
   "execution_count": 27,
   "metadata": {},
   "outputs": [
    {
     "data": {
      "text/plain": [
       "a    1\n",
       "b    2\n",
       "dtype: int64"
      ]
     },
     "execution_count": 27,
     "metadata": {},
     "output_type": "execute_result"
    }
   ],
   "source": [
    "s = pd.Series({'a':1, 'b':2, 'c':3}, index=['a', 'b'])\n",
    "s"
   ]
  },
  {
   "cell_type": "code",
   "execution_count": 28,
   "metadata": {},
   "outputs": [
    {
     "data": {
      "text/plain": [
       "c    9\n",
       "b    9\n",
       "a    9\n",
       "dtype: int64"
      ]
     },
     "execution_count": 28,
     "metadata": {},
     "output_type": "execute_result"
    }
   ],
   "source": [
    "pd.Series(9, {'a', 'b', 'c'})"
   ]
  },
  {
   "cell_type": "code",
   "execution_count": 29,
   "metadata": {},
   "outputs": [
    {
     "data": {
      "text/plain": [
       "a    1.000000\n",
       "b    1.414214\n",
       "c    1.732051\n",
       "d    2.000000\n",
       "dtype: float64"
      ]
     },
     "execution_count": 29,
     "metadata": {},
     "output_type": "execute_result"
    }
   ],
   "source": [
    "s = pd.Series([1, 2, 3, 4], ['a', 'b', 'c', 'd'])\n",
    "np.sqrt(s)"
   ]
  },
  {
   "cell_type": "code",
   "execution_count": 30,
   "metadata": {},
   "outputs": [
    {
     "data": {
      "text/plain": [
       "b    2\n",
       "c    3\n",
       "dtype: int64"
      ]
     },
     "execution_count": 30,
     "metadata": {},
     "output_type": "execute_result"
    }
   ],
   "source": [
    "s[1:3]"
   ]
  },
  {
   "cell_type": "code",
   "execution_count": 31,
   "metadata": {},
   "outputs": [
    {
     "data": {
      "text/plain": [
       "0         3\n",
       "1       5.1\n",
       "2    foobar\n",
       "dtype: object"
      ]
     },
     "execution_count": 31,
     "metadata": {},
     "output_type": "execute_result"
    }
   ],
   "source": [
    "pd.Series([1, 2.1, 'foo']) + pd.Series([2, 3, 'bar'])"
   ]
  },
  {
   "cell_type": "code",
   "execution_count": 39,
   "metadata": {},
   "outputs": [
    {
     "data": {
      "text/html": [
       "<div>\n",
       "<style scoped>\n",
       "    .dataframe tbody tr th:only-of-type {\n",
       "        vertical-align: middle;\n",
       "    }\n",
       "\n",
       "    .dataframe tbody tr th {\n",
       "        vertical-align: top;\n",
       "    }\n",
       "\n",
       "    .dataframe thead th {\n",
       "        text-align: right;\n",
       "    }\n",
       "</style>\n",
       "<table border=\"1\" class=\"dataframe\">\n",
       "  <thead>\n",
       "    <tr style=\"text-align: right;\">\n",
       "      <th></th>\n",
       "      <th>name</th>\n",
       "      <th>category</th>\n",
       "    </tr>\n",
       "  </thead>\n",
       "  <tbody>\n",
       "    <tr>\n",
       "      <th>0</th>\n",
       "      <td>Albert Einstein</td>\n",
       "      <td>Physics</td>\n",
       "    </tr>\n",
       "    <tr>\n",
       "      <th>1</th>\n",
       "      <td>Marie Curie</td>\n",
       "      <td>Chemistry</td>\n",
       "    </tr>\n",
       "  </tbody>\n",
       "</table>\n",
       "</div>"
      ],
      "text/plain": [
       "              name   category\n",
       "0  Albert Einstein    Physics\n",
       "1      Marie Curie  Chemistry"
      ]
     },
     "execution_count": 39,
     "metadata": {},
     "output_type": "execute_result"
    }
   ],
   "source": [
    "names = pd.Series([\"Albert Einstein\", \"Marie Curie\"], name=\"name\")\n",
    "categories = pd.Series([\"Physics\", \"Chemistry\"], name=\"category\")\n",
    "df = pd.concat([names, categories], axis=1)\n",
    "df.head()"
   ]
  },
  {
   "cell_type": "code",
   "execution_count": null,
   "metadata": {},
   "outputs": [],
   "source": []
  }
 ],
 "metadata": {
  "kernelspec": {
   "display_name": "base",
   "language": "python",
   "name": "python3"
  },
  "language_info": {
   "codemirror_mode": {
    "name": "ipython",
    "version": 3
   },
   "file_extension": ".py",
   "mimetype": "text/x-python",
   "name": "python",
   "nbconvert_exporter": "python",
   "pygments_lexer": "ipython3",
   "version": "3.11.4"
  }
 },
 "nbformat": 4,
 "nbformat_minor": 2
}
