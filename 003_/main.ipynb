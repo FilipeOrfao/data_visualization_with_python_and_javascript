{
 "cells": [
  {
   "cell_type": "code",
   "execution_count": 1,
   "metadata": {},
   "outputs": [],
   "source": [
    "nobel_winners = [\n",
    "    {\n",
    "        \"category\": \"Physics\",\n",
    "        \"name\": \"Albert Einstein\",\n",
    "        \"nationality\": \"Swiss\",\n",
    "        \"gender\": \"male\",\n",
    "        \"year\": 1921,\n",
    "    },\n",
    "    {\n",
    "        \"category\": \"Physics\",\n",
    "        \"name\": \"Paul Dirac\",\n",
    "        \"nationality\": \"British\",\n",
    "        \"gender\": \"male\",\n",
    "        \"year\": 1933,\n",
    "    },\n",
    "    {\n",
    "        \"category\": \"Chemistry\",\n",
    "        \"name\": \"Marie Curie\",\n",
    "        \"nationality\": \"Polish\",\n",
    "        \"gender\": \"female\",\n",
    "        \"year\": 1911,\n",
    "    },\n",
    "]\n",
    "f = open(\"data/nobel_winners.csv\", \"w\")\n",
    "\n",
    "cols = nobel_winners[0].keys()\n",
    "cols = sorted(cols)\n",
    "\n",
    "with open(\"data/nobel_winners.csv\", \"w\") as f:\n",
    "    f.write(\",\".join(cols) + \"\\n\")\n",
    "    for o in nobel_winners:\n",
    "        row = [str(o[col]) for col in cols]\n",
    "        f.write(\",\".join(row) + \"\\n\")"
   ]
  },
  {
   "cell_type": "code",
   "execution_count": 4,
   "metadata": {},
   "outputs": [
    {
     "name": "stdout",
     "output_type": "stream",
     "text": [
      "category,gender,name,nationality,year\n",
      "\n",
      "Physics,male,Albert Einstein,Swiss,1921\n",
      "\n",
      "Physics,male,Paul Dirac,British,1933\n",
      "\n",
      "Chemistry,female,Marie Curie,Polish,1911\n",
      "\n"
     ]
    }
   ],
   "source": [
    "with open(\"data/nobel_winners.csv\", \"r\") as f:\n",
    "    for line in f.readlines():\n",
    "        print(line)"
   ]
  },
  {
   "cell_type": "code",
   "execution_count": 5,
   "metadata": {},
   "outputs": [],
   "source": [
    "import csv\n",
    "with open('data/nobel_winners.csv', 'w') as f:\n",
    "    fieldnames = nobel_winners[0].keys()\n",
    "    fieldnames = sorted(fieldnames)\n",
    "    writer = csv.DictWriter(f, fieldnames=fieldnames)\n",
    "    writer.writeheader()\n",
    "    for w in nobel_winners:\n",
    "        writer.writerow(w)"
   ]
  },
  {
   "cell_type": "code",
   "execution_count": 6,
   "metadata": {},
   "outputs": [
    {
     "name": "stdout",
     "output_type": "stream",
     "text": [
      "['category', 'gender', 'name', 'nationality', 'year']\n",
      "['Physics', 'male', 'Albert Einstein', 'Swiss', '1921']\n",
      "['Physics', 'male', 'Paul Dirac', 'British', '1933']\n",
      "['Chemistry', 'female', 'Marie Curie', 'Polish', '1911']\n"
     ]
    }
   ],
   "source": [
    "with open('data/nobel_winners.csv') as f:\n",
    "    reader=csv.reader(f)\n",
    "    for row in reader:\n",
    "        print(row)"
   ]
  },
  {
   "cell_type": "code",
   "execution_count": 7,
   "metadata": {},
   "outputs": [
    {
     "data": {
      "text/plain": [
       "[{'category': 'Physics',\n",
       "  'gender': 'male',\n",
       "  'name': 'Albert Einstein',\n",
       "  'nationality': 'Swiss',\n",
       "  'year': '1921'},\n",
       " {'category': 'Physics',\n",
       "  'gender': 'male',\n",
       "  'name': 'Paul Dirac',\n",
       "  'nationality': 'British',\n",
       "  'year': '1933'},\n",
       " {'category': 'Chemistry',\n",
       "  'gender': 'female',\n",
       "  'name': 'Marie Curie',\n",
       "  'nationality': 'Polish',\n",
       "  'year': '1911'}]"
      ]
     },
     "execution_count": 7,
     "metadata": {},
     "output_type": "execute_result"
    }
   ],
   "source": [
    "with open('data/nobel_winners.csv') as f:\n",
    "    reader = csv.DictReader(f)\n",
    "    nobel_winners = list(reader)\n",
    "nobel_winners"
   ]
  },
  {
   "cell_type": "code",
   "execution_count": 9,
   "metadata": {},
   "outputs": [
    {
     "data": {
      "text/plain": [
       "datetime.datetime(1947, 1, 1, 0, 0)"
      ]
     },
     "execution_count": 9,
     "metadata": {},
     "output_type": "execute_result"
    }
   ],
   "source": [
    "from datetime import datetime\n",
    "\n",
    "dt = datetime.strptime(\"1947\", \"%Y\")\n",
    "dt"
   ]
  },
  {
   "cell_type": "code",
   "execution_count": 14,
   "metadata": {},
   "outputs": [],
   "source": [
    "import json\n",
    "with open('data/nobel_winners.json', 'w') as f:\n",
    "    json.dump(nobel_winners,f)"
   ]
  },
  {
   "cell_type": "code",
   "execution_count": 19,
   "metadata": {},
   "outputs": [
    {
     "data": {
      "text/plain": [
       "[{'category': 'Physics',\n",
       "  'gender': 'male',\n",
       "  'name': 'Albert Einstein',\n",
       "  'nationality': 'Swiss',\n",
       "  'year': '1921'},\n",
       " {'category': 'Physics',\n",
       "  'gender': 'male',\n",
       "  'name': 'Paul Dirac',\n",
       "  'nationality': 'British',\n",
       "  'year': '1933'},\n",
       " {'category': 'Chemistry',\n",
       "  'gender': 'female',\n",
       "  'name': 'Marie Curie',\n",
       "  'nationality': 'Polish',\n",
       "  'year': '1911'}]"
      ]
     },
     "execution_count": 19,
     "metadata": {},
     "output_type": "execute_result"
    }
   ],
   "source": [
    "import json\n",
    "\n",
    "open(\"data/nobel_winners.json\").read()\n",
    "with open(\"data/nobel_winners.json\") as f:\n",
    "    nobel_winners = json.load(f)\n",
    "nobel_winners"
   ]
  },
  {
   "cell_type": "code",
   "execution_count": 22,
   "metadata": {},
   "outputs": [
    {
     "ename": "TypeError",
     "evalue": "Object of type datetime is not JSON serializable",
     "output_type": "error",
     "traceback": [
      "\u001b[0;31m---------------------------------------------------------------------------\u001b[0m",
      "\u001b[0;31mTypeError\u001b[0m                                 Traceback (most recent call last)",
      "Cell \u001b[0;32mIn[22], line 3\u001b[0m\n\u001b[1;32m      1\u001b[0m \u001b[38;5;28;01mfrom\u001b[39;00m \u001b[38;5;21;01mdatetime\u001b[39;00m \u001b[38;5;28;01mimport\u001b[39;00m datetime\n\u001b[0;32m----> 3\u001b[0m json\u001b[38;5;241m.\u001b[39mdumps(datetime\u001b[38;5;241m.\u001b[39mnow())\n",
      "File \u001b[0;32m~/anaconda3/lib/python3.11/json/__init__.py:231\u001b[0m, in \u001b[0;36mdumps\u001b[0;34m(obj, skipkeys, ensure_ascii, check_circular, allow_nan, cls, indent, separators, default, sort_keys, **kw)\u001b[0m\n\u001b[1;32m    226\u001b[0m \u001b[38;5;66;03m# cached encoder\u001b[39;00m\n\u001b[1;32m    227\u001b[0m \u001b[38;5;28;01mif\u001b[39;00m (\u001b[38;5;129;01mnot\u001b[39;00m skipkeys \u001b[38;5;129;01mand\u001b[39;00m ensure_ascii \u001b[38;5;129;01mand\u001b[39;00m\n\u001b[1;32m    228\u001b[0m     check_circular \u001b[38;5;129;01mand\u001b[39;00m allow_nan \u001b[38;5;129;01mand\u001b[39;00m\n\u001b[1;32m    229\u001b[0m     \u001b[38;5;28mcls\u001b[39m \u001b[38;5;129;01mis\u001b[39;00m \u001b[38;5;28;01mNone\u001b[39;00m \u001b[38;5;129;01mand\u001b[39;00m indent \u001b[38;5;129;01mis\u001b[39;00m \u001b[38;5;28;01mNone\u001b[39;00m \u001b[38;5;129;01mand\u001b[39;00m separators \u001b[38;5;129;01mis\u001b[39;00m \u001b[38;5;28;01mNone\u001b[39;00m \u001b[38;5;129;01mand\u001b[39;00m\n\u001b[1;32m    230\u001b[0m     default \u001b[38;5;129;01mis\u001b[39;00m \u001b[38;5;28;01mNone\u001b[39;00m \u001b[38;5;129;01mand\u001b[39;00m \u001b[38;5;129;01mnot\u001b[39;00m sort_keys \u001b[38;5;129;01mand\u001b[39;00m \u001b[38;5;129;01mnot\u001b[39;00m kw):\n\u001b[0;32m--> 231\u001b[0m     \u001b[38;5;28;01mreturn\u001b[39;00m _default_encoder\u001b[38;5;241m.\u001b[39mencode(obj)\n\u001b[1;32m    232\u001b[0m \u001b[38;5;28;01mif\u001b[39;00m \u001b[38;5;28mcls\u001b[39m \u001b[38;5;129;01mis\u001b[39;00m \u001b[38;5;28;01mNone\u001b[39;00m:\n\u001b[1;32m    233\u001b[0m     \u001b[38;5;28mcls\u001b[39m \u001b[38;5;241m=\u001b[39m JSONEncoder\n",
      "File \u001b[0;32m~/anaconda3/lib/python3.11/json/encoder.py:200\u001b[0m, in \u001b[0;36mJSONEncoder.encode\u001b[0;34m(self, o)\u001b[0m\n\u001b[1;32m    196\u001b[0m         \u001b[38;5;28;01mreturn\u001b[39;00m encode_basestring(o)\n\u001b[1;32m    197\u001b[0m \u001b[38;5;66;03m# This doesn't pass the iterator directly to ''.join() because the\u001b[39;00m\n\u001b[1;32m    198\u001b[0m \u001b[38;5;66;03m# exceptions aren't as detailed.  The list call should be roughly\u001b[39;00m\n\u001b[1;32m    199\u001b[0m \u001b[38;5;66;03m# equivalent to the PySequence_Fast that ''.join() would do.\u001b[39;00m\n\u001b[0;32m--> 200\u001b[0m chunks \u001b[38;5;241m=\u001b[39m \u001b[38;5;28mself\u001b[39m\u001b[38;5;241m.\u001b[39miterencode(o, _one_shot\u001b[38;5;241m=\u001b[39m\u001b[38;5;28;01mTrue\u001b[39;00m)\n\u001b[1;32m    201\u001b[0m \u001b[38;5;28;01mif\u001b[39;00m \u001b[38;5;129;01mnot\u001b[39;00m \u001b[38;5;28misinstance\u001b[39m(chunks, (\u001b[38;5;28mlist\u001b[39m, \u001b[38;5;28mtuple\u001b[39m)):\n\u001b[1;32m    202\u001b[0m     chunks \u001b[38;5;241m=\u001b[39m \u001b[38;5;28mlist\u001b[39m(chunks)\n",
      "File \u001b[0;32m~/anaconda3/lib/python3.11/json/encoder.py:258\u001b[0m, in \u001b[0;36mJSONEncoder.iterencode\u001b[0;34m(self, o, _one_shot)\u001b[0m\n\u001b[1;32m    253\u001b[0m \u001b[38;5;28;01melse\u001b[39;00m:\n\u001b[1;32m    254\u001b[0m     _iterencode \u001b[38;5;241m=\u001b[39m _make_iterencode(\n\u001b[1;32m    255\u001b[0m         markers, \u001b[38;5;28mself\u001b[39m\u001b[38;5;241m.\u001b[39mdefault, _encoder, \u001b[38;5;28mself\u001b[39m\u001b[38;5;241m.\u001b[39mindent, floatstr,\n\u001b[1;32m    256\u001b[0m         \u001b[38;5;28mself\u001b[39m\u001b[38;5;241m.\u001b[39mkey_separator, \u001b[38;5;28mself\u001b[39m\u001b[38;5;241m.\u001b[39mitem_separator, \u001b[38;5;28mself\u001b[39m\u001b[38;5;241m.\u001b[39msort_keys,\n\u001b[1;32m    257\u001b[0m         \u001b[38;5;28mself\u001b[39m\u001b[38;5;241m.\u001b[39mskipkeys, _one_shot)\n\u001b[0;32m--> 258\u001b[0m \u001b[38;5;28;01mreturn\u001b[39;00m _iterencode(o, \u001b[38;5;241m0\u001b[39m)\n",
      "File \u001b[0;32m~/anaconda3/lib/python3.11/json/encoder.py:180\u001b[0m, in \u001b[0;36mJSONEncoder.default\u001b[0;34m(self, o)\u001b[0m\n\u001b[1;32m    161\u001b[0m \u001b[38;5;28;01mdef\u001b[39;00m \u001b[38;5;21mdefault\u001b[39m(\u001b[38;5;28mself\u001b[39m, o):\n\u001b[1;32m    162\u001b[0m \u001b[38;5;250m    \u001b[39m\u001b[38;5;124;03m\"\"\"Implement this method in a subclass such that it returns\u001b[39;00m\n\u001b[1;32m    163\u001b[0m \u001b[38;5;124;03m    a serializable object for ``o``, or calls the base implementation\u001b[39;00m\n\u001b[1;32m    164\u001b[0m \u001b[38;5;124;03m    (to raise a ``TypeError``).\u001b[39;00m\n\u001b[0;32m   (...)\u001b[0m\n\u001b[1;32m    178\u001b[0m \n\u001b[1;32m    179\u001b[0m \u001b[38;5;124;03m    \"\"\"\u001b[39;00m\n\u001b[0;32m--> 180\u001b[0m     \u001b[38;5;28;01mraise\u001b[39;00m \u001b[38;5;167;01mTypeError\u001b[39;00m(\u001b[38;5;124mf\u001b[39m\u001b[38;5;124m'\u001b[39m\u001b[38;5;124mObject of type \u001b[39m\u001b[38;5;132;01m{\u001b[39;00mo\u001b[38;5;241m.\u001b[39m\u001b[38;5;18m__class__\u001b[39m\u001b[38;5;241m.\u001b[39m\u001b[38;5;18m__name__\u001b[39m\u001b[38;5;132;01m}\u001b[39;00m\u001b[38;5;124m \u001b[39m\u001b[38;5;124m'\u001b[39m\n\u001b[1;32m    181\u001b[0m                     \u001b[38;5;124mf\u001b[39m\u001b[38;5;124m'\u001b[39m\u001b[38;5;124mis not JSON serializable\u001b[39m\u001b[38;5;124m'\u001b[39m)\n",
      "\u001b[0;31mTypeError\u001b[0m: Object of type datetime is not JSON serializable"
     ]
    }
   ],
   "source": [
    "from datetime import datetime\n",
    "\n",
    "json.dumps(datetime.now())"
   ]
  },
  {
   "cell_type": "code",
   "execution_count": 26,
   "metadata": {},
   "outputs": [
    {
     "data": {
      "text/plain": [
       "'{\"time\": \"2024-06-10T20:09:11.854930\"}'"
      ]
     },
     "execution_count": 26,
     "metadata": {},
     "output_type": "execute_result"
    }
   ],
   "source": [
    "import datetime\n",
    "import json\n",
    "\n",
    "\n",
    "class JSONDateTimeEncoder(json.JSONEncoder):\n",
    "    def default(self, obj):\n",
    "        if isinstance(obj, (datetime.date, datetime.datetime)):\n",
    "            return obj.isoformat()\n",
    "        else:\n",
    "            return json.JSONEncoder.default(self, obj)\n",
    "        \n",
    "def dumps(obj):\n",
    "    return json.dumps(obj,cls=JSONDateTimeEncoder)\n",
    "\n",
    "now_str = dumps({'time':datetime.datetime.now()})\n",
    "now_str\n"
   ]
  },
  {
   "cell_type": "code",
   "execution_count": 27,
   "metadata": {},
   "outputs": [
    {
     "ename": "AttributeError",
     "evalue": "type object 'datetime.datetime' has no attribute 'datetime'",
     "output_type": "error",
     "traceback": [
      "\u001b[0;31m---------------------------------------------------------------------------\u001b[0m",
      "\u001b[0;31mAttributeError\u001b[0m                            Traceback (most recent call last)",
      "Cell \u001b[0;32mIn[27], line 5\u001b[0m\n\u001b[1;32m      3\u001b[0m dt \u001b[38;5;241m=\u001b[39m datetime\u001b[38;5;241m.\u001b[39mstrptime(time_str, \u001b[38;5;124m'\u001b[39m\u001b[38;5;124m%\u001b[39m\u001b[38;5;124mY/\u001b[39m\u001b[38;5;124m%\u001b[39m\u001b[38;5;124mm/\u001b[39m\u001b[38;5;132;01m%d\u001b[39;00m\u001b[38;5;124m \u001b[39m\u001b[38;5;124m%\u001b[39m\u001b[38;5;124mH:\u001b[39m\u001b[38;5;124m%\u001b[39m\u001b[38;5;124mM:\u001b[39m\u001b[38;5;124m%\u001b[39m\u001b[38;5;124mS\u001b[39m\u001b[38;5;124m'\u001b[39m)\n\u001b[1;32m      4\u001b[0m dt\n\u001b[0;32m----> 5\u001b[0m datetime\u001b[38;5;241m.\u001b[39mdatetime(\u001b[38;5;241m2021\u001b[39m, \u001b[38;5;241m1\u001b[39m, \u001b[38;5;241m1\u001b[39m, \u001b[38;5;241m12\u001b[39m, \u001b[38;5;241m32\u001b[39m, \u001b[38;5;241m11\u001b[39m)\n",
      "\u001b[0;31mAttributeError\u001b[0m: type object 'datetime.datetime' has no attribute 'datetime'"
     ]
    }
   ],
   "source": [
    "from datetime import datetime\n",
    "\n",
    "time_str = \"2021/01/01 12:32:11\"\n",
    "dt = datetime.strptime(time_str, \"%Y/%m/%d %H:%M:%S\")\n",
    "dt\n",
    "datetime.datetime(2021, 1, 1, 12, 32, 11)"
   ]
  },
  {
   "cell_type": "code",
   "execution_count": 29,
   "metadata": {},
   "outputs": [
    {
     "name": "stdout",
     "output_type": "stream",
     "text": [
      "Oops! - invalid date for {'id': 2, 'date': '2021/23/12 09:22:30'}\n"
     ]
    }
   ],
   "source": [
    "data = [\n",
    "{'id': 0, 'date': '2020/02/23 12:59:05'},\n",
    "{'id': 1, 'date': '2021/11/02 02:32:00'},\n",
    "{'id': 2, 'date': '2021/23/12 09:22:30'},\n",
    "]\n",
    "for d in data:\n",
    "    try:\n",
    "        d['date'] = datetime.strptime(d['date'],'%Y/%m/%d %H:%M:%S')\n",
    "    except ValueError:\n",
    "        print('Oops! - invalid date for ' + repr(d))"
   ]
  },
  {
   "cell_type": "code",
   "execution_count": 3,
   "metadata": {},
   "outputs": [
    {
     "name": "stdout",
     "output_type": "stream",
     "text": [
      "Failed to create database: database \"nobel_winners\" already exists\n",
      "\n"
     ]
    }
   ],
   "source": [
    "# postgress\n",
    "\n",
    "from sqlalchemy.ext.declarative import declarative_base\n",
    "from sqlalchemy import create_engine, Column, Integer, String, Enum\n",
    "import psycopg2\n",
    "\n",
    "# create database\n",
    "db_params = {\n",
    "    \"dbname\": \"postgres\",\n",
    "    \"user\": \"filipe\",\n",
    "    \"password\": \"mysecretword123\",\n",
    "    \"host\": \"localhost\",\n",
    "    \"port\": \"5432\",\n",
    "}\n",
    "\n",
    "\n",
    "def create_database(dbname):\n",
    "    conn = psycopg2.connect(\n",
    "        dbname=db_params[\"dbname\"],\n",
    "        user=db_params[\"user\"],\n",
    "        password=db_params[\"password\"],\n",
    "        host=db_params[\"host\"],\n",
    "    )\n",
    "    conn.autocommit = True\n",
    "    cursor = conn.cursor()\n",
    "    cursor.execute(f\"CREATE DATABASE {dbname}\")\n",
    "    cursor.close()\n",
    "    conn.close()\n",
    "\n",
    "\n",
    "new_db_name = \"nobel_winners\"\n",
    "try:\n",
    "    create_database(new_db_name)\n",
    "    print(f\"Database {new_db_name} created successfully.\")\n",
    "except Exception as e:\n",
    "    print(f\"Failed to create database: {e}\")\n",
    "\n",
    "Base = declarative_base()\n",
    "\n",
    "nobel_winners = [\n",
    "    {\n",
    "        \"category\": \"Physics\",\n",
    "        \"name\": \"Albert Einstein\",\n",
    "        \"nationality\": \"Swiss\",\n",
    "        \"gender\": \"male\",\n",
    "        \"year\": 1921,\n",
    "    },\n",
    "    {\n",
    "        \"category\": \"Physics\",\n",
    "        \"name\": \"Paul Dirac\",\n",
    "        \"nationality\": \"British\",\n",
    "        \"gender\": \"male\",\n",
    "        \"year\": 1933,\n",
    "    },\n",
    "    {\n",
    "        \"category\": \"Chemistry\",\n",
    "        \"name\": \"Marie Curie\",\n",
    "        \"nationality\": \"Polish\",\n",
    "        \"gender\": \"female\",\n",
    "        \"year\": 1911,\n",
    "    },\n",
    "]\n",
    "f'postgresql+psycopg2://{db_params[\"user\"]}:{db_params[\"password\"]}@{db_params[\"host\"]}:{db_params[\"port\"]}/{new_db_name}'\n",
    "\n",
    "engine = create_engine(\n",
    "    # \"postgresql+psycopg2:///filipe:mysecretword123@localhost/nobel_winners\", echo=True\n",
    "    f'postgresql+psycopg2://{db_params[\"user\"]}:{db_params[\"password\"]}@{db_params[\"host\"]}:{db_params[\"port\"]}/{new_db_name}'\n",
    ")\n",
    "\n",
    "\n",
    "class Winner(Base):\n",
    "    __tablename__ = \"winners\"\n",
    "    id = Column(Integer, primary_key=True)\n",
    "    category = Column(String)\n",
    "    name = Column(String)\n",
    "    nationality = Column(String)\n",
    "    year = Column(Integer)\n",
    "    gender = Column(Enum(\"male\", \"female\",name='gender'))\n",
    "\n",
    "    def __repr__(self):\n",
    "        return f\"<Winner(name= {self.name}, category={self.category}, year={self.year})\"\n",
    "\n",
    "\n",
    "Base.metadata.create_all(engine)\n",
    "\n",
    "# Base.metadata.create_all(engine)"
   ]
  },
  {
   "cell_type": "code",
   "execution_count": 4,
   "metadata": {},
   "outputs": [
    {
     "data": {
      "text/plain": [
       "IdentitySet([<Winner(name= Albert Einstein, category=Physics, year=1921)])"
      ]
     },
     "execution_count": 4,
     "metadata": {},
     "output_type": "execute_result"
    }
   ],
   "source": [
    "from sqlalchemy.orm import sessionmaker\n",
    "\n",
    "Session = sessionmaker(bind=engine)\n",
    "session = Session()\n",
    "\n",
    "albert = Winner(**nobel_winners[0])\n",
    "\n",
    "session.add(albert)\n",
    "session.new"
   ]
  },
  {
   "cell_type": "code",
   "execution_count": 5,
   "metadata": {},
   "outputs": [
    {
     "data": {
      "text/plain": [
       "IdentitySet([])"
      ]
     },
     "execution_count": 5,
     "metadata": {},
     "output_type": "execute_result"
    }
   ],
   "source": [
    "session.expunge(albert)\n",
    "session.new"
   ]
  },
  {
   "cell_type": "code",
   "execution_count": 6,
   "metadata": {},
   "outputs": [],
   "source": [
    "winner_rows = [Winner(**w) for w in nobel_winners]\n",
    "\n",
    "session.add_all(winner_rows)\n",
    "session.commit()"
   ]
  },
  {
   "cell_type": "code",
   "execution_count": 7,
   "metadata": {},
   "outputs": [
    {
     "data": {
      "text/plain": [
       "6"
      ]
     },
     "execution_count": 7,
     "metadata": {},
     "output_type": "execute_result"
    }
   ],
   "source": [
    "session.query(Winner).count()"
   ]
  },
  {
   "cell_type": "code",
   "execution_count": 8,
   "metadata": {},
   "outputs": [
    {
     "data": {
      "text/plain": [
       "[<Winner(name= Albert Einstein, category=Physics, year=1921),\n",
       " <Winner(name= Albert Einstein, category=Physics, year=1921)]"
      ]
     },
     "execution_count": 8,
     "metadata": {},
     "output_type": "execute_result"
    }
   ],
   "source": [
    "# page 66\n",
    "result = session.query(Winner).filter_by(nationality=\"Swiss\")\n",
    "list(result)"
   ]
  },
  {
   "cell_type": "code",
   "execution_count": 9,
   "metadata": {},
   "outputs": [
    {
     "data": {
      "text/plain": [
       "[<Winner(name= Paul Dirac, category=Physics, year=1933),\n",
       " <Winner(name= Paul Dirac, category=Physics, year=1933)]"
      ]
     },
     "execution_count": 9,
     "metadata": {},
     "output_type": "execute_result"
    }
   ],
   "source": [
    "result = session.query(Winner).filter(\n",
    "    Winner.category == \"Physics\", Winner.nationality != \"Swiss\"\n",
    ")\n",
    "list(result)"
   ]
  },
  {
   "cell_type": "code",
   "execution_count": 10,
   "metadata": {},
   "outputs": [
    {
     "data": {
      "text/plain": [
       "<Winner(name= Marie Curie, category=Chemistry, year=1911)"
      ]
     },
     "execution_count": 10,
     "metadata": {},
     "output_type": "execute_result"
    }
   ],
   "source": [
    "# Here’s how to get a row based on ID number:\n",
    "session.query(Winner).get(3)"
   ]
  },
  {
   "cell_type": "code",
   "execution_count": 78,
   "metadata": {},
   "outputs": [
    {
     "data": {
      "text/plain": [
       "[<Winner(name= Marie Curie, category=Chemistry, year=1911),\n",
       " <Winner(name= Albert Einstein, category=Physics, year=1921),\n",
       " <Winner(name= Paul Dirac, category=Physics, year=1933)]"
      ]
     },
     "execution_count": 78,
     "metadata": {},
     "output_type": "execute_result"
    }
   ],
   "source": [
    "# winners by year assending\n",
    "res = session.query(Winner).order_by('year')\n",
    "list(res)"
   ]
  },
  {
   "cell_type": "code",
   "execution_count": 12,
   "metadata": {},
   "outputs": [
    {
     "data": {
      "text/plain": [
       "[<Winner(name= Paul Dirac, category=Physics, year=1933),\n",
       " <Winner(name= Albert Einstein, category=Physics, year=1921),\n",
       " <Winner(name= Marie Curie, category=Chemistry, year=1911)]"
      ]
     },
     "execution_count": 12,
     "metadata": {},
     "output_type": "execute_result"
    }
   ],
   "source": [
    "# winners by year dessending\n",
    "res = session.query(Winner).order_by(Winner.year.desc())\n",
    "# res = session.query(Winner).order_by(desc(Winner.year))\n",
    "list(res)"
   ]
  },
  {
   "cell_type": "code",
   "execution_count": 17,
   "metadata": {},
   "outputs": [
    {
     "data": {
      "text/plain": [
       "[{'category': 'Physics',\n",
       "  'name': 'Albert Einstein',\n",
       "  'nationality': 'Swiss',\n",
       "  'year': 1921,\n",
       "  'gender': 'male'},\n",
       " {'category': 'Physics',\n",
       "  'name': 'Paul Dirac',\n",
       "  'nationality': 'British',\n",
       "  'year': 1933,\n",
       "  'gender': 'male'},\n",
       " {'category': 'Chemistry',\n",
       "  'name': 'Marie Curie',\n",
       "  'nationality': 'Polish',\n",
       "  'year': 1911,\n",
       "  'gender': 'female'}]"
      ]
     },
     "execution_count": 17,
     "metadata": {},
     "output_type": "execute_result"
    }
   ],
   "source": [
    "def inst_to_dict(inst, detelete_id=True):\n",
    "    data = {}\n",
    "    for column in inst.__table__.columns:\n",
    "        data[column.name] = getattr(inst, column.name)\n",
    "    if detelete_id:\n",
    "        data.pop('id')\n",
    "    return data\n",
    "\n",
    "\n",
    "winner_rows = session.query(Winner)\n",
    "nobel_winners = [inst_to_dict(w) for w in winner_rows]\n",
    "nobel_winners"
   ]
  },
  {
   "cell_type": "code",
   "execution_count": 30,
   "metadata": {},
   "outputs": [
    {
     "data": {
      "text/plain": [
       "IdentitySet([])"
      ]
     },
     "execution_count": 30,
     "metadata": {},
     "output_type": "execute_result"
    }
   ],
   "source": [
    "marie=session.query(Winner).get(3)\n",
    "marie.nationality='France'\n",
    "session.dirty\n",
    "session.commit()\n",
    "session.dirty"
   ]
  },
  {
   "cell_type": "code",
   "execution_count": 31,
   "metadata": {},
   "outputs": [
    {
     "data": {
      "text/plain": [
       "'France'"
      ]
     },
     "execution_count": 31,
     "metadata": {},
     "output_type": "execute_result"
    }
   ],
   "source": [
    "session.query(Winner).get(3).nationality"
   ]
  },
  {
   "cell_type": "code",
   "execution_count": 32,
   "metadata": {},
   "outputs": [
    {
     "data": {
      "text/plain": [
       "0"
      ]
     },
     "execution_count": 32,
     "metadata": {},
     "output_type": "execute_result"
    }
   ],
   "source": [
    "# delete results from a query\n",
    "session.query(Winner).filter_by(name='Albert Einstein').delete()\n"
   ]
  },
  {
   "cell_type": "code",
   "execution_count": 33,
   "metadata": {},
   "outputs": [
    {
     "data": {
      "text/plain": [
       "[<Winner(name= Paul Dirac, category=Physics, year=1933),\n",
       " <Winner(name= Marie Curie, category=Chemistry, year=1911)]"
      ]
     },
     "execution_count": 33,
     "metadata": {},
     "output_type": "execute_result"
    }
   ],
   "source": [
    "list(session.query(Winner))"
   ]
  },
  {
   "cell_type": "code",
   "execution_count": null,
   "metadata": {},
   "outputs": [],
   "source": [
    "# drop whole table\n",
    "Winner.__table__.drop(engine)"
   ]
  },
  {
   "cell_type": "code",
   "execution_count": 2,
   "metadata": {},
   "outputs": [
    {
     "name": "stderr",
     "output_type": "stream",
     "text": [
      "/home/filipe/anaconda3/lib/python3.11/site-packages/dataset/table.py:313: RuntimeWarning: Changing the database schema inside a transaction in a multi-threaded environment is likely to lead to race conditions and synchronization issues.\n",
      "  warnings.warn(\n"
     ]
    },
    {
     "data": {
      "text/plain": [
       "[OrderedDict([('id', 1),\n",
       "              ('category', 'Physics'),\n",
       "              ('name', 'Albert Einstein'),\n",
       "              ('nationality', 'Swiss'),\n",
       "              ('year', 1921),\n",
       "              ('gender', 'male')]),\n",
       " OrderedDict([('id', 2),\n",
       "              ('category', 'Physics'),\n",
       "              ('name', 'Paul Dirac'),\n",
       "              ('nationality', 'British'),\n",
       "              ('year', 1933),\n",
       "              ('gender', 'male')]),\n",
       " OrderedDict([('id', 3),\n",
       "              ('category', 'Chemistry'),\n",
       "              ('name', 'Marie Curie'),\n",
       "              ('nationality', 'Polish'),\n",
       "              ('year', 1911),\n",
       "              ('gender', 'female')])]"
      ]
     },
     "execution_count": 2,
     "metadata": {},
     "output_type": "execute_result"
    }
   ],
   "source": [
    "import dataset\n",
    "\n",
    "db_params = {\n",
    "    \"dbname\": \"nobel_winners\",\n",
    "    \"user\": \"filipe\",\n",
    "    \"password\": \"mysecretword123\",\n",
    "    \"host\": \"localhost\",\n",
    "    \"port\": \"5432\",\n",
    "}\n",
    "\n",
    "db = dataset.connect(\n",
    "    f'postgresql+psycopg2://{db_params[\"user\"]}:{db_params[\"password\"]}@{db_params[\"host\"]}:{db_params[\"port\"]}/{db_params[\"dbname\"]}'\n",
    ")\n",
    "\n",
    "wtable = db[\"winners\"]\n",
    "winners = wtable.find()\n",
    "winners = list(winners)\n",
    "winners\n",
    "\n",
    "# re create winners table\n",
    "wtable = db[\"winners\"]\n",
    "wtable.drop()\n",
    "\n",
    "wtable = db[\"winners\"]\n",
    "wtable.find()\n",
    "\n",
    "nobel_winners = [\n",
    "    {\n",
    "        \"category\": \"Physics\",\n",
    "        \"name\": \"Albert Einstein\",\n",
    "        \"nationality\": \"Swiss\",\n",
    "        \"year\": 1921,\n",
    "        \"gender\": \"male\",\n",
    "    },\n",
    "    {\n",
    "        \"category\": \"Physics\",\n",
    "        \"name\": \"Paul Dirac\",\n",
    "        \"nationality\": \"British\",\n",
    "        \"year\": 1933,\n",
    "        \"gender\": \"male\",\n",
    "    },\n",
    "    {\n",
    "        \"category\": \"Chemistry\",\n",
    "        \"name\": \"Marie Curie\",\n",
    "        \"nationality\": \"Polish\",\n",
    "        \"year\": 1911,\n",
    "        \"gender\": \"female\",\n",
    "    },\n",
    "]\n",
    "\n",
    "with db as tx:\n",
    "    tx[\"winners\"].insert_many(nobel_winners)\n",
    "list(db[\"winners\"].find())"
   ]
  }
 ],
 "metadata": {
  "kernelspec": {
   "display_name": "base",
   "language": "python",
   "name": "python3"
  },
  "language_info": {
   "codemirror_mode": {
    "name": "ipython",
    "version": 3
   },
   "file_extension": ".py",
   "mimetype": "text/x-python",
   "name": "python",
   "nbconvert_exporter": "python",
   "pygments_lexer": "ipython3",
   "version": "3.11.4"
  }
 },
 "nbformat": 4,
 "nbformat_minor": 2
}
